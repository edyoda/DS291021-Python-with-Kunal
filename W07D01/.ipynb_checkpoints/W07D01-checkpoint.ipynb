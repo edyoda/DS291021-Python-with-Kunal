{
 "cells": [
  {
   "cell_type": "code",
   "execution_count": null,
   "id": "8bbcb8e5",
   "metadata": {},
   "outputs": [],
   "source": [
    "The capability of a class to derive properties and characteristics from \n",
    "another class is called Inheritance\n",
    "\n",
    "child class access the properties of parent class\n"
   ]
  },
  {
   "cell_type": "code",
   "execution_count": 15,
   "id": "8de58ae0",
   "metadata": {},
   "outputs": [],
   "source": [
    "class A:\n",
    "    def __init__(self,val):\n",
    "        self.val = val\n",
    "    def obj_method(self):\n",
    "        return 5\n",
    "\n",
    "class Child(A):\n",
    "    def __init__(self):\n",
    "#         val = input()\n",
    "        super().obj_method()"
   ]
  },
  {
   "cell_type": "code",
   "execution_count": 16,
   "id": "af227d97",
   "metadata": {},
   "outputs": [],
   "source": [
    "obj = Child()"
   ]
  },
  {
   "cell_type": "code",
   "execution_count": 17,
   "id": "0440142d",
   "metadata": {},
   "outputs": [
    {
     "data": {
      "text/plain": [
       "5"
      ]
     },
     "execution_count": 17,
     "metadata": {},
     "output_type": "execute_result"
    }
   ],
   "source": [
    "obj.obj_method()"
   ]
  },
  {
   "cell_type": "code",
   "execution_count": 26,
   "id": "c45e0500",
   "metadata": {},
   "outputs": [],
   "source": [
    "class Animal:\n",
    "    def __init__(self,name,height,weight):\n",
    "        self.name = name\n",
    "        self.weight = weight\n",
    "        self.height = height\n",
    "    \n",
    "    def set_name(self, name):\n",
    "        self.name = name\n",
    "    def set_weight(self, weight):\n",
    "        self.weight = weight\n",
    "    def set_height(self, height):\n",
    "        self.height = height\n",
    "    \n",
    "    def get_name(self):\n",
    "        return self.name\n",
    "    def get_weight(self):\n",
    "        return self.weight\n",
    "    def get_height(self):\n",
    "        return self.height\n",
    "    \n",
    "    def eat(self):\n",
    "        print(\"{} is eating\".format(self.name))"
   ]
  },
  {
   "cell_type": "code",
   "execution_count": 94,
   "id": "c9824afa",
   "metadata": {},
   "outputs": [],
   "source": [
    "class Dog(Animal):\n",
    "    def __init__(self,name,height,weight,breed):\n",
    "        super().set_name(name)\n",
    "        super().set_weight(weight)\n",
    "        super().set_height(height)\n",
    "        self.breed = breed\n",
    "    def bark(self):\n",
    "        print(self.Dog,\"is barking vry very loudly\")"
   ]
  },
  {
   "cell_type": "code",
   "execution_count": 28,
   "id": "476f1f9e",
   "metadata": {},
   "outputs": [],
   "source": [
    "dogee = Dog(\"Tommy\",50,25,\"Labrador\")"
   ]
  },
  {
   "cell_type": "code",
   "execution_count": 49,
   "id": "3c9abaf4",
   "metadata": {},
   "outputs": [],
   "source": [
    "dogee.set_name(\"Yuki\")"
   ]
  },
  {
   "cell_type": "code",
   "execution_count": 50,
   "id": "8c33a389",
   "metadata": {},
   "outputs": [
    {
     "data": {
      "text/plain": [
       "'Yuki'"
      ]
     },
     "execution_count": 50,
     "metadata": {},
     "output_type": "execute_result"
    }
   ],
   "source": [
    "dogee.name"
   ]
  },
  {
   "cell_type": "code",
   "execution_count": 30,
   "id": "d56cd100",
   "metadata": {},
   "outputs": [
    {
     "data": {
      "text/plain": [
       "25"
      ]
     },
     "execution_count": 30,
     "metadata": {},
     "output_type": "execute_result"
    }
   ],
   "source": [
    "dogee.weight"
   ]
  },
  {
   "cell_type": "code",
   "execution_count": 31,
   "id": "83e49145",
   "metadata": {},
   "outputs": [
    {
     "data": {
      "text/plain": [
       "50"
      ]
     },
     "execution_count": 31,
     "metadata": {},
     "output_type": "execute_result"
    }
   ],
   "source": [
    "dogee.height"
   ]
  },
  {
   "cell_type": "code",
   "execution_count": 32,
   "id": "94554623",
   "metadata": {},
   "outputs": [
    {
     "data": {
      "text/plain": [
       "'Labrador'"
      ]
     },
     "execution_count": 32,
     "metadata": {},
     "output_type": "execute_result"
    }
   ],
   "source": [
    "dogee.breed"
   ]
  },
  {
   "cell_type": "code",
   "execution_count": 33,
   "id": "913dd575",
   "metadata": {},
   "outputs": [],
   "source": [
    "class Cat(Animal):\n",
    "    def __init__(self,name,height,weight,sound):\n",
    "        super().set_name(name)\n",
    "        super().set_weight(weight)\n",
    "        super().set_height(height)\n",
    "        self.sound = sound\n",
    "    def make_sound(self):\n",
    "        print(self.sound,\"+++\")"
   ]
  },
  {
   "cell_type": "code",
   "execution_count": 34,
   "id": "87db4fef",
   "metadata": {},
   "outputs": [],
   "source": [
    "cat = Cat(\"Tom\",20,40,\"Meow\")"
   ]
  },
  {
   "cell_type": "code",
   "execution_count": 35,
   "id": "169f782c",
   "metadata": {},
   "outputs": [
    {
     "data": {
      "text/plain": [
       "'Tom'"
      ]
     },
     "execution_count": 35,
     "metadata": {},
     "output_type": "execute_result"
    }
   ],
   "source": [
    "cat.name"
   ]
  },
  {
   "cell_type": "code",
   "execution_count": 36,
   "id": "e1fbe9df",
   "metadata": {},
   "outputs": [
    {
     "name": "stdout",
     "output_type": "stream",
     "text": [
      "Meow +++\n"
     ]
    }
   ],
   "source": [
    "cat.make_sound()"
   ]
  },
  {
   "cell_type": "code",
   "execution_count": null,
   "id": "f9c2e18d",
   "metadata": {},
   "outputs": [],
   "source": []
  },
  {
   "cell_type": "code",
   "execution_count": 19,
   "id": "156e5942",
   "metadata": {},
   "outputs": [],
   "source": [
    "a = Animal(\"Dog\",2,25)"
   ]
  },
  {
   "cell_type": "code",
   "execution_count": 21,
   "id": "a0a94ed7",
   "metadata": {},
   "outputs": [
    {
     "data": {
      "text/plain": [
       "'Dog'"
      ]
     },
     "execution_count": 21,
     "metadata": {},
     "output_type": "execute_result"
    }
   ],
   "source": [
    "a.get_name()"
   ]
  },
  {
   "cell_type": "code",
   "execution_count": 22,
   "id": "25b6b819",
   "metadata": {},
   "outputs": [],
   "source": [
    "a.set_name(\"Cat\")"
   ]
  },
  {
   "cell_type": "code",
   "execution_count": 23,
   "id": "f9bdb5db",
   "metadata": {},
   "outputs": [
    {
     "data": {
      "text/plain": [
       "'Cat'"
      ]
     },
     "execution_count": 23,
     "metadata": {},
     "output_type": "execute_result"
    }
   ],
   "source": [
    "a.get_name()"
   ]
  },
  {
   "cell_type": "code",
   "execution_count": 42,
   "id": "febf78ef",
   "metadata": {},
   "outputs": [],
   "source": [
    "class Vehical:\n",
    "    def __init__(self, color,brake,fuel,speed):\n",
    "        self.color = color\n",
    "        self.fuel = fuel\n",
    "        self.speed = speed\n",
    "    def refuel(self):\n",
    "        self.fuel = 30\n",
    "    \n",
    "    def set_speed(self,speed):\n",
    "        self.speed = speed\n",
    "    \n",
    "    def drive(self):\n",
    "        if self.fuel == 0:\n",
    "            print(\"No Fuel!! You cannot drive\")\n",
    "        else:\n",
    "            self.set_speed(10)\n",
    "            print(\"The car is at speed 10\")\n",
    "            \n",
    "    def accelerate(self):\n",
    "        self.set_speed(self.speed+10)"
   ]
  },
  {
   "cell_type": "code",
   "execution_count": 43,
   "id": "723b8eeb",
   "metadata": {},
   "outputs": [],
   "source": [
    "class Scooter(Vehical):\n",
    "    def __init__(self,color,brake,fuel,speed):\n",
    "        super().__init__(color,brake,fuel,speed)\n",
    "    def open_dikkey(self):\n",
    "        print(\"We found Yello colored helmate\")"
   ]
  },
  {
   "cell_type": "code",
   "execution_count": 45,
   "id": "19207e90",
   "metadata": {},
   "outputs": [],
   "source": [
    "ola_scooter = Scooter(\"Black\",\"Full\",\"Electric\",250)"
   ]
  },
  {
   "cell_type": "code",
   "execution_count": 46,
   "id": "b22df282",
   "metadata": {},
   "outputs": [
    {
     "data": {
      "text/plain": [
       "'Black'"
      ]
     },
     "execution_count": 46,
     "metadata": {},
     "output_type": "execute_result"
    }
   ],
   "source": [
    "ola_scooter.color"
   ]
  },
  {
   "cell_type": "code",
   "execution_count": 47,
   "id": "43fc891a",
   "metadata": {},
   "outputs": [
    {
     "data": {
      "text/plain": [
       "250"
      ]
     },
     "execution_count": 47,
     "metadata": {},
     "output_type": "execute_result"
    }
   ],
   "source": [
    "ola_scooter.speed"
   ]
  },
  {
   "cell_type": "code",
   "execution_count": 48,
   "id": "ea06022d",
   "metadata": {},
   "outputs": [
    {
     "name": "stdout",
     "output_type": "stream",
     "text": [
      "We found Yello colored helmate\n"
     ]
    }
   ],
   "source": [
    "ola_scooter.open_dikkey()"
   ]
  },
  {
   "cell_type": "code",
   "execution_count": 59,
   "id": "b48e9067",
   "metadata": {},
   "outputs": [],
   "source": [
    "class A:\n",
    "    def __init__(self):\n",
    "        print(\"A\")\n",
    "class B(A):\n",
    "    def method(self):\n",
    "        print(\"B\")\n",
    "class C(B):\n",
    "    def __init__(self):\n",
    "        print(\"Child\")\n",
    "        super().__init__()\n",
    "#         super().method()"
   ]
  },
  {
   "cell_type": "code",
   "execution_count": 60,
   "id": "5a0858a3",
   "metadata": {},
   "outputs": [
    {
     "name": "stdout",
     "output_type": "stream",
     "text": [
      "Child\n",
      "A\n"
     ]
    }
   ],
   "source": [
    "obj = C()"
   ]
  },
  {
   "cell_type": "code",
   "execution_count": 61,
   "id": "40063077",
   "metadata": {},
   "outputs": [],
   "source": [
    "class A:\n",
    "    def __init__(self):\n",
    "        print(\"A\")\n",
    "class B:\n",
    "    def method(self):\n",
    "        print(\"B\")\n",
    "class C(B,A):\n",
    "    def __init__(self):\n",
    "        print(\"Child\")\n",
    "        super().__init__()\n",
    "#         super().method()"
   ]
  },
  {
   "cell_type": "code",
   "execution_count": 62,
   "id": "a27453b8",
   "metadata": {},
   "outputs": [
    {
     "name": "stdout",
     "output_type": "stream",
     "text": [
      "Child\n",
      "A\n"
     ]
    }
   ],
   "source": [
    "obj = C()"
   ]
  },
  {
   "cell_type": "code",
   "execution_count": 63,
   "id": "f2df4888",
   "metadata": {},
   "outputs": [
    {
     "name": "stdout",
     "output_type": "stream",
     "text": [
      "Help on C in module __main__ object:\n",
      "\n",
      "class C(B, A)\n",
      " |  Method resolution order:\n",
      " |      C\n",
      " |      B\n",
      " |      A\n",
      " |      builtins.object\n",
      " |  \n",
      " |  Methods defined here:\n",
      " |  \n",
      " |  __init__(self)\n",
      " |      Initialize self.  See help(type(self)) for accurate signature.\n",
      " |  \n",
      " |  ----------------------------------------------------------------------\n",
      " |  Methods inherited from B:\n",
      " |  \n",
      " |  method(self)\n",
      " |  \n",
      " |  ----------------------------------------------------------------------\n",
      " |  Data descriptors inherited from B:\n",
      " |  \n",
      " |  __dict__\n",
      " |      dictionary for instance variables (if defined)\n",
      " |  \n",
      " |  __weakref__\n",
      " |      list of weak references to the object (if defined)\n",
      "\n"
     ]
    }
   ],
   "source": [
    "help(obj)"
   ]
  },
  {
   "cell_type": "code",
   "execution_count": 73,
   "id": "616f085d",
   "metadata": {},
   "outputs": [],
   "source": [
    "class A:\n",
    "    def __init__(self):\n",
    "        print(\"A\")\n",
    "class P(A):\n",
    "    def __init__(self):\n",
    "        print(\"P\")\n",
    "        super().__init__()\n",
    "class Q(A):\n",
    "    def __init__(self):\n",
    "        print(\"Q\")\n",
    "        super().__init__()\n",
    "class R(P):\n",
    "    def __init__(self):\n",
    "        print(\"R\")\n",
    "        super().__init__()\n",
    "class S(Q):\n",
    "    def __init__(self):\n",
    "        print(\"S\")\n",
    "class X(R,S):\n",
    "    def __init__(self):\n",
    "        super().__init__()"
   ]
  },
  {
   "cell_type": "code",
   "execution_count": 74,
   "id": "0171c126",
   "metadata": {},
   "outputs": [
    {
     "name": "stdout",
     "output_type": "stream",
     "text": [
      "R\n",
      "P\n",
      "S\n",
      "Q\n",
      "A\n"
     ]
    }
   ],
   "source": [
    "obj = X()"
   ]
  },
  {
   "cell_type": "code",
   "execution_count": 77,
   "id": "a9a7573f",
   "metadata": {},
   "outputs": [
    {
     "name": "stdout",
     "output_type": "stream",
     "text": [
      "(<class '__main__.X'>, <class '__main__.R'>, <class '__main__.P'>, <class '__main__.S'>, <class '__main__.Q'>, <class '__main__.A'>, <class 'object'>)\n"
     ]
    }
   ],
   "source": [
    "print(X.__mro__)"
   ]
  },
  {
   "cell_type": "code",
   "execution_count": 66,
   "id": "5e79813b",
   "metadata": {},
   "outputs": [
    {
     "name": "stdout",
     "output_type": "stream",
     "text": [
      "Help on X in module __main__ object:\n",
      "\n",
      "class X(R, S)\n",
      " |  Method resolution order:\n",
      " |      X\n",
      " |      R\n",
      " |      P\n",
      " |      S\n",
      " |      Q\n",
      " |      A\n",
      " |      builtins.object\n",
      " |  \n",
      " |  Methods defined here:\n",
      " |  \n",
      " |  __init__(self)\n",
      " |      Initialize self.  See help(type(self)) for accurate signature.\n",
      " |  \n",
      " |  ----------------------------------------------------------------------\n",
      " |  Data descriptors inherited from A:\n",
      " |  \n",
      " |  __dict__\n",
      " |      dictionary for instance variables (if defined)\n",
      " |  \n",
      " |  __weakref__\n",
      " |      list of weak references to the object (if defined)\n",
      "\n"
     ]
    }
   ],
   "source": [
    "help(obj)"
   ]
  },
  {
   "cell_type": "code",
   "execution_count": 92,
   "id": "58deeee2",
   "metadata": {},
   "outputs": [],
   "source": [
    "class A:\n",
    "    def len(self):\n",
    "        print(\"A\")\n",
    "class P(A):\n",
    "    def len(self):\n",
    "        print(\"P\")\n",
    "        super().len()\n",
    "class Q(A):\n",
    "    def len(self):\n",
    "        print(\"Q\")\n",
    "        super().len()\n",
    "class R(P):\n",
    "    def len(self):\n",
    "        print(\"R\")\n",
    "        super().len()\n",
    "class S(Q):\n",
    "    def len(self):\n",
    "        print(\"S\")\n",
    "        super().len()\n",
    "class X(R,S):\n",
    "    def __init__(self):\n",
    "        super().len()"
   ]
  },
  {
   "cell_type": "code",
   "execution_count": 93,
   "id": "9a096681",
   "metadata": {},
   "outputs": [
    {
     "name": "stdout",
     "output_type": "stream",
     "text": [
      "R\n",
      "P\n",
      "S\n",
      "Q\n",
      "A\n"
     ]
    }
   ],
   "source": [
    "obj = X()"
   ]
  },
  {
   "cell_type": "code",
   "execution_count": null,
   "id": "71a87588",
   "metadata": {},
   "outputs": [],
   "source": [
    "OOP:\n",
    "    Inheritence\n",
    "    Operator overloading\n",
    "    Encapsulation --> (combined attr and method)\n",
    "    Abstarction : hiding all the irrelevant data of an application\n",
    "    Ovirriding method"
   ]
  },
  {
   "cell_type": "code",
   "execution_count": 95,
   "id": "7aab9836",
   "metadata": {},
   "outputs": [],
   "source": [
    "class Labrador(Dog):\n",
    "    def bark(self):\n",
    "        print(self.name,\" is barking loudly\")"
   ]
  },
  {
   "cell_type": "code",
   "execution_count": 97,
   "id": "d9b7442a",
   "metadata": {},
   "outputs": [],
   "source": [
    "l1 = Labrador(\"tommy\",23,52,\"lardor\")"
   ]
  },
  {
   "cell_type": "code",
   "execution_count": 1,
   "id": "8e8941ff",
   "metadata": {
    "collapsed": true
   },
   "outputs": [
    {
     "name": "stdout",
     "output_type": "stream",
     "text": [
      "Help on class list in module builtins:\n",
      "\n",
      "class list(object)\n",
      " |  list(iterable=(), /)\n",
      " |  \n",
      " |  Built-in mutable sequence.\n",
      " |  \n",
      " |  If no argument is given, the constructor creates a new empty list.\n",
      " |  The argument must be an iterable if specified.\n",
      " |  \n",
      " |  Methods defined here:\n",
      " |  \n",
      " |  __add__(self, value, /)\n",
      " |      Return self+value.\n",
      " |  \n",
      " |  __contains__(self, key, /)\n",
      " |      Return key in self.\n",
      " |  \n",
      " |  __delitem__(self, key, /)\n",
      " |      Delete self[key].\n",
      " |  \n",
      " |  __eq__(self, value, /)\n",
      " |      Return self==value.\n",
      " |  \n",
      " |  __ge__(self, value, /)\n",
      " |      Return self>=value.\n",
      " |  \n",
      " |  __getattribute__(self, name, /)\n",
      " |      Return getattr(self, name).\n",
      " |  \n",
      " |  __getitem__(...)\n",
      " |      x.__getitem__(y) <==> x[y]\n",
      " |  \n",
      " |  __gt__(self, value, /)\n",
      " |      Return self>value.\n",
      " |  \n",
      " |  __iadd__(self, value, /)\n",
      " |      Implement self+=value.\n",
      " |  \n",
      " |  __imul__(self, value, /)\n",
      " |      Implement self*=value.\n",
      " |  \n",
      " |  __init__(self, /, *args, **kwargs)\n",
      " |      Initialize self.  See help(type(self)) for accurate signature.\n",
      " |  \n",
      " |  __iter__(self, /)\n",
      " |      Implement iter(self).\n",
      " |  \n",
      " |  __le__(self, value, /)\n",
      " |      Return self<=value.\n",
      " |  \n",
      " |  __len__(self, /)\n",
      " |      Return len(self).\n",
      " |  \n",
      " |  __lt__(self, value, /)\n",
      " |      Return self<value.\n",
      " |  \n",
      " |  __mul__(self, value, /)\n",
      " |      Return self*value.\n",
      " |  \n",
      " |  __ne__(self, value, /)\n",
      " |      Return self!=value.\n",
      " |  \n",
      " |  __repr__(self, /)\n",
      " |      Return repr(self).\n",
      " |  \n",
      " |  __reversed__(self, /)\n",
      " |      Return a reverse iterator over the list.\n",
      " |  \n",
      " |  __rmul__(self, value, /)\n",
      " |      Return value*self.\n",
      " |  \n",
      " |  __setitem__(self, key, value, /)\n",
      " |      Set self[key] to value.\n",
      " |  \n",
      " |  __sizeof__(self, /)\n",
      " |      Return the size of the list in memory, in bytes.\n",
      " |  \n",
      " |  append(self, object, /)\n",
      " |      Append object to the end of the list.\n",
      " |  \n",
      " |  clear(self, /)\n",
      " |      Remove all items from list.\n",
      " |  \n",
      " |  copy(self, /)\n",
      " |      Return a shallow copy of the list.\n",
      " |  \n",
      " |  count(self, value, /)\n",
      " |      Return number of occurrences of value.\n",
      " |  \n",
      " |  extend(self, iterable, /)\n",
      " |      Extend list by appending elements from the iterable.\n",
      " |  \n",
      " |  index(self, value, start=0, stop=9223372036854775807, /)\n",
      " |      Return first index of value.\n",
      " |      \n",
      " |      Raises ValueError if the value is not present.\n",
      " |  \n",
      " |  insert(self, index, object, /)\n",
      " |      Insert object before index.\n",
      " |  \n",
      " |  pop(self, index=-1, /)\n",
      " |      Remove and return item at index (default last).\n",
      " |      \n",
      " |      Raises IndexError if list is empty or index is out of range.\n",
      " |  \n",
      " |  remove(self, value, /)\n",
      " |      Remove first occurrence of value.\n",
      " |      \n",
      " |      Raises ValueError if the value is not present.\n",
      " |  \n",
      " |  reverse(self, /)\n",
      " |      Reverse *IN PLACE*.\n",
      " |  \n",
      " |  sort(self, /, *, key=None, reverse=False)\n",
      " |      Sort the list in ascending order and return None.\n",
      " |      \n",
      " |      The sort is in-place (i.e. the list itself is modified) and stable (i.e. the\n",
      " |      order of two equal elements is maintained).\n",
      " |      \n",
      " |      If a key function is given, apply it once to each list item and sort them,\n",
      " |      ascending or descending, according to their function values.\n",
      " |      \n",
      " |      The reverse flag can be set to sort in descending order.\n",
      " |  \n",
      " |  ----------------------------------------------------------------------\n",
      " |  Class methods defined here:\n",
      " |  \n",
      " |  __class_getitem__(...) from builtins.type\n",
      " |      See PEP 585\n",
      " |  \n",
      " |  ----------------------------------------------------------------------\n",
      " |  Static methods defined here:\n",
      " |  \n",
      " |  __new__(*args, **kwargs) from builtins.type\n",
      " |      Create and return a new object.  See help(type) for accurate signature.\n",
      " |  \n",
      " |  ----------------------------------------------------------------------\n",
      " |  Data and other attributes defined here:\n",
      " |  \n",
      " |  __hash__ = None\n",
      "\n"
     ]
    }
   ],
   "source": [
    "help(list)"
   ]
  },
  {
   "cell_type": "code",
   "execution_count": 98,
   "id": "febee90f",
   "metadata": {},
   "outputs": [
    {
     "name": "stdout",
     "output_type": "stream",
     "text": [
      "tommy  is barking loudly\n"
     ]
    }
   ],
   "source": [
    "l1.bark()"
   ]
  },
  {
   "cell_type": "code",
   "execution_count": null,
   "id": "f9c60871",
   "metadata": {},
   "outputs": [],
   "source": []
  }
 ],
 "metadata": {
  "kernelspec": {
   "display_name": "Python 3 (ipykernel)",
   "language": "python",
   "name": "python3"
  },
  "language_info": {
   "codemirror_mode": {
    "name": "ipython",
    "version": 3
   },
   "file_extension": ".py",
   "mimetype": "text/x-python",
   "name": "python",
   "nbconvert_exporter": "python",
   "pygments_lexer": "ipython3",
   "version": "3.9.7"
  }
 },
 "nbformat": 4,
 "nbformat_minor": 5
}
