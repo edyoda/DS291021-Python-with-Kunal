{
 "cells": [
  {
   "cell_type": "code",
   "execution_count": 85,
   "id": "d73348c6",
   "metadata": {},
   "outputs": [],
   "source": [
    "class A:\n",
    "    # init --> init is called when object is created\n",
    "    #      --> object method\n",
    "    #      --> self is the first parameter --> object reference\n",
    "    list_of_all_the_objects = [] #everytime an object is created that should automaticlly store in here\n",
    "                                # class attribute\n",
    "    Z = \"Univarse\"              # Z --> class attribute\n",
    "    def __init__(self):\n",
    "        # the fields are called attribute\n",
    "        # object_ref.attribute_name\n",
    "        self.b = 30             # self.b--> object attribute\n",
    "        self.list_of_objects = [] #self.list_of_objects --> object attribute\n",
    "        A.list_of_all_the_objects.append(self.__dict__)\n",
    "    \n",
    "    def obj_method_one(self,parameter_one):\n",
    "        self.c = parameter_one  # self.c --> object attribute\n",
    "    \n",
    "    def obj_method_two(self, obj_ref_2):\n",
    "        self.list_of_objects.append(obj_ref_2.__dict__)\n",
    "    \n",
    "    @classmethod\n",
    "    def class_method_one(cls):\n",
    "        cls.Z = \"Earth\"\n",
    "        \n",
    "    "
   ]
  },
  {
   "cell_type": "code",
   "execution_count": 67,
   "id": "5ad302b3",
   "metadata": {},
   "outputs": [],
   "source": [
    "a = A()"
   ]
  },
  {
   "cell_type": "code",
   "execution_count": 68,
   "id": "d8b9d2e0",
   "metadata": {},
   "outputs": [
    {
     "data": {
      "text/plain": [
       "[{'b': 30, 'list_of_objects': []}]"
      ]
     },
     "execution_count": 68,
     "metadata": {},
     "output_type": "execute_result"
    }
   ],
   "source": [
    "A.list_of_all_the_objects"
   ]
  },
  {
   "cell_type": "code",
   "execution_count": 69,
   "id": "b686e9ae",
   "metadata": {},
   "outputs": [
    {
     "data": {
      "text/plain": [
       "{'b': 30, 'list_of_objects': []}"
      ]
     },
     "execution_count": 69,
     "metadata": {},
     "output_type": "execute_result"
    }
   ],
   "source": [
    "a.__dict__"
   ]
  },
  {
   "cell_type": "code",
   "execution_count": 70,
   "id": "86ca1741",
   "metadata": {},
   "outputs": [],
   "source": [
    "a.obj_method_one(3)"
   ]
  },
  {
   "cell_type": "code",
   "execution_count": 71,
   "id": "98e034ad",
   "metadata": {},
   "outputs": [
    {
     "data": {
      "text/plain": [
       "{'b': 30, 'list_of_objects': [], 'c': 3}"
      ]
     },
     "execution_count": 71,
     "metadata": {},
     "output_type": "execute_result"
    }
   ],
   "source": [
    "a.__dict__"
   ]
  },
  {
   "cell_type": "code",
   "execution_count": 72,
   "id": "0be4847b",
   "metadata": {},
   "outputs": [],
   "source": [
    "b = A()"
   ]
  },
  {
   "cell_type": "code",
   "execution_count": 73,
   "id": "24ff7210",
   "metadata": {},
   "outputs": [
    {
     "data": {
      "text/plain": [
       "[{'b': 30, 'list_of_objects': [], 'c': 3}, {'b': 30, 'list_of_objects': []}]"
      ]
     },
     "execution_count": 73,
     "metadata": {},
     "output_type": "execute_result"
    }
   ],
   "source": [
    "A.list_of_all_the_objects"
   ]
  },
  {
   "cell_type": "code",
   "execution_count": 74,
   "id": "bcee8add",
   "metadata": {},
   "outputs": [],
   "source": [
    "a.obj_method_two(b)"
   ]
  },
  {
   "cell_type": "code",
   "execution_count": 75,
   "id": "43f2abbc",
   "metadata": {},
   "outputs": [
    {
     "data": {
      "text/plain": [
       "{'b': 30, 'list_of_objects': [{'b': 30, 'list_of_objects': []}], 'c': 3}"
      ]
     },
     "execution_count": 75,
     "metadata": {},
     "output_type": "execute_result"
    }
   ],
   "source": [
    "a.__dict__"
   ]
  },
  {
   "cell_type": "code",
   "execution_count": 76,
   "id": "7f9dc0f9",
   "metadata": {},
   "outputs": [],
   "source": [
    "c = A()"
   ]
  },
  {
   "cell_type": "code",
   "execution_count": 77,
   "id": "821cf896",
   "metadata": {},
   "outputs": [
    {
     "data": {
      "text/plain": [
       "[{'b': 30, 'list_of_objects': [{'b': 30, 'list_of_objects': []}], 'c': 3},\n",
       " {'b': 30, 'list_of_objects': []},\n",
       " {'b': 30, 'list_of_objects': []}]"
      ]
     },
     "execution_count": 77,
     "metadata": {},
     "output_type": "execute_result"
    }
   ],
   "source": [
    "A.list_of_all_the_objects"
   ]
  },
  {
   "cell_type": "code",
   "execution_count": 78,
   "id": "13bf5c61",
   "metadata": {},
   "outputs": [],
   "source": [
    "a.obj_method_two(c)"
   ]
  },
  {
   "cell_type": "code",
   "execution_count": 79,
   "id": "8179735a",
   "metadata": {},
   "outputs": [
    {
     "data": {
      "text/plain": [
       "{'b': 30,\n",
       " 'list_of_objects': [{'b': 30, 'list_of_objects': []},\n",
       "  {'b': 30, 'list_of_objects': []}],\n",
       " 'c': 3}"
      ]
     },
     "execution_count": 79,
     "metadata": {},
     "output_type": "execute_result"
    }
   ],
   "source": [
    "a.__dict__"
   ]
  },
  {
   "cell_type": "code",
   "execution_count": 80,
   "id": "888c1f46",
   "metadata": {},
   "outputs": [
    {
     "data": {
      "text/plain": [
       "[{'b': 30,\n",
       "  'list_of_objects': [{'b': 30, 'list_of_objects': []},\n",
       "   {'b': 30, 'list_of_objects': []}],\n",
       "  'c': 3},\n",
       " {'b': 30, 'list_of_objects': []},\n",
       " {'b': 30, 'list_of_objects': []}]"
      ]
     },
     "execution_count": 80,
     "metadata": {},
     "output_type": "execute_result"
    }
   ],
   "source": [
    "A.list_of_all_the_objects"
   ]
  },
  {
   "cell_type": "code",
   "execution_count": 82,
   "id": "d965205f",
   "metadata": {},
   "outputs": [
    {
     "data": {
      "text/plain": [
       "[{'b': 30,\n",
       "  'list_of_objects': [{'b': 30, 'list_of_objects': []},\n",
       "   {'b': 30, 'list_of_objects': []}],\n",
       "  'c': 3},\n",
       " {'b': 30, 'list_of_objects': []},\n",
       " {'b': 30, 'list_of_objects': []}]"
      ]
     },
     "execution_count": 82,
     "metadata": {},
     "output_type": "execute_result"
    }
   ],
   "source": [
    "A.list_of_all_the_objects"
   ]
  },
  {
   "cell_type": "code",
   "execution_count": 84,
   "id": "85491704",
   "metadata": {},
   "outputs": [
    {
     "data": {
      "text/plain": [
       "{'b': 30,\n",
       " 'list_of_objects': [{'b': 30, 'list_of_objects': []},\n",
       "  {'b': 30, 'list_of_objects': []}],\n",
       " 'c': 3}"
      ]
     },
     "execution_count": 84,
     "metadata": {},
     "output_type": "execute_result"
    }
   ],
   "source": [
    "A.list_of_all_the_objects[0]"
   ]
  },
  {
   "cell_type": "code",
   "execution_count": 98,
   "id": "50c145db",
   "metadata": {},
   "outputs": [],
   "source": [
    "class A:\n",
    "    # init --> init is called when object is created\n",
    "    #      --> object method\n",
    "    #      --> self is the first parameter --> object reference\n",
    "    list_of_all_the_objects = [] #everytime an object is created that should automaticlly store in here\n",
    "                                # class attribute\n",
    "    Z = \"Univarse\"              # Z --> class attribute\n",
    "    def __init__(self):\n",
    "        # the fields are called attribute\n",
    "        # object_ref.attribute_name\n",
    "        self.b = 30             # self.b--> object attribute\n",
    "        self.list_of_objects = [] #self.list_of_objects --> object attribute\n",
    "        A.list_of_all_the_objects.append(self.__dict__)\n",
    "    \n",
    "    def obj_method_one(self,parameter_one):\n",
    "        self.c = parameter_one  # self.c --> object attribute\n",
    "    \n",
    "    def obj_method_two(self, obj_ref_2):\n",
    "        self.list_of_objects.append(obj_ref_2.__dict__)\n",
    "    \n",
    "    @classmethod\n",
    "    def class_method_one(cls,parm1):\n",
    "        cls.Z = parm1\n",
    "    "
   ]
  },
  {
   "cell_type": "code",
   "execution_count": 99,
   "id": "f03fa048",
   "metadata": {},
   "outputs": [],
   "source": [
    "obj_1 = A()"
   ]
  },
  {
   "cell_type": "code",
   "execution_count": 100,
   "id": "0b9d23bc",
   "metadata": {},
   "outputs": [
    {
     "name": "stdout",
     "output_type": "stream",
     "text": [
      "Univarse\n",
      "Univarse\n"
     ]
    }
   ],
   "source": [
    "print(A.Z)    # using class reference here A is the class reference\n",
    "print(obj_1.Z)  # using obj reference"
   ]
  },
  {
   "cell_type": "code",
   "execution_count": 101,
   "id": "548e0318",
   "metadata": {},
   "outputs": [],
   "source": [
    "# How to make changes in class attribute for all the objects"
   ]
  },
  {
   "cell_type": "code",
   "execution_count": 102,
   "id": "0a5fc596",
   "metadata": {},
   "outputs": [
    {
     "name": "stdout",
     "output_type": "stream",
     "text": [
      "Earth ++\n"
     ]
    }
   ],
   "source": [
    "A.class_method_one(\"Earth ++\") # using class refeence\n",
    "print(A.Z)"
   ]
  },
  {
   "cell_type": "code",
   "execution_count": 103,
   "id": "98af7f37",
   "metadata": {},
   "outputs": [],
   "source": [
    "A.Z = \"Earth pro ++\"  # Editing class attribute using class reference"
   ]
  },
  {
   "cell_type": "code",
   "execution_count": 105,
   "id": "b1b223f5",
   "metadata": {},
   "outputs": [
    {
     "name": "stdout",
     "output_type": "stream",
     "text": [
      "Earth pro ++\n",
      "Earth pro ++\n"
     ]
    }
   ],
   "source": [
    "print(A.Z)\n",
    "print(obj_1.Z)"
   ]
  },
  {
   "cell_type": "code",
   "execution_count": 107,
   "id": "5f8eb0cc",
   "metadata": {},
   "outputs": [],
   "source": [
    "obj_2 = A()"
   ]
  },
  {
   "cell_type": "code",
   "execution_count": 108,
   "id": "12b08f84",
   "metadata": {},
   "outputs": [
    {
     "name": "stdout",
     "output_type": "stream",
     "text": [
      "Earth pro ++\n"
     ]
    }
   ],
   "source": [
    "print(obj_2.Z)"
   ]
  },
  {
   "cell_type": "code",
   "execution_count": 109,
   "id": "dda6729a",
   "metadata": {},
   "outputs": [],
   "source": [
    "obj_2.class_method_one(\"Earth pro max ++\") # using object refernce"
   ]
  },
  {
   "cell_type": "code",
   "execution_count": 110,
   "id": "122043d6",
   "metadata": {},
   "outputs": [
    {
     "data": {
      "text/plain": [
       "'Earth pro max ++'"
      ]
     },
     "execution_count": 110,
     "metadata": {},
     "output_type": "execute_result"
    }
   ],
   "source": [
    "obj_1.Z"
   ]
  },
  {
   "cell_type": "code",
   "execution_count": 111,
   "id": "bda5766f",
   "metadata": {},
   "outputs": [],
   "source": [
    "obj_1.Z = \"Earth ultra pro max ++\""
   ]
  },
  {
   "cell_type": "code",
   "execution_count": 112,
   "id": "a3c9b9d8",
   "metadata": {},
   "outputs": [
    {
     "data": {
      "text/plain": [
       "'Earth pro max ++'"
      ]
     },
     "execution_count": 112,
     "metadata": {},
     "output_type": "execute_result"
    }
   ],
   "source": [
    "obj_2.Z"
   ]
  },
  {
   "cell_type": "code",
   "execution_count": 113,
   "id": "bf5c1054",
   "metadata": {},
   "outputs": [
    {
     "data": {
      "text/plain": [
       "'Earth pro max ++'"
      ]
     },
     "execution_count": 113,
     "metadata": {},
     "output_type": "execute_result"
    }
   ],
   "source": [
    "A.Z"
   ]
  },
  {
   "cell_type": "markdown",
   "id": "bacd0141",
   "metadata": {},
   "source": [
    "# Static Method"
   ]
  },
  {
   "cell_type": "code",
   "execution_count": 158,
   "id": "51f290bc",
   "metadata": {},
   "outputs": [],
   "source": [
    "class A:\n",
    "    Z = \"Univarse\"              # Z --> class attribute\n",
    "    def __init__(self):\n",
    "        self.b = 30            \n",
    "    \n",
    "    def obj_method_one(self,parameter_one):\n",
    "        self.c = parameter_one\n",
    "    \n",
    "    def __repr__(self):\n",
    "        return \"attribute b-->\"+str(self.b)\n",
    "    \n",
    "    @classmethod\n",
    "    def class_method_one(cls,parm1):\n",
    "        cls.Z = parm1\n",
    "    \n",
    "    @staticmethod\n",
    "    def static_method_one(param1,param2):\n",
    "        return param1 + param2"
   ]
  },
  {
   "cell_type": "code",
   "execution_count": 159,
   "id": "858dc923",
   "metadata": {},
   "outputs": [],
   "source": [
    "a = A()"
   ]
  },
  {
   "cell_type": "code",
   "execution_count": 160,
   "id": "e0fdaa45",
   "metadata": {},
   "outputs": [
    {
     "data": {
      "text/plain": [
       "attribute b-->30"
      ]
     },
     "execution_count": 160,
     "metadata": {},
     "output_type": "execute_result"
    }
   ],
   "source": [
    "a"
   ]
  },
  {
   "cell_type": "code",
   "execution_count": 161,
   "id": "b64fef89",
   "metadata": {},
   "outputs": [
    {
     "data": {
      "text/plain": [
       "5"
      ]
     },
     "execution_count": 161,
     "metadata": {},
     "output_type": "execute_result"
    }
   ],
   "source": [
    "a.static_method_one(2,3) # accessing by object reference"
   ]
  },
  {
   "cell_type": "code",
   "execution_count": 162,
   "id": "440d78b8",
   "metadata": {},
   "outputs": [
    {
     "data": {
      "text/plain": [
       "'karthik 1996'"
      ]
     },
     "execution_count": 162,
     "metadata": {},
     "output_type": "execute_result"
    }
   ],
   "source": [
    "A.static_method_one(\"karthik\",\" 1996\") # accessing by class reference"
   ]
  },
  {
   "cell_type": "code",
   "execution_count": null,
   "id": "7d0e62ca",
   "metadata": {},
   "outputs": [],
   "source": [
    "# A static method is also a method that is bound to class and not he object of class\n",
    "# A static method can't access or modify the class state\n",
    "# It is present in a class because it makes sense for the mehtod to be present \n",
    "# in class"
   ]
  },
  {
   "cell_type": "markdown",
   "id": "61435359",
   "metadata": {},
   "source": [
    "# Special Object Methods"
   ]
  },
  {
   "cell_type": "markdown",
   "id": "21ca9b8a",
   "metadata": {},
   "source": [
    "### --> Dunder methods (Doubscore method)"
   ]
  },
  {
   "cell_type": "markdown",
   "id": "47d064ad",
   "metadata": {},
   "source": [
    "### --> Magic methods\n",
    "### --> They are already defined and we cannot change there names"
   ]
  },
  {
   "cell_type": "code",
   "execution_count": 118,
   "id": "4e4a74a5",
   "metadata": {},
   "outputs": [],
   "source": [
    "# Complex number have a real part and imaginary part"
   ]
  },
  {
   "cell_type": "code",
   "execution_count": null,
   "id": "79d744f5",
   "metadata": {},
   "outputs": [],
   "source": [
    "a + ib\n",
    "a is the real part\n",
    "b is the imaginary part"
   ]
  },
  {
   "cell_type": "code",
   "execution_count": null,
   "id": "259e0396",
   "metadata": {},
   "outputs": [],
   "source": [
    "ex ==>\n",
    "    c1 = 4 + i5\n",
    "    c2 = 6 + i3\n",
    "    -c2 = -6 - i3  --> neg\n",
    "    \n",
    "    c3 = c1 + c2 = 10 + i8"
   ]
  },
  {
   "cell_type": "code",
   "execution_count": 120,
   "id": "ae32ba3c",
   "metadata": {},
   "outputs": [],
   "source": [
    "class Complex:\n",
    "    def __init__(self, real, imag):\n",
    "        self.real = real\n",
    "        self.imag = imag\n",
    "    \n",
    "    def __add__(self, other):\n",
    "        return Complex(self.real+other.real, self.imag+other.imag)"
   ]
  },
  {
   "cell_type": "code",
   "execution_count": 121,
   "id": "960e3f5f",
   "metadata": {},
   "outputs": [],
   "source": [
    "c1 = Complex(4,5)"
   ]
  },
  {
   "cell_type": "code",
   "execution_count": 122,
   "id": "3624ea62",
   "metadata": {},
   "outputs": [],
   "source": [
    "c2 = Complex(6,3)"
   ]
  },
  {
   "cell_type": "code",
   "execution_count": 123,
   "id": "f1307599",
   "metadata": {},
   "outputs": [],
   "source": [
    "c3 = c1 + c2"
   ]
  },
  {
   "cell_type": "code",
   "execution_count": 125,
   "id": "7ab30ed6",
   "metadata": {},
   "outputs": [
    {
     "name": "stdout",
     "output_type": "stream",
     "text": [
      "10 8\n"
     ]
    }
   ],
   "source": [
    "print(c3.real,c3.imag)"
   ]
  },
  {
   "cell_type": "code",
   "execution_count": 149,
   "id": "65194f06",
   "metadata": {},
   "outputs": [],
   "source": [
    "class Complex:\n",
    "    def __init__(self, real, imag):\n",
    "        self.real = real\n",
    "        self.imag = imag\n",
    "    \n",
    "    def __add__(self, other):\n",
    "        return Complex(self.real+other.real, self.imag+other.imag)\n",
    "    \n",
    "    def __sub__(self,other):\n",
    "        return Complex(self.real-other.real, self.imag-other.imag)\n",
    "    \n",
    "    def __neg__(self):\n",
    "        return Complex(-self.real,-self.imag)\n",
    "    \n",
    "    def __str__(self):\n",
    "        return str(self.real) + \"+ i\" + str(self.imag)\n",
    "    \n",
    "    def __repr__(self):\n",
    "        return \"Complex \" + str(self.real) + \"+ i(\" + str(self.imag) +\")\""
   ]
  },
  {
   "cell_type": "code",
   "execution_count": 150,
   "id": "2860daa4",
   "metadata": {},
   "outputs": [],
   "source": [
    "c1 = Complex(4,5)\n",
    "c2 = Complex(6,3)"
   ]
  },
  {
   "cell_type": "code",
   "execution_count": 151,
   "id": "22f10ab4",
   "metadata": {},
   "outputs": [],
   "source": [
    "c3 = c1 - c2"
   ]
  },
  {
   "cell_type": "code",
   "execution_count": 152,
   "id": "1857b8eb",
   "metadata": {},
   "outputs": [
    {
     "data": {
      "text/plain": [
       "(-2, 2)"
      ]
     },
     "execution_count": 152,
     "metadata": {},
     "output_type": "execute_result"
    }
   ],
   "source": [
    "c3.real,c3.imag"
   ]
  },
  {
   "cell_type": "code",
   "execution_count": 153,
   "id": "528a0005",
   "metadata": {},
   "outputs": [
    {
     "name": "stdout",
     "output_type": "stream",
     "text": [
      "-2+ i2\n"
     ]
    }
   ],
   "source": [
    "print(c3)"
   ]
  },
  {
   "cell_type": "code",
   "execution_count": 154,
   "id": "842d7be6",
   "metadata": {},
   "outputs": [
    {
     "data": {
      "text/plain": [
       "Complex -2+ i(2)"
      ]
     },
     "execution_count": 154,
     "metadata": {},
     "output_type": "execute_result"
    }
   ],
   "source": [
    "c3"
   ]
  },
  {
   "cell_type": "code",
   "execution_count": 155,
   "id": "30483c81",
   "metadata": {},
   "outputs": [],
   "source": [
    "c3 = c2-c1"
   ]
  },
  {
   "cell_type": "code",
   "execution_count": 156,
   "id": "84841795",
   "metadata": {},
   "outputs": [
    {
     "data": {
      "text/plain": [
       "Complex 2+ i(-2)"
      ]
     },
     "execution_count": 156,
     "metadata": {},
     "output_type": "execute_result"
    }
   ],
   "source": [
    "c3"
   ]
  },
  {
   "cell_type": "code",
   "execution_count": 163,
   "id": "dfc0f532",
   "metadata": {},
   "outputs": [],
   "source": [
    "class Swarnali:\n",
    "    def __init__(self, real, imag):\n",
    "        self.real = real\n",
    "        self.imag = imag\n",
    "    \n",
    "    def __add__(self, other):\n",
    "        return Complex(self.real+other.real, self.imag+other.imag)"
   ]
  },
  {
   "cell_type": "code",
   "execution_count": 164,
   "id": "ed576487",
   "metadata": {},
   "outputs": [],
   "source": [
    "c1 = Swarnali(5,10)\n",
    "c2 = Swarnali(6,7)"
   ]
  },
  {
   "cell_type": "code",
   "execution_count": 165,
   "id": "caad5445",
   "metadata": {},
   "outputs": [
    {
     "data": {
      "text/plain": [
       "Complex 11+ i(17)"
      ]
     },
     "execution_count": 165,
     "metadata": {},
     "output_type": "execute_result"
    }
   ],
   "source": [
    "c1 + c2"
   ]
  },
  {
   "cell_type": "code",
   "execution_count": null,
   "id": "06e55d0b",
   "metadata": {},
   "outputs": [],
   "source": []
  }
 ],
 "metadata": {
  "kernelspec": {
   "display_name": "Python 3 (ipykernel)",
   "language": "python",
   "name": "python3"
  },
  "language_info": {
   "codemirror_mode": {
    "name": "ipython",
    "version": 3
   },
   "file_extension": ".py",
   "mimetype": "text/x-python",
   "name": "python",
   "nbconvert_exporter": "python",
   "pygments_lexer": "ipython3",
   "version": "3.9.7"
  }
 },
 "nbformat": 4,
 "nbformat_minor": 5
}
