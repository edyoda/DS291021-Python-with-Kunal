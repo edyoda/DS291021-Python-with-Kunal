{
 "cells": [
  {
   "cell_type": "code",
   "execution_count": 2,
   "id": "f2ca80b5",
   "metadata": {},
   "outputs": [],
   "source": [
    "class Soham:\n",
    "    def __init__(self, real, imag):\n",
    "        self.real = real\n",
    "        self.imag = imag\n",
    "    \n",
    "    def __add__(self, other):\n",
    "        return Soham(self.real+other.real, self.imag+other.imag)\n",
    "c1 = Soham(5,10)\n",
    "c2 = Soham(6,7)\n",
    "c3 = c1+c2\n"
   ]
  },
  {
   "cell_type": "code",
   "execution_count": 3,
   "id": "f211e266",
   "metadata": {},
   "outputs": [
    {
     "data": {
      "text/plain": [
       "11"
      ]
     },
     "execution_count": 3,
     "metadata": {},
     "output_type": "execute_result"
    }
   ],
   "source": [
    "c3.real"
   ]
  },
  {
   "cell_type": "code",
   "execution_count": 4,
   "id": "f7b27df3",
   "metadata": {},
   "outputs": [
    {
     "data": {
      "text/plain": [
       "17"
      ]
     },
     "execution_count": 4,
     "metadata": {},
     "output_type": "execute_result"
    }
   ],
   "source": [
    "c3.imag"
   ]
  },
  {
   "cell_type": "code",
   "execution_count": 5,
   "id": "a775c13a",
   "metadata": {},
   "outputs": [
    {
     "name": "stdout",
     "output_type": "stream",
     "text": [
      "<__main__.Soham object at 0x000001D7AB508400>\n"
     ]
    }
   ],
   "source": [
    "print(c3)"
   ]
  },
  {
   "cell_type": "code",
   "execution_count": 23,
   "id": "0f7438e1",
   "metadata": {},
   "outputs": [],
   "source": [
    "class Addition:\n",
    "    def __init__(self, val1):\n",
    "        self.val1 = val1\n",
    "        \n",
    "    def __add__(self, other):\n",
    "        return self.val1 + other.val1"
   ]
  },
  {
   "cell_type": "code",
   "execution_count": 24,
   "id": "49cc3c85",
   "metadata": {},
   "outputs": [],
   "source": [
    "a = Addition(5)\n",
    "b = Addition(8)"
   ]
  },
  {
   "cell_type": "code",
   "execution_count": 25,
   "id": "ba91d82c",
   "metadata": {},
   "outputs": [
    {
     "name": "stdout",
     "output_type": "stream",
     "text": [
      "13\n"
     ]
    }
   ],
   "source": [
    "print(a+b)"
   ]
  },
  {
   "cell_type": "code",
   "execution_count": 26,
   "id": "9a83ed7c",
   "metadata": {},
   "outputs": [],
   "source": [
    "c = Addition(7)"
   ]
  },
  {
   "cell_type": "code",
   "execution_count": null,
   "id": "8ee5843a",
   "metadata": {},
   "outputs": [],
   "source": []
  },
  {
   "cell_type": "code",
   "execution_count": 43,
   "id": "96813ab4",
   "metadata": {},
   "outputs": [],
   "source": [
    "class Point:\n",
    "    def __init__(self,x,y):\n",
    "        self.x = x\n",
    "        self.y = y\n",
    "        \n",
    "    def __sub__(self, other):\n",
    "        if self.x == other.x:\n",
    "            return self.y-other.y\n",
    "        elif self.y == other.y:\n",
    "            return self.x-other.x\n",
    "        else:\n",
    "            return ((self.x-other.x)**2+(self.y-other.y)**2)**0.5"
   ]
  },
  {
   "cell_type": "code",
   "execution_count": 44,
   "id": "9520d77d",
   "metadata": {},
   "outputs": [],
   "source": [
    "p1 = Point(2,3)"
   ]
  },
  {
   "cell_type": "code",
   "execution_count": 45,
   "id": "75096fff",
   "metadata": {},
   "outputs": [],
   "source": [
    "p2 = Point(5,3)"
   ]
  },
  {
   "cell_type": "code",
   "execution_count": 46,
   "id": "311320af",
   "metadata": {},
   "outputs": [
    {
     "data": {
      "text/plain": [
       "3"
      ]
     },
     "execution_count": 46,
     "metadata": {},
     "output_type": "execute_result"
    }
   ],
   "source": [
    "p2-p1"
   ]
  },
  {
   "cell_type": "code",
   "execution_count": 47,
   "id": "be878d73",
   "metadata": {},
   "outputs": [],
   "source": [
    "A = Point(2,3)\n",
    "B = Point(5,5)"
   ]
  },
  {
   "cell_type": "code",
   "execution_count": 48,
   "id": "d6296355",
   "metadata": {},
   "outputs": [
    {
     "data": {
      "text/plain": [
       "3.605551275463989"
      ]
     },
     "execution_count": 48,
     "metadata": {},
     "output_type": "execute_result"
    }
   ],
   "source": [
    "A-B"
   ]
  },
  {
   "cell_type": "code",
   "execution_count": 49,
   "id": "8d0c10c2",
   "metadata": {},
   "outputs": [
    {
     "data": {
      "text/plain": [
       "3.605551275463989"
      ]
     },
     "execution_count": 49,
     "metadata": {},
     "output_type": "execute_result"
    }
   ],
   "source": [
    "B-A"
   ]
  },
  {
   "cell_type": "code",
   "execution_count": 50,
   "id": "d34c37ee",
   "metadata": {},
   "outputs": [],
   "source": [
    "class Student:\n",
    "    student_list = []\n",
    "    total_marks = 300\n",
    "    fail_percentage = 33\n",
    "    def __init__(self,name,roll_no):\n",
    "        self.name = name\n",
    "        self.roll_no = roll_no\n",
    "        self.marks = {'history':0,'mechanics':0,'chemistry':0}\n",
    "        Student.student_list.append(self)\n",
    "    \n",
    "    def add_marks(self,marks):\n",
    "        self.marks = marks\n",
    "        self.percentage = self.percentage_formula(self.marks, self.total_marks)\n",
    "        if self.percentage < self.fail_percentage:\n",
    "            self.fail = True\n",
    "        else:\n",
    "            self.fail = False\n",
    "    \n",
    "    @classmethod\n",
    "    def find_topper(cls):\n",
    "        heighest_percentage = float('-inf')\n",
    "        current_topper = 0\n",
    "        for obj in cls.student_list:\n",
    "            if obj.percentage > heighest_percentage:\n",
    "                heighest_percentage = obj.percentage\n",
    "                current_topper = obj\n",
    "        return current_topper        \n",
    "    \n",
    "    @staticmethod\n",
    "    def percentage_formula(obt_marks_dict, total_marks):\n",
    "        return (sum(obt_marks_dict.values())/total_marks)*100\n",
    "    \n",
    "    "
   ]
  },
  {
   "cell_type": "code",
   "execution_count": 51,
   "id": "a24cc070",
   "metadata": {},
   "outputs": [],
   "source": [
    "s1 = Student('Kunal',23)"
   ]
  },
  {
   "cell_type": "code",
   "execution_count": 52,
   "id": "a85ff2eb",
   "metadata": {},
   "outputs": [],
   "source": [
    "d1 = {'history':10,'mechanics':10,'chemistry':70}"
   ]
  },
  {
   "cell_type": "code",
   "execution_count": 53,
   "id": "db39723e",
   "metadata": {},
   "outputs": [],
   "source": [
    "s1.add_marks(d1)"
   ]
  },
  {
   "cell_type": "code",
   "execution_count": 54,
   "id": "c5aee1ee",
   "metadata": {},
   "outputs": [
    {
     "data": {
      "text/plain": [
       "True"
      ]
     },
     "execution_count": 54,
     "metadata": {},
     "output_type": "execute_result"
    }
   ],
   "source": [
    "s1.fail"
   ]
  },
  {
   "cell_type": "code",
   "execution_count": 55,
   "id": "e0c8211e",
   "metadata": {},
   "outputs": [
    {
     "data": {
      "text/plain": [
       "30.0"
      ]
     },
     "execution_count": 55,
     "metadata": {},
     "output_type": "execute_result"
    }
   ],
   "source": [
    "s1.percentage"
   ]
  },
  {
   "cell_type": "code",
   "execution_count": 56,
   "id": "67d3005f",
   "metadata": {},
   "outputs": [],
   "source": [
    "s2 = Student(\"Vanditha\",56)"
   ]
  },
  {
   "cell_type": "code",
   "execution_count": 57,
   "id": "d84305ec",
   "metadata": {},
   "outputs": [],
   "source": [
    "d1 = {'history':90,'mechanics':80,'chemistry':70}"
   ]
  },
  {
   "cell_type": "code",
   "execution_count": 58,
   "id": "4e79f2de",
   "metadata": {},
   "outputs": [],
   "source": [
    "s2.add_marks(d1)"
   ]
  },
  {
   "cell_type": "code",
   "execution_count": 59,
   "id": "031d7b07",
   "metadata": {},
   "outputs": [
    {
     "data": {
      "text/plain": [
       "False"
      ]
     },
     "execution_count": 59,
     "metadata": {},
     "output_type": "execute_result"
    }
   ],
   "source": [
    "s2.fail"
   ]
  },
  {
   "cell_type": "code",
   "execution_count": 61,
   "id": "1442c8da",
   "metadata": {},
   "outputs": [],
   "source": [
    "s3 = Student(\"Shabina\",47)"
   ]
  },
  {
   "cell_type": "code",
   "execution_count": 62,
   "id": "8018349a",
   "metadata": {},
   "outputs": [],
   "source": [
    "s3.add_marks({'history':80,'mechanics':80,'chemistry':95})"
   ]
  },
  {
   "cell_type": "code",
   "execution_count": 64,
   "id": "f40b9aaf",
   "metadata": {},
   "outputs": [
    {
     "data": {
      "text/plain": [
       "'Shabina'"
      ]
     },
     "execution_count": 64,
     "metadata": {},
     "output_type": "execute_result"
    }
   ],
   "source": [
    "Student.find_topper().name"
   ]
  },
  {
   "cell_type": "markdown",
   "id": "e4ae8ed4",
   "metadata": {},
   "source": [
    "# instagram"
   ]
  },
  {
   "cell_type": "code",
   "execution_count": 66,
   "id": "00ad6198",
   "metadata": {},
   "outputs": [],
   "source": [
    "# sign_up\n",
    "# sign_in\n",
    "# log_out\n",
    "# log_out_all_devices\n",
    "# follower_list\n",
    "# followed_list\n",
    "# session_list"
   ]
  },
  {
   "cell_type": "code",
   "execution_count": 74,
   "id": "a48eca1e",
   "metadata": {},
   "outputs": [],
   "source": [
    "from datetime import datetime as dt\n",
    "class User:\n",
    "    users = {}\n",
    "    def __init__(self):\n",
    "        self.follower_list = []\n",
    "        self.followed_list = []\n",
    "        self.log_in_session = []\n",
    "        \n",
    "    def sign_up(self,name, password, phn):\n",
    "        self.phn = phn\n",
    "        self.name = name\n",
    "        self.password = password\n",
    "        self.user_name = name+\"_\"+str(phn)\n",
    "        User.add_user(self)\n",
    "    \n",
    "    def sign_in(self, user_name, password):\n",
    "        if user_name == self.user_name:\n",
    "            if password == self.password:\n",
    "                dic = {\"Date\":dt.now().strftime(\"%D\"),\"Time\":dt.now().strftime(\"%H:%M:%S\")}\n",
    "                self.log_in_session.append(dic)\n",
    "                return self.log_in_session\n",
    "        else:\n",
    "            return {\"message\":\"Wrong username/password\"}\n",
    "    \n",
    "    def sign_out(self):\n",
    "        if self.log_in_session:\n",
    "            self.log_in_session.pop()\n",
    "        else:\n",
    "            print(\"Signed out of all devices\")\n",
    "    \n",
    "    def sign_out_of_all_devices(self):\n",
    "        self.log_in_session.clear()\n",
    "        print(\"Signed out of all Devices\")\n",
    "    \n",
    "    def follow_user(self, other):\n",
    "        self.followed_list.append(other)\n",
    "        other.follower_list.append(self)\n",
    "    \n",
    "    @classmethod\n",
    "    def add_user(cls, self):\n",
    "        cls.users[self.user_name] = self"
   ]
  },
  {
   "cell_type": "code",
   "execution_count": 75,
   "id": "1f4b214b",
   "metadata": {},
   "outputs": [],
   "source": [
    "u1 = User()\n",
    "u2 = User()\n",
    "u3 = User()\n",
    "u4 = User()"
   ]
  },
  {
   "cell_type": "code",
   "execution_count": 76,
   "id": "6350b49e",
   "metadata": {},
   "outputs": [],
   "source": [
    "l = [{\"name\":\"Swarnali\",\"password\":\"1234\",\"phn\":999},\n",
    "     {\"name\":\"Joven\",\"password\":\"2345\",\"phn\":987},\n",
    "     {\"name\":\"vanditha\",\"password\":1234,\"phn\":567},\n",
    "    {\"name\":\"snehal\",\"Password\":8765,\"phn\":99999}\n",
    "    ]"
   ]
  },
  {
   "cell_type": "code",
   "execution_count": 77,
   "id": "b0ace19e",
   "metadata": {},
   "outputs": [
    {
     "ename": "TypeError",
     "evalue": "'dict' object is not callable",
     "output_type": "error",
     "traceback": [
      "\u001b[1;31m---------------------------------------------------------------------------\u001b[0m",
      "\u001b[1;31mTypeError\u001b[0m                                 Traceback (most recent call last)",
      "\u001b[1;32mC:\\Users\\KUNALC~1\\AppData\\Local\\Temp/ipykernel_42580/1595503590.py\u001b[0m in \u001b[0;36m<module>\u001b[1;34m\u001b[0m\n\u001b[1;32m----> 1\u001b[1;33m \u001b[0mu1\u001b[0m\u001b[1;33m.\u001b[0m\u001b[0msign_up\u001b[0m\u001b[1;33m(\u001b[0m\u001b[1;34m\"Swarnali\"\u001b[0m\u001b[1;33m,\u001b[0m\u001b[1;34m\"1234\"\u001b[0m\u001b[1;33m,\u001b[0m\u001b[1;36m999\u001b[0m\u001b[1;33m)\u001b[0m\u001b[1;33m\u001b[0m\u001b[1;33m\u001b[0m\u001b[0m\n\u001b[0m\u001b[0;32m      2\u001b[0m \u001b[0mu2\u001b[0m\u001b[1;33m.\u001b[0m\u001b[0msign_up\u001b[0m\u001b[1;33m(\u001b[0m\u001b[1;34m\"Joven\"\u001b[0m\u001b[1;33m,\u001b[0m\u001b[1;34m\"2345\"\u001b[0m\u001b[1;33m,\u001b[0m\u001b[1;36m987\u001b[0m\u001b[1;33m)\u001b[0m\u001b[1;33m\u001b[0m\u001b[1;33m\u001b[0m\u001b[0m\n\u001b[0;32m      3\u001b[0m \u001b[0mu3\u001b[0m\u001b[1;33m.\u001b[0m\u001b[0msign_up\u001b[0m\u001b[1;33m(\u001b[0m\u001b[1;34m\"vanditha\"\u001b[0m\u001b[1;33m,\u001b[0m\u001b[1;34m\"1234\"\u001b[0m\u001b[1;33m,\u001b[0m\u001b[1;36m567\u001b[0m\u001b[1;33m)\u001b[0m\u001b[1;33m\u001b[0m\u001b[1;33m\u001b[0m\u001b[0m\n",
      "\u001b[1;32mC:\\Users\\KUNALC~1\\AppData\\Local\\Temp/ipykernel_42580/797329307.py\u001b[0m in \u001b[0;36msign_up\u001b[1;34m(self, name, password, phn)\u001b[0m\n\u001b[0;32m     12\u001b[0m         \u001b[0mself\u001b[0m\u001b[1;33m.\u001b[0m\u001b[0mpassword\u001b[0m \u001b[1;33m=\u001b[0m \u001b[0mpassword\u001b[0m\u001b[1;33m\u001b[0m\u001b[1;33m\u001b[0m\u001b[0m\n\u001b[0;32m     13\u001b[0m         \u001b[0mself\u001b[0m\u001b[1;33m.\u001b[0m\u001b[0muser_name\u001b[0m \u001b[1;33m=\u001b[0m \u001b[0mname\u001b[0m\u001b[1;33m+\u001b[0m\u001b[1;34m\"_\"\u001b[0m\u001b[1;33m+\u001b[0m\u001b[0mstr\u001b[0m\u001b[1;33m(\u001b[0m\u001b[0mphn\u001b[0m\u001b[1;33m)\u001b[0m\u001b[1;33m\u001b[0m\u001b[1;33m\u001b[0m\u001b[0m\n\u001b[1;32m---> 14\u001b[1;33m         \u001b[0mUser\u001b[0m\u001b[1;33m.\u001b[0m\u001b[0musers\u001b[0m\u001b[1;33m(\u001b[0m\u001b[0mself\u001b[0m\u001b[1;33m)\u001b[0m\u001b[1;33m\u001b[0m\u001b[1;33m\u001b[0m\u001b[0m\n\u001b[0m\u001b[0;32m     15\u001b[0m \u001b[1;33m\u001b[0m\u001b[0m\n\u001b[0;32m     16\u001b[0m     \u001b[1;32mdef\u001b[0m \u001b[0msign_in\u001b[0m\u001b[1;33m(\u001b[0m\u001b[0mself\u001b[0m\u001b[1;33m,\u001b[0m \u001b[0muser_name\u001b[0m\u001b[1;33m,\u001b[0m \u001b[0mpassword\u001b[0m\u001b[1;33m)\u001b[0m\u001b[1;33m:\u001b[0m\u001b[1;33m\u001b[0m\u001b[1;33m\u001b[0m\u001b[0m\n",
      "\u001b[1;31mTypeError\u001b[0m: 'dict' object is not callable"
     ]
    }
   ],
   "source": [
    "u1.sign_up(\"Swarnali\",\"1234\",999)\n",
    "u2.sign_up(\"Joven\",\"2345\",987)\n",
    "u3.sign_up(\"vanditha\",\"1234\",567)"
   ]
  },
  {
   "cell_type": "code",
   "execution_count": null,
   "id": "e7f42c5d",
   "metadata": {},
   "outputs": [],
   "source": []
  },
  {
   "cell_type": "code",
   "execution_count": null,
   "id": "bb5b641e",
   "metadata": {},
   "outputs": [],
   "source": []
  },
  {
   "cell_type": "code",
   "execution_count": null,
   "id": "b55c4d1f",
   "metadata": {},
   "outputs": [],
   "source": []
  },
  {
   "cell_type": "code",
   "execution_count": null,
   "id": "4dd44b7f",
   "metadata": {},
   "outputs": [],
   "source": []
  },
  {
   "cell_type": "code",
   "execution_count": 69,
   "id": "4da693bc",
   "metadata": {},
   "outputs": [
    {
     "data": {
      "text/plain": [
       "'12/17/21'"
      ]
     },
     "execution_count": 69,
     "metadata": {},
     "output_type": "execute_result"
    }
   ],
   "source": [
    "dt.now().strftime(\"%D\")"
   ]
  },
  {
   "cell_type": "code",
   "execution_count": 70,
   "id": "2e6eb017",
   "metadata": {},
   "outputs": [
    {
     "data": {
      "text/plain": [
       "'21'"
      ]
     },
     "execution_count": 70,
     "metadata": {},
     "output_type": "execute_result"
    }
   ],
   "source": [
    "dt.now().strftime(\"%H\")"
   ]
  },
  {
   "cell_type": "code",
   "execution_count": 71,
   "id": "ee83d28b",
   "metadata": {},
   "outputs": [
    {
     "data": {
      "text/plain": [
       "'11'"
      ]
     },
     "execution_count": 71,
     "metadata": {},
     "output_type": "execute_result"
    }
   ],
   "source": [
    "dt.now().strftime(\"%M\")"
   ]
  },
  {
   "cell_type": "code",
   "execution_count": 72,
   "id": "24db8ee7",
   "metadata": {},
   "outputs": [
    {
     "data": {
      "text/plain": [
       "'49'"
      ]
     },
     "execution_count": 72,
     "metadata": {},
     "output_type": "execute_result"
    }
   ],
   "source": [
    "dt.now().strftime(\"%S\")"
   ]
  },
  {
   "cell_type": "code",
   "execution_count": 73,
   "id": "056bb67d",
   "metadata": {},
   "outputs": [
    {
     "data": {
      "text/plain": [
       "'21:12:23'"
      ]
     },
     "execution_count": 73,
     "metadata": {},
     "output_type": "execute_result"
    }
   ],
   "source": [
    "dt.now().strftime(\"%H:%M:%S\")"
   ]
  },
  {
   "cell_type": "code",
   "execution_count": null,
   "id": "f96f3662",
   "metadata": {},
   "outputs": [],
   "source": []
  }
 ],
 "metadata": {
  "kernelspec": {
   "display_name": "Python 3 (ipykernel)",
   "language": "python",
   "name": "python3"
  },
  "language_info": {
   "codemirror_mode": {
    "name": "ipython",
    "version": 3
   },
   "file_extension": ".py",
   "mimetype": "text/x-python",
   "name": "python",
   "nbconvert_exporter": "python",
   "pygments_lexer": "ipython3",
   "version": "3.9.7"
  }
 },
 "nbformat": 4,
 "nbformat_minor": 5
}
