{
 "cells": [
  {
   "cell_type": "code",
   "execution_count": 2,
   "id": "3a64c461",
   "metadata": {},
   "outputs": [],
   "source": [
    "class Soham:\n",
    "    def __init__(self, real, imag):\n",
    "        self.real = real\n",
    "        self.imag = imag\n",
    "    \n",
    "    def __add__(self, other):\n",
    "        return Soham(self.real+other.real, self.imag+other.imag)\n",
    "c1 = Soham(5,10)\n",
    "c2 = Soham(6,7)\n",
    "c3 = c1+c2\n"
   ]
  },
  {
   "cell_type": "code",
   "execution_count": 3,
   "id": "c7df52aa",
   "metadata": {},
   "outputs": [
    {
     "data": {
      "text/plain": [
       "11"
      ]
     },
     "execution_count": 3,
     "metadata": {},
     "output_type": "execute_result"
    }
   ],
   "source": [
    "c3.real"
   ]
  },
  {
   "cell_type": "code",
   "execution_count": 4,
   "id": "b5637a6a",
   "metadata": {},
   "outputs": [
    {
     "data": {
      "text/plain": [
       "17"
      ]
     },
     "execution_count": 4,
     "metadata": {},
     "output_type": "execute_result"
    }
   ],
   "source": [
    "c3.imag"
   ]
  },
  {
   "cell_type": "code",
   "execution_count": 5,
   "id": "d7dc5aa2",
   "metadata": {},
   "outputs": [
    {
     "name": "stdout",
     "output_type": "stream",
     "text": [
      "<__main__.Soham object at 0x000001D7AB508400>\n"
     ]
    }
   ],
   "source": [
    "print(c3)"
   ]
  },
  {
   "cell_type": "code",
   "execution_count": 23,
   "id": "d4fc4d7d",
   "metadata": {},
   "outputs": [],
   "source": [
    "class Addition:\n",
    "    def __init__(self, val1):\n",
    "        self.val1 = val1\n",
    "        \n",
    "    def __add__(self, other):\n",
    "        return self.val1 + other.val1"
   ]
  },
  {
   "cell_type": "code",
   "execution_count": 24,
   "id": "1b078fc9",
   "metadata": {},
   "outputs": [],
   "source": [
    "a = Addition(5)\n",
    "b = Addition(8)"
   ]
  },
  {
   "cell_type": "code",
   "execution_count": 25,
   "id": "5cc4c474",
   "metadata": {},
   "outputs": [
    {
     "name": "stdout",
     "output_type": "stream",
     "text": [
      "13\n"
     ]
    }
   ],
   "source": [
    "print(a+b)"
   ]
  },
  {
   "cell_type": "code",
   "execution_count": 26,
   "id": "9bf7b676",
   "metadata": {},
   "outputs": [],
   "source": [
    "c = Addition(7)"
   ]
  },
  {
   "cell_type": "code",
   "execution_count": null,
   "id": "653eea95",
   "metadata": {},
   "outputs": [],
   "source": []
  },
  {
   "cell_type": "code",
   "execution_count": 43,
   "id": "37a6f490",
   "metadata": {},
   "outputs": [],
   "source": [
    "class Point:\n",
    "    def __init__(self,x,y):\n",
    "        self.x = x\n",
    "        self.y = y\n",
    "        \n",
    "    def __sub__(self, other):\n",
    "        if self.x == other.x:\n",
    "            return self.y-other.y\n",
    "        elif self.y == other.y:\n",
    "            return self.x-other.x\n",
    "        else:\n",
    "            return ((self.x-other.x)**2+(self.y-other.y)**2)**0.5"
   ]
  },
  {
   "cell_type": "code",
   "execution_count": 44,
   "id": "051cadc9",
   "metadata": {},
   "outputs": [],
   "source": [
    "p1 = Point(2,3)"
   ]
  },
  {
   "cell_type": "code",
   "execution_count": 45,
   "id": "3c4fb454",
   "metadata": {},
   "outputs": [],
   "source": [
    "p2 = Point(5,3)"
   ]
  },
  {
   "cell_type": "code",
   "execution_count": 46,
   "id": "1b0d51cd",
   "metadata": {},
   "outputs": [
    {
     "data": {
      "text/plain": [
       "3"
      ]
     },
     "execution_count": 46,
     "metadata": {},
     "output_type": "execute_result"
    }
   ],
   "source": [
    "p2-p1"
   ]
  },
  {
   "cell_type": "code",
   "execution_count": 47,
   "id": "7090d09e",
   "metadata": {},
   "outputs": [],
   "source": [
    "A = Point(2,3)\n",
    "B = Point(5,5)"
   ]
  },
  {
   "cell_type": "code",
   "execution_count": 48,
   "id": "f4607d94",
   "metadata": {},
   "outputs": [
    {
     "data": {
      "text/plain": [
       "3.605551275463989"
      ]
     },
     "execution_count": 48,
     "metadata": {},
     "output_type": "execute_result"
    }
   ],
   "source": [
    "A-B"
   ]
  },
  {
   "cell_type": "code",
   "execution_count": 49,
   "id": "485e9cc6",
   "metadata": {},
   "outputs": [
    {
     "data": {
      "text/plain": [
       "3.605551275463989"
      ]
     },
     "execution_count": 49,
     "metadata": {},
     "output_type": "execute_result"
    }
   ],
   "source": [
    "B-A"
   ]
  },
  {
   "cell_type": "code",
   "execution_count": 50,
   "id": "c8e58dfd",
   "metadata": {},
   "outputs": [],
   "source": [
    "class Student:\n",
    "    student_list = []\n",
    "    total_marks = 300\n",
    "    fail_percentage = 33\n",
    "    def __init__(self,name,roll_no):\n",
    "        self.name = name\n",
    "        self.roll_no = roll_no\n",
    "        self.marks = {'history':0,'mechanics':0,'chemistry':0}\n",
    "        Student.student_list.append(self)\n",
    "    \n",
    "    def add_marks(self,marks):\n",
    "        self.marks = marks\n",
    "        self.percentage = self.percentage_formula(self.marks, self.total_marks)\n",
    "        if self.percentage < self.fail_percentage:\n",
    "            self.fail = True\n",
    "        else:\n",
    "            self.fail = False\n",
    "    \n",
    "    @classmethod\n",
    "    def find_topper(cls):\n",
    "        heighest_percentage = float('-inf')\n",
    "        current_topper = 0\n",
    "        for obj in cls.student_list:\n",
    "            if obj.percentage > heighest_percentage:\n",
    "                heighest_percentage = obj.percentage\n",
    "                current_topper = obj\n",
    "        return current_topper        \n",
    "    \n",
    "    @staticmethod\n",
    "    def percentage_formula(obt_marks_dict, total_marks):\n",
    "        return (sum(obt_marks_dict.values())/total_marks)*100\n",
    "    \n",
    "    "
   ]
  },
  {
   "cell_type": "code",
   "execution_count": 51,
   "id": "955a37ec",
   "metadata": {},
   "outputs": [],
   "source": [
    "s1 = Student('Kunal',23)"
   ]
  },
  {
   "cell_type": "code",
   "execution_count": 52,
   "id": "534cbf5d",
   "metadata": {},
   "outputs": [],
   "source": [
    "d1 = {'history':10,'mechanics':10,'chemistry':70}"
   ]
  },
  {
   "cell_type": "code",
   "execution_count": 53,
   "id": "a9746211",
   "metadata": {},
   "outputs": [],
   "source": [
    "s1.add_marks(d1)"
   ]
  },
  {
   "cell_type": "code",
   "execution_count": 54,
   "id": "1037046a",
   "metadata": {},
   "outputs": [
    {
     "data": {
      "text/plain": [
       "True"
      ]
     },
     "execution_count": 54,
     "metadata": {},
     "output_type": "execute_result"
    }
   ],
   "source": [
    "s1.fail"
   ]
  },
  {
   "cell_type": "code",
   "execution_count": 55,
   "id": "62ca2608",
   "metadata": {},
   "outputs": [
    {
     "data": {
      "text/plain": [
       "30.0"
      ]
     },
     "execution_count": 55,
     "metadata": {},
     "output_type": "execute_result"
    }
   ],
   "source": [
    "s1.percentage"
   ]
  },
  {
   "cell_type": "code",
   "execution_count": 56,
   "id": "28600ca2",
   "metadata": {},
   "outputs": [],
   "source": [
    "s2 = Student(\"Vanditha\",56)"
   ]
  },
  {
   "cell_type": "code",
   "execution_count": 57,
   "id": "01a47152",
   "metadata": {},
   "outputs": [],
   "source": [
    "d1 = {'history':90,'mechanics':80,'chemistry':70}"
   ]
  },
  {
   "cell_type": "code",
   "execution_count": 58,
   "id": "1a9532b2",
   "metadata": {},
   "outputs": [],
   "source": [
    "s2.add_marks(d1)"
   ]
  },
  {
   "cell_type": "code",
   "execution_count": 59,
   "id": "4a802291",
   "metadata": {},
   "outputs": [
    {
     "data": {
      "text/plain": [
       "False"
      ]
     },
     "execution_count": 59,
     "metadata": {},
     "output_type": "execute_result"
    }
   ],
   "source": [
    "s2.fail"
   ]
  },
  {
   "cell_type": "code",
   "execution_count": 61,
   "id": "22802b5e",
   "metadata": {},
   "outputs": [],
   "source": [
    "s3 = Student(\"Shabina\",47)"
   ]
  },
  {
   "cell_type": "code",
   "execution_count": 62,
   "id": "41402744",
   "metadata": {},
   "outputs": [],
   "source": [
    "s3.add_marks({'history':80,'mechanics':80,'chemistry':95})"
   ]
  },
  {
   "cell_type": "code",
   "execution_count": 64,
   "id": "4cd74a30",
   "metadata": {},
   "outputs": [
    {
     "data": {
      "text/plain": [
       "'Shabina'"
      ]
     },
     "execution_count": 64,
     "metadata": {},
     "output_type": "execute_result"
    }
   ],
   "source": [
    "Student.find_topper().name"
   ]
  },
  {
   "cell_type": "markdown",
   "id": "4a5602ee",
   "metadata": {},
   "source": [
    "# instagram"
   ]
  },
  {
   "cell_type": "code",
   "execution_count": 66,
   "id": "bc22714b",
   "metadata": {},
   "outputs": [],
   "source": [
    "# sign_up\n",
    "# sign_in\n",
    "# log_out\n",
    "# log_out_all_devices\n",
    "# follower_list\n",
    "# followed_list\n",
    "# session_list"
   ]
  },
  {
   "cell_type": "code",
   "execution_count": 79,
   "id": "13ffad58",
   "metadata": {},
   "outputs": [],
   "source": [
    "from datetime import datetime as dt\n",
    "class User:\n",
    "    users = {}\n",
    "    def __init__(self):\n",
    "        self.follower_list = []\n",
    "        self.followed_list = []\n",
    "        self.log_in_session = []\n",
    "        \n",
    "    def sign_up(self,name, password, phn):\n",
    "        self.phn = phn\n",
    "        self.name = name\n",
    "        self.password = password\n",
    "        self.user_name = name+\"_\"+str(phn)\n",
    "        User.add_user(self)\n",
    "    \n",
    "    def sign_in(self, user_name, password):\n",
    "        if user_name == self.user_name:\n",
    "            if password == self.password:\n",
    "                dic = {\"Date\":dt.now().strftime(\"%D\"),\"Time\":dt.now().strftime(\"%H:%M:%S\")}\n",
    "                self.log_in_session.append(dic)\n",
    "                return self.log_in_session\n",
    "        else:\n",
    "            return {\"message\":\"Wrong username/password\"}\n",
    "    \n",
    "    def sign_out(self):\n",
    "        if self.log_in_session:\n",
    "            self.log_in_session.pop()\n",
    "        else:\n",
    "            print(\"Signed out of all devices\")\n",
    "    \n",
    "    def sign_out_of_all_devices(self):\n",
    "        self.log_in_session.clear()\n",
    "        print(\"Signed out of all Devices\")\n",
    "    \n",
    "    def follow_user(self, other):\n",
    "        self.followed_list.append(other)\n",
    "        other.follower_list.append(self)\n",
    "    \n",
    "    @classmethod\n",
    "    def add_user(cls, self):\n",
    "        cls.users[self.user_name] = self"
   ]
  },
  {
   "cell_type": "code",
   "execution_count": 80,
   "id": "51d2250e",
   "metadata": {},
   "outputs": [],
   "source": [
    "u1 = User()\n",
    "u2 = User()\n",
    "u3 = User()\n",
    "u4 = User()"
   ]
  },
  {
   "cell_type": "code",
   "execution_count": 81,
   "id": "af60716c",
   "metadata": {},
   "outputs": [],
   "source": [
    "l = [{\"name\":\"Swarnali\",\"password\":\"1234\",\"phn\":999},\n",
    "     {\"name\":\"Joven\",\"password\":\"2345\",\"phn\":987},\n",
    "     {\"name\":\"vanditha\",\"password\":1234,\"phn\":567},\n",
    "    {\"name\":\"snehal\",\"Password\":8765,\"phn\":99999}\n",
    "    ]"
   ]
  },
  {
   "cell_type": "code",
   "execution_count": 82,
   "id": "65e17c13",
   "metadata": {},
   "outputs": [],
   "source": [
    "u1.sign_up(\"Swarnali\",\"1234\",999)\n",
    "u2.sign_up(\"Joven\",\"2345\",987)\n",
    "u3.sign_up(\"vanditha\",\"1234\",567)"
   ]
  },
  {
   "cell_type": "code",
   "execution_count": null,
   "id": "a445c993",
   "metadata": {},
   "outputs": [],
   "source": []
  },
  {
   "cell_type": "code",
   "execution_count": null,
   "id": "979f1819",
   "metadata": {},
   "outputs": [],
   "source": []
  },
  {
   "cell_type": "code",
   "execution_count": null,
   "id": "eb08743d",
   "metadata": {},
   "outputs": [],
   "source": []
  },
  {
   "cell_type": "code",
   "execution_count": null,
   "id": "250b35a0",
   "metadata": {},
   "outputs": [],
   "source": []
  },
  {
   "cell_type": "code",
   "execution_count": 69,
   "id": "f8f1f828",
   "metadata": {},
   "outputs": [
    {
     "data": {
      "text/plain": [
       "'12/17/21'"
      ]
     },
     "execution_count": 69,
     "metadata": {},
     "output_type": "execute_result"
    }
   ],
   "source": [
    "dt.now().strftime(\"%D\")"
   ]
  },
  {
   "cell_type": "code",
   "execution_count": 70,
   "id": "d6bd6cc5",
   "metadata": {},
   "outputs": [
    {
     "data": {
      "text/plain": [
       "'21'"
      ]
     },
     "execution_count": 70,
     "metadata": {},
     "output_type": "execute_result"
    }
   ],
   "source": [
    "dt.now().strftime(\"%H\")"
   ]
  },
  {
   "cell_type": "code",
   "execution_count": 71,
   "id": "cd07f66a",
   "metadata": {},
   "outputs": [
    {
     "data": {
      "text/plain": [
       "'11'"
      ]
     },
     "execution_count": 71,
     "metadata": {},
     "output_type": "execute_result"
    }
   ],
   "source": [
    "dt.now().strftime(\"%M\")"
   ]
  },
  {
   "cell_type": "code",
   "execution_count": 72,
   "id": "14c4a98e",
   "metadata": {},
   "outputs": [
    {
     "data": {
      "text/plain": [
       "'49'"
      ]
     },
     "execution_count": 72,
     "metadata": {},
     "output_type": "execute_result"
    }
   ],
   "source": [
    "dt.now().strftime(\"%S\")"
   ]
  },
  {
   "cell_type": "code",
   "execution_count": 73,
   "id": "c90c2c14",
   "metadata": {},
   "outputs": [
    {
     "data": {
      "text/plain": [
       "'21:12:23'"
      ]
     },
     "execution_count": 73,
     "metadata": {},
     "output_type": "execute_result"
    }
   ],
   "source": [
    "dt.now().strftime(\"%H:%M:%S\")"
   ]
  },
  {
   "cell_type": "code",
   "execution_count": null,
   "id": "08f4225f",
   "metadata": {},
   "outputs": [],
   "source": []
  }
 ],
 "metadata": {
  "kernelspec": {
   "display_name": "Python 3 (ipykernel)",
   "language": "python",
   "name": "python3"
  },
  "language_info": {
   "codemirror_mode": {
    "name": "ipython",
    "version": 3
   },
   "file_extension": ".py",
   "mimetype": "text/x-python",
   "name": "python",
   "nbconvert_exporter": "python",
   "pygments_lexer": "ipython3",
   "version": "3.9.7"
  }
 },
 "nbformat": 4,
 "nbformat_minor": 5
}
