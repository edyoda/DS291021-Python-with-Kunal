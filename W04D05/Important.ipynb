{
 "cells": [
  {
   "cell_type": "code",
   "execution_count": null,
   "id": "bac9e334",
   "metadata": {},
   "outputs": [],
   "source": [
    "MODULE IS A .PY FILE.\n",
    "\n",
    "A module is a file containing Python code. A package, however, is like a\n",
    "directory/FOLDER that holds sub-packages/(FOLDER INSIDE A FOLDER(SUBFOLDER)) and modules\n",
    "\n",
    "As your program gets longer, you may want to split it into\n",
    "several files for easier maintenance. You may also want to use a\n",
    "handy function that you’ve written in several programs without\n",
    "copying its definition into each program.\n",
    "\n",
    "Definitions from a module can be imported into other modules or\n",
    "into the main module (the collection of variables that you have\n",
    "access to in a script executed at the top level and in calculator\n",
    "mode).\n",
    "\n",
    "A module can contain executable statements as well as function\n",
    "definitions\n",
    "\n",
    "The built-in function dir() is used to find out which names a\n",
    "module defines"
   ]
  }
 ],
 "metadata": {
  "kernelspec": {
   "display_name": "Python 3 (ipykernel)",
   "language": "python",
   "name": "python3"
  },
  "language_info": {
   "codemirror_mode": {
    "name": "ipython",
    "version": 3
   },
   "file_extension": ".py",
   "mimetype": "text/x-python",
   "name": "python",
   "nbconvert_exporter": "python",
   "pygments_lexer": "ipython3",
   "version": "3.9.7"
  }
 },
 "nbformat": 4,
 "nbformat_minor": 5
}
