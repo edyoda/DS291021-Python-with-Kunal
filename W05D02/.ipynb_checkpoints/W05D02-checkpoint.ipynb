{
 "cells": [
  {
   "cell_type": "markdown",
   "id": "5d601b98",
   "metadata": {},
   "source": [
    "# File handling"
   ]
  },
  {
   "cell_type": "code",
   "execution_count": null,
   "id": "13b5a261",
   "metadata": {},
   "outputs": [],
   "source": [
    "File is a named location on the system storage which records data for later access."
   ]
  },
  {
   "cell_type": "code",
   "execution_count": null,
   "id": "2a21721b",
   "metadata": {},
   "outputs": [],
   "source": [
    "How we manipulate file:\n",
    "    create\n",
    "    read\n",
    "    update\n",
    "    delete\n",
    "    copy"
   ]
  },
  {
   "cell_type": "markdown",
   "id": "6dd69c9c",
   "metadata": {},
   "source": [
    "## open"
   ]
  },
  {
   "cell_type": "code",
   "execution_count": null,
   "id": "2022e44b",
   "metadata": {},
   "outputs": [],
   "source": [
    "open() --> opens a file that returns a file pointer"
   ]
  },
  {
   "cell_type": "code",
   "execution_count": 1,
   "id": "32bdd73e",
   "metadata": {},
   "outputs": [],
   "source": [
    "test1 = open(\"Test1.txt\")"
   ]
  },
  {
   "cell_type": "code",
   "execution_count": 2,
   "id": "f736e3f8",
   "metadata": {},
   "outputs": [
    {
     "data": {
      "text/plain": [
       "_io.TextIOWrapper"
      ]
     },
     "execution_count": 2,
     "metadata": {},
     "output_type": "execute_result"
    }
   ],
   "source": [
    "type(test1)"
   ]
  },
  {
   "cell_type": "code",
   "execution_count": 3,
   "id": "74868e80",
   "metadata": {},
   "outputs": [
    {
     "name": "stdout",
     "output_type": "stream",
     "text": [
      "Karthik, Rajeshwar, Moheni, Sangwan\n"
     ]
    }
   ],
   "source": [
    "print(test1.read())"
   ]
  },
  {
   "cell_type": "code",
   "execution_count": 7,
   "id": "9db2af6d",
   "metadata": {},
   "outputs": [],
   "source": [
    "test1.close()"
   ]
  },
  {
   "cell_type": "code",
   "execution_count": 8,
   "id": "f1d36b28",
   "metadata": {},
   "outputs": [
    {
     "ename": "ValueError",
     "evalue": "I/O operation on closed file.",
     "output_type": "error",
     "traceback": [
      "\u001b[1;31m---------------------------------------------------------------------------\u001b[0m",
      "\u001b[1;31mValueError\u001b[0m                                Traceback (most recent call last)",
      "\u001b[1;32mC:\\Users\\KUNALC~1\\AppData\\Local\\Temp/ipykernel_2888/4100121692.py\u001b[0m in \u001b[0;36m<module>\u001b[1;34m\u001b[0m\n\u001b[1;32m----> 1\u001b[1;33m \u001b[0mtest1\u001b[0m\u001b[1;33m.\u001b[0m\u001b[0mread\u001b[0m\u001b[1;33m(\u001b[0m\u001b[1;33m)\u001b[0m\u001b[1;33m\u001b[0m\u001b[1;33m\u001b[0m\u001b[0m\n\u001b[0m",
      "\u001b[1;31mValueError\u001b[0m: I/O operation on closed file."
     ]
    }
   ],
   "source": [
    "test1.read()"
   ]
  },
  {
   "cell_type": "code",
   "execution_count": 9,
   "id": "a0e1ddd9",
   "metadata": {},
   "outputs": [],
   "source": [
    "python1 = open(\"test2.py\")"
   ]
  },
  {
   "cell_type": "code",
   "execution_count": 10,
   "id": "a6e06b90",
   "metadata": {},
   "outputs": [
    {
     "data": {
      "text/plain": [
       "'print(\"Hey I am a python file\")'"
      ]
     },
     "execution_count": 10,
     "metadata": {},
     "output_type": "execute_result"
    }
   ],
   "source": [
    "python1.read()"
   ]
  },
  {
   "cell_type": "code",
   "execution_count": 11,
   "id": "39e7571e",
   "metadata": {},
   "outputs": [
    {
     "data": {
      "text/plain": [
       "'\\nprint(\"Shabina\")'"
      ]
     },
     "execution_count": 11,
     "metadata": {},
     "output_type": "execute_result"
    }
   ],
   "source": [
    "python1.read()"
   ]
  },
  {
   "cell_type": "code",
   "execution_count": 12,
   "id": "bc0a8687",
   "metadata": {},
   "outputs": [
    {
     "data": {
      "text/plain": [
       "''"
      ]
     },
     "execution_count": 12,
     "metadata": {},
     "output_type": "execute_result"
    }
   ],
   "source": [
    "python1.read()"
   ]
  },
  {
   "cell_type": "code",
   "execution_count": 13,
   "id": "07653e55",
   "metadata": {},
   "outputs": [],
   "source": [
    "python1.close()"
   ]
  },
  {
   "cell_type": "code",
   "execution_count": 14,
   "id": "783fe3ad",
   "metadata": {},
   "outputs": [],
   "source": [
    "python1 = open(\"test2.py\")"
   ]
  },
  {
   "cell_type": "code",
   "execution_count": 15,
   "id": "3077ce59",
   "metadata": {},
   "outputs": [
    {
     "data": {
      "text/plain": [
       "'print(\"Hey I am a python file\")\\nprint(\"Shabina\")'"
      ]
     },
     "execution_count": 15,
     "metadata": {},
     "output_type": "execute_result"
    }
   ],
   "source": [
    "python1.read()"
   ]
  },
  {
   "cell_type": "code",
   "execution_count": 16,
   "id": "52e4128c",
   "metadata": {},
   "outputs": [],
   "source": [
    "python1.close()"
   ]
  },
  {
   "cell_type": "code",
   "execution_count": 17,
   "id": "16fff794",
   "metadata": {},
   "outputs": [],
   "source": [
    "python1 = open(\"test2.py\")"
   ]
  },
  {
   "cell_type": "code",
   "execution_count": 18,
   "id": "5d6a6a4f",
   "metadata": {},
   "outputs": [
    {
     "data": {
      "text/plain": [
       "'pr'"
      ]
     },
     "execution_count": 18,
     "metadata": {},
     "output_type": "execute_result"
    }
   ],
   "source": [
    "python1.read(2)"
   ]
  },
  {
   "cell_type": "code",
   "execution_count": 19,
   "id": "2adc2c89",
   "metadata": {},
   "outputs": [
    {
     "data": {
      "text/plain": [
       "'int(\"Hey I am a python file\")\\nprint(\"Shabina\")'"
      ]
     },
     "execution_count": 19,
     "metadata": {},
     "output_type": "execute_result"
    }
   ],
   "source": [
    "python1.read()"
   ]
  },
  {
   "cell_type": "code",
   "execution_count": 22,
   "id": "ec1606f2",
   "metadata": {},
   "outputs": [
    {
     "data": {
      "text/plain": [
       "''"
      ]
     },
     "execution_count": 22,
     "metadata": {},
     "output_type": "execute_result"
    }
   ],
   "source": [
    "python1.read()"
   ]
  },
  {
   "cell_type": "markdown",
   "id": "f0d997de",
   "metadata": {},
   "source": [
    "read([num]) --> Reads the specified number of characters from the file and returns them as string.If num is ommitted then it reads the entire file"
   ]
  },
  {
   "cell_type": "code",
   "execution_count": 25,
   "id": "3ccd913d",
   "metadata": {},
   "outputs": [],
   "source": [
    "python1.close()"
   ]
  },
  {
   "cell_type": "code",
   "execution_count": 26,
   "id": "23cefc27",
   "metadata": {},
   "outputs": [],
   "source": [
    "python1 = open(\"test2.py\")"
   ]
  },
  {
   "cell_type": "code",
   "execution_count": 27,
   "id": "4ac8acd8",
   "metadata": {},
   "outputs": [
    {
     "data": {
      "text/plain": [
       "'pr'"
      ]
     },
     "execution_count": 27,
     "metadata": {},
     "output_type": "execute_result"
    }
   ],
   "source": [
    "python1.read(2)"
   ]
  },
  {
   "cell_type": "code",
   "execution_count": 28,
   "id": "db4fb698",
   "metadata": {},
   "outputs": [
    {
     "name": "stdout",
     "output_type": "stream",
     "text": [
      "in\n"
     ]
    }
   ],
   "source": [
    "print(python1.read(2))"
   ]
  },
  {
   "cell_type": "code",
   "execution_count": 29,
   "id": "3c47b943",
   "metadata": {},
   "outputs": [
    {
     "name": "stdout",
     "output_type": "stream",
     "text": [
      "t(\n",
      "\"H\n",
      "ey\n",
      " I\n",
      " a\n",
      "m \n",
      "a \n",
      "py\n",
      "th\n",
      "on\n"
     ]
    }
   ],
   "source": [
    "for i in range(10):\n",
    "    print(python1.read(2))"
   ]
  },
  {
   "cell_type": "code",
   "execution_count": 30,
   "id": "3eac71df",
   "metadata": {},
   "outputs": [
    {
     "name": "stdout",
     "output_type": "stream",
     "text": [
      " f\n"
     ]
    }
   ],
   "source": [
    "print(python1.read(2))"
   ]
  },
  {
   "cell_type": "code",
   "execution_count": 31,
   "id": "8b522066",
   "metadata": {},
   "outputs": [
    {
     "name": "stdout",
     "output_type": "stream",
     "text": [
      "ile\")\n",
      "print(\"Shabina\")\n"
     ]
    }
   ],
   "source": [
    "print(python1.read())"
   ]
  },
  {
   "cell_type": "code",
   "execution_count": 32,
   "id": "d88fe071",
   "metadata": {},
   "outputs": [],
   "source": [
    "python1.close()"
   ]
  },
  {
   "cell_type": "code",
   "execution_count": 33,
   "id": "984c27f8",
   "metadata": {},
   "outputs": [],
   "source": [
    "python1 = open(\"test2.py\")"
   ]
  },
  {
   "cell_type": "code",
   "execution_count": 34,
   "id": "c31a3dc8",
   "metadata": {},
   "outputs": [
    {
     "data": {
      "text/plain": [
       "'pri'"
      ]
     },
     "execution_count": 34,
     "metadata": {},
     "output_type": "execute_result"
    }
   ],
   "source": [
    "python1.read(3)"
   ]
  },
  {
   "cell_type": "code",
   "execution_count": 35,
   "id": "3a8425d0",
   "metadata": {},
   "outputs": [
    {
     "data": {
      "text/plain": [
       "'nt(\"H'"
      ]
     },
     "execution_count": 35,
     "metadata": {},
     "output_type": "execute_result"
    }
   ],
   "source": [
    "python1.read(5)"
   ]
  },
  {
   "cell_type": "code",
   "execution_count": 36,
   "id": "4be55df9",
   "metadata": {},
   "outputs": [
    {
     "data": {
      "text/plain": [
       "'ey I am a '"
      ]
     },
     "execution_count": 36,
     "metadata": {},
     "output_type": "execute_result"
    }
   ],
   "source": [
    "python1.read(10)"
   ]
  },
  {
   "cell_type": "code",
   "execution_count": 37,
   "id": "0e12bcbd",
   "metadata": {},
   "outputs": [
    {
     "data": {
      "text/plain": [
       "'python file\")\\nprint(\"Shabina\")'"
      ]
     },
     "execution_count": 37,
     "metadata": {},
     "output_type": "execute_result"
    }
   ],
   "source": [
    "python1.read(-1)"
   ]
  },
  {
   "cell_type": "markdown",
   "id": "314c4dca",
   "metadata": {},
   "source": [
    "File Pointer --> File pointer is a pointer which is used to handle and keep track on the file bieng accessed"
   ]
  },
  {
   "cell_type": "code",
   "execution_count": 38,
   "id": "576c1dc2",
   "metadata": {
    "collapsed": true
   },
   "outputs": [
    {
     "name": "stdout",
     "output_type": "stream",
     "text": [
      "Help on built-in function open in module io:\n",
      "\n",
      "open(file, mode='r', buffering=-1, encoding=None, errors=None, newline=None, closefd=True, opener=None)\n",
      "    Open file and return a stream.  Raise OSError upon failure.\n",
      "    \n",
      "    file is either a text or byte string giving the name (and the path\n",
      "    if the file isn't in the current working directory) of the file to\n",
      "    be opened or an integer file descriptor of the file to be\n",
      "    wrapped. (If a file descriptor is given, it is closed when the\n",
      "    returned I/O object is closed, unless closefd is set to False.)\n",
      "    \n",
      "    mode is an optional string that specifies the mode in which the file\n",
      "    is opened. It defaults to 'r' which means open for reading in text\n",
      "    mode.  Other common values are 'w' for writing (truncating the file if\n",
      "    it already exists), 'x' for creating and writing to a new file, and\n",
      "    'a' for appending (which on some Unix systems, means that all writes\n",
      "    append to the end of the file regardless of the current seek position).\n",
      "    In text mode, if encoding is not specified the encoding used is platform\n",
      "    dependent: locale.getpreferredencoding(False) is called to get the\n",
      "    current locale encoding. (For reading and writing raw bytes use binary\n",
      "    mode and leave encoding unspecified.) The available modes are:\n",
      "    \n",
      "    ========= ===============================================================\n",
      "    Character Meaning\n",
      "    --------- ---------------------------------------------------------------\n",
      "    'r'       open for reading (default)\n",
      "    'w'       open for writing, truncating the file first\n",
      "    'x'       create a new file and open it for writing\n",
      "    'a'       open for writing, appending to the end of the file if it exists\n",
      "    'b'       binary mode\n",
      "    't'       text mode (default)\n",
      "    '+'       open a disk file for updating (reading and writing)\n",
      "    'U'       universal newline mode (deprecated)\n",
      "    ========= ===============================================================\n",
      "    \n",
      "    The default mode is 'rt' (open for reading text). For binary random\n",
      "    access, the mode 'w+b' opens and truncates the file to 0 bytes, while\n",
      "    'r+b' opens the file without truncation. The 'x' mode implies 'w' and\n",
      "    raises an `FileExistsError` if the file already exists.\n",
      "    \n",
      "    Python distinguishes between files opened in binary and text modes,\n",
      "    even when the underlying operating system doesn't. Files opened in\n",
      "    binary mode (appending 'b' to the mode argument) return contents as\n",
      "    bytes objects without any decoding. In text mode (the default, or when\n",
      "    't' is appended to the mode argument), the contents of the file are\n",
      "    returned as strings, the bytes having been first decoded using a\n",
      "    platform-dependent encoding or using the specified encoding if given.\n",
      "    \n",
      "    'U' mode is deprecated and will raise an exception in future versions\n",
      "    of Python.  It has no effect in Python 3.  Use newline to control\n",
      "    universal newlines mode.\n",
      "    \n",
      "    buffering is an optional integer used to set the buffering policy.\n",
      "    Pass 0 to switch buffering off (only allowed in binary mode), 1 to select\n",
      "    line buffering (only usable in text mode), and an integer > 1 to indicate\n",
      "    the size of a fixed-size chunk buffer.  When no buffering argument is\n",
      "    given, the default buffering policy works as follows:\n",
      "    \n",
      "    * Binary files are buffered in fixed-size chunks; the size of the buffer\n",
      "      is chosen using a heuristic trying to determine the underlying device's\n",
      "      \"block size\" and falling back on `io.DEFAULT_BUFFER_SIZE`.\n",
      "      On many systems, the buffer will typically be 4096 or 8192 bytes long.\n",
      "    \n",
      "    * \"Interactive\" text files (files for which isatty() returns True)\n",
      "      use line buffering.  Other text files use the policy described above\n",
      "      for binary files.\n",
      "    \n",
      "    encoding is the name of the encoding used to decode or encode the\n",
      "    file. This should only be used in text mode. The default encoding is\n",
      "    platform dependent, but any encoding supported by Python can be\n",
      "    passed.  See the codecs module for the list of supported encodings.\n",
      "    \n",
      "    errors is an optional string that specifies how encoding errors are to\n",
      "    be handled---this argument should not be used in binary mode. Pass\n",
      "    'strict' to raise a ValueError exception if there is an encoding error\n",
      "    (the default of None has the same effect), or pass 'ignore' to ignore\n",
      "    errors. (Note that ignoring encoding errors can lead to data loss.)\n",
      "    See the documentation for codecs.register or run 'help(codecs.Codec)'\n",
      "    for a list of the permitted encoding error strings.\n",
      "    \n",
      "    newline controls how universal newlines works (it only applies to text\n",
      "    mode). It can be None, '', '\\n', '\\r', and '\\r\\n'.  It works as\n",
      "    follows:\n",
      "    \n",
      "    * On input, if newline is None, universal newlines mode is\n",
      "      enabled. Lines in the input can end in '\\n', '\\r', or '\\r\\n', and\n",
      "      these are translated into '\\n' before being returned to the\n",
      "      caller. If it is '', universal newline mode is enabled, but line\n",
      "      endings are returned to the caller untranslated. If it has any of\n",
      "      the other legal values, input lines are only terminated by the given\n",
      "      string, and the line ending is returned to the caller untranslated.\n",
      "    \n",
      "    * On output, if newline is None, any '\\n' characters written are\n",
      "      translated to the system default line separator, os.linesep. If\n",
      "      newline is '' or '\\n', no translation takes place. If newline is any\n",
      "      of the other legal values, any '\\n' characters written are translated\n",
      "      to the given string.\n",
      "    \n",
      "    If closefd is False, the underlying file descriptor will be kept open\n",
      "    when the file is closed. This does not work when a file name is given\n",
      "    and must be True in that case.\n",
      "    \n",
      "    A custom opener can be used by passing a callable as *opener*. The\n",
      "    underlying file descriptor for the file object is then obtained by\n",
      "    calling *opener* with (*file*, *flags*). *opener* must return an open\n",
      "    file descriptor (passing os.open as *opener* results in functionality\n",
      "    similar to passing None).\n",
      "    \n",
      "    open() returns a file object whose type depends on the mode, and\n",
      "    through which the standard file operations such as reading and writing\n",
      "    are performed. When open() is used to open a file in a text mode ('w',\n",
      "    'r', 'wt', 'rt', etc.), it returns a TextIOWrapper. When used to open\n",
      "    a file in a binary mode, the returned class varies: in read binary\n",
      "    mode, it returns a BufferedReader; in write binary and append binary\n",
      "    modes, it returns a BufferedWriter, and in read/write mode, it returns\n",
      "    a BufferedRandom.\n",
      "    \n",
      "    It is also possible to use a string or bytearray as a file for both\n",
      "    reading and writing. For strings StringIO can be used like a file\n",
      "    opened in a text mode, and for bytes a BytesIO can be used like a file\n",
      "    opened in a binary mode.\n",
      "\n"
     ]
    }
   ],
   "source": [
    "help(open)"
   ]
  },
  {
   "cell_type": "code",
   "execution_count": 39,
   "id": "3b7970d0",
   "metadata": {
    "collapsed": true
   },
   "outputs": [
    {
     "name": "stdout",
     "output_type": "stream",
     "text": [
      "Help on TextIOWrapper object:\n",
      "\n",
      "class TextIOWrapper(_TextIOBase)\n",
      " |  TextIOWrapper(buffer, encoding=None, errors=None, newline=None, line_buffering=False, write_through=False)\n",
      " |  \n",
      " |  Character and line based layer over a BufferedIOBase object, buffer.\n",
      " |  \n",
      " |  encoding gives the name of the encoding that the stream will be\n",
      " |  decoded or encoded with. It defaults to locale.getpreferredencoding(False).\n",
      " |  \n",
      " |  errors determines the strictness of encoding and decoding (see\n",
      " |  help(codecs.Codec) or the documentation for codecs.register) and\n",
      " |  defaults to \"strict\".\n",
      " |  \n",
      " |  newline controls how line endings are handled. It can be None, '',\n",
      " |  '\\n', '\\r', and '\\r\\n'.  It works as follows:\n",
      " |  \n",
      " |  * On input, if newline is None, universal newlines mode is\n",
      " |    enabled. Lines in the input can end in '\\n', '\\r', or '\\r\\n', and\n",
      " |    these are translated into '\\n' before being returned to the\n",
      " |    caller. If it is '', universal newline mode is enabled, but line\n",
      " |    endings are returned to the caller untranslated. If it has any of\n",
      " |    the other legal values, input lines are only terminated by the given\n",
      " |    string, and the line ending is returned to the caller untranslated.\n",
      " |  \n",
      " |  * On output, if newline is None, any '\\n' characters written are\n",
      " |    translated to the system default line separator, os.linesep. If\n",
      " |    newline is '' or '\\n', no translation takes place. If newline is any\n",
      " |    of the other legal values, any '\\n' characters written are translated\n",
      " |    to the given string.\n",
      " |  \n",
      " |  If line_buffering is True, a call to flush is implied when a call to\n",
      " |  write contains a newline character.\n",
      " |  \n",
      " |  Method resolution order:\n",
      " |      TextIOWrapper\n",
      " |      _TextIOBase\n",
      " |      _IOBase\n",
      " |      builtins.object\n",
      " |  \n",
      " |  Methods defined here:\n",
      " |  \n",
      " |  __init__(self, /, *args, **kwargs)\n",
      " |      Initialize self.  See help(type(self)) for accurate signature.\n",
      " |  \n",
      " |  __next__(self, /)\n",
      " |      Implement next(self).\n",
      " |  \n",
      " |  __repr__(self, /)\n",
      " |      Return repr(self).\n",
      " |  \n",
      " |  close(self, /)\n",
      " |      Flush and close the IO object.\n",
      " |      \n",
      " |      This method has no effect if the file is already closed.\n",
      " |  \n",
      " |  detach(self, /)\n",
      " |      Separate the underlying buffer from the TextIOBase and return it.\n",
      " |      \n",
      " |      After the underlying buffer has been detached, the TextIO is in an\n",
      " |      unusable state.\n",
      " |  \n",
      " |  fileno(self, /)\n",
      " |      Returns underlying file descriptor if one exists.\n",
      " |      \n",
      " |      OSError is raised if the IO object does not use a file descriptor.\n",
      " |  \n",
      " |  flush(self, /)\n",
      " |      Flush write buffers, if applicable.\n",
      " |      \n",
      " |      This is not implemented for read-only and non-blocking streams.\n",
      " |  \n",
      " |  isatty(self, /)\n",
      " |      Return whether this is an 'interactive' stream.\n",
      " |      \n",
      " |      Return False if it can't be determined.\n",
      " |  \n",
      " |  read(self, size=-1, /)\n",
      " |      Read at most n characters from stream.\n",
      " |      \n",
      " |      Read from underlying buffer until we have n characters or we hit EOF.\n",
      " |      If n is negative or omitted, read until EOF.\n",
      " |  \n",
      " |  readable(self, /)\n",
      " |      Return whether object was opened for reading.\n",
      " |      \n",
      " |      If False, read() will raise OSError.\n",
      " |  \n",
      " |  readline(self, size=-1, /)\n",
      " |      Read until newline or EOF.\n",
      " |      \n",
      " |      Returns an empty string if EOF is hit immediately.\n",
      " |  \n",
      " |  reconfigure(self, /, *, encoding=None, errors=None, newline=None, line_buffering=None, write_through=None)\n",
      " |      Reconfigure the text stream with new parameters.\n",
      " |      \n",
      " |      This also does an implicit stream flush.\n",
      " |  \n",
      " |  seek(self, cookie, whence=0, /)\n",
      " |      Change stream position.\n",
      " |      \n",
      " |      Change the stream position to the given byte offset. The offset is\n",
      " |      interpreted relative to the position indicated by whence.  Values\n",
      " |      for whence are:\n",
      " |      \n",
      " |      * 0 -- start of stream (the default); offset should be zero or positive\n",
      " |      * 1 -- current stream position; offset may be negative\n",
      " |      * 2 -- end of stream; offset is usually negative\n",
      " |      \n",
      " |      Return the new absolute position.\n",
      " |  \n",
      " |  seekable(self, /)\n",
      " |      Return whether object supports random access.\n",
      " |      \n",
      " |      If False, seek(), tell() and truncate() will raise OSError.\n",
      " |      This method may need to do a test seek().\n",
      " |  \n",
      " |  tell(self, /)\n",
      " |      Return current stream position.\n",
      " |  \n",
      " |  truncate(self, pos=None, /)\n",
      " |      Truncate file to size bytes.\n",
      " |      \n",
      " |      File pointer is left unchanged.  Size defaults to the current IO\n",
      " |      position as reported by tell().  Returns the new size.\n",
      " |  \n",
      " |  writable(self, /)\n",
      " |      Return whether object was opened for writing.\n",
      " |      \n",
      " |      If False, write() will raise OSError.\n",
      " |  \n",
      " |  write(self, text, /)\n",
      " |      Write string to stream.\n",
      " |      Returns the number of characters written (which is always equal to\n",
      " |      the length of the string).\n",
      " |  \n",
      " |  ----------------------------------------------------------------------\n",
      " |  Static methods defined here:\n",
      " |  \n",
      " |  __new__(*args, **kwargs) from builtins.type\n",
      " |      Create and return a new object.  See help(type) for accurate signature.\n",
      " |  \n",
      " |  ----------------------------------------------------------------------\n",
      " |  Data descriptors defined here:\n",
      " |  \n",
      " |  buffer\n",
      " |  \n",
      " |  closed\n",
      " |  \n",
      " |  encoding\n",
      " |      Encoding of the text stream.\n",
      " |      \n",
      " |      Subclasses should override.\n",
      " |  \n",
      " |  errors\n",
      " |      The error setting of the decoder or encoder.\n",
      " |      \n",
      " |      Subclasses should override.\n",
      " |  \n",
      " |  line_buffering\n",
      " |  \n",
      " |  name\n",
      " |  \n",
      " |  newlines\n",
      " |      Line endings translated so far.\n",
      " |      \n",
      " |      Only line endings translated during reading are considered.\n",
      " |      \n",
      " |      Subclasses should override.\n",
      " |  \n",
      " |  write_through\n",
      " |  \n",
      " |  ----------------------------------------------------------------------\n",
      " |  Methods inherited from _IOBase:\n",
      " |  \n",
      " |  __del__(...)\n",
      " |  \n",
      " |  __enter__(...)\n",
      " |  \n",
      " |  __exit__(...)\n",
      " |  \n",
      " |  __iter__(self, /)\n",
      " |      Implement iter(self).\n",
      " |  \n",
      " |  readlines(self, hint=-1, /)\n",
      " |      Return a list of lines from the stream.\n",
      " |      \n",
      " |      hint can be specified to control the number of lines read: no more\n",
      " |      lines will be read if the total size (in bytes/characters) of all\n",
      " |      lines so far exceeds hint.\n",
      " |  \n",
      " |  writelines(self, lines, /)\n",
      " |      Write a list of lines to stream.\n",
      " |      \n",
      " |      Line separators are not added, so it is usual for each of the\n",
      " |      lines provided to have a line separator at the end.\n",
      " |  \n",
      " |  ----------------------------------------------------------------------\n",
      " |  Data descriptors inherited from _IOBase:\n",
      " |  \n",
      " |  __dict__\n",
      "\n"
     ]
    }
   ],
   "source": [
    "help(python1)"
   ]
  },
  {
   "cell_type": "code",
   "execution_count": 40,
   "id": "8f102042",
   "metadata": {},
   "outputs": [],
   "source": [
    "python1.close()"
   ]
  },
  {
   "cell_type": "code",
   "execution_count": 41,
   "id": "b092f9af",
   "metadata": {},
   "outputs": [],
   "source": [
    "python1 = open(\"test2.py\")"
   ]
  },
  {
   "cell_type": "code",
   "execution_count": 42,
   "id": "a2631828",
   "metadata": {},
   "outputs": [
    {
     "data": {
      "text/plain": [
       "'print(\"Hey I am a python file\")\\n'"
      ]
     },
     "execution_count": 42,
     "metadata": {},
     "output_type": "execute_result"
    }
   ],
   "source": [
    "python1.readline()"
   ]
  },
  {
   "cell_type": "code",
   "execution_count": 43,
   "id": "b9a0fdcf",
   "metadata": {},
   "outputs": [
    {
     "data": {
      "text/plain": [
       "'print(\"Shabina\")'"
      ]
     },
     "execution_count": 43,
     "metadata": {},
     "output_type": "execute_result"
    }
   ],
   "source": [
    "python1.readline()"
   ]
  },
  {
   "cell_type": "code",
   "execution_count": 44,
   "id": "a29f15ec",
   "metadata": {},
   "outputs": [
    {
     "data": {
      "text/plain": [
       "'\\n'"
      ]
     },
     "execution_count": 44,
     "metadata": {},
     "output_type": "execute_result"
    }
   ],
   "source": [
    "python1.readline()"
   ]
  },
  {
   "cell_type": "code",
   "execution_count": 45,
   "id": "d3659154",
   "metadata": {},
   "outputs": [
    {
     "data": {
      "text/plain": [
       "'print(\"Aditya\")\\n'"
      ]
     },
     "execution_count": 45,
     "metadata": {},
     "output_type": "execute_result"
    }
   ],
   "source": [
    "python1.readline()"
   ]
  },
  {
   "cell_type": "code",
   "execution_count": 46,
   "id": "5ea62d7d",
   "metadata": {},
   "outputs": [
    {
     "data": {
      "text/plain": [
       "'print(\"Karthik\")'"
      ]
     },
     "execution_count": 46,
     "metadata": {},
     "output_type": "execute_result"
    }
   ],
   "source": [
    "python1.readline()"
   ]
  },
  {
   "cell_type": "code",
   "execution_count": 47,
   "id": "044e4293",
   "metadata": {},
   "outputs": [
    {
     "data": {
      "text/plain": [
       "''"
      ]
     },
     "execution_count": 47,
     "metadata": {},
     "output_type": "execute_result"
    }
   ],
   "source": [
    "python1.readline()"
   ]
  },
  {
   "cell_type": "code",
   "execution_count": 48,
   "id": "2a6ad127",
   "metadata": {},
   "outputs": [],
   "source": [
    "python1.close()"
   ]
  },
  {
   "cell_type": "code",
   "execution_count": 49,
   "id": "fce2f095",
   "metadata": {},
   "outputs": [],
   "source": [
    "python1 = open(\"test2.py\")"
   ]
  },
  {
   "cell_type": "code",
   "execution_count": 50,
   "id": "10985e1f",
   "metadata": {},
   "outputs": [
    {
     "data": {
      "text/plain": [
       "'pri'"
      ]
     },
     "execution_count": 50,
     "metadata": {},
     "output_type": "execute_result"
    }
   ],
   "source": [
    "python1.readline(3)"
   ]
  },
  {
   "cell_type": "code",
   "execution_count": 51,
   "id": "e3081751",
   "metadata": {},
   "outputs": [
    {
     "data": {
      "text/plain": [
       "'nt('"
      ]
     },
     "execution_count": 51,
     "metadata": {},
     "output_type": "execute_result"
    }
   ],
   "source": [
    "python1.readline(3)"
   ]
  },
  {
   "cell_type": "code",
   "execution_count": 52,
   "id": "b7534355",
   "metadata": {},
   "outputs": [
    {
     "data": {
      "text/plain": [
       "'\"Hey I am a python file\")\\n'"
      ]
     },
     "execution_count": 52,
     "metadata": {},
     "output_type": "execute_result"
    }
   ],
   "source": [
    "python1.readline()"
   ]
  },
  {
   "cell_type": "code",
   "execution_count": 53,
   "id": "f9c9857e",
   "metadata": {},
   "outputs": [
    {
     "data": {
      "text/plain": [
       "'print(\"Shabina\")\\n'"
      ]
     },
     "execution_count": 53,
     "metadata": {},
     "output_type": "execute_result"
    }
   ],
   "source": [
    "python1.readline()"
   ]
  },
  {
   "cell_type": "code",
   "execution_count": 54,
   "id": "98d6ed03",
   "metadata": {},
   "outputs": [
    {
     "name": "stdout",
     "output_type": "stream",
     "text": [
      "print(\"Aditya\")\n",
      "\n"
     ]
    }
   ],
   "source": [
    "print(python1.readline())"
   ]
  },
  {
   "cell_type": "code",
   "execution_count": 55,
   "id": "db87b9d2",
   "metadata": {},
   "outputs": [
    {
     "name": "stdout",
     "output_type": "stream",
     "text": [
      "print(\"Karthik\")\n"
     ]
    }
   ],
   "source": [
    "print(python1.readline())"
   ]
  },
  {
   "cell_type": "code",
   "execution_count": null,
   "id": "2289a94d",
   "metadata": {},
   "outputs": [],
   "source": [
    "readline() --> reads a single line and returns it as a string"
   ]
  },
  {
   "cell_type": "code",
   "execution_count": 60,
   "id": "4824bf37",
   "metadata": {},
   "outputs": [],
   "source": [
    "python1.close()"
   ]
  },
  {
   "cell_type": "code",
   "execution_count": 61,
   "id": "941089e4",
   "metadata": {},
   "outputs": [],
   "source": [
    "python1 = open(\"test2.py\")"
   ]
  },
  {
   "cell_type": "code",
   "execution_count": 62,
   "id": "50e29ccf",
   "metadata": {},
   "outputs": [],
   "source": [
    "store_list = python1.readlines() --> it sreturns list"
   ]
  },
  {
   "cell_type": "code",
   "execution_count": 63,
   "id": "ef21b221",
   "metadata": {},
   "outputs": [
    {
     "name": "stdout",
     "output_type": "stream",
     "text": [
      "['print(\"Hey I am a python file\")\\n', 'print(\"Shabina\")\\n', 'print(\"Aditya\")\\n', 'print(\"Karthik\")']\n"
     ]
    }
   ],
   "source": [
    "print(store_list)"
   ]
  },
  {
   "cell_type": "code",
   "execution_count": 64,
   "id": "1eba768b",
   "metadata": {},
   "outputs": [
    {
     "data": {
      "text/plain": [
       "['print(\"Hey I am a python file\")\\n',\n",
       " 'print(\"Shabina\")\\n',\n",
       " 'print(\"Aditya\")\\n']"
      ]
     },
     "execution_count": 64,
     "metadata": {},
     "output_type": "execute_result"
    }
   ],
   "source": [
    "store_list[:3]"
   ]
  },
  {
   "cell_type": "code",
   "execution_count": 65,
   "id": "b5c529ac",
   "metadata": {},
   "outputs": [
    {
     "name": "stdout",
     "output_type": "stream",
     "text": [
      "print(\"Hey I am a python file\")\n",
      "\n",
      "print(\"Shabina\")\n",
      "\n",
      "print(\"Aditya\")\n",
      "\n",
      "print(\"Karthik\")\n"
     ]
    }
   ],
   "source": [
    "for i in store_list:\n",
    "    print(i)"
   ]
  },
  {
   "cell_type": "code",
   "execution_count": 66,
   "id": "1b34860a",
   "metadata": {},
   "outputs": [
    {
     "data": {
      "text/plain": [
       "[]"
      ]
     },
     "execution_count": 66,
     "metadata": {},
     "output_type": "execute_result"
    }
   ],
   "source": [
    "python1.readlines()"
   ]
  },
  {
   "cell_type": "code",
   "execution_count": 67,
   "id": "6db5cd27",
   "metadata": {},
   "outputs": [
    {
     "data": {
      "text/plain": [
       "0"
      ]
     },
     "execution_count": 67,
     "metadata": {},
     "output_type": "execute_result"
    }
   ],
   "source": [
    "python1.seek(0)"
   ]
  },
  {
   "cell_type": "code",
   "execution_count": 68,
   "id": "b3d0f71d",
   "metadata": {},
   "outputs": [
    {
     "data": {
      "text/plain": [
       "['print(\"Hey I am a python file\")\\n',\n",
       " 'print(\"Shabina\")\\n',\n",
       " 'print(\"Aditya\")\\n',\n",
       " 'print(\"Karthik\")']"
      ]
     },
     "execution_count": 68,
     "metadata": {},
     "output_type": "execute_result"
    }
   ],
   "source": [
    "python1.readlines()"
   ]
  },
  {
   "cell_type": "code",
   "execution_count": 69,
   "id": "39b19606",
   "metadata": {},
   "outputs": [
    {
     "data": {
      "text/plain": [
       "1"
      ]
     },
     "execution_count": 69,
     "metadata": {},
     "output_type": "execute_result"
    }
   ],
   "source": [
    "python1.seek(1)"
   ]
  },
  {
   "cell_type": "code",
   "execution_count": 70,
   "id": "f7dabea7",
   "metadata": {},
   "outputs": [
    {
     "data": {
      "text/plain": [
       "['rint(\"Hey I am a python file\")\\n',\n",
       " 'print(\"Shabina\")\\n',\n",
       " 'print(\"Aditya\")\\n',\n",
       " 'print(\"Karthik\")']"
      ]
     },
     "execution_count": 70,
     "metadata": {},
     "output_type": "execute_result"
    }
   ],
   "source": [
    "python1.readlines()"
   ]
  },
  {
   "cell_type": "code",
   "execution_count": 71,
   "id": "aa521155",
   "metadata": {},
   "outputs": [],
   "source": [
    "python1.close()"
   ]
  },
  {
   "cell_type": "code",
   "execution_count": 72,
   "id": "68b11630",
   "metadata": {},
   "outputs": [],
   "source": [
    "python1 = open(\"test2.py\")"
   ]
  },
  {
   "cell_type": "code",
   "execution_count": 73,
   "id": "94f21ea8",
   "metadata": {},
   "outputs": [],
   "source": [
    "python1.close()"
   ]
  },
  {
   "cell_type": "code",
   "execution_count": 75,
   "id": "0d16ac33",
   "metadata": {},
   "outputs": [
    {
     "name": "stdout",
     "output_type": "stream",
     "text": [
      "['print(\"Hey I am a python file\")\\n', 'print(\"Shabina\")\\n', 'print(\"Aditya\")\\n', 'print(\"Karthik\")']\n"
     ]
    }
   ],
   "source": [
    "with open(\"test2.py\") as karthik:\n",
    "    print(karthik.readlines())\n",
    "    \n",
    "# once you get out of with block the file is automatically closed"
   ]
  },
  {
   "cell_type": "code",
   "execution_count": 76,
   "id": "6f99d4ba",
   "metadata": {},
   "outputs": [
    {
     "ename": "ValueError",
     "evalue": "I/O operation on closed file.",
     "output_type": "error",
     "traceback": [
      "\u001b[1;31m---------------------------------------------------------------------------\u001b[0m",
      "\u001b[1;31mValueError\u001b[0m                                Traceback (most recent call last)",
      "\u001b[1;32mC:\\Users\\KUNALC~1\\AppData\\Local\\Temp/ipykernel_2888/3862285542.py\u001b[0m in \u001b[0;36m<module>\u001b[1;34m\u001b[0m\n\u001b[1;32m----> 1\u001b[1;33m \u001b[0mkarthik\u001b[0m\u001b[1;33m.\u001b[0m\u001b[0mread\u001b[0m\u001b[1;33m(\u001b[0m\u001b[1;33m)\u001b[0m\u001b[1;33m\u001b[0m\u001b[1;33m\u001b[0m\u001b[0m\n\u001b[0m",
      "\u001b[1;31mValueError\u001b[0m: I/O operation on closed file."
     ]
    }
   ],
   "source": [
    "karthik.read()"
   ]
  },
  {
   "cell_type": "code",
   "execution_count": 77,
   "id": "cf119c26",
   "metadata": {},
   "outputs": [
    {
     "name": "stdout",
     "output_type": "stream",
     "text": [
      "['print(\"Hey I am a python file\")\\n', 'print(\"Shabina\")\\n', 'print(\"Aditya\")\\n', 'print(\"Karthik\")']\n"
     ]
    }
   ],
   "source": [
    "with open(\"test2.py\",\"r\") as karthik:\n",
    "    print(karthik.readlines())"
   ]
  },
  {
   "cell_type": "markdown",
   "id": "1477bef5",
   "metadata": {},
   "source": [
    "# r mode"
   ]
  },
  {
   "cell_type": "markdown",
   "id": "08660c9d",
   "metadata": {},
   "source": [
    "\"r\" -->  open in read only, you can read the file but can not edit or delete it"
   ]
  },
  {
   "cell_type": "markdown",
   "id": "31b1b8e2",
   "metadata": {},
   "source": [
    "# w mode"
   ]
  },
  {
   "cell_type": "code",
   "execution_count": 79,
   "id": "acbdbf30",
   "metadata": {},
   "outputs": [],
   "source": [
    "with open(\"test2.py\",\"w\") as darkmode:\n",
    "    darkmode.write(\"# Heyy White mode seems better option for now\")"
   ]
  },
  {
   "cell_type": "markdown",
   "id": "25390c6d",
   "metadata": {},
   "source": [
    "\"w\" --> opens the file with write power, means if the file exists then it deletes the conent and opens it to write"
   ]
  },
  {
   "cell_type": "code",
   "execution_count": 80,
   "id": "ed938010",
   "metadata": {},
   "outputs": [],
   "source": [
    "with open(\"adit.txt\",\"w\") as edit:\n",
    "    edit.write(\"Heyy did we learn something new today\")"
   ]
  },
  {
   "cell_type": "code",
   "execution_count": 81,
   "id": "e075215b",
   "metadata": {},
   "outputs": [
    {
     "ename": "FileNotFoundError",
     "evalue": "[Errno 2] No such file or directory: 'rajeshwar.txt'",
     "output_type": "error",
     "traceback": [
      "\u001b[1;31m---------------------------------------------------------------------------\u001b[0m",
      "\u001b[1;31mFileNotFoundError\u001b[0m                         Traceback (most recent call last)",
      "\u001b[1;32mC:\\Users\\KUNALC~1\\AppData\\Local\\Temp/ipykernel_2888/1454560387.py\u001b[0m in \u001b[0;36m<module>\u001b[1;34m\u001b[0m\n\u001b[1;32m----> 1\u001b[1;33m \u001b[1;32mwith\u001b[0m \u001b[0mopen\u001b[0m\u001b[1;33m(\u001b[0m\u001b[1;34m\"rajeshwar.txt\"\u001b[0m\u001b[1;33m)\u001b[0m \u001b[1;32mas\u001b[0m \u001b[0mer\u001b[0m\u001b[1;33m:\u001b[0m\u001b[1;33m\u001b[0m\u001b[1;33m\u001b[0m\u001b[0m\n\u001b[0m\u001b[0;32m      2\u001b[0m     \u001b[0mer\u001b[0m\u001b[1;33m.\u001b[0m\u001b[0mread\u001b[0m\u001b[1;33m(\u001b[0m\u001b[1;33m)\u001b[0m\u001b[1;33m\u001b[0m\u001b[1;33m\u001b[0m\u001b[0m\n",
      "\u001b[1;31mFileNotFoundError\u001b[0m: [Errno 2] No such file or directory: 'rajeshwar.txt'"
     ]
    }
   ],
   "source": [
    "with open(\"rajeshwar.txt\") as er:\n",
    "    er.read()"
   ]
  },
  {
   "cell_type": "code",
   "execution_count": 82,
   "id": "7d34f01d",
   "metadata": {},
   "outputs": [
    {
     "ename": "UnsupportedOperation",
     "evalue": "not readable",
     "output_type": "error",
     "traceback": [
      "\u001b[1;31m---------------------------------------------------------------------------\u001b[0m",
      "\u001b[1;31mUnsupportedOperation\u001b[0m                      Traceback (most recent call last)",
      "\u001b[1;32mC:\\Users\\KUNALC~1\\AppData\\Local\\Temp/ipykernel_2888/44296929.py\u001b[0m in \u001b[0;36m<module>\u001b[1;34m\u001b[0m\n\u001b[0;32m      1\u001b[0m \u001b[1;32mwith\u001b[0m \u001b[0mopen\u001b[0m\u001b[1;33m(\u001b[0m\u001b[1;34m\"adit.txt\"\u001b[0m\u001b[1;33m,\u001b[0m\u001b[1;34m\"w\"\u001b[0m\u001b[1;33m)\u001b[0m \u001b[1;32mas\u001b[0m \u001b[0medit\u001b[0m\u001b[1;33m:\u001b[0m\u001b[1;33m\u001b[0m\u001b[1;33m\u001b[0m\u001b[0m\n\u001b[0;32m      2\u001b[0m     \u001b[0medit\u001b[0m\u001b[1;33m.\u001b[0m\u001b[0mwrite\u001b[0m\u001b[1;33m(\u001b[0m\u001b[1;34m\"Heyy did we learn something new today\"\u001b[0m\u001b[1;33m)\u001b[0m\u001b[1;33m\u001b[0m\u001b[1;33m\u001b[0m\u001b[0m\n\u001b[1;32m----> 3\u001b[1;33m     \u001b[0mprint\u001b[0m\u001b[1;33m(\u001b[0m\u001b[0medit\u001b[0m\u001b[1;33m.\u001b[0m\u001b[0mread\u001b[0m\u001b[1;33m(\u001b[0m\u001b[1;33m)\u001b[0m\u001b[1;33m)\u001b[0m\u001b[1;33m\u001b[0m\u001b[1;33m\u001b[0m\u001b[0m\n\u001b[0m",
      "\u001b[1;31mUnsupportedOperation\u001b[0m: not readable"
     ]
    }
   ],
   "source": [
    "with open(\"adit.txt\",\"w\") as edit:\n",
    "    edit.write(\"Heyy did we learn something new today\")\n",
    "    print(edit.read())"
   ]
  },
  {
   "cell_type": "code",
   "execution_count": 83,
   "id": "5182d923",
   "metadata": {
    "collapsed": true
   },
   "outputs": [
    {
     "name": "stdout",
     "output_type": "stream",
     "text": [
      "Help on built-in function open in module io:\n",
      "\n",
      "open(file, mode='r', buffering=-1, encoding=None, errors=None, newline=None, closefd=True, opener=None)\n",
      "    Open file and return a stream.  Raise OSError upon failure.\n",
      "    \n",
      "    file is either a text or byte string giving the name (and the path\n",
      "    if the file isn't in the current working directory) of the file to\n",
      "    be opened or an integer file descriptor of the file to be\n",
      "    wrapped. (If a file descriptor is given, it is closed when the\n",
      "    returned I/O object is closed, unless closefd is set to False.)\n",
      "    \n",
      "    mode is an optional string that specifies the mode in which the file\n",
      "    is opened. It defaults to 'r' which means open for reading in text\n",
      "    mode.  Other common values are 'w' for writing (truncating the file if\n",
      "    it already exists), 'x' for creating and writing to a new file, and\n",
      "    'a' for appending (which on some Unix systems, means that all writes\n",
      "    append to the end of the file regardless of the current seek position).\n",
      "    In text mode, if encoding is not specified the encoding used is platform\n",
      "    dependent: locale.getpreferredencoding(False) is called to get the\n",
      "    current locale encoding. (For reading and writing raw bytes use binary\n",
      "    mode and leave encoding unspecified.) The available modes are:\n",
      "    \n",
      "    ========= ===============================================================\n",
      "    Character Meaning\n",
      "    --------- ---------------------------------------------------------------\n",
      "    'r'       open for reading (default)\n",
      "    'w'       open for writing, truncating the file first\n",
      "    'x'       create a new file and open it for writing\n",
      "    'a'       open for writing, appending to the end of the file if it exists\n",
      "    'b'       binary mode\n",
      "    't'       text mode (default)\n",
      "    '+'       open a disk file for updating (reading and writing)\n",
      "    'U'       universal newline mode (deprecated)\n",
      "    ========= ===============================================================\n",
      "    \n",
      "    The default mode is 'rt' (open for reading text). For binary random\n",
      "    access, the mode 'w+b' opens and truncates the file to 0 bytes, while\n",
      "    'r+b' opens the file without truncation. The 'x' mode implies 'w' and\n",
      "    raises an `FileExistsError` if the file already exists.\n",
      "    \n",
      "    Python distinguishes between files opened in binary and text modes,\n",
      "    even when the underlying operating system doesn't. Files opened in\n",
      "    binary mode (appending 'b' to the mode argument) return contents as\n",
      "    bytes objects without any decoding. In text mode (the default, or when\n",
      "    't' is appended to the mode argument), the contents of the file are\n",
      "    returned as strings, the bytes having been first decoded using a\n",
      "    platform-dependent encoding or using the specified encoding if given.\n",
      "    \n",
      "    'U' mode is deprecated and will raise an exception in future versions\n",
      "    of Python.  It has no effect in Python 3.  Use newline to control\n",
      "    universal newlines mode.\n",
      "    \n",
      "    buffering is an optional integer used to set the buffering policy.\n",
      "    Pass 0 to switch buffering off (only allowed in binary mode), 1 to select\n",
      "    line buffering (only usable in text mode), and an integer > 1 to indicate\n",
      "    the size of a fixed-size chunk buffer.  When no buffering argument is\n",
      "    given, the default buffering policy works as follows:\n",
      "    \n",
      "    * Binary files are buffered in fixed-size chunks; the size of the buffer\n",
      "      is chosen using a heuristic trying to determine the underlying device's\n",
      "      \"block size\" and falling back on `io.DEFAULT_BUFFER_SIZE`.\n",
      "      On many systems, the buffer will typically be 4096 or 8192 bytes long.\n",
      "    \n",
      "    * \"Interactive\" text files (files for which isatty() returns True)\n",
      "      use line buffering.  Other text files use the policy described above\n",
      "      for binary files.\n",
      "    \n",
      "    encoding is the name of the encoding used to decode or encode the\n",
      "    file. This should only be used in text mode. The default encoding is\n",
      "    platform dependent, but any encoding supported by Python can be\n",
      "    passed.  See the codecs module for the list of supported encodings.\n",
      "    \n",
      "    errors is an optional string that specifies how encoding errors are to\n",
      "    be handled---this argument should not be used in binary mode. Pass\n",
      "    'strict' to raise a ValueError exception if there is an encoding error\n",
      "    (the default of None has the same effect), or pass 'ignore' to ignore\n",
      "    errors. (Note that ignoring encoding errors can lead to data loss.)\n",
      "    See the documentation for codecs.register or run 'help(codecs.Codec)'\n",
      "    for a list of the permitted encoding error strings.\n",
      "    \n",
      "    newline controls how universal newlines works (it only applies to text\n",
      "    mode). It can be None, '', '\\n', '\\r', and '\\r\\n'.  It works as\n",
      "    follows:\n",
      "    \n",
      "    * On input, if newline is None, universal newlines mode is\n",
      "      enabled. Lines in the input can end in '\\n', '\\r', or '\\r\\n', and\n",
      "      these are translated into '\\n' before being returned to the\n",
      "      caller. If it is '', universal newline mode is enabled, but line\n",
      "      endings are returned to the caller untranslated. If it has any of\n",
      "      the other legal values, input lines are only terminated by the given\n",
      "      string, and the line ending is returned to the caller untranslated.\n",
      "    \n",
      "    * On output, if newline is None, any '\\n' characters written are\n",
      "      translated to the system default line separator, os.linesep. If\n",
      "      newline is '' or '\\n', no translation takes place. If newline is any\n",
      "      of the other legal values, any '\\n' characters written are translated\n",
      "      to the given string.\n",
      "    \n",
      "    If closefd is False, the underlying file descriptor will be kept open\n",
      "    when the file is closed. This does not work when a file name is given\n",
      "    and must be True in that case.\n",
      "    \n",
      "    A custom opener can be used by passing a callable as *opener*. The\n",
      "    underlying file descriptor for the file object is then obtained by\n",
      "    calling *opener* with (*file*, *flags*). *opener* must return an open\n",
      "    file descriptor (passing os.open as *opener* results in functionality\n",
      "    similar to passing None).\n",
      "    \n",
      "    open() returns a file object whose type depends on the mode, and\n",
      "    through which the standard file operations such as reading and writing\n",
      "    are performed. When open() is used to open a file in a text mode ('w',\n",
      "    'r', 'wt', 'rt', etc.), it returns a TextIOWrapper. When used to open\n",
      "    a file in a binary mode, the returned class varies: in read binary\n",
      "    mode, it returns a BufferedReader; in write binary and append binary\n",
      "    modes, it returns a BufferedWriter, and in read/write mode, it returns\n",
      "    a BufferedRandom.\n",
      "    \n",
      "    It is also possible to use a string or bytearray as a file for both\n",
      "    reading and writing. For strings StringIO can be used like a file\n",
      "    opened in a text mode, and for bytes a BytesIO can be used like a file\n",
      "    opened in a binary mode.\n",
      "\n"
     ]
    }
   ],
   "source": [
    "help(open)"
   ]
  },
  {
   "cell_type": "code",
   "execution_count": null,
   "id": "86677ecc",
   "metadata": {},
   "outputs": [],
   "source": [
    "write(str) --> Writes the string argument and returns the number of characters written to the file"
   ]
  },
  {
   "cell_type": "code",
   "execution_count": 85,
   "id": "3b57043f",
   "metadata": {},
   "outputs": [],
   "source": [
    "with open(\"adit.txt\",\"w\") as edit:\n",
    "    edit.write(\"Heyy did we learn something new today\")\n",
    "    edit.write(\"\\nRajeshwar\")"
   ]
  },
  {
   "cell_type": "code",
   "execution_count": 86,
   "id": "8d43f10b",
   "metadata": {
    "collapsed": true
   },
   "outputs": [
    {
     "name": "stdout",
     "output_type": "stream",
     "text": [
      "0\n",
      "1\n",
      "2\n",
      "3\n",
      "4\n",
      "5\n",
      "6\n",
      "7\n",
      "8\n",
      "9\n"
     ]
    }
   ],
   "source": [
    "for i in range(10):\n",
    "    print(i)"
   ]
  },
  {
   "cell_type": "code",
   "execution_count": 90,
   "id": "d3f53186",
   "metadata": {},
   "outputs": [],
   "source": [
    "with open(\"Vandith.txt\",\"w\") as loop_ex:\n",
    "    for i in range(5):\n",
    "        loop_ex.write(str(i)+\"\\n\")"
   ]
  },
  {
   "cell_type": "code",
   "execution_count": null,
   "id": "3fa76d21",
   "metadata": {},
   "outputs": [],
   "source": [
    "a -z : 97-122"
   ]
  },
  {
   "cell_type": "code",
   "execution_count": null,
   "id": "774607d0",
   "metadata": {},
   "outputs": [],
   "source": [
    "Q) print all the alphabets with there corresponding ascii value inside the file using w mode\n",
    "in the following order\n",
    "a : 97\n",
    "b : 98\n",
    ".\n",
    ".\n",
    ".\n",
    "z : 122"
   ]
  }
 ],
 "metadata": {
  "kernelspec": {
   "display_name": "Python 3 (ipykernel)",
   "language": "python",
   "name": "python3"
  },
  "language_info": {
   "codemirror_mode": {
    "name": "ipython",
    "version": 3
   },
   "file_extension": ".py",
   "mimetype": "text/x-python",
   "name": "python",
   "nbconvert_exporter": "python",
   "pygments_lexer": "ipython3",
   "version": "3.9.7"
  }
 },
 "nbformat": 4,
 "nbformat_minor": 5
}
