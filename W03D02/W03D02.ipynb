{
 "cells": [
  {
   "cell_type": "code",
   "execution_count": null,
   "id": "1308b6ed",
   "metadata": {},
   "outputs": [],
   "source": [
    "print() --> it prints object into string\n",
    "            by default it has end line character at the end of string\n",
    "            end = \" \" -- it lets us to decide what should be in the end of the line\n",
    "            sep = \"-\" -- 1-2 1@2 1,2 it seperates the different objects in the print statement"
   ]
  },
  {
   "cell_type": "code",
   "execution_count": null,
   "id": "f09a7c65",
   "metadata": {},
   "outputs": [],
   "source": [
    "input() --> it allows users to give input"
   ]
  },
  {
   "cell_type": "code",
   "execution_count": null,
   "id": "4ebad1b4",
   "metadata": {},
   "outputs": [],
   "source": [
    "Srings --> immutable\n",
    "           set of characters\n",
    "           allows indexing\n",
    "           slicing\n",
    "negative (-ve) indexing \n",
    "slicing --> [:]\n",
    "striding -> [::]\n",
    "help(str) --> to find all the methods available to us for use\n",
    ".upper isupper\n",
    ".lower islower\n",
    ".title istitle\n",
    "capitalize\n",
    "replace --> -without third param--- replaces the word with another string present in the string\n",
    "            -with third param ----- count\n",
    "                         |          Maximum number of occurrences to replace.\n",
    "                         |          -1 (the default value) means replace all occurrences.\n",
    "       \n",
    "                |      If the optional argument count is given, only the first count occurrences are\n",
    "                |      replaced.\n",
    "\n",
    "count --> counts the number of times the character repeated"
   ]
  },
  {
   "cell_type": "code",
   "execution_count": 5,
   "id": "6378e0e5",
   "metadata": {},
   "outputs": [],
   "source": [
    "s = \"Karthik and Shabina\""
   ]
  },
  {
   "cell_type": "code",
   "execution_count": 6,
   "id": "1a064156",
   "metadata": {},
   "outputs": [
    {
     "data": {
      "text/plain": [
       "4"
      ]
     },
     "execution_count": 6,
     "metadata": {},
     "output_type": "execute_result"
    }
   ],
   "source": [
    "s.count(\"a\")"
   ]
  },
  {
   "cell_type": "markdown",
   "id": "9a951622",
   "metadata": {},
   "source": [
    "# slicing"
   ]
  },
  {
   "cell_type": "code",
   "execution_count": null,
   "id": "35aac808",
   "metadata": {},
   "outputs": [],
   "source": [
    "s = \"Karthik and Shabina\""
   ]
  },
  {
   "cell_type": "code",
   "execution_count": 9,
   "id": "bcdacf6b",
   "metadata": {},
   "outputs": [],
   "source": [
    "first_student = s[:7]"
   ]
  },
  {
   "cell_type": "code",
   "execution_count": 10,
   "id": "35b84ff8",
   "metadata": {},
   "outputs": [
    {
     "name": "stdout",
     "output_type": "stream",
     "text": [
      "Karthik\n"
     ]
    }
   ],
   "source": [
    "print(first_student)"
   ]
  },
  {
   "cell_type": "code",
   "execution_count": 12,
   "id": "27b1c060",
   "metadata": {},
   "outputs": [],
   "source": [
    "second_student = s[12:]"
   ]
  },
  {
   "cell_type": "code",
   "execution_count": 13,
   "id": "c3dc1e59",
   "metadata": {},
   "outputs": [
    {
     "name": "stdout",
     "output_type": "stream",
     "text": [
      "Shabina\n"
     ]
    }
   ],
   "source": [
    "print(second_student)"
   ]
  },
  {
   "cell_type": "code",
   "execution_count": 14,
   "id": "b57fcb59",
   "metadata": {},
   "outputs": [
    {
     "data": {
      "text/plain": [
       "'Shabina'"
      ]
     },
     "execution_count": 14,
     "metadata": {},
     "output_type": "execute_result"
    }
   ],
   "source": [
    "s[-7:]"
   ]
  },
  {
   "cell_type": "code",
   "execution_count": 18,
   "id": "1bfbe5dc",
   "metadata": {},
   "outputs": [
    {
     "name": "stdout",
     "output_type": "stream",
     "text": [
      "Raju is good\n"
     ]
    }
   ],
   "source": [
    "name=\"raju is good\"\n",
    "print(name.replace(\"r\",\"R\",1))"
   ]
  },
  {
   "cell_type": "code",
   "execution_count": null,
   "id": "13364e7b",
   "metadata": {},
   "outputs": [],
   "source": [
    "Split() and join()"
   ]
  },
  {
   "cell_type": "code",
   "execution_count": 19,
   "id": "db3ddbb5",
   "metadata": {},
   "outputs": [],
   "source": [
    "string = \"Betty bought a bit of butter, But the butter was so bitter, So she bought some better butter, To make the bitter butter better.\""
   ]
  },
  {
   "cell_type": "code",
   "execution_count": 21,
   "id": "75e71011",
   "metadata": {},
   "outputs": [],
   "source": [
    "l = string.split(\",\")"
   ]
  },
  {
   "cell_type": "code",
   "execution_count": 22,
   "id": "91a9df1e",
   "metadata": {},
   "outputs": [
    {
     "name": "stdout",
     "output_type": "stream",
     "text": [
      "['Betty bought a bit of butter', ' But the butter was so bitter', ' So she bought some better butter', ' To make the bitter butter better.']\n"
     ]
    }
   ],
   "source": [
    "print(l)"
   ]
  },
  {
   "cell_type": "code",
   "execution_count": 26,
   "id": "185797cf",
   "metadata": {},
   "outputs": [
    {
     "data": {
      "text/plain": [
       "' To make the bitter butter better.'"
      ]
     },
     "execution_count": 26,
     "metadata": {},
     "output_type": "execute_result"
    }
   ],
   "source": [
    "l[3]"
   ]
  },
  {
   "cell_type": "code",
   "execution_count": 27,
   "id": "6f47c032",
   "metadata": {},
   "outputs": [],
   "source": [
    "l = string.split(\" \")"
   ]
  },
  {
   "cell_type": "code",
   "execution_count": 28,
   "id": "e3a57c44",
   "metadata": {},
   "outputs": [
    {
     "name": "stdout",
     "output_type": "stream",
     "text": [
      "['Betty', 'bought', 'a', 'bit', 'of', 'butter,', 'But', 'the', 'butter', 'was', 'so', 'bitter,', 'So', 'she', 'bought', 'some', 'better', 'butter,', 'To', 'make', 'the', 'bitter', 'butter', 'better.']\n"
     ]
    }
   ],
   "source": [
    "print(l)"
   ]
  },
  {
   "cell_type": "code",
   "execution_count": 29,
   "id": "9357fd93",
   "metadata": {},
   "outputs": [],
   "source": [
    "string2 = \"Apoorva cool down\""
   ]
  },
  {
   "cell_type": "code",
   "execution_count": 31,
   "id": "32bcd431",
   "metadata": {},
   "outputs": [],
   "source": [
    "l = string2.split(\" \")"
   ]
  },
  {
   "cell_type": "code",
   "execution_count": 32,
   "id": "ced768ae",
   "metadata": {},
   "outputs": [
    {
     "data": {
      "text/plain": [
       "list"
      ]
     },
     "execution_count": 32,
     "metadata": {},
     "output_type": "execute_result"
    }
   ],
   "source": [
    "type(l)"
   ]
  },
  {
   "cell_type": "code",
   "execution_count": 33,
   "id": "31075eb8",
   "metadata": {},
   "outputs": [
    {
     "name": "stdout",
     "output_type": "stream",
     "text": [
      "['Apoorva', 'cool', 'down']\n"
     ]
    }
   ],
   "source": [
    "print(l)"
   ]
  },
  {
   "cell_type": "code",
   "execution_count": 36,
   "id": "97c569a7",
   "metadata": {},
   "outputs": [],
   "source": [
    "string2 = \"Aporva col down\""
   ]
  },
  {
   "cell_type": "code",
   "execution_count": 37,
   "id": "94915c9a",
   "metadata": {},
   "outputs": [
    {
     "data": {
      "text/plain": [
       "['Ap', 'rva c', 'l d', 'wn']"
      ]
     },
     "execution_count": 37,
     "metadata": {},
     "output_type": "execute_result"
    }
   ],
   "source": [
    "string2.split(\"o\")"
   ]
  },
  {
   "cell_type": "code",
   "execution_count": 38,
   "id": "781da515",
   "metadata": {},
   "outputs": [],
   "source": [
    "string2 = \"Apoorva cool down\""
   ]
  },
  {
   "cell_type": "code",
   "execution_count": 42,
   "id": "676b793c",
   "metadata": {},
   "outputs": [
    {
     "data": {
      "text/plain": [
       "['A', 'oorva cool down']"
      ]
     },
     "execution_count": 42,
     "metadata": {},
     "output_type": "execute_result"
    }
   ],
   "source": [
    "string2.split(\"p\")"
   ]
  },
  {
   "cell_type": "code",
   "execution_count": 45,
   "id": "8318a8a4",
   "metadata": {},
   "outputs": [],
   "source": [
    "string_3 = \"The one time ony one execution possible??\""
   ]
  },
  {
   "cell_type": "code",
   "execution_count": 49,
   "id": "646cc907",
   "metadata": {},
   "outputs": [],
   "source": [
    "string_3 = string_3.split(\"o\")"
   ]
  },
  {
   "cell_type": "code",
   "execution_count": 50,
   "id": "ee6b7ab0",
   "metadata": {},
   "outputs": [
    {
     "name": "stdout",
     "output_type": "stream",
     "text": [
      "['The ', 'ne time ', 'ny ', 'ne executi', 'n p', 'ssible??']\n"
     ]
    }
   ],
   "source": [
    "print(string_3)"
   ]
  },
  {
   "cell_type": "code",
   "execution_count": 47,
   "id": "f85c5211",
   "metadata": {},
   "outputs": [],
   "source": [
    "st4 = \"abco\""
   ]
  },
  {
   "cell_type": "code",
   "execution_count": 48,
   "id": "96bb46e4",
   "metadata": {},
   "outputs": [
    {
     "data": {
      "text/plain": [
       "['abc', '']"
      ]
     },
     "execution_count": 48,
     "metadata": {},
     "output_type": "execute_result"
    }
   ],
   "source": [
    "st4.split(\"o\")"
   ]
  },
  {
   "cell_type": "markdown",
   "id": "5c8efc02",
   "metadata": {},
   "source": [
    "# Join()"
   ]
  },
  {
   "cell_type": "code",
   "execution_count": null,
   "id": "493c06f8",
   "metadata": {},
   "outputs": [],
   "source": [
    "\"Glue\".join(list_name)"
   ]
  },
  {
   "cell_type": "code",
   "execution_count": 51,
   "id": "e33038a8",
   "metadata": {},
   "outputs": [
    {
     "data": {
      "text/plain": [
       "'The #ne time #ny #ne executi#n p#ssible??'"
      ]
     },
     "execution_count": 51,
     "metadata": {},
     "output_type": "execute_result"
    }
   ],
   "source": [
    "\"#\".join(string_3)"
   ]
  },
  {
   "cell_type": "code",
   "execution_count": 52,
   "id": "e976601f",
   "metadata": {},
   "outputs": [
    {
     "data": {
      "text/plain": [
       "['The ', 'ne time ', 'ny ', 'ne executi', 'n p', 'ssible??']"
      ]
     },
     "execution_count": 52,
     "metadata": {},
     "output_type": "execute_result"
    }
   ],
   "source": [
    "string_3"
   ]
  },
  {
   "cell_type": "code",
   "execution_count": 54,
   "id": "3d7c59b0",
   "metadata": {},
   "outputs": [],
   "source": [
    "string_3 = \"@\".join(string_3)"
   ]
  },
  {
   "cell_type": "code",
   "execution_count": 55,
   "id": "d2a057b7",
   "metadata": {},
   "outputs": [
    {
     "name": "stdout",
     "output_type": "stream",
     "text": [
      "The @ne time @ny @ne executi@n p@ssible??\n"
     ]
    }
   ],
   "source": [
    "print(string_3)"
   ]
  },
  {
   "cell_type": "code",
   "execution_count": 56,
   "id": "f291f333",
   "metadata": {},
   "outputs": [
    {
     "data": {
      "text/plain": [
       "str"
      ]
     },
     "execution_count": 56,
     "metadata": {},
     "output_type": "execute_result"
    }
   ],
   "source": [
    "type(string_3)"
   ]
  },
  {
   "cell_type": "code",
   "execution_count": 72,
   "id": "04625ed2",
   "metadata": {},
   "outputs": [],
   "source": [
    "string_5 = \"I am a Data Scientist\""
   ]
  },
  {
   "cell_type": "code",
   "execution_count": 73,
   "id": "031b61b8",
   "metadata": {},
   "outputs": [
    {
     "data": {
      "text/plain": [
       "['I', 'am', 'a Data Scientist']"
      ]
     },
     "execution_count": 73,
     "metadata": {},
     "output_type": "execute_result"
    }
   ],
   "source": [
    "string_5.split(\" \",2)"
   ]
  },
  {
   "cell_type": "code",
   "execution_count": null,
   "id": "78c44769",
   "metadata": {},
   "outputs": [],
   "source": [
    "If I want split with last 2 spaces ?"
   ]
  },
  {
   "cell_type": "code",
   "execution_count": 71,
   "id": "6f8b3e4b",
   "metadata": {},
   "outputs": [
    {
     "data": {
      "text/plain": [
       "'I am aDataScientist'"
      ]
     },
     "execution_count": 71,
     "metadata": {},
     "output_type": "execute_result"
    }
   ],
   "source": [
    "\"\".join(string_5[::-1].split(\" \",2))[::-1]"
   ]
  },
  {
   "cell_type": "code",
   "execution_count": 75,
   "id": "8a4aea39",
   "metadata": {},
   "outputs": [],
   "source": [
    "string_5 = string_5[::-1]"
   ]
  },
  {
   "cell_type": "code",
   "execution_count": 76,
   "id": "9426f3e0",
   "metadata": {},
   "outputs": [
    {
     "name": "stdout",
     "output_type": "stream",
     "text": [
      "tsitneicS ataD a ma I\n"
     ]
    }
   ],
   "source": [
    "print(string_5)"
   ]
  },
  {
   "cell_type": "code",
   "execution_count": 78,
   "id": "d51c0eca",
   "metadata": {},
   "outputs": [],
   "source": [
    "string_5 = string_5.split(\" \",2)"
   ]
  },
  {
   "cell_type": "code",
   "execution_count": 79,
   "id": "7d9f116e",
   "metadata": {},
   "outputs": [
    {
     "name": "stdout",
     "output_type": "stream",
     "text": [
      "['tsitneicS', 'ataD', 'a ma I']\n"
     ]
    }
   ],
   "source": [
    "print(string_5)"
   ]
  },
  {
   "cell_type": "code",
   "execution_count": 81,
   "id": "62845fa1",
   "metadata": {},
   "outputs": [],
   "source": [
    "string_5 = \"@\".join(string_5)"
   ]
  },
  {
   "cell_type": "code",
   "execution_count": 82,
   "id": "6669eba1",
   "metadata": {},
   "outputs": [
    {
     "name": "stdout",
     "output_type": "stream",
     "text": [
      "tsitneicS@ataD@a ma I\n"
     ]
    }
   ],
   "source": [
    "print(string_5)"
   ]
  },
  {
   "cell_type": "code",
   "execution_count": 88,
   "id": "4ef1a29c",
   "metadata": {},
   "outputs": [],
   "source": [
    "string_5 = string_5[::-1]"
   ]
  },
  {
   "cell_type": "code",
   "execution_count": 89,
   "id": "c2b5b81d",
   "metadata": {},
   "outputs": [
    {
     "name": "stdout",
     "output_type": "stream",
     "text": [
      "I am a@Data@Scientist\n"
     ]
    }
   ],
   "source": [
    "print(string_5)"
   ]
  },
  {
   "cell_type": "code",
   "execution_count": 90,
   "id": "213cb214",
   "metadata": {},
   "outputs": [],
   "source": [
    "string_5 = string_5.split(\"@\")"
   ]
  },
  {
   "cell_type": "code",
   "execution_count": 91,
   "id": "c1c9c397",
   "metadata": {},
   "outputs": [
    {
     "name": "stdout",
     "output_type": "stream",
     "text": [
      "['I am a', 'Data', 'Scientist']\n"
     ]
    }
   ],
   "source": [
    "print(string_5)"
   ]
  },
  {
   "cell_type": "code",
   "execution_count": 93,
   "id": "10195ab0",
   "metadata": {},
   "outputs": [
    {
     "name": "stdout",
     "output_type": "stream",
     "text": [
      "['giver', 'a', 'is']\n"
     ]
    }
   ],
   "source": [
    "t=\" earth is a giver\"\n",
    "v=t.split()\n",
    "l=v[3:0:-1]\n",
    "print(str(l))"
   ]
  },
  {
   "cell_type": "code",
   "execution_count": 94,
   "id": "2c15a183",
   "metadata": {},
   "outputs": [
    {
     "name": "stdout",
     "output_type": "stream",
     "text": [
      " earth is a giver\n"
     ]
    }
   ],
   "source": [
    "print(t)"
   ]
  },
  {
   "cell_type": "code",
   "execution_count": 95,
   "id": "d8b3cb15",
   "metadata": {},
   "outputs": [
    {
     "data": {
      "text/plain": [
       "'revig a si htrae '"
      ]
     },
     "execution_count": 95,
     "metadata": {},
     "output_type": "execute_result"
    }
   ],
   "source": [
    "t[::-1]"
   ]
  },
  {
   "cell_type": "markdown",
   "id": "7b2ba778",
   "metadata": {},
   "source": [
    "# read()"
   ]
  },
  {
   "cell_type": "code",
   "execution_count": 97,
   "id": "eaf3b453",
   "metadata": {},
   "outputs": [],
   "source": [
    "s = \"Karthik\""
   ]
  },
  {
   "cell_type": "code",
   "execution_count": 98,
   "id": "038470c5",
   "metadata": {},
   "outputs": [
    {
     "ename": "AttributeError",
     "evalue": "'str' object has no attribute 'read'",
     "output_type": "error",
     "traceback": [
      "\u001b[1;31m---------------------------------------------------------------------------\u001b[0m",
      "\u001b[1;31mAttributeError\u001b[0m                            Traceback (most recent call last)",
      "\u001b[1;32mC:\\Users\\KUNALC~1\\AppData\\Local\\Temp/ipykernel_42596/1829418126.py\u001b[0m in \u001b[0;36m<module>\u001b[1;34m\u001b[0m\n\u001b[1;32m----> 1\u001b[1;33m \u001b[0ms\u001b[0m\u001b[1;33m.\u001b[0m\u001b[0mread\u001b[0m\u001b[1;33m(\u001b[0m\u001b[1;34m\"a\"\u001b[0m\u001b[1;33m)\u001b[0m\u001b[1;33m\u001b[0m\u001b[1;33m\u001b[0m\u001b[0m\n\u001b[0m",
      "\u001b[1;31mAttributeError\u001b[0m: 'str' object has no attribute 'read'"
     ]
    }
   ],
   "source": [
    "s.read(\"a\")"
   ]
  },
  {
   "cell_type": "markdown",
   "id": "ffd6d015",
   "metadata": {},
   "source": [
    "# Q1) Write a Python program to get a string made of the first 2 and the last 2 chars from a given a string. If the string length is less than 2, print the string."
   ]
  },
  {
   "cell_type": "code",
   "execution_count": null,
   "id": "89fb6c47",
   "metadata": {},
   "outputs": [],
   "source": [
    "string1 = \"Nikhil\"\n",
    "Niil"
   ]
  },
  {
   "cell_type": "code",
   "execution_count": 100,
   "id": "5d9e697f",
   "metadata": {},
   "outputs": [],
   "source": [
    "s = \"Priyanjali\"\n",
    "t = \" Data Scientist\""
   ]
  },
  {
   "cell_type": "code",
   "execution_count": 101,
   "id": "22a71fb5",
   "metadata": {},
   "outputs": [
    {
     "data": {
      "text/plain": [
       "'Priyanjali Data Scientist'"
      ]
     },
     "execution_count": 101,
     "metadata": {},
     "output_type": "execute_result"
    }
   ],
   "source": [
    "s + t"
   ]
  },
  {
   "cell_type": "code",
   "execution_count": null,
   "id": "b0f7dec0",
   "metadata": {},
   "outputs": [],
   "source": [
    "5 mins"
   ]
  },
  {
   "cell_type": "code",
   "execution_count": 107,
   "id": "645549ff",
   "metadata": {},
   "outputs": [
    {
     "name": "stdout",
     "output_type": "stream",
     "text": [
      "Nikhil\n"
     ]
    }
   ],
   "source": [
    "c = \"Nikhil\"\n",
    "if len(c)<2:\n",
    "    print(a1)\n",
    "else:\n",
    "    print(c)\n"
   ]
  },
  {
   "cell_type": "code",
   "execution_count": 109,
   "id": "17a40ca4",
   "metadata": {},
   "outputs": [
    {
     "name": "stdout",
     "output_type": "stream",
     "text": [
      "Niil\n"
     ]
    }
   ],
   "source": [
    "s = \"Nikhil\"\n",
    "if len(s)<2:\n",
    "    print(s)\n",
    "else:\n",
    "    t=s[0:2]+s[-2:]\n",
    "    print(t)\n"
   ]
  },
  {
   "cell_type": "code",
   "execution_count": 112,
   "id": "cb98fb3b",
   "metadata": {},
   "outputs": [
    {
     "name": "stdout",
     "output_type": "stream",
     "text": [
      "Inth\n"
     ]
    }
   ],
   "source": [
    "s= \"Indukanth\"\n",
    "# l=s.split(\"dukan\")\n",
    "t=s[:2]+s[-2:]\n",
    "print(t)\n"
   ]
  },
  {
   "cell_type": "code",
   "execution_count": 113,
   "id": "7a7ed354",
   "metadata": {},
   "outputs": [
    {
     "name": "stdout",
     "output_type": "stream",
     "text": [
      "Dast\n"
     ]
    }
   ],
   "source": [
    "a1= \"Data scientist\"\n",
    "a=a1[0:2]\n",
    "b=a1[-2:]\n",
    "c=a+b\n",
    "if len(c)<2:\n",
    "    print(a1)\n",
    "else:\n",
    "    print(c)\n"
   ]
  },
  {
   "cell_type": "code",
   "execution_count": 115,
   "id": "4b4d743b",
   "metadata": {},
   "outputs": [
    {
     "name": "stdout",
     "output_type": "stream",
     "text": [
      "Niil\n"
     ]
    }
   ],
   "source": [
    "s='Nikhil'\n",
    "if len(s)>2:\n",
    "    print(s[:2]+s[-2::])\n",
    "else:\n",
    "    print(s)\n"
   ]
  },
  {
   "cell_type": "code",
   "execution_count": 119,
   "id": "f9e31a6d",
   "metadata": {},
   "outputs": [
    {
     "name": "stdout",
     "output_type": "stream",
     "text": [
      "Kaaaaaaaaaaaaaarthik = Kaik\n"
     ]
    }
   ],
   "source": [
    "string1= \"Kaaaaaaaaaaaaaarthik\"\n",
    "s=string1[:2]\n",
    "t=string1[-2:]\n",
    "print(string1,\"=\",s + t)"
   ]
  },
  {
   "cell_type": "code",
   "execution_count": 120,
   "id": "816ba8d7",
   "metadata": {},
   "outputs": [
    {
     "name": "stdout",
     "output_type": "stream",
     "text": [
      "Enter a String : Prashant\n",
      "Prnt\n"
     ]
    }
   ],
   "source": [
    "a = input(\"Enter a String : \")\n",
    "length = len(a)\n",
    "if length>2:\n",
    "    c = a[:2]\n",
    "    d = a[-2:]\n",
    "    print(c+d)\n",
    "else:\n",
    "    print(a)\n"
   ]
  },
  {
   "cell_type": "code",
   "execution_count": 121,
   "id": "b354eb56",
   "metadata": {},
   "outputs": [
    {
     "name": "stdout",
     "output_type": "stream",
     "text": [
      "range(0, 7)\n",
      "Karthik = Kaik\n"
     ]
    }
   ],
   "source": [
    "string1= \"Karthik\"\n",
    "print(range(len(string1)))\n",
    "s=string1[:2]\n",
    "t=string1[5:]\n",
    "print(string1,\"=\",s + t)\n"
   ]
  },
  {
   "cell_type": "code",
   "execution_count": 122,
   "id": "36ca3003",
   "metadata": {},
   "outputs": [
    {
     "data": {
      "text/plain": [
       "'edda'"
      ]
     },
     "execution_count": 122,
     "metadata": {},
     "output_type": "execute_result"
    }
   ],
   "source": [
    "a=\"edyoda\"\n",
    "a[0:2]+a[-2:]\n"
   ]
  },
  {
   "cell_type": "code",
   "execution_count": 124,
   "id": "3ea08f00",
   "metadata": {},
   "outputs": [
    {
     "name": "stdout",
     "output_type": "stream",
     "text": [
      "Prashant\n",
      "Prnt\n"
     ]
    }
   ],
   "source": [
    "d =input()\n",
    "v=d[0:2]\n",
    "z=d[len(d)-1]\n",
    "x=d[len(d)-2]\n",
    "print(v+x+z)\n"
   ]
  },
  {
   "cell_type": "code",
   "execution_count": 125,
   "id": "811cfbce",
   "metadata": {},
   "outputs": [
    {
     "name": "stdout",
     "output_type": "stream",
     "text": [
      "Niit\n"
     ]
    }
   ],
   "source": [
    "p = \"Nilit\"\n",
    "sz=len(p)\n",
    "if sz >2:\n",
    "    p1 =p[0:2]\n",
    "    p2=p[sz-2:]\n",
    "    print(p1+p2)\n",
    "else :\n",
    "    print(p)"
   ]
  },
  {
   "cell_type": "code",
   "execution_count": 127,
   "id": "8156354d",
   "metadata": {},
   "outputs": [
    {
     "name": "stdout",
     "output_type": "stream",
     "text": [
      "Enter the string = Abheeshek\n",
      "Abek\n"
     ]
    }
   ],
   "source": [
    "str = input(\"Enter the string = \")\n",
    "if len(str) < 2 :\n",
    "    print (str)\n",
    "else :\n",
    "    x =str[0:2]+str[-2:]\n",
    "    print(x)"
   ]
  },
  {
   "cell_type": "code",
   "execution_count": 128,
   "id": "8a33e86c",
   "metadata": {},
   "outputs": [
    {
     "name": "stdout",
     "output_type": "stream",
     "text": [
      "Saan\n"
     ]
    }
   ],
   "source": [
    "s = \"Sangwan\"\n",
    "if len(s)>2:\n",
    "    print(s[:2]+s[-2:])\n",
    "else:\n",
    "    print(s)"
   ]
  },
  {
   "cell_type": "code",
   "execution_count": 129,
   "id": "2cabc023",
   "metadata": {},
   "outputs": [
    {
     "data": {
      "text/plain": [
       "'prli'"
      ]
     },
     "execution_count": 129,
     "metadata": {},
     "output_type": "execute_result"
    }
   ],
   "source": [
    "s='priyanjali'\n",
    "s[:2]+s[-2:]\n"
   ]
  },
  {
   "cell_type": "code",
   "execution_count": 130,
   "id": "d8cd7bf9",
   "metadata": {},
   "outputs": [
    {
     "ename": "TypeError",
     "evalue": "'int' object is not subscriptable",
     "output_type": "error",
     "traceback": [
      "\u001b[1;31m---------------------------------------------------------------------------\u001b[0m",
      "\u001b[1;31mTypeError\u001b[0m                                 Traceback (most recent call last)",
      "\u001b[1;32mC:\\Users\\KUNALC~1\\AppData\\Local\\Temp/ipykernel_42596/1406654259.py\u001b[0m in \u001b[0;36m<module>\u001b[1;34m\u001b[0m\n\u001b[0;32m      3\u001b[0m \u001b[0mn\u001b[0m\u001b[1;33m=\u001b[0m\u001b[0mlen\u001b[0m\u001b[1;33m(\u001b[0m\u001b[0mt\u001b[0m\u001b[1;33m)\u001b[0m\u001b[1;33m\u001b[0m\u001b[1;33m\u001b[0m\u001b[0m\n\u001b[0;32m      4\u001b[0m \u001b[1;32mfor\u001b[0m \u001b[0mt\u001b[0m \u001b[1;32min\u001b[0m \u001b[0mrange\u001b[0m\u001b[1;33m(\u001b[0m\u001b[1;36m3\u001b[0m\u001b[1;33m,\u001b[0m\u001b[0mn\u001b[0m\u001b[1;33m,\u001b[0m\u001b[1;36m1\u001b[0m\u001b[1;33m)\u001b[0m\u001b[1;33m:\u001b[0m\u001b[1;33m\u001b[0m\u001b[1;33m\u001b[0m\u001b[0m\n\u001b[1;32m----> 5\u001b[1;33m   \u001b[0mprint\u001b[0m\u001b[1;33m(\u001b[0m\u001b[0mt\u001b[0m\u001b[1;33m[\u001b[0m\u001b[1;36m0\u001b[0m\u001b[1;33m]\u001b[0m\u001b[1;33m+\u001b[0m\u001b[0mt\u001b[0m\u001b[1;33m[\u001b[0m\u001b[1;36m1\u001b[0m\u001b[1;33m]\u001b[0m\u001b[1;33m+\u001b[0m\u001b[0mt\u001b[0m\u001b[1;33m[\u001b[0m\u001b[0mn\u001b[0m\u001b[1;33m-\u001b[0m\u001b[1;36m1\u001b[0m\u001b[1;33m]\u001b[0m\u001b[1;33m+\u001b[0m\u001b[0mt\u001b[0m\u001b[1;33m[\u001b[0m\u001b[0mn\u001b[0m\u001b[1;33m]\u001b[0m\u001b[1;33m)\u001b[0m\u001b[1;33m\u001b[0m\u001b[1;33m\u001b[0m\u001b[0m\n\u001b[0m\u001b[0;32m      6\u001b[0m \u001b[1;32melse\u001b[0m\u001b[1;33m:\u001b[0m\u001b[1;33m\u001b[0m\u001b[1;33m\u001b[0m\u001b[0m\n\u001b[0;32m      7\u001b[0m     \u001b[0mprint\u001b[0m\u001b[1;33m(\u001b[0m\u001b[1;34m\"\"\u001b[0m\u001b[1;33m)\u001b[0m\u001b[1;33m\u001b[0m\u001b[1;33m\u001b[0m\u001b[0m\n",
      "\u001b[1;31mTypeError\u001b[0m: 'int' object is not subscriptable"
     ]
    }
   ],
   "source": [
    "s=\"I am from mars not venus\"\n",
    "t=s.split()\n",
    "n=len(t)\n",
    "for t in range(3,n,1):\n",
    "  print(t[0]+t[1]+t[n-1]+t[n])\n",
    "else:\n",
    "    print(\"\")"
   ]
  },
  {
   "cell_type": "code",
   "execution_count": 131,
   "id": "d5a38726",
   "metadata": {},
   "outputs": [
    {
     "name": "stdout",
     "output_type": "stream",
     "text": [
      "Inth\n"
     ]
    }
   ],
   "source": [
    "s= \"Indukanth\"\n",
    "l=s.split(\"dukan\")\n",
    "t=l[0]+l[1]\n",
    "print(t)\n"
   ]
  },
  {
   "cell_type": "code",
   "execution_count": 135,
   "id": "82de83ba",
   "metadata": {},
   "outputs": [
    {
     "name": "stdout",
     "output_type": "stream",
     "text": [
      "nacy\n"
     ]
    }
   ],
   "source": [
    "e=\"nancy\"\n",
    "if len(e)>2:\n",
    "    t=e[0:2]+e[-2:]\n",
    "    print(t)\n"
   ]
  },
  {
   "cell_type": "code",
   "execution_count": null,
   "id": "01ad5329",
   "metadata": {},
   "outputs": [],
   "source": [
    "Q2) Write a Python program to get a string from a given string where all occurrences of its \n",
    "first char have been changed to '$',\n",
    "except the first char itself."
   ]
  },
  {
   "cell_type": "code",
   "execution_count": null,
   "id": "6bd544b7",
   "metadata": {},
   "outputs": [],
   "source": [
    "string = \"shindekaryash\"\n",
    "o/p -> \"shindekarya$h\"\n",
    "\n",
    "st = \"abcabcabc\"\n",
    "o/p -> \"abc$bc$bc$bc\"\n",
    "\n",
    "st = \"dbadbhdhc\"\n",
    "o/p -> \"sba$bh$hc\""
   ]
  },
  {
   "cell_type": "code",
   "execution_count": null,
   "id": "ac1e1c0f",
   "metadata": {},
   "outputs": [],
   "source": []
  },
  {
   "cell_type": "code",
   "execution_count": null,
   "id": "63bfa534",
   "metadata": {},
   "outputs": [],
   "source": []
  },
  {
   "cell_type": "code",
   "execution_count": null,
   "id": "89fe6b13",
   "metadata": {},
   "outputs": [],
   "source": []
  },
  {
   "cell_type": "code",
   "execution_count": null,
   "id": "dd800410",
   "metadata": {},
   "outputs": [],
   "source": []
  },
  {
   "cell_type": "code",
   "execution_count": null,
   "id": "94d20ab1",
   "metadata": {},
   "outputs": [],
   "source": []
  },
  {
   "cell_type": "code",
   "execution_count": null,
   "id": "681a0c44",
   "metadata": {},
   "outputs": [],
   "source": []
  },
  {
   "cell_type": "code",
   "execution_count": 1,
   "id": "6ef2f36e",
   "metadata": {
    "scrolled": true
   },
   "outputs": [
    {
     "name": "stdout",
     "output_type": "stream",
     "text": [
      "Help on class str in module builtins:\n",
      "\n",
      "class str(object)\n",
      " |  str(object='') -> str\n",
      " |  str(bytes_or_buffer[, encoding[, errors]]) -> str\n",
      " |  \n",
      " |  Create a new string object from the given object. If encoding or\n",
      " |  errors is specified, then the object must expose a data buffer\n",
      " |  that will be decoded using the given encoding and error handler.\n",
      " |  Otherwise, returns the result of object.__str__() (if defined)\n",
      " |  or repr(object).\n",
      " |  encoding defaults to sys.getdefaultencoding().\n",
      " |  errors defaults to 'strict'.\n",
      " |  \n",
      " |  Methods defined here:\n",
      " |  \n",
      " |  __add__(self, value, /)\n",
      " |      Return self+value.\n",
      " |  \n",
      " |  __contains__(self, key, /)\n",
      " |      Return key in self.\n",
      " |  \n",
      " |  __eq__(self, value, /)\n",
      " |      Return self==value.\n",
      " |  \n",
      " |  __format__(self, format_spec, /)\n",
      " |      Return a formatted version of the string as described by format_spec.\n",
      " |  \n",
      " |  __ge__(self, value, /)\n",
      " |      Return self>=value.\n",
      " |  \n",
      " |  __getattribute__(self, name, /)\n",
      " |      Return getattr(self, name).\n",
      " |  \n",
      " |  __getitem__(self, key, /)\n",
      " |      Return self[key].\n",
      " |  \n",
      " |  __getnewargs__(...)\n",
      " |  \n",
      " |  __gt__(self, value, /)\n",
      " |      Return self>value.\n",
      " |  \n",
      " |  __hash__(self, /)\n",
      " |      Return hash(self).\n",
      " |  \n",
      " |  __iter__(self, /)\n",
      " |      Implement iter(self).\n",
      " |  \n",
      " |  __le__(self, value, /)\n",
      " |      Return self<=value.\n",
      " |  \n",
      " |  __len__(self, /)\n",
      " |      Return len(self).\n",
      " |  \n",
      " |  __lt__(self, value, /)\n",
      " |      Return self<value.\n",
      " |  \n",
      " |  __mod__(self, value, /)\n",
      " |      Return self%value.\n",
      " |  \n",
      " |  __mul__(self, value, /)\n",
      " |      Return self*value.\n",
      " |  \n",
      " |  __ne__(self, value, /)\n",
      " |      Return self!=value.\n",
      " |  \n",
      " |  __repr__(self, /)\n",
      " |      Return repr(self).\n",
      " |  \n",
      " |  __rmod__(self, value, /)\n",
      " |      Return value%self.\n",
      " |  \n",
      " |  __rmul__(self, value, /)\n",
      " |      Return value*self.\n",
      " |  \n",
      " |  __sizeof__(self, /)\n",
      " |      Return the size of the string in memory, in bytes.\n",
      " |  \n",
      " |  __str__(self, /)\n",
      " |      Return str(self).\n",
      " |  \n",
      " |  capitalize(self, /)\n",
      " |      Return a capitalized version of the string.\n",
      " |      \n",
      " |      More specifically, make the first character have upper case and the rest lower\n",
      " |      case.\n",
      " |  \n",
      " |  casefold(self, /)\n",
      " |      Return a version of the string suitable for caseless comparisons.\n",
      " |  \n",
      " |  center(self, width, fillchar=' ', /)\n",
      " |      Return a centered string of length width.\n",
      " |      \n",
      " |      Padding is done using the specified fill character (default is a space).\n",
      " |  \n",
      " |  count(...)\n",
      " |      S.count(sub[, start[, end]]) -> int\n",
      " |      \n",
      " |      Return the number of non-overlapping occurrences of substring sub in\n",
      " |      string S[start:end].  Optional arguments start and end are\n",
      " |      interpreted as in slice notation.\n",
      " |  \n",
      " |  encode(self, /, encoding='utf-8', errors='strict')\n",
      " |      Encode the string using the codec registered for encoding.\n",
      " |      \n",
      " |      encoding\n",
      " |        The encoding in which to encode the string.\n",
      " |      errors\n",
      " |        The error handling scheme to use for encoding errors.\n",
      " |        The default is 'strict' meaning that encoding errors raise a\n",
      " |        UnicodeEncodeError.  Other possible values are 'ignore', 'replace' and\n",
      " |        'xmlcharrefreplace' as well as any other name registered with\n",
      " |        codecs.register_error that can handle UnicodeEncodeErrors.\n",
      " |  \n",
      " |  endswith(...)\n",
      " |      S.endswith(suffix[, start[, end]]) -> bool\n",
      " |      \n",
      " |      Return True if S ends with the specified suffix, False otherwise.\n",
      " |      With optional start, test S beginning at that position.\n",
      " |      With optional end, stop comparing S at that position.\n",
      " |      suffix can also be a tuple of strings to try.\n",
      " |  \n",
      " |  expandtabs(self, /, tabsize=8)\n",
      " |      Return a copy where all tab characters are expanded using spaces.\n",
      " |      \n",
      " |      If tabsize is not given, a tab size of 8 characters is assumed.\n",
      " |  \n",
      " |  find(...)\n",
      " |      S.find(sub[, start[, end]]) -> int\n",
      " |      \n",
      " |      Return the lowest index in S where substring sub is found,\n",
      " |      such that sub is contained within S[start:end].  Optional\n",
      " |      arguments start and end are interpreted as in slice notation.\n",
      " |      \n",
      " |      Return -1 on failure.\n",
      " |  \n",
      " |  format(...)\n",
      " |      S.format(*args, **kwargs) -> str\n",
      " |      \n",
      " |      Return a formatted version of S, using substitutions from args and kwargs.\n",
      " |      The substitutions are identified by braces ('{' and '}').\n",
      " |  \n",
      " |  format_map(...)\n",
      " |      S.format_map(mapping) -> str\n",
      " |      \n",
      " |      Return a formatted version of S, using substitutions from mapping.\n",
      " |      The substitutions are identified by braces ('{' and '}').\n",
      " |  \n",
      " |  index(...)\n",
      " |      S.index(sub[, start[, end]]) -> int\n",
      " |      \n",
      " |      Return the lowest index in S where substring sub is found,\n",
      " |      such that sub is contained within S[start:end].  Optional\n",
      " |      arguments start and end are interpreted as in slice notation.\n",
      " |      \n",
      " |      Raises ValueError when the substring is not found.\n",
      " |  \n",
      " |  isalnum(self, /)\n",
      " |      Return True if the string is an alpha-numeric string, False otherwise.\n",
      " |      \n",
      " |      A string is alpha-numeric if all characters in the string are alpha-numeric and\n",
      " |      there is at least one character in the string.\n",
      " |  \n",
      " |  isalpha(self, /)\n",
      " |      Return True if the string is an alphabetic string, False otherwise.\n",
      " |      \n",
      " |      A string is alphabetic if all characters in the string are alphabetic and there\n",
      " |      is at least one character in the string.\n",
      " |  \n",
      " |  isascii(self, /)\n",
      " |      Return True if all characters in the string are ASCII, False otherwise.\n",
      " |      \n",
      " |      ASCII characters have code points in the range U+0000-U+007F.\n",
      " |      Empty string is ASCII too.\n",
      " |  \n",
      " |  isdecimal(self, /)\n",
      " |      Return True if the string is a decimal string, False otherwise.\n",
      " |      \n",
      " |      A string is a decimal string if all characters in the string are decimal and\n",
      " |      there is at least one character in the string.\n",
      " |  \n",
      " |  isdigit(self, /)\n",
      " |      Return True if the string is a digit string, False otherwise.\n",
      " |      \n",
      " |      A string is a digit string if all characters in the string are digits and there\n",
      " |      is at least one character in the string.\n",
      " |  \n",
      " |  isidentifier(self, /)\n",
      " |      Return True if the string is a valid Python identifier, False otherwise.\n",
      " |      \n",
      " |      Call keyword.iskeyword(s) to test whether string s is a reserved identifier,\n",
      " |      such as \"def\" or \"class\".\n",
      " |  \n",
      " |  islower(self, /)\n",
      " |      Return True if the string is a lowercase string, False otherwise.\n",
      " |      \n",
      " |      A string is lowercase if all cased characters in the string are lowercase and\n",
      " |      there is at least one cased character in the string.\n",
      " |  \n",
      " |  isnumeric(self, /)\n",
      " |      Return True if the string is a numeric string, False otherwise.\n",
      " |      \n",
      " |      A string is numeric if all characters in the string are numeric and there is at\n",
      " |      least one character in the string.\n",
      " |  \n",
      " |  isprintable(self, /)\n",
      " |      Return True if the string is printable, False otherwise.\n",
      " |      \n",
      " |      A string is printable if all of its characters are considered printable in\n",
      " |      repr() or if it is empty.\n",
      " |  \n",
      " |  isspace(self, /)\n",
      " |      Return True if the string is a whitespace string, False otherwise.\n",
      " |      \n",
      " |      A string is whitespace if all characters in the string are whitespace and there\n",
      " |      is at least one character in the string.\n",
      " |  \n",
      " |  istitle(self, /)\n",
      " |      Return True if the string is a title-cased string, False otherwise.\n",
      " |      \n",
      " |      In a title-cased string, upper- and title-case characters may only\n",
      " |      follow uncased characters and lowercase characters only cased ones.\n",
      " |  \n",
      " |  isupper(self, /)\n",
      " |      Return True if the string is an uppercase string, False otherwise.\n",
      " |      \n",
      " |      A string is uppercase if all cased characters in the string are uppercase and\n",
      " |      there is at least one cased character in the string.\n",
      " |  \n",
      " |  join(self, iterable, /)\n",
      " |      Concatenate any number of strings.\n",
      " |      \n",
      " |      The string whose method is called is inserted in between each given string.\n",
      " |      The result is returned as a new string.\n",
      " |      \n",
      " |      Example: '.'.join(['ab', 'pq', 'rs']) -> 'ab.pq.rs'\n",
      " |  \n",
      " |  ljust(self, width, fillchar=' ', /)\n",
      " |      Return a left-justified string of length width.\n",
      " |      \n",
      " |      Padding is done using the specified fill character (default is a space).\n",
      " |  \n",
      " |  lower(self, /)\n",
      " |      Return a copy of the string converted to lowercase.\n",
      " |  \n",
      " |  lstrip(self, chars=None, /)\n",
      " |      Return a copy of the string with leading whitespace removed.\n",
      " |      \n",
      " |      If chars is given and not None, remove characters in chars instead.\n",
      " |  \n",
      " |  partition(self, sep, /)\n",
      " |      Partition the string into three parts using the given separator.\n",
      " |      \n",
      " |      This will search for the separator in the string.  If the separator is found,\n",
      " |      returns a 3-tuple containing the part before the separator, the separator\n",
      " |      itself, and the part after it.\n",
      " |      \n",
      " |      If the separator is not found, returns a 3-tuple containing the original string\n",
      " |      and two empty strings.\n",
      " |  \n",
      " |  removeprefix(self, prefix, /)\n",
      " |      Return a str with the given prefix string removed if present.\n",
      " |      \n",
      " |      If the string starts with the prefix string, return string[len(prefix):].\n",
      " |      Otherwise, return a copy of the original string.\n",
      " |  \n",
      " |  removesuffix(self, suffix, /)\n",
      " |      Return a str with the given suffix string removed if present.\n",
      " |      \n",
      " |      If the string ends with the suffix string and that suffix is not empty,\n",
      " |      return string[:-len(suffix)]. Otherwise, return a copy of the original\n",
      " |      string.\n",
      " |  \n",
      " |  replace(self, old, new, count=-1, /)\n",
      " |      Return a copy with all occurrences of substring old replaced by new.\n",
      " |      \n",
      " |        count\n",
      " |          Maximum number of occurrences to replace.\n",
      " |          -1 (the default value) means replace all occurrences.\n",
      " |      \n",
      " |      If the optional argument count is given, only the first count occurrences are\n",
      " |      replaced.\n",
      " |  \n",
      " |  rfind(...)\n",
      " |      S.rfind(sub[, start[, end]]) -> int\n",
      " |      \n",
      " |      Return the highest index in S where substring sub is found,\n",
      " |      such that sub is contained within S[start:end].  Optional\n",
      " |      arguments start and end are interpreted as in slice notation.\n",
      " |      \n",
      " |      Return -1 on failure.\n",
      " |  \n",
      " |  rindex(...)\n",
      " |      S.rindex(sub[, start[, end]]) -> int\n",
      " |      \n",
      " |      Return the highest index in S where substring sub is found,\n",
      " |      such that sub is contained within S[start:end].  Optional\n",
      " |      arguments start and end are interpreted as in slice notation.\n",
      " |      \n",
      " |      Raises ValueError when the substring is not found.\n",
      " |  \n",
      " |  rjust(self, width, fillchar=' ', /)\n",
      " |      Return a right-justified string of length width.\n",
      " |      \n",
      " |      Padding is done using the specified fill character (default is a space).\n",
      " |  \n",
      " |  rpartition(self, sep, /)\n",
      " |      Partition the string into three parts using the given separator.\n",
      " |      \n",
      " |      This will search for the separator in the string, starting at the end. If\n",
      " |      the separator is found, returns a 3-tuple containing the part before the\n",
      " |      separator, the separator itself, and the part after it.\n",
      " |      \n",
      " |      If the separator is not found, returns a 3-tuple containing two empty strings\n",
      " |      and the original string.\n",
      " |  \n",
      " |  rsplit(self, /, sep=None, maxsplit=-1)\n",
      " |      Return a list of the words in the string, using sep as the delimiter string.\n",
      " |      \n",
      " |        sep\n",
      " |          The delimiter according which to split the string.\n",
      " |          None (the default value) means split according to any whitespace,\n",
      " |          and discard empty strings from the result.\n",
      " |        maxsplit\n",
      " |          Maximum number of splits to do.\n",
      " |          -1 (the default value) means no limit.\n",
      " |      \n",
      " |      Splits are done starting at the end of the string and working to the front.\n",
      " |  \n",
      " |  rstrip(self, chars=None, /)\n",
      " |      Return a copy of the string with trailing whitespace removed.\n",
      " |      \n",
      " |      If chars is given and not None, remove characters in chars instead.\n",
      " |  \n",
      " |  split(self, /, sep=None, maxsplit=-1)\n",
      " |      Return a list of the words in the string, using sep as the delimiter string.\n",
      " |      \n",
      " |      sep\n",
      " |        The delimiter according which to split the string.\n",
      " |        None (the default value) means split according to any whitespace,\n",
      " |        and discard empty strings from the result.\n",
      " |      maxsplit\n",
      " |        Maximum number of splits to do.\n",
      " |        -1 (the default value) means no limit.\n",
      " |  \n",
      " |  splitlines(self, /, keepends=False)\n",
      " |      Return a list of the lines in the string, breaking at line boundaries.\n",
      " |      \n",
      " |      Line breaks are not included in the resulting list unless keepends is given and\n",
      " |      true.\n",
      " |  \n",
      " |  startswith(...)\n",
      " |      S.startswith(prefix[, start[, end]]) -> bool\n",
      " |      \n",
      " |      Return True if S starts with the specified prefix, False otherwise.\n",
      " |      With optional start, test S beginning at that position.\n",
      " |      With optional end, stop comparing S at that position.\n",
      " |      prefix can also be a tuple of strings to try.\n",
      " |  \n",
      " |  strip(self, chars=None, /)\n",
      " |      Return a copy of the string with leading and trailing whitespace removed.\n",
      " |      \n",
      " |      If chars is given and not None, remove characters in chars instead.\n",
      " |  \n",
      " |  swapcase(self, /)\n",
      " |      Convert uppercase characters to lowercase and lowercase characters to uppercase.\n",
      " |  \n",
      " |  title(self, /)\n",
      " |      Return a version of the string where each word is titlecased.\n",
      " |      \n",
      " |      More specifically, words start with uppercased characters and all remaining\n",
      " |      cased characters have lower case.\n",
      " |  \n",
      " |  translate(self, table, /)\n",
      " |      Replace each character in the string using the given translation table.\n",
      " |      \n",
      " |        table\n",
      " |          Translation table, which must be a mapping of Unicode ordinals to\n",
      " |          Unicode ordinals, strings, or None.\n",
      " |      \n",
      " |      The table must implement lookup/indexing via __getitem__, for instance a\n",
      " |      dictionary or list.  If this operation raises LookupError, the character is\n",
      " |      left untouched.  Characters mapped to None are deleted.\n",
      " |  \n",
      " |  upper(self, /)\n",
      " |      Return a copy of the string converted to uppercase.\n",
      " |  \n",
      " |  zfill(self, width, /)\n",
      " |      Pad a numeric string with zeros on the left, to fill a field of the given width.\n",
      " |      \n",
      " |      The string is never truncated.\n",
      " |  \n",
      " |  ----------------------------------------------------------------------\n",
      " |  Static methods defined here:\n",
      " |  \n",
      " |  __new__(*args, **kwargs) from builtins.type\n",
      " |      Create and return a new object.  See help(type) for accurate signature.\n",
      " |  \n",
      " |  maketrans(...)\n",
      " |      Return a translation table usable for str.translate().\n",
      " |      \n",
      " |      If there is only one argument, it must be a dictionary mapping Unicode\n",
      " |      ordinals (integers) or characters to Unicode ordinals, strings or None.\n",
      " |      Character keys will be then converted to ordinals.\n",
      " |      If there are two arguments, they must be strings of equal length, and\n",
      " |      in the resulting dictionary, each character in x will be mapped to the\n",
      " |      character at the same position in y. If there is a third argument, it\n",
      " |      must be a string, whose characters will be mapped to None in the result.\n",
      "\n"
     ]
    }
   ],
   "source": [
    "help(str)"
   ]
  },
  {
   "cell_type": "code",
   "execution_count": null,
   "id": "05fe7551",
   "metadata": {},
   "outputs": [],
   "source": []
  },
  {
   "cell_type": "code",
   "execution_count": null,
   "id": "9f82cfc6",
   "metadata": {},
   "outputs": [],
   "source": []
  },
  {
   "cell_type": "code",
   "execution_count": null,
   "id": "3a2787f6",
   "metadata": {},
   "outputs": [],
   "source": []
  },
  {
   "cell_type": "code",
   "execution_count": null,
   "id": "4e5ecb86",
   "metadata": {},
   "outputs": [],
   "source": []
  },
  {
   "cell_type": "code",
   "execution_count": null,
   "id": "24d9bfb8",
   "metadata": {},
   "outputs": [],
   "source": []
  },
  {
   "cell_type": "code",
   "execution_count": null,
   "id": "af908780",
   "metadata": {},
   "outputs": [],
   "source": []
  }
 ],
 "metadata": {
  "kernelspec": {
   "display_name": "Python 3 (ipykernel)",
   "language": "python",
   "name": "python3"
  },
  "language_info": {
   "codemirror_mode": {
    "name": "ipython",
    "version": 3
   },
   "file_extension": ".py",
   "mimetype": "text/x-python",
   "name": "python",
   "nbconvert_exporter": "python",
   "pygments_lexer": "ipython3",
   "version": "3.9.7"
  }
 },
 "nbformat": 4,
 "nbformat_minor": 5
}
