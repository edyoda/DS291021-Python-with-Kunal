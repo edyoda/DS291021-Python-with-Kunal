{
 "cells": [
  {
   "cell_type": "code",
   "execution_count": null,
   "id": "bb421d3c",
   "metadata": {},
   "outputs": [],
   "source": [
    "Q1) Write a Python program to get a string made of the first 2 and the last 2 chars from a given a \n",
    "string. If the string length is less than 2, return instead of the empty string.\n",
    "\n",
    "Q2)Write a Python program to get a string from a given string where all occurrences of its first char have been changed to '$',\n",
    "except the first char itself.\n",
    "\n",
    "Q3) Write a Python program to get a single string from two given strings,\n",
    "separated by a space and swap the first two characters of each string\n",
    "\n",
    "Q4) Write a Python program to add 'ing' at the end of a given string (length should be at least 3).\n",
    "If the given string already ends with 'ing' then add 'ly' instead.\n",
    "If the string length of the given string is less than 3, leave it"
   ]
  }
 ],
 "metadata": {
  "kernelspec": {
   "display_name": "Python 3 (ipykernel)",
   "language": "python",
   "name": "python3"
  },
  "language_info": {
   "codemirror_mode": {
    "name": "ipython",
    "version": 3
   },
   "file_extension": ".py",
   "mimetype": "text/x-python",
   "name": "python",
   "nbconvert_exporter": "python",
   "pygments_lexer": "ipython3",
   "version": "3.9.7"
  }
 },
 "nbformat": 4,
 "nbformat_minor": 5
}
