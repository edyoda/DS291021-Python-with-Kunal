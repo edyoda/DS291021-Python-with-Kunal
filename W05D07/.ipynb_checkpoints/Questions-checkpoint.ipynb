{
 "cells": [
  {
   "cell_type": "markdown",
   "id": "56054b3e",
   "metadata": {},
   "source": [
    "# Strings"
   ]
  },
  {
   "cell_type": "code",
   "execution_count": null,
   "id": "f2290bd8",
   "metadata": {},
   "outputs": [],
   "source": [
    "Q1) Write a Python program to count the number of characters (character frequency) in a string.\n",
    "\n",
    "Sample String : google.com'\n",
    "Expected Result : {'g': 2, 'o': 3, 'l': 1, 'e': 1, '.': 1, 'c': 1, 'm': 1}"
   ]
  },
  {
   "cell_type": "code",
   "execution_count": null,
   "id": "23e3004d",
   "metadata": {},
   "outputs": [],
   "source": [
    "Q2) Write a Python program to get a string made of the first 2 and the last 2 chars from a given a string.\n",
    "If the string length is less than 2, return instead of the empty string. \n",
    "Sample String : 'w3resource'\n",
    "Expected Result : 'w3ce'\n",
    "Sample String : 'w3'\n",
    "Expected Result : 'w3w3'\n",
    "Sample String : ' w'\n",
    "Expected Result : Empty String"
   ]
  },
  {
   "cell_type": "code",
   "execution_count": null,
   "id": "468c6e56",
   "metadata": {},
   "outputs": [],
   "source": [
    "Q3)Write a Python program to get a string from a given string where all occurrences of its \n",
    "first char have been changed to '$',except the first char itself\n",
    "Sample String : 'restart'\n",
    "Expected Result : 'resta$t'"
   ]
  },
  {
   "cell_type": "code",
   "execution_count": null,
   "id": "44677f6a",
   "metadata": {},
   "outputs": [],
   "source": [
    "Q4) Write a Python program to find the first appearance of the substring\n",
    "'not' and 'poor' from a given string, if 'not' follows the 'poor',\n",
    "replace the whole 'not'...'poor' substring with 'good'. Return the resulting string.\n",
    "\n",
    "Sample String : 'The lyrics is not that poor!'\n",
    "'The lyrics is poor!'\n",
    "Expected Result : 'The lyrics is good!'\n",
    "'The lyrics is poor!'"
   ]
  },
  {
   "cell_type": "code",
   "execution_count": null,
   "id": "2dc021b5",
   "metadata": {},
   "outputs": [],
   "source": [
    "Q5) Write a Python program that accepts a comma separated sequence of words as input\n",
    "    and prints the unique words in sorted form (alphanumerically)\n",
    "\n",
    "Sample Words : red, white, black, red, green, black\n",
    "Expected Result : black, green, red, white, red"
   ]
  },
  {
   "cell_type": "code",
   "execution_count": null,
   "id": "7e27e539",
   "metadata": {},
   "outputs": [],
   "source": [
    "**Q6) Write a Python program to count and display the vowels of a given text."
   ]
  },
  {
   "cell_type": "code",
   "execution_count": null,
   "id": "885525fe",
   "metadata": {},
   "outputs": [],
   "source": []
  },
  {
   "cell_type": "code",
   "execution_count": null,
   "id": "e3b8978c",
   "metadata": {},
   "outputs": [],
   "source": []
  },
  {
   "cell_type": "code",
   "execution_count": null,
   "id": "3fa56c17",
   "metadata": {},
   "outputs": [],
   "source": []
  },
  {
   "cell_type": "code",
   "execution_count": null,
   "id": "5f37e913",
   "metadata": {},
   "outputs": [],
   "source": []
  }
 ],
 "metadata": {
  "kernelspec": {
   "display_name": "Python 3 (ipykernel)",
   "language": "python",
   "name": "python3"
  },
  "language_info": {
   "codemirror_mode": {
    "name": "ipython",
    "version": 3
   },
   "file_extension": ".py",
   "mimetype": "text/x-python",
   "name": "python",
   "nbconvert_exporter": "python",
   "pygments_lexer": "ipython3",
   "version": "3.9.7"
  }
 },
 "nbformat": 4,
 "nbformat_minor": 5
}
