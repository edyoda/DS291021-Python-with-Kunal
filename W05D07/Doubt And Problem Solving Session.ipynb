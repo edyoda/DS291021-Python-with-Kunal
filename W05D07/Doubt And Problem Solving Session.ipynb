{
 "cells": [
  {
   "cell_type": "code",
   "execution_count": null,
   "id": "f3c9bdaa",
   "metadata": {},
   "outputs": [],
   "source": [
    "Quiz 6 -->3,4,5,6,8,9,14,18"
   ]
  },
  {
   "attachments": {
    "download.png": {
     "image/png": "[encoded data removed]"
    }
   },
   "cell_type": "markdown",
   "id": "9c1d3dea",
   "metadata": {},
   "source": [
    "## Q3\n",
    "![download.png](attachment:download.png)"
   ]
  },
  {
   "cell_type": "code",
   "execution_count": 1,
   "id": "e80ac1ff",
   "metadata": {},
   "outputs": [],
   "source": [
    "given_string = \"karthik Vanditha shabina\""
   ]
  },
  {
   "cell_type": "code",
   "execution_count": 2,
   "id": "7093f350",
   "metadata": {},
   "outputs": [
    {
     "data": {
      "text/plain": [
       "['karthik', 'Vanditha', 'shabina']"
      ]
     },
     "execution_count": 2,
     "metadata": {},
     "output_type": "execute_result"
    }
   ],
   "source": [
    "given_string.split(\" \")"
   ]
  },
  {
   "cell_type": "code",
   "execution_count": 4,
   "id": "93412b0b",
   "metadata": {},
   "outputs": [],
   "source": [
    "def test_fun(name1,name2,name3):\n",
    "    print(\"Th names of Data scientists \",name1,name2,name3)"
   ]
  },
  {
   "cell_type": "code",
   "execution_count": 9,
   "id": "fa6946dd",
   "metadata": {},
   "outputs": [
    {
     "name": "stdout",
     "output_type": "stream",
     "text": [
      "Th names of Data scientists  karthik Vanditha shabina\n"
     ]
    }
   ],
   "source": [
    "test_fun(*tuple(given_string.split(\" \")))"
   ]
  },
  {
   "cell_type": "code",
   "execution_count": 11,
   "id": "96d7b231",
   "metadata": {},
   "outputs": [
    {
     "ename": "NameError",
     "evalue": "name 'innerFun' is not defined",
     "output_type": "error",
     "traceback": [
      "\u001b[1;31m---------------------------------------------------------------------------\u001b[0m",
      "\u001b[1;31mNameError\u001b[0m                                 Traceback (most recent call last)",
      "\u001b[1;32mC:\\Users\\KUNALC~1\\AppData\\Local\\Temp/ipykernel_41556/1823818733.py\u001b[0m in \u001b[0;36m<module>\u001b[1;34m\u001b[0m\n\u001b[0;32m      8\u001b[0m     \u001b[1;32mreturn\u001b[0m \u001b[0ma\u001b[0m\u001b[1;33m\u001b[0m\u001b[1;33m\u001b[0m\u001b[0m\n\u001b[0;32m      9\u001b[0m \u001b[1;33m\u001b[0m\u001b[0m\n\u001b[1;32m---> 10\u001b[1;33m \u001b[0mresult\u001b[0m \u001b[1;33m=\u001b[0m \u001b[0minnerFun\u001b[0m\u001b[1;33m(\u001b[0m\u001b[1;36m5\u001b[0m\u001b[1;33m,\u001b[0m \u001b[1;36m10\u001b[0m\u001b[1;33m)\u001b[0m\u001b[1;33m\u001b[0m\u001b[1;33m\u001b[0m\u001b[0m\n\u001b[0m\u001b[0;32m     11\u001b[0m \u001b[0mprint\u001b[0m\u001b[1;33m(\u001b[0m\u001b[0mresult\u001b[0m\u001b[1;33m)\u001b[0m\u001b[1;33m\u001b[0m\u001b[1;33m\u001b[0m\u001b[0m\n",
      "\u001b[1;31mNameError\u001b[0m: name 'innerFun' is not defined"
     ]
    }
   ],
   "source": [
    "Q4) def outerFun(a, b):\n",
    "    \n",
    "    def innerFun(c, d):\n",
    "        return c + d\n",
    "    \n",
    "    return innerFun(a, b)\n",
    "\n",
    "    return a\n",
    "\n",
    "result = outerFun(5, 10)\n",
    "print(result)"
   ]
  },
  {
   "cell_type": "code",
   "execution_count": 12,
   "id": "9aada384",
   "metadata": {},
   "outputs": [],
   "source": [
    "def func_1(a,b):\n",
    "    return a+b"
   ]
  },
  {
   "cell_type": "code",
   "execution_count": 13,
   "id": "0ee28570",
   "metadata": {},
   "outputs": [
    {
     "data": {
      "text/plain": [
       "15"
      ]
     },
     "execution_count": 13,
     "metadata": {},
     "output_type": "execute_result"
    }
   ],
   "source": [
    "func_1(5,10)"
   ]
  },
  {
   "cell_type": "code",
   "execution_count": 18,
   "id": "bb90dff5",
   "metadata": {},
   "outputs": [
    {
     "data": {
      "text/plain": [
       "15"
      ]
     },
     "execution_count": 18,
     "metadata": {},
     "output_type": "execute_result"
    }
   ],
   "source": [
    "a = 5\n",
    "b = 10\n",
    "func_1(a,b)"
   ]
  },
  {
   "cell_type": "code",
   "execution_count": 16,
   "id": "de2e65dd",
   "metadata": {},
   "outputs": [
    {
     "data": {
      "text/plain": [
       "5"
      ]
     },
     "execution_count": 16,
     "metadata": {},
     "output_type": "execute_result"
    }
   ],
   "source": [
    "a"
   ]
  },
  {
   "cell_type": "code",
   "execution_count": 17,
   "id": "06e4ddd3",
   "metadata": {},
   "outputs": [
    {
     "data": {
      "text/plain": [
       "10"
      ]
     },
     "execution_count": 17,
     "metadata": {},
     "output_type": "execute_result"
    }
   ],
   "source": [
    "b"
   ]
  },
  {
   "cell_type": "code",
   "execution_count": null,
   "id": "98a8dc7a",
   "metadata": {},
   "outputs": [],
   "source": [
    "Python program to convert tuple into list by adding the given string after every element\n",
    "Input : test_tup = (5, 6, 7), K = \"Gfg\" \n",
    "Output : [5, 'Gfg', 6, 'Gfg', 7, 'Gfg']"
   ]
  },
  {
   "cell_type": "code",
   "execution_count": 27,
   "id": "499e276b",
   "metadata": {},
   "outputs": [],
   "source": [
    "test_tup = (5, \"Paul\", 7)\n",
    "K = \"Gfg\" "
   ]
  },
  {
   "cell_type": "code",
   "execution_count": 28,
   "id": "4bdf9bad",
   "metadata": {},
   "outputs": [],
   "source": [
    "l = []\n",
    "for i in test_tup:\n",
    "    l.append(i)\n",
    "    l.append(K)"
   ]
  },
  {
   "cell_type": "code",
   "execution_count": 30,
   "id": "a16a6e80",
   "metadata": {},
   "outputs": [],
   "source": [
    "l = range(5,10)"
   ]
  },
  {
   "cell_type": "code",
   "execution_count": 31,
   "id": "a6410fe4",
   "metadata": {},
   "outputs": [
    {
     "data": {
      "text/plain": [
       "6"
      ]
     },
     "execution_count": 31,
     "metadata": {},
     "output_type": "execute_result"
    }
   ],
   "source": [
    "l[1]"
   ]
  },
  {
   "cell_type": "code",
   "execution_count": null,
   "id": "f966ed68",
   "metadata": {},
   "outputs": [],
   "source": [
    "5 mins\n",
    "11:39AM"
   ]
  },
  {
   "cell_type": "code",
   "execution_count": 19,
   "id": "7be54cef",
   "metadata": {},
   "outputs": [
    {
     "ename": "NameError",
     "evalue": "name 'inn' is not defined",
     "output_type": "error",
     "traceback": [
      "\u001b[1;31m---------------------------------------------------------------------------\u001b[0m",
      "\u001b[1;31mNameError\u001b[0m                                 Traceback (most recent call last)",
      "\u001b[1;32mC:\\Users\\KUNALC~1\\AppData\\Local\\Temp/ipykernel_41556/4045144181.py\u001b[0m in \u001b[0;36m<module>\u001b[1;34m\u001b[0m\n\u001b[0;32m      7\u001b[0m \u001b[1;33m\u001b[0m\u001b[0m\n\u001b[0;32m      8\u001b[0m     \u001b[1;32mreturn\u001b[0m \u001b[0ma\u001b[0m\u001b[1;33m\u001b[0m\u001b[1;33m\u001b[0m\u001b[0m\n\u001b[1;32m----> 9\u001b[1;33m \u001b[0mresult\u001b[0m\u001b[1;33m=\u001b[0m\u001b[0minn\u001b[0m\u001b[1;33m(\u001b[0m\u001b[1;36m10\u001b[0m\u001b[1;33m,\u001b[0m\u001b[1;36m17\u001b[0m\u001b[1;33m)\u001b[0m\u001b[1;33m\u001b[0m\u001b[1;33m\u001b[0m\u001b[0m\n\u001b[0m\u001b[0;32m     10\u001b[0m \u001b[0mprint\u001b[0m\u001b[1;33m(\u001b[0m\u001b[0mresult\u001b[0m\u001b[1;33m)\u001b[0m\u001b[1;33m\u001b[0m\u001b[1;33m\u001b[0m\u001b[0m\n",
      "\u001b[1;31mNameError\u001b[0m: name 'inn' is not defined"
     ]
    }
   ],
   "source": [
    "def out(a,b):\n",
    "    \n",
    "    def inn(c,d):\n",
    "        return c+d\n",
    "    \n",
    "    return inn(a,b)\n",
    "    \n",
    "    return a\n",
    "result=inn(10,17)\n",
    "print(result)"
   ]
  },
  {
   "cell_type": "code",
   "execution_count": 33,
   "id": "258d3d63",
   "metadata": {},
   "outputs": [
    {
     "name": "stdout",
     "output_type": "stream",
     "text": [
      "Sarthak\n"
     ]
    },
    {
     "data": {
      "text/plain": [
       "[1, 'Sarthak', 2, 'Sarthak', 5, 'Sarthak', 7, 'Sarthak']"
      ]
     },
     "execution_count": 33,
     "metadata": {},
     "output_type": "execute_result"
    }
   ],
   "source": [
    "# Sarthak\n",
    "l=[]\n",
    "n=input()\n",
    "\n",
    "def list_fun(*t):\n",
    "    for i in t:\n",
    "        l.append(i)\n",
    "        l.append(n)\n",
    "    return l\n",
    "\n",
    "list_fun(1,2,5,7)\n"
   ]
  },
  {
   "cell_type": "code",
   "execution_count": 34,
   "id": "65970384",
   "metadata": {},
   "outputs": [
    {
     "ename": "NameError",
     "evalue": "name 'num' is not defined",
     "output_type": "error",
     "traceback": [
      "\u001b[1;31m---------------------------------------------------------------------------\u001b[0m",
      "\u001b[1;31mNameError\u001b[0m                                 Traceback (most recent call last)",
      "\u001b[1;32mC:\\Users\\KUNALC~1\\AppData\\Local\\Temp/ipykernel_41556/2852593799.py\u001b[0m in \u001b[0;36m<module>\u001b[1;34m\u001b[0m\n\u001b[0;32m      3\u001b[0m \u001b[1;33m\u001b[0m\u001b[0m\n\u001b[0;32m      4\u001b[0m \u001b[0mfun1\u001b[0m\u001b[1;33m(\u001b[0m\u001b[1;36m5\u001b[0m\u001b[1;33m)\u001b[0m\u001b[1;33m\u001b[0m\u001b[1;33m\u001b[0m\u001b[0m\n\u001b[1;32m----> 5\u001b[1;33m \u001b[0mprint\u001b[0m\u001b[1;33m(\u001b[0m\u001b[0mnum\u001b[0m\u001b[1;33m)\u001b[0m\u001b[1;33m\u001b[0m\u001b[1;33m\u001b[0m\u001b[0m\n\u001b[0m",
      "\u001b[1;31mNameError\u001b[0m: name 'num' is not defined"
     ]
    }
   ],
   "source": [
    "def fun1(num):\n",
    "    return num + 25\n",
    "\n",
    "fun1(5)\n",
    "print(num)"
   ]
  },
  {
   "cell_type": "code",
   "execution_count": 35,
   "id": "7ade2713",
   "metadata": {},
   "outputs": [],
   "source": [
    "# Shabina\n",
    "test_tup = (5, 6, 7)\n",
    "K = \"Gfg\"\n",
    "l = []\n",
    "for i in test_tup:\n",
    "     l.extend([i,K])"
   ]
  },
  {
   "cell_type": "code",
   "execution_count": 36,
   "id": "132a270b",
   "metadata": {},
   "outputs": [
    {
     "data": {
      "text/plain": [
       "[5, 'Gfg', 6, 'Gfg', 7, 'Gfg']"
      ]
     },
     "execution_count": 36,
     "metadata": {},
     "output_type": "execute_result"
    }
   ],
   "source": [
    "l"
   ]
  },
  {
   "cell_type": "markdown",
   "id": "08168852",
   "metadata": {},
   "source": [
    "# enumerate"
   ]
  },
  {
   "cell_type": "code",
   "execution_count": 63,
   "id": "c9ef1a04",
   "metadata": {},
   "outputs": [],
   "source": [
    "l = [1,2,\"Vanditha\",\"Swarnali\",\"Shabina\",\"Soham\",\"Karthik\",\"Sarthak\",5,8,9]"
   ]
  },
  {
   "cell_type": "code",
   "execution_count": 64,
   "id": "262a1f3b",
   "metadata": {},
   "outputs": [
    {
     "name": "stdout",
     "output_type": "stream",
     "text": [
      "0 2\n",
      "1 Vanditha\n",
      "2 Swarnali\n",
      "3 Shabina\n",
      "4 Soham\n",
      "5 Karthik\n",
      "6 Sarthak\n",
      "7 5\n",
      "8 8\n",
      "9 9\n"
     ]
    },
    {
     "ename": "IndexError",
     "evalue": "list index out of range",
     "output_type": "error",
     "traceback": [
      "\u001b[1;31m---------------------------------------------------------------------------\u001b[0m",
      "\u001b[1;31mIndexError\u001b[0m                                Traceback (most recent call last)",
      "\u001b[1;32mC:\\Users\\KUNALC~1\\AppData\\Local\\Temp/ipykernel_41556/1374493458.py\u001b[0m in \u001b[0;36m<module>\u001b[1;34m\u001b[0m\n\u001b[0;32m      1\u001b[0m \u001b[1;32mfor\u001b[0m \u001b[0mi\u001b[0m \u001b[1;32min\u001b[0m \u001b[0mrange\u001b[0m\u001b[1;33m(\u001b[0m\u001b[0mlen\u001b[0m\u001b[1;33m(\u001b[0m\u001b[0ml\u001b[0m\u001b[1;33m)\u001b[0m\u001b[1;33m)\u001b[0m\u001b[1;33m:\u001b[0m\u001b[1;33m\u001b[0m\u001b[1;33m\u001b[0m\u001b[0m\n\u001b[1;32m----> 2\u001b[1;33m     \u001b[0mprint\u001b[0m\u001b[1;33m(\u001b[0m\u001b[0mi\u001b[0m\u001b[1;33m,\u001b[0m\u001b[0ml\u001b[0m\u001b[1;33m[\u001b[0m\u001b[0mi\u001b[0m\u001b[1;33m+\u001b[0m\u001b[1;36m1\u001b[0m\u001b[1;33m]\u001b[0m\u001b[1;33m)\u001b[0m\u001b[1;33m\u001b[0m\u001b[1;33m\u001b[0m\u001b[0m\n\u001b[0m",
      "\u001b[1;31mIndexError\u001b[0m: list index out of range"
     ]
    }
   ],
   "source": [
    "for i in range(len(l)):\n",
    "    print(i,l[i+1])"
   ]
  },
  {
   "cell_type": "code",
   "execution_count": 52,
   "id": "047801a2",
   "metadata": {},
   "outputs": [
    {
     "name": "stdout",
     "output_type": "stream",
     "text": [
      "0 1\n",
      "1 2\n",
      "2 Vanditha\n",
      "3 Swarnali\n",
      "4 Shabina\n",
      "5 Soham\n",
      "6 Karthik\n",
      "7 Sarthak\n",
      "8 5\n",
      "9 8\n",
      "10 9\n"
     ]
    }
   ],
   "source": [
    "for akshit,soham in enumerate(l):\n",
    "    print(akshit,soham)"
   ]
  },
  {
   "cell_type": "code",
   "execution_count": null,
   "id": "73fd6f72",
   "metadata": {},
   "outputs": [],
   "source": [
    "fun1(25, 75, 55)\n",
    "fun1(10, 20)\n",
    "\n",
    "1) def fun1(**kwargs) X\n",
    "2) No, it is not possible in Python X\n",
    "3) def fun1(args*) X\n",
    "\n",
    "correct 4) def fun1(*data)"
   ]
  },
  {
   "cell_type": "code",
   "execution_count": null,
   "id": "6fb9dedd",
   "metadata": {},
   "outputs": [],
   "source": [
    "Python function always returns a value.\n",
    "\n",
    "correct True\n",
    "False"
   ]
  },
  {
   "cell_type": "code",
   "execution_count": 54,
   "id": "4bf4e2e0",
   "metadata": {},
   "outputs": [
    {
     "name": "stdout",
     "output_type": "stream",
     "text": [
      "None\n"
     ]
    }
   ],
   "source": [
    "def name():\n",
    "    pass\n",
    "\n",
    "f = name()\n",
    "print(f)"
   ]
  },
  {
   "cell_type": "code",
   "execution_count": 55,
   "id": "4703a3e9",
   "metadata": {},
   "outputs": [
    {
     "data": {
      "text/plain": [
       "NoneType"
      ]
     },
     "execution_count": 55,
     "metadata": {},
     "output_type": "execute_result"
    }
   ],
   "source": [
    "type(f)"
   ]
  },
  {
   "cell_type": "code",
   "execution_count": 56,
   "id": "295e7efc",
   "metadata": {},
   "outputs": [
    {
     "name": "stdout",
     "output_type": "stream",
     "text": [
      "\n",
      "None\n"
     ]
    }
   ],
   "source": [
    "print(print())"
   ]
  },
  {
   "cell_type": "code",
   "execution_count": 57,
   "id": "faa02cd1",
   "metadata": {},
   "outputs": [
    {
     "name": "stdout",
     "output_type": "stream",
     "text": [
      "5\n"
     ]
    },
    {
     "data": {
      "text/plain": [
       "[1, '5', 2, '5', 5, '5', 7, '5']"
      ]
     },
     "execution_count": 57,
     "metadata": {},
     "output_type": "execute_result"
    }
   ],
   "source": [
    "l=[]\n",
    "n=input()\n",
    "\n",
    "def list_fun(*t):\n",
    "    for i in t:\n",
    "        l.append(i)\n",
    "        l.append(n)\n",
    "    return l\n",
    "\n",
    "list_fun(1,2,5,7)"
   ]
  },
  {
   "cell_type": "code",
   "execution_count": 58,
   "id": "6cf8daac",
   "metadata": {},
   "outputs": [],
   "source": [
    "snehal = list_fun"
   ]
  },
  {
   "cell_type": "code",
   "execution_count": 60,
   "id": "3d3f24b9",
   "metadata": {},
   "outputs": [
    {
     "data": {
      "text/plain": [
       "[1, '5', 2, '5', 5, '5', 7, '5']"
      ]
     },
     "execution_count": 60,
     "metadata": {},
     "output_type": "execute_result"
    }
   ],
   "source": [
    "l=[]\n",
    "snehal(1,2,5,7)"
   ]
  },
  {
   "cell_type": "code",
   "execution_count": 61,
   "id": "f858df56",
   "metadata": {},
   "outputs": [
    {
     "data": {
      "text/plain": [
       "<function __main__.list_fun(*t)>"
      ]
     },
     "execution_count": 61,
     "metadata": {},
     "output_type": "execute_result"
    }
   ],
   "source": [
    "snehal"
   ]
  },
  {
   "cell_type": "code",
   "execution_count": 68,
   "id": "748bfa4d",
   "metadata": {},
   "outputs": [
    {
     "name": "stdout",
     "output_type": "stream",
     "text": [
      "emp\n",
      "salary\n"
     ]
    }
   ],
   "source": [
    "def display(**kwargs):\n",
    "    for i in kwargs:\n",
    "        print(i)\n",
    "\n",
    "display(emp=\"Kelly\", salary=9000)"
   ]
  },
  {
   "cell_type": "code",
   "execution_count": null,
   "id": "4a37da74",
   "metadata": {},
   "outputs": [],
   "source": [
    "Choose the correct Statements out of all these:\n",
    "\n",
    "a) sort() function works in place. \n",
    "For example if x.sort() is done than x will be sorted.\n",
    "\n",
    "b) sorted() function does not work in place. \n",
    "For example if x.sorted() is done, than x will not be sorted but x.sorted() \n",
    "will return a sorted form of x.\n",
    "\n",
    "c) random and math are builtin modules.\n",
    "\n",
    "d) We have to use import statement before using any builtin modules."
   ]
  },
  {
   "cell_type": "code",
   "execution_count": 74,
   "id": "7efc5dc4",
   "metadata": {},
   "outputs": [],
   "source": [
    "x = [1,2,8,0,-1]"
   ]
  },
  {
   "cell_type": "code",
   "execution_count": 71,
   "id": "a701a5a0",
   "metadata": {},
   "outputs": [
    {
     "data": {
      "text/plain": [
       "[-1, 0, 1, 2, 8]"
      ]
     },
     "execution_count": 71,
     "metadata": {},
     "output_type": "execute_result"
    }
   ],
   "source": [
    "sorted(x)"
   ]
  },
  {
   "cell_type": "code",
   "execution_count": 72,
   "id": "df79a00d",
   "metadata": {},
   "outputs": [],
   "source": [
    "x.sort()"
   ]
  },
  {
   "cell_type": "code",
   "execution_count": 73,
   "id": "b1e212b4",
   "metadata": {},
   "outputs": [
    {
     "data": {
      "text/plain": [
       "[-1, 0, 1, 2, 8]"
      ]
     },
     "execution_count": 73,
     "metadata": {},
     "output_type": "execute_result"
    }
   ],
   "source": [
    "x"
   ]
  },
  {
   "cell_type": "code",
   "execution_count": 76,
   "id": "014a99c5",
   "metadata": {},
   "outputs": [
    {
     "ename": "AttributeError",
     "evalue": "'list' object has no attribute 'sorted'",
     "output_type": "error",
     "traceback": [
      "\u001b[1;31m---------------------------------------------------------------------------\u001b[0m",
      "\u001b[1;31mAttributeError\u001b[0m                            Traceback (most recent call last)",
      "\u001b[1;32mC:\\Users\\KUNALC~1\\AppData\\Local\\Temp/ipykernel_41556/129432243.py\u001b[0m in \u001b[0;36m<module>\u001b[1;34m\u001b[0m\n\u001b[1;32m----> 1\u001b[1;33m \u001b[0my\u001b[0m \u001b[1;33m=\u001b[0m \u001b[0mx\u001b[0m\u001b[1;33m.\u001b[0m\u001b[0msorted\u001b[0m\u001b[1;33m(\u001b[0m\u001b[1;33m)\u001b[0m\u001b[1;33m\u001b[0m\u001b[1;33m\u001b[0m\u001b[0m\n\u001b[0m",
      "\u001b[1;31mAttributeError\u001b[0m: 'list' object has no attribute 'sorted'"
     ]
    }
   ],
   "source": [
    "y = x.sorted()"
   ]
  },
  {
   "attachments": {
    "download.png": {
     "image/png": "[encoded data removed]"
    }
   },
   "cell_type": "markdown",
   "id": "1c4f1dc7",
   "metadata": {},
   "source": [
    "![download.png](attachment:download.png)"
   ]
  },
  {
   "cell_type": "code",
   "execution_count": 77,
   "id": "65bf2728",
   "metadata": {},
   "outputs": [],
   "source": [
    "import re"
   ]
  },
  {
   "cell_type": "code",
   "execution_count": 82,
   "id": "4b7f7298",
   "metadata": {},
   "outputs": [],
   "source": [
    "regx = \"[A-Z]\"\n",
    "re.match(regx,\"55AASfsffwe\")"
   ]
  },
  {
   "cell_type": "code",
   "execution_count": 80,
   "id": "1a48ad55",
   "metadata": {},
   "outputs": [
    {
     "data": {
      "text/plain": [
       "<re.Match object; span=(2, 3), match='A'>"
      ]
     },
     "execution_count": 80,
     "metadata": {},
     "output_type": "execute_result"
    }
   ],
   "source": [
    "re.search(regx,\"55AASfsffwe\")"
   ]
  },
  {
   "cell_type": "code",
   "execution_count": null,
   "id": "1ed2816b",
   "metadata": {},
   "outputs": [],
   "source": [
    "15 mins Break\n",
    "12:49PM"
   ]
  },
  {
   "cell_type": "markdown",
   "id": "02b36274",
   "metadata": {},
   "source": [
    "Q1) A company decided to deduct pf of 12% of salary if year of service is less than or equal to 5 year and 24% from employee if his/her year of service is more than 5 years.\n",
    "Ask the user for their salary and year of service and print the net in-hand salary after pf deduction.\n",
    "\n",
    "Input Format:\n",
    "There will be two lines first line will be containing a single integer(Salary) and second will contain single integer (no of years).\n",
    " \n",
    "Output Format:\n",
    "There will be one line containing a integer number(In-hand salary)."
   ]
  },
  {
   "cell_type": "code",
   "execution_count": 84,
   "id": "6350d3e4",
   "metadata": {},
   "outputs": [
    {
     "name": "stdout",
     "output_type": "stream",
     "text": [
      "enter the salary:1250000\n",
      "enter the year of experience you have :6\n",
      "after dedection of your pf the final amount will be 950000.0\n"
     ]
    }
   ],
   "source": [
    "salary=int(input(\"enter the salary:\"))\n",
    "no_of_years=int(input(\"enter the year of experience you have :\"))\n",
    "if no_of_years<=5:\n",
    "    print(\"after dedection of your pf the final amount will be\",salary-((12/100)*salary))\n",
    "elif no_of_years>5:\n",
    "     print(\"after dedection of your pf the final amount will be\",salary-((24/100)*salary))"
   ]
  },
  {
   "cell_type": "code",
   "execution_count": null,
   "id": "706a4858",
   "metadata": {},
   "outputs": [],
   "source": [
    "Q2) You will be given a list you have to find sum of 2nd greatest and 2nd smallest elemnts.\n",
    "\n",
    "Input Format:\n",
    "\n",
    "First line will have space separated elements of list.\n",
    "\n",
    "Output Format:\n",
    "\n",
    "it will be an integer (sum)\n",
    "\n",
    "Sample Input 0:\n",
    "\n",
    "1 2 3 4 5 6\n",
    "\n",
    "Sample Output 0:\n",
    "\n",
    "7"
   ]
  },
  {
   "cell_type": "code",
   "execution_count": null,
   "id": "2e321638",
   "metadata": {},
   "outputs": [],
   "source": [
    "2 min 1:08 PM"
   ]
  },
  {
   "cell_type": "code",
   "execution_count": 85,
   "id": "c65a1fe3",
   "metadata": {},
   "outputs": [
    {
     "data": {
      "text/plain": [
       "7"
      ]
     },
     "execution_count": 85,
     "metadata": {},
     "output_type": "execute_result"
    }
   ],
   "source": [
    "def summ(*s):\n",
    "    \n",
    "    s=sorted(s)\n",
    "    k=s[-2]\n",
    "    m=s[1]\n",
    "    return k+m\n",
    "\n",
    "summ(1,2,3,4,5,6)\n"
   ]
  },
  {
   "cell_type": "code",
   "execution_count": 89,
   "id": "71b4a566",
   "metadata": {},
   "outputs": [
    {
     "name": "stdout",
     "output_type": "stream",
     "text": [
      "8\n"
     ]
    }
   ],
   "source": [
    "sample=[1,2,3,7,4,5,6]\n",
    "m = max(sample)\n",
    "sample.remove(m)\n",
    "m = max(sample)\n",
    "mi = min(sample)\n",
    "sample.remove(mi)\n",
    "print(max(sample)+min(sample))"
   ]
  },
  {
   "cell_type": "code",
   "execution_count": null,
   "id": "6a59dd5b",
   "metadata": {},
   "outputs": [],
   "source": [
    "Q3)You will be given two lists. You have to map these two lists into a dictionary\n",
    "\n",
    "Input Format:\n",
    "\n",
    "In first two lines conatining space seprated list elements.\n",
    "\n",
    "Output Format:\n",
    "\n",
    "Print THe dictionary"
   ]
  },
  {
   "cell_type": "code",
   "execution_count": null,
   "id": "bc1404be",
   "metadata": {},
   "outputs": [],
   "source": [
    "input: 1 5 8 7 9\n",
    "       2 5 7 9 10\n",
    "output:\n",
    "    {1:2, 5:5, 8:7, 7:9, 9:10}"
   ]
  },
  {
   "cell_type": "code",
   "execution_count": 90,
   "id": "e17c8730",
   "metadata": {},
   "outputs": [
    {
     "name": "stdout",
     "output_type": "stream",
     "text": [
      "Enter the element of list seperated by space1 5 7 9 8\n",
      "Enter the element of list seperated by space8 7 2 6 10\n"
     ]
    }
   ],
   "source": [
    "list1 = input(\"Enter the element of list seperated by space\").split(\" \")\n",
    "list2 = input(\"Enter the element of list seperated by space\").split(\" \")"
   ]
  },
  {
   "cell_type": "code",
   "execution_count": 91,
   "id": "5f75191c",
   "metadata": {},
   "outputs": [],
   "source": [
    "d = {}\n",
    "if len(list1)<=len(list2):\n",
    "    for i,val in enumerate(list1):\n",
    "        d[val] = list2[i]"
   ]
  },
  {
   "cell_type": "code",
   "execution_count": 92,
   "id": "f2f26d8d",
   "metadata": {},
   "outputs": [
    {
     "data": {
      "text/plain": [
       "{'1': '8', '5': '7', '7': '2', '9': '6', '8': '10'}"
      ]
     },
     "execution_count": 92,
     "metadata": {},
     "output_type": "execute_result"
    }
   ],
   "source": [
    "d"
   ]
  },
  {
   "cell_type": "code",
   "execution_count": 93,
   "id": "9c82c09e",
   "metadata": {},
   "outputs": [
    {
     "name": "stdout",
     "output_type": "stream",
     "text": [
      "{1: 'a', 2: 'b', 3: 'c', 4: 'd', 5: 'e'}\n"
     ]
    }
   ],
   "source": [
    "l1=[1,2,3,4,5,6]\n",
    "l2=['a','b','c','d','e']\n",
    "if len(l2)>len(l1):\n",
    "    l3 = {l1[i]:l2[i] for i in range(len(l1))}\n",
    "    print(l3)\n",
    "else:\n",
    "    l3 = {l1[i]:l2[i] for i in range(len(l2))}\n",
    "    print(l3)\n"
   ]
  },
  {
   "cell_type": "code",
   "execution_count": 99,
   "id": "8534df7b",
   "metadata": {},
   "outputs": [
    {
     "name": "stdout",
     "output_type": "stream",
     "text": [
      "['1', '5', '8', '7', '9']\n",
      "['2', '5', '7', '9', '10']\n"
     ]
    }
   ],
   "source": [
    "d={}\n",
    "l=\"1 5 8 7 9\"\n",
    "q=\"2 5 7 9 10\"\n",
    "o=l.split(\" \")\n",
    "print(o)\n",
    "r=q.split(\" \")\n",
    "print(r)\n",
    "for i,val in enumerate(o):\n",
    "    d[val]=r[i]"
   ]
  },
  {
   "cell_type": "code",
   "execution_count": 100,
   "id": "549a29a8",
   "metadata": {},
   "outputs": [
    {
     "data": {
      "text/plain": [
       "{'1': '2', '5': '5', '8': '7', '7': '9', '9': '10'}"
      ]
     },
     "execution_count": 100,
     "metadata": {},
     "output_type": "execute_result"
    }
   ],
   "source": [
    "d"
   ]
  },
  {
   "cell_type": "code",
   "execution_count": 101,
   "id": "c75384e0",
   "metadata": {},
   "outputs": [],
   "source": [
    "ar = [10, 20, 20, 10, 10, 30, 50, 10, 20]"
   ]
  },
  {
   "cell_type": "code",
   "execution_count": 102,
   "id": "de34a897",
   "metadata": {},
   "outputs": [],
   "source": [
    "count_dict = {}\n",
    "for i in ar:\n",
    "    if i in count_dict.keys():\n",
    "        count_dict[i]+=1\n",
    "    else:\n",
    "        count_dict[i]=1"
   ]
  },
  {
   "cell_type": "code",
   "execution_count": 103,
   "id": "af4dfeb4",
   "metadata": {},
   "outputs": [
    {
     "data": {
      "text/plain": [
       "{10: 4, 20: 3, 30: 1, 50: 1}"
      ]
     },
     "execution_count": 103,
     "metadata": {},
     "output_type": "execute_result"
    }
   ],
   "source": [
    "count_dict"
   ]
  },
  {
   "cell_type": "code",
   "execution_count": 114,
   "id": "836eae46",
   "metadata": {},
   "outputs": [],
   "source": [
    "count = 0\n",
    "for i in count_dict.keys():\n",
    "    if count_dict[i]>1:\n",
    "        count+=count_dict[i]//2\n",
    "    else:\n",
    "        pass"
   ]
  },
  {
   "cell_type": "code",
   "execution_count": 115,
   "id": "2e270d93",
   "metadata": {},
   "outputs": [
    {
     "data": {
      "text/plain": [
       "3"
      ]
     },
     "execution_count": 115,
     "metadata": {},
     "output_type": "execute_result"
    }
   ],
   "source": [
    "count"
   ]
  },
  {
   "cell_type": "code",
   "execution_count": 110,
   "id": "e29d3a67",
   "metadata": {},
   "outputs": [
    {
     "data": {
      "text/plain": [
       "1"
      ]
     },
     "execution_count": 110,
     "metadata": {},
     "output_type": "execute_result"
    }
   ],
   "source": [
    "3//2"
   ]
  },
  {
   "cell_type": "code",
   "execution_count": 111,
   "id": "205636b0",
   "metadata": {},
   "outputs": [
    {
     "data": {
      "text/plain": [
       "2"
      ]
     },
     "execution_count": 111,
     "metadata": {},
     "output_type": "execute_result"
    }
   ],
   "source": [
    "4//2"
   ]
  },
  {
   "cell_type": "code",
   "execution_count": null,
   "id": "7212fd6e",
   "metadata": {},
   "outputs": [],
   "source": []
  }
 ],
 "metadata": {
  "kernelspec": {
   "display_name": "Python 3 (ipykernel)",
   "language": "python",
   "name": "python3"
  },
  "language_info": {
   "codemirror_mode": {
    "name": "ipython",
    "version": 3
   },
   "file_extension": ".py",
   "mimetype": "text/x-python",
   "name": "python",
   "nbconvert_exporter": "python",
   "pygments_lexer": "ipython3",
   "version": "3.9.7"
  }
 },
 "nbformat": 4,
 "nbformat_minor": 5
}
