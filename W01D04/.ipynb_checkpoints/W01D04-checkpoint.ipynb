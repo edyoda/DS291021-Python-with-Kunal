{
 "cells": [
  {
   "cell_type": "code",
   "execution_count": null,
   "id": "cab9b97b",
   "metadata": {},
   "outputs": [],
   "source": [
    "Bullt-in Datatype\n",
    "user defined Datatypes (we are going to study later)\n",
    "Bullt-in Datatype\n",
    "    Immutable/UnChangable/Uneditable\n",
    "    1) int (all the numbers without decimal)\n",
    "    2) float (numbers with decimal values)\n",
    "    3) None\n",
    "    4) str (collection of the characters between quotes)\n",
    "    ' ' \" \" \n",
    "    ''' '''  \"\"\" \"\"\"\n",
    "    5) bool (either True or False)\n",
    "    6) tuple (collection of datatype)(ordered)\n",
    "    7) complex\n",
    "    \n",
    "    Mutable\n",
    "    1) list (ordered)\n",
    "    2) dict (it has key value pair)(unordered collection)\n",
    "    (keys should be immutable and values can be mutable or immutable)(key are unique)\n",
    "    \n",
    "    3) set (unordered collection)(its a collection of unique elements also they must be immutable)\n",
    "    (set is the collection of keys)\n",
    "    "
   ]
  },
  {
   "cell_type": "code",
   "execution_count": null,
   "id": "938fa508",
   "metadata": {},
   "outputs": [],
   "source": [
    "which of the datatypes can be considered as key for the dictionay\n",
    "int --> yes\n",
    "str --> yes\n",
    "bool --> yes\n",
    "complex --> yes\n",
    "tuple --> yes\n",
    "None --> yes\n",
    "list --> No\n",
    "set --> No\n",
    "dict --> No"
   ]
  },
  {
   "cell_type": "code",
   "execution_count": 4,
   "id": "63666385",
   "metadata": {},
   "outputs": [],
   "source": [
    "d = {10:\"Ajay\",2:\"Nikitha\",3:\"Akshit\",True:\"Adit shinde\"}"
   ]
  },
  {
   "cell_type": "code",
   "execution_count": 5,
   "id": "e0785da6",
   "metadata": {},
   "outputs": [
    {
     "data": {
      "text/plain": [
       "'Adit shinde'"
      ]
     },
     "execution_count": 5,
     "metadata": {},
     "output_type": "execute_result"
    }
   ],
   "source": [
    "d[True]"
   ]
  },
  {
   "cell_type": "code",
   "execution_count": 7,
   "id": "37d5c4d9",
   "metadata": {},
   "outputs": [
    {
     "data": {
      "text/plain": [
       "'Ajay'"
      ]
     },
     "execution_count": 7,
     "metadata": {},
     "output_type": "execute_result"
    }
   ],
   "source": [
    "d[10]"
   ]
  },
  {
   "cell_type": "code",
   "execution_count": 8,
   "id": "72a66588",
   "metadata": {},
   "outputs": [
    {
     "name": "stdout",
     "output_type": "stream",
     "text": [
      "Nikitha\n"
     ]
    }
   ],
   "source": [
    "print(d[2])"
   ]
  },
  {
   "cell_type": "code",
   "execution_count": 9,
   "id": "df4a36dc",
   "metadata": {},
   "outputs": [
    {
     "name": "stdout",
     "output_type": "stream",
     "text": [
      "Akshit\n"
     ]
    }
   ],
   "source": [
    "print(d[3])"
   ]
  },
  {
   "cell_type": "code",
   "execution_count": null,
   "id": "4b31037a",
   "metadata": {},
   "outputs": [],
   "source": [
    "[]-->keys inside Brackets are used to get values\n"
   ]
  },
  {
   "cell_type": "code",
   "execution_count": 10,
   "id": "ffd67e0f",
   "metadata": {},
   "outputs": [],
   "source": [
    "d = { 1 : \"Deepak\" ,'Number of rows' : 21 }"
   ]
  },
  {
   "cell_type": "code",
   "execution_count": 11,
   "id": "21a38cd1",
   "metadata": {},
   "outputs": [
    {
     "data": {
      "text/plain": [
       "'Deepak'"
      ]
     },
     "execution_count": 11,
     "metadata": {},
     "output_type": "execute_result"
    }
   ],
   "source": [
    "d[1]"
   ]
  },
  {
   "cell_type": "code",
   "execution_count": 12,
   "id": "baa63fae",
   "metadata": {},
   "outputs": [
    {
     "data": {
      "text/plain": [
       "21"
      ]
     },
     "execution_count": 12,
     "metadata": {},
     "output_type": "execute_result"
    }
   ],
   "source": [
    "d['Number of rows']"
   ]
  },
  {
   "cell_type": "code",
   "execution_count": 13,
   "id": "e294ca8a",
   "metadata": {},
   "outputs": [
    {
     "ename": "KeyError",
     "evalue": "21",
     "output_type": "error",
     "traceback": [
      "\u001b[1;31m---------------------------------------------------------------------------\u001b[0m",
      "\u001b[1;31mKeyError\u001b[0m                                  Traceback (most recent call last)",
      "\u001b[1;32mC:\\Users\\KUNALC~1\\AppData\\Local\\Temp/ipykernel_20548/4137183166.py\u001b[0m in \u001b[0;36m<module>\u001b[1;34m\u001b[0m\n\u001b[1;32m----> 1\u001b[1;33m \u001b[0md\u001b[0m \u001b[1;33m[\u001b[0m\u001b[1;36m21\u001b[0m\u001b[1;33m]\u001b[0m\u001b[1;33m\u001b[0m\u001b[1;33m\u001b[0m\u001b[0m\n\u001b[0m",
      "\u001b[1;31mKeyError\u001b[0m: 21"
     ]
    }
   ],
   "source": [
    "d[21]"
   ]
  },
  {
   "cell_type": "code",
   "execution_count": null,
   "id": "4ee0e469",
   "metadata": {},
   "outputs": [],
   "source": [
    "can list be a key for dictionary --> No\n",
    "beacuse List is mutable\n",
    "dictionay is mutable"
   ]
  },
  {
   "cell_type": "code",
   "execution_count": 14,
   "id": "8741e24b",
   "metadata": {},
   "outputs": [
    {
     "ename": "TypeError",
     "evalue": "unhashable type: 'dict'",
     "output_type": "error",
     "traceback": [
      "\u001b[1;31m---------------------------------------------------------------------------\u001b[0m",
      "\u001b[1;31mTypeError\u001b[0m                                 Traceback (most recent call last)",
      "\u001b[1;32mC:\\Users\\KUNALC~1\\AppData\\Local\\Temp/ipykernel_20548/4027523892.py\u001b[0m in \u001b[0;36m<module>\u001b[1;34m\u001b[0m\n\u001b[1;32m----> 1\u001b[1;33m \u001b[0md\u001b[0m \u001b[1;33m=\u001b[0m \u001b[1;33m{\u001b[0m\u001b[1;33m{\u001b[0m\u001b[1;36m2\u001b[0m\u001b[1;33m:\u001b[0m\u001b[1;34m'Sravan'\u001b[0m\u001b[1;33m}\u001b[0m\u001b[1;33m:\u001b[0m\u001b[1;34m\"edyoda\"\u001b[0m\u001b[1;33m}\u001b[0m\u001b[1;33m\u001b[0m\u001b[1;33m\u001b[0m\u001b[0m\n\u001b[0m",
      "\u001b[1;31mTypeError\u001b[0m: unhashable type: 'dict'"
     ]
    }
   ],
   "source": [
    "d = {{2:'Sravan'}:\"edyoda\"}"
   ]
  },
  {
   "cell_type": "code",
   "execution_count": 15,
   "id": "2c8cb3b0",
   "metadata": {},
   "outputs": [
    {
     "ename": "TypeError",
     "evalue": "unhashable type: 'set'",
     "output_type": "error",
     "traceback": [
      "\u001b[1;31m---------------------------------------------------------------------------\u001b[0m",
      "\u001b[1;31mTypeError\u001b[0m                                 Traceback (most recent call last)",
      "\u001b[1;32mC:\\Users\\KUNALC~1\\AppData\\Local\\Temp/ipykernel_20548/821067698.py\u001b[0m in \u001b[0;36m<module>\u001b[1;34m\u001b[0m\n\u001b[1;32m----> 1\u001b[1;33m \u001b[0md\u001b[0m \u001b[1;33m=\u001b[0m \u001b[1;33m{\u001b[0m\u001b[1;33m{\u001b[0m\u001b[1;36m1\u001b[0m\u001b[1;33m,\u001b[0m\u001b[1;36m2\u001b[0m\u001b[1;33m,\u001b[0m\u001b[1;36m3\u001b[0m\u001b[1;33m}\u001b[0m \u001b[1;33m:\u001b[0m\u001b[1;34m\"My key is a set\"\u001b[0m\u001b[1;33m}\u001b[0m\u001b[1;33m\u001b[0m\u001b[1;33m\u001b[0m\u001b[0m\n\u001b[0m",
      "\u001b[1;31mTypeError\u001b[0m: unhashable type: 'set'"
     ]
    }
   ],
   "source": [
    "d = { {1,2,3} :\"My key is a set\"}"
   ]
  },
  {
   "cell_type": "code",
   "execution_count": 16,
   "id": "a88eb0c2",
   "metadata": {},
   "outputs": [],
   "source": [
    "t = (1,1,2,2,3,3,4,4)"
   ]
  },
  {
   "cell_type": "code",
   "execution_count": 20,
   "id": "22b27435",
   "metadata": {},
   "outputs": [],
   "source": [
    "t = ([1,2,3,4,\"karthik\"],2,4,'Vaishu')"
   ]
  },
  {
   "cell_type": "code",
   "execution_count": 21,
   "id": "b5a1e5d0",
   "metadata": {},
   "outputs": [
    {
     "name": "stdout",
     "output_type": "stream",
     "text": [
      "([1, 2, 3, 4, 'karthik'], 2, 4, 'Vaishu')\n"
     ]
    }
   ],
   "source": [
    "print(t)"
   ]
  },
  {
   "cell_type": "code",
   "execution_count": 17,
   "id": "c33be4b5",
   "metadata": {},
   "outputs": [
    {
     "name": "stdout",
     "output_type": "stream",
     "text": [
      "(1, 1, 2, 2, 3, 3, 4, 4)\n"
     ]
    }
   ],
   "source": [
    "print(t)"
   ]
  },
  {
   "cell_type": "code",
   "execution_count": 18,
   "id": "ab717a61",
   "metadata": {},
   "outputs": [],
   "source": [
    "s = {1,1,2,2,3,3,4,4}"
   ]
  },
  {
   "cell_type": "code",
   "execution_count": 19,
   "id": "1c8b3d20",
   "metadata": {},
   "outputs": [
    {
     "name": "stdout",
     "output_type": "stream",
     "text": [
      "{1, 2, 3, 4}\n"
     ]
    }
   ],
   "source": [
    "print(s)"
   ]
  },
  {
   "cell_type": "code",
   "execution_count": 22,
   "id": "d943f22c",
   "metadata": {},
   "outputs": [
    {
     "ename": "TypeError",
     "evalue": "unhashable type: 'list'",
     "output_type": "error",
     "traceback": [
      "\u001b[1;31m---------------------------------------------------------------------------\u001b[0m",
      "\u001b[1;31mTypeError\u001b[0m                                 Traceback (most recent call last)",
      "\u001b[1;32mC:\\Users\\KUNALC~1\\AppData\\Local\\Temp/ipykernel_20548/4204542520.py\u001b[0m in \u001b[0;36m<module>\u001b[1;34m\u001b[0m\n\u001b[1;32m----> 1\u001b[1;33m \u001b[0ms\u001b[0m \u001b[1;33m=\u001b[0m \u001b[1;33m{\u001b[0m\u001b[1;33m[\u001b[0m\u001b[1;36m1\u001b[0m\u001b[1;33m,\u001b[0m\u001b[1;36m2\u001b[0m\u001b[1;33m,\u001b[0m\u001b[1;36m3\u001b[0m\u001b[1;33m,\u001b[0m\u001b[1;36m5\u001b[0m\u001b[1;33m]\u001b[0m\u001b[1;33m,\u001b[0m\u001b[1;36m5\u001b[0m\u001b[1;33m,\u001b[0m\u001b[1;34m'Deepak'\u001b[0m\u001b[1;33m}\u001b[0m\u001b[1;33m\u001b[0m\u001b[1;33m\u001b[0m\u001b[0m\n\u001b[0m",
      "\u001b[1;31mTypeError\u001b[0m: unhashable type: 'list'"
     ]
    }
   ],
   "source": [
    "s = {[1,2,3,5],5,'Deepak'}"
   ]
  },
  {
   "cell_type": "code",
   "execution_count": 23,
   "id": "feefb565",
   "metadata": {},
   "outputs": [],
   "source": [
    "set_inside_tuple = ({1,2,4},\"Rajveer\")"
   ]
  },
  {
   "cell_type": "code",
   "execution_count": 24,
   "id": "bf3f97da",
   "metadata": {},
   "outputs": [
    {
     "name": "stdout",
     "output_type": "stream",
     "text": [
      "({1, 2, 4}, 'Rajveer')\n"
     ]
    }
   ],
   "source": [
    "print(set_inside_tuple)"
   ]
  },
  {
   "cell_type": "code",
   "execution_count": 25,
   "id": "ad64c316",
   "metadata": {},
   "outputs": [],
   "source": [
    "tuple_inside_set = {(1,2,4,8),\"Deepak\"}"
   ]
  },
  {
   "cell_type": "code",
   "execution_count": 26,
   "id": "587d2dd0",
   "metadata": {},
   "outputs": [
    {
     "name": "stdout",
     "output_type": "stream",
     "text": [
      "{(1, 2, 4, 8), 'Deepak'}\n"
     ]
    }
   ],
   "source": [
    "print(tuple_inside_set)"
   ]
  },
  {
   "cell_type": "code",
   "execution_count": 27,
   "id": "33885153",
   "metadata": {},
   "outputs": [
    {
     "data": {
      "text/plain": [
       "NoneType"
      ]
     },
     "execution_count": 27,
     "metadata": {},
     "output_type": "execute_result"
    }
   ],
   "source": [
    "type(None)"
   ]
  },
  {
   "cell_type": "code",
   "execution_count": 28,
   "id": "918cb5d3",
   "metadata": {},
   "outputs": [],
   "source": [
    "d = { None : True }"
   ]
  },
  {
   "cell_type": "code",
   "execution_count": 29,
   "id": "469e9ef0",
   "metadata": {},
   "outputs": [
    {
     "data": {
      "text/plain": [
       "True"
      ]
     },
     "execution_count": 29,
     "metadata": {},
     "output_type": "execute_result"
    }
   ],
   "source": [
    "d[None]"
   ]
  },
  {
   "cell_type": "code",
   "execution_count": 30,
   "id": "72f3c3eb",
   "metadata": {},
   "outputs": [
    {
     "ename": "KeyError",
     "evalue": "True",
     "output_type": "error",
     "traceback": [
      "\u001b[1;31m---------------------------------------------------------------------------\u001b[0m",
      "\u001b[1;31mKeyError\u001b[0m                                  Traceback (most recent call last)",
      "\u001b[1;32mC:\\Users\\KUNALC~1\\AppData\\Local\\Temp/ipykernel_20548/1595992208.py\u001b[0m in \u001b[0;36m<module>\u001b[1;34m\u001b[0m\n\u001b[1;32m----> 1\u001b[1;33m \u001b[0md\u001b[0m\u001b[1;33m[\u001b[0m\u001b[1;32mTrue\u001b[0m\u001b[1;33m]\u001b[0m\u001b[1;33m\u001b[0m\u001b[1;33m\u001b[0m\u001b[0m\n\u001b[0m",
      "\u001b[1;31mKeyError\u001b[0m: True"
     ]
    }
   ],
   "source": [
    "d[True] "
   ]
  },
  {
   "cell_type": "code",
   "execution_count": 31,
   "id": "4bbd52fd",
   "metadata": {},
   "outputs": [],
   "source": [
    "s = {None,True}"
   ]
  },
  {
   "cell_type": "code",
   "execution_count": 32,
   "id": "2f06bde2",
   "metadata": {},
   "outputs": [
    {
     "name": "stdout",
     "output_type": "stream",
     "text": [
      "<class 'set'>\n"
     ]
    }
   ],
   "source": [
    "print(type(s))"
   ]
  },
  {
   "cell_type": "code",
   "execution_count": 34,
   "id": "77ac7fd7",
   "metadata": {},
   "outputs": [],
   "source": [
    "a = complex(1,2)"
   ]
  },
  {
   "cell_type": "code",
   "execution_count": 35,
   "id": "0a3c8f59",
   "metadata": {},
   "outputs": [
    {
     "name": "stdout",
     "output_type": "stream",
     "text": [
      "(1+2j)\n"
     ]
    }
   ],
   "source": [
    "print(a)"
   ]
  },
  {
   "cell_type": "code",
   "execution_count": 36,
   "id": "5487268e",
   "metadata": {},
   "outputs": [
    {
     "name": "stdout",
     "output_type": "stream",
     "text": [
      "<class 'complex'>\n"
     ]
    }
   ],
   "source": [
    "print(type(a))"
   ]
  },
  {
   "cell_type": "code",
   "execution_count": 37,
   "id": "47b0d83e",
   "metadata": {},
   "outputs": [],
   "source": [
    "b = complex(0,60)"
   ]
  },
  {
   "cell_type": "code",
   "execution_count": 38,
   "id": "2beec7c8",
   "metadata": {},
   "outputs": [
    {
     "name": "stdout",
     "output_type": "stream",
     "text": [
      "60j\n"
     ]
    }
   ],
   "source": [
    "print(b)"
   ]
  },
  {
   "cell_type": "code",
   "execution_count": null,
   "id": "57dd6b49",
   "metadata": {},
   "outputs": [],
   "source": [
    "complex(real part, imaginary part)"
   ]
  },
  {
   "cell_type": "code",
   "execution_count": 39,
   "id": "d6b660cb",
   "metadata": {},
   "outputs": [
    {
     "data": {
      "text/plain": [
       "2"
      ]
     },
     "execution_count": 39,
     "metadata": {},
     "output_type": "execute_result"
    }
   ],
   "source": [
    "len(s) --> it is used to find the length of any collection"
   ]
  },
  {
   "cell_type": "code",
   "execution_count": null,
   "id": "b4126467",
   "metadata": {},
   "outputs": [],
   "source": [
    "set\n",
    "tuple\n",
    "list\n",
    "dict\n",
    "str"
   ]
  },
  {
   "cell_type": "code",
   "execution_count": 40,
   "id": "545acc18",
   "metadata": {},
   "outputs": [],
   "source": [
    "name = \"Deepak\""
   ]
  },
  {
   "cell_type": "code",
   "execution_count": 41,
   "id": "f3dfedf7",
   "metadata": {},
   "outputs": [
    {
     "name": "stdout",
     "output_type": "stream",
     "text": [
      "6\n"
     ]
    }
   ],
   "source": [
    "print(len(name))"
   ]
  },
  {
   "attachments": {},
   "cell_type": "markdown",
   "id": "65d60e5f",
   "metadata": {},
   "source": [
    "# How Objects are stored in memory"
   ]
  },
  {
   "cell_type": "code",
   "execution_count": null,
   "id": "07a1e857",
   "metadata": {},
   "outputs": [],
   "source": [
    "completed"
   ]
  },
  {
   "cell_type": "markdown",
   "id": "00f763b3",
   "metadata": {},
   "source": [
    "# Variable Assignment"
   ]
  },
  {
   "cell_type": "code",
   "execution_count": null,
   "id": "061237fb",
   "metadata": {},
   "outputs": [],
   "source": [
    "left hand side we have variable = right hand side we have values"
   ]
  },
  {
   "cell_type": "code",
   "execution_count": 42,
   "id": "a9ed4eea",
   "metadata": {},
   "outputs": [],
   "source": [
    "l = [1,2,\"Deepak\",\"Raju\",\"Praveen\",\"Prashant\"]"
   ]
  },
  {
   "cell_type": "code",
   "execution_count": 43,
   "id": "00e50acd",
   "metadata": {},
   "outputs": [],
   "source": [
    "l[1] = \"neha\""
   ]
  },
  {
   "cell_type": "code",
   "execution_count": 44,
   "id": "b13e551f",
   "metadata": {},
   "outputs": [
    {
     "name": "stdout",
     "output_type": "stream",
     "text": [
      "[1, 'neha', 'Deepak', 'Raju', 'Praveen', 'Prashant']\n"
     ]
    }
   ],
   "source": [
    "print(l)"
   ]
  },
  {
   "cell_type": "code",
   "execution_count": null,
   "id": "126452aa",
   "metadata": {},
   "outputs": [],
   "source": []
  }
 ],
 "metadata": {
  "kernelspec": {
   "display_name": "Python 3 (ipykernel)",
   "language": "python",
   "name": "python3"
  },
  "language_info": {
   "codemirror_mode": {
    "name": "ipython",
    "version": 3
   },
   "file_extension": ".py",
   "mimetype": "text/x-python",
   "name": "python",
   "nbconvert_exporter": "python",
   "pygments_lexer": "ipython3",
   "version": "3.9.7"
  }
 },
 "nbformat": 4,
 "nbformat_minor": 5
}
