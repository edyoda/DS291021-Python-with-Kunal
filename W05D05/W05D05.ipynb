{
 "cells": [
  {
   "cell_type": "code",
   "execution_count": 2,
   "id": "b0f7de22",
   "metadata": {},
   "outputs": [
    {
     "data": {
      "text/plain": [
       "['@ggdh.com', '@5.com', '@oscari.com', '@fan.com', '@a.com', '@3.com']"
      ]
     },
     "execution_count": 2,
     "metadata": {},
     "output_type": "execute_result"
    }
   ],
   "source": [
    "import re\n",
    "l=\"jhkj2.comjhkh@ggdh.comjhu@5.comjhj@oscari.comjj@fan.comb@a.comjd@3.com\"\n",
    "match=\"@[a-z0-9]+.com\"\n",
    "re.findall(match,l)\n"
   ]
  },
  {
   "cell_type": "code",
   "execution_count": 7,
   "id": "f2998326",
   "metadata": {},
   "outputs": [
    {
     "data": {
      "text/plain": [
       "['A', 'B', 'S', 'J', 'D', 'k', 's', 'k', 's', 'j', 'd', '5', '9', '8']"
      ]
     },
     "execution_count": 7,
     "metadata": {},
     "output_type": "execute_result"
    }
   ],
   "source": [
    "match=\"[A-z0-9]\"\n",
    "re.findall(match,\"ABSJDksksjd598\")"
   ]
  },
  {
   "cell_type": "code",
   "execution_count": null,
   "id": "24b981b5",
   "metadata": {},
   "outputs": [],
   "source": [
    "^ --> start anchor"
   ]
  },
  {
   "cell_type": "code",
   "execution_count": 14,
   "id": "ff35605b",
   "metadata": {},
   "outputs": [
    {
     "name": "stdout",
     "output_type": "stream",
     "text": [
      "appasdjasdon7\n",
      "apprajses7\n",
      "appmango7\n",
      "app7\n"
     ]
    }
   ],
   "source": [
    "string_list = [\"appasdjasdon7\",\"apprajses7\",\"appubhb7jmn\",\"appmango7\",\"app7\",\"jgyapptcgjg7\"]\n",
    "regx = \"^app.*7$\"\n",
    "for i in string_list:\n",
    "    if re.search(regx,i):\n",
    "        print(i)"
   ]
  },
  {
   "cell_type": "code",
   "execution_count": null,
   "id": "f0f94a4d",
   "metadata": {},
   "outputs": [],
   "source": [
    "? --> optional [this makes greedy non greedy]"
   ]
  },
  {
   "cell_type": "code",
   "execution_count": 15,
   "id": "841a0fe2",
   "metadata": {},
   "outputs": [],
   "source": [
    "string = \"<html><head><title> Python class </title></head><body><p>Adit don't worry we will be understanding</p></body></html>\""
   ]
  },
  {
   "cell_type": "code",
   "execution_count": 16,
   "id": "801002ed",
   "metadata": {},
   "outputs": [
    {
     "data": {
      "text/plain": [
       "[\"<html><head><title> Python class </title></head><body><p>Adit don't worry we will be understanding</p></body></html>\"]"
      ]
     },
     "execution_count": 16,
     "metadata": {},
     "output_type": "execute_result"
    }
   ],
   "source": [
    "regx=\"<.+>\"\n",
    "re.findall(regx,string)"
   ]
  },
  {
   "cell_type": "code",
   "execution_count": 17,
   "id": "302d5f82",
   "metadata": {},
   "outputs": [
    {
     "data": {
      "text/plain": [
       "[\"<html><head><title> Python class </title></head><body><p>Adit don't worry we will be understanding</p></body></html>\"]"
      ]
     },
     "execution_count": 17,
     "metadata": {},
     "output_type": "execute_result"
    }
   ],
   "source": [
    "regx=\"^<.*>$\"\n",
    "re.findall(regx,string)"
   ]
  },
  {
   "cell_type": "code",
   "execution_count": 19,
   "id": "b4f9454b",
   "metadata": {},
   "outputs": [
    {
     "data": {
      "text/plain": [
       "['<html>',\n",
       " '<head>',\n",
       " '<title>',\n",
       " '</title>',\n",
       " '</head>',\n",
       " '<body>',\n",
       " '</p>',\n",
       " '</body>',\n",
       " '</html>']"
      ]
     },
     "execution_count": 19,
     "metadata": {},
     "output_type": "execute_result"
    }
   ],
   "source": [
    "regx=\"<.[a-z]+>\"\n",
    "re.findall(regx,string)"
   ]
  },
  {
   "cell_type": "code",
   "execution_count": 20,
   "id": "843c05ad",
   "metadata": {},
   "outputs": [
    {
     "data": {
      "text/plain": [
       "[\"<html><head><title> Python class </title></head><body><p>Adit don't worry we will be understanding</p></body></html>\"]"
      ]
     },
     "execution_count": 20,
     "metadata": {},
     "output_type": "execute_result"
    }
   ],
   "source": [
    "regx = '^<.+'\n",
    "re.findall(regx,string)"
   ]
  },
  {
   "cell_type": "code",
   "execution_count": 21,
   "id": "5fe91009",
   "metadata": {},
   "outputs": [
    {
     "data": {
      "text/plain": [
       "['<html>',\n",
       " '<head>',\n",
       " '<title>',\n",
       " '</title>',\n",
       " '</head>',\n",
       " '<body>',\n",
       " '<p>',\n",
       " '</p>',\n",
       " '</body>',\n",
       " '</html>']"
      ]
     },
     "execution_count": 21,
     "metadata": {},
     "output_type": "execute_result"
    }
   ],
   "source": [
    "regx=\"<.+?>\"\n",
    "re.findall(regx,string)"
   ]
  },
  {
   "cell_type": "code",
   "execution_count": 22,
   "id": "30bdbbbd",
   "metadata": {},
   "outputs": [
    {
     "data": {
      "text/plain": [
       "['<html>',\n",
       " '<head>',\n",
       " '<title>',\n",
       " '</title>',\n",
       " '</head>',\n",
       " '<body>',\n",
       " '<p>',\n",
       " '</p>',\n",
       " '</body>',\n",
       " '</html>']"
      ]
     },
     "execution_count": 22,
     "metadata": {},
     "output_type": "execute_result"
    }
   ],
   "source": [
    "regx=\"<.*?>\"\n",
    "re.findall(regx,string)"
   ]
  },
  {
   "cell_type": "code",
   "execution_count": 24,
   "id": "f38e590d",
   "metadata": {},
   "outputs": [
    {
     "data": {
      "text/plain": [
       "['cc', 'c', 'dd', 'e', 'e']"
      ]
     },
     "execution_count": 24,
     "metadata": {},
     "output_type": "execute_result"
    }
   ],
   "source": [
    "string = 'ccc dd ee'\n",
    "re.findall('[cd]?[cde]',string)"
   ]
  },
  {
   "cell_type": "code",
   "execution_count": 25,
   "id": "a45bdac3",
   "metadata": {},
   "outputs": [
    {
     "data": {
      "text/plain": [
       "['cc', 'c', '', 'dd', '', 'e', 'e', '']"
      ]
     },
     "execution_count": 25,
     "metadata": {},
     "output_type": "execute_result"
    }
   ],
   "source": [
    "string = 'ccc dd ee'\n",
    "re.findall('[cd]?[cde]?',string)"
   ]
  },
  {
   "cell_type": "code",
   "execution_count": 37,
   "id": "2b9e66dd",
   "metadata": {},
   "outputs": [
    {
     "data": {
      "text/plain": [
       "<re.Match object; span=(0, 5), match='anita'>"
      ]
     },
     "execution_count": 37,
     "metadata": {},
     "output_type": "execute_result"
    }
   ],
   "source": [
    "string = \"anita\"\n",
    "regx = \"V?and?itaa?\"\n",
    "re.search(regx,string)"
   ]
  },
  {
   "cell_type": "markdown",
   "id": "c9eeb16d",
   "metadata": {},
   "source": [
    "# Map"
   ]
  },
  {
   "cell_type": "code",
   "execution_count": null,
   "id": "472907af",
   "metadata": {},
   "outputs": [],
   "source": [
    "map(fun_name, iterable)\n",
    "\n",
    "iterable:\n",
    "    str,dict,list,tuple etc"
   ]
  },
  {
   "cell_type": "code",
   "execution_count": null,
   "id": "1c2e4a7c",
   "metadata": {},
   "outputs": [],
   "source": [
    "def func_name(l):\n",
    "    # statements\n",
    "    return type"
   ]
  },
  {
   "cell_type": "code",
   "execution_count": 54,
   "id": "6fa633eb",
   "metadata": {},
   "outputs": [],
   "source": [
    "list_number = [1,2,3,4,5,6]\n",
    "list_number2 = [3,4,5,6]\n",
    "def square(number,num2):\n",
    "    return number*num2\n",
    "\n",
    "z = set(map(square, list_number, list_number2))"
   ]
  },
  {
   "cell_type": "code",
   "execution_count": 55,
   "id": "17880604",
   "metadata": {},
   "outputs": [
    {
     "data": {
      "text/plain": [
       "{3, 8, 15, 24}"
      ]
     },
     "execution_count": 55,
     "metadata": {},
     "output_type": "execute_result"
    }
   ],
   "source": [
    "z"
   ]
  },
  {
   "cell_type": "code",
   "execution_count": 47,
   "id": "0a056095",
   "metadata": {},
   "outputs": [],
   "source": [
    "j = []\n",
    "for i in list_number:\n",
    "    j.append(square(i))"
   ]
  },
  {
   "cell_type": "code",
   "execution_count": 48,
   "id": "4d386508",
   "metadata": {},
   "outputs": [
    {
     "data": {
      "text/plain": [
       "[1, 4, 9, 16, 25, 36]"
      ]
     },
     "execution_count": 48,
     "metadata": {},
     "output_type": "execute_result"
    }
   ],
   "source": [
    "j"
   ]
  },
  {
   "cell_type": "code",
   "execution_count": 57,
   "id": "dbbcdc56",
   "metadata": {},
   "outputs": [],
   "source": [
    "list_string = [\"string\",\"string1\",\"string12\",\"string113\",\"string\"]"
   ]
  },
  {
   "cell_type": "code",
   "execution_count": 58,
   "id": "8b1b74a3",
   "metadata": {},
   "outputs": [
    {
     "data": {
      "text/plain": [
       "[6, 7, 8, 9, 6]"
      ]
     },
     "execution_count": 58,
     "metadata": {},
     "output_type": "execute_result"
    }
   ],
   "source": [
    "list(map(len,list_string))"
   ]
  },
  {
   "cell_type": "code",
   "execution_count": 62,
   "id": "dca2cd55",
   "metadata": {},
   "outputs": [
    {
     "name": "stdout",
     "output_type": "stream",
     "text": [
      "5\n"
     ]
    }
   ],
   "source": [
    "s = int(input())"
   ]
  },
  {
   "cell_type": "code",
   "execution_count": 63,
   "id": "dd36246f",
   "metadata": {},
   "outputs": [
    {
     "data": {
      "text/plain": [
       "int"
      ]
     },
     "execution_count": 63,
     "metadata": {},
     "output_type": "execute_result"
    }
   ],
   "source": [
    "type(s)"
   ]
  },
  {
   "cell_type": "code",
   "execution_count": 64,
   "id": "1e62aa7d",
   "metadata": {},
   "outputs": [
    {
     "data": {
      "text/plain": [
       "5"
      ]
     },
     "execution_count": 64,
     "metadata": {},
     "output_type": "execute_result"
    }
   ],
   "source": [
    "s"
   ]
  },
  {
   "cell_type": "code",
   "execution_count": 69,
   "id": "75e67fbe",
   "metadata": {},
   "outputs": [
    {
     "name": "stdout",
     "output_type": "stream",
     "text": [
      "5 8 9 4 6\n"
     ]
    },
    {
     "ename": "TypeError",
     "evalue": "int() argument must be a string, a bytes-like object or a number, not 'list'",
     "output_type": "error",
     "traceback": [
      "\u001b[1;31m---------------------------------------------------------------------------\u001b[0m",
      "\u001b[1;31mTypeError\u001b[0m                                 Traceback (most recent call last)",
      "\u001b[1;32mC:\\Users\\KUNALC~1\\AppData\\Local\\Temp/ipykernel_3900/641098769.py\u001b[0m in \u001b[0;36m<module>\u001b[1;34m\u001b[0m\n\u001b[1;32m----> 1\u001b[1;33m \u001b[0mlist_of_integers\u001b[0m \u001b[1;33m=\u001b[0m \u001b[0mint\u001b[0m\u001b[1;33m(\u001b[0m\u001b[0minput\u001b[0m\u001b[1;33m(\u001b[0m\u001b[1;33m)\u001b[0m\u001b[1;33m.\u001b[0m\u001b[0msplit\u001b[0m\u001b[1;33m(\u001b[0m\u001b[1;34m\" \"\u001b[0m\u001b[1;33m)\u001b[0m\u001b[1;33m)\u001b[0m\u001b[1;33m\u001b[0m\u001b[1;33m\u001b[0m\u001b[0m\n\u001b[0m",
      "\u001b[1;31mTypeError\u001b[0m: int() argument must be a string, a bytes-like object or a number, not 'list'"
     ]
    }
   ],
   "source": [
    "list_of_integers = int(input().split(\" \"))"
   ]
  },
  {
   "cell_type": "code",
   "execution_count": 66,
   "id": "e9e738fe",
   "metadata": {},
   "outputs": [
    {
     "data": {
      "text/plain": [
       "['5', '4', '87', '9', '6']"
      ]
     },
     "execution_count": 66,
     "metadata": {},
     "output_type": "execute_result"
    }
   ],
   "source": [
    "list_of_integers"
   ]
  },
  {
   "cell_type": "code",
   "execution_count": 67,
   "id": "4a2e740e",
   "metadata": {},
   "outputs": [
    {
     "name": "stdout",
     "output_type": "stream",
     "text": [
      "5 4 87 9 6\n"
     ]
    }
   ],
   "source": [
    "list_of_integers = list(map(int,input().split(\" \")))"
   ]
  },
  {
   "cell_type": "code",
   "execution_count": 68,
   "id": "886d239f",
   "metadata": {},
   "outputs": [
    {
     "data": {
      "text/plain": [
       "[5, 4, 87, 9, 6]"
      ]
     },
     "execution_count": 68,
     "metadata": {},
     "output_type": "execute_result"
    }
   ],
   "source": [
    "list_of_integers"
   ]
  },
  {
   "cell_type": "markdown",
   "id": "1a535987",
   "metadata": {},
   "source": [
    "# Filter"
   ]
  },
  {
   "cell_type": "code",
   "execution_count": 70,
   "id": "01596d4b",
   "metadata": {},
   "outputs": [],
   "source": [
    "number = [1,2,3,4,5,6]\n",
    "\n",
    "def even_values(num):\n",
    "    return num%2==0\n",
    "list2 = []\n",
    "\n",
    "for i in number:\n",
    "    if even_values(i):\n",
    "        list2.append(i)\n",
    "    else:\n",
    "        pass"
   ]
  },
  {
   "cell_type": "code",
   "execution_count": 71,
   "id": "90f0713f",
   "metadata": {},
   "outputs": [
    {
     "data": {
      "text/plain": [
       "[2, 4, 6]"
      ]
     },
     "execution_count": 71,
     "metadata": {},
     "output_type": "execute_result"
    }
   ],
   "source": [
    "list2"
   ]
  },
  {
   "cell_type": "code",
   "execution_count": null,
   "id": "d5bf4466",
   "metadata": {},
   "outputs": [],
   "source": [
    "filter(func, iterable)"
   ]
  },
  {
   "cell_type": "code",
   "execution_count": 73,
   "id": "de4ae9e6",
   "metadata": {},
   "outputs": [],
   "source": [
    "even_list = list(filter(even_values, number))"
   ]
  },
  {
   "cell_type": "code",
   "execution_count": 74,
   "id": "e14bbb66",
   "metadata": {},
   "outputs": [
    {
     "data": {
      "text/plain": [
       "[2, 4, 6]"
      ]
     },
     "execution_count": 74,
     "metadata": {},
     "output_type": "execute_result"
    }
   ],
   "source": [
    "even_list"
   ]
  },
  {
   "cell_type": "code",
   "execution_count": 75,
   "id": "09ba5be0",
   "metadata": {},
   "outputs": [],
   "source": [
    "l = list(map(even_values, number))"
   ]
  },
  {
   "cell_type": "code",
   "execution_count": 76,
   "id": "3936703b",
   "metadata": {},
   "outputs": [
    {
     "data": {
      "text/plain": [
       "[False, True, False, True, False, True]"
      ]
     },
     "execution_count": 76,
     "metadata": {},
     "output_type": "execute_result"
    }
   ],
   "source": [
    "l"
   ]
  },
  {
   "cell_type": "code",
   "execution_count": 79,
   "id": "7cf235c4",
   "metadata": {},
   "outputs": [
    {
     "data": {
      "text/plain": [
       "[0, 1, 6, 7, 5]"
      ]
     },
     "execution_count": 79,
     "metadata": {},
     "output_type": "execute_result"
    }
   ],
   "source": [
    "l = [2,3,8,9,7]\n",
    "\n",
    "def sub(arg):\n",
    "    return arg-2\n",
    "\n",
    "list(map(sub,l))"
   ]
  },
  {
   "cell_type": "code",
   "execution_count": 80,
   "id": "e453c883",
   "metadata": {},
   "outputs": [
    {
     "data": {
      "text/plain": [
       "[3, 8, 9, 7]"
      ]
     },
     "execution_count": 80,
     "metadata": {},
     "output_type": "execute_result"
    }
   ],
   "source": [
    "list(filter(sub,l))"
   ]
  },
  {
   "cell_type": "code",
   "execution_count": 82,
   "id": "f1e814ba",
   "metadata": {},
   "outputs": [
    {
     "data": {
      "text/plain": [
       "[8, 27, 512, 729, 343]"
      ]
     },
     "execution_count": 82,
     "metadata": {},
     "output_type": "execute_result"
    }
   ],
   "source": [
    "l = [2,3,8,9,7]\n",
    "\n",
    "def cube(arg):\n",
    "    return arg*arg*arg\n",
    "\n",
    "list(map(cube,l))"
   ]
  },
  {
   "cell_type": "code",
   "execution_count": 83,
   "id": "6dd877bd",
   "metadata": {},
   "outputs": [
    {
     "data": {
      "text/plain": [
       "[2, 3, 8, 9, 7]"
      ]
     },
     "execution_count": 83,
     "metadata": {},
     "output_type": "execute_result"
    }
   ],
   "source": [
    "list(filter(cube,l))"
   ]
  },
  {
   "cell_type": "code",
   "execution_count": 84,
   "id": "03b19301",
   "metadata": {},
   "outputs": [],
   "source": [
    "l = [1,84,5,121,54,0,158]"
   ]
  },
  {
   "cell_type": "code",
   "execution_count": null,
   "id": "c3a479e6",
   "metadata": {},
   "outputs": [],
   "source": [
    "print a list of those numbers which are less than 100 from list l"
   ]
  },
  {
   "cell_type": "code",
   "execution_count": 85,
   "id": "625c5a2f",
   "metadata": {},
   "outputs": [],
   "source": [
    "def less_than_100(num):\n",
    "    return num<100"
   ]
  },
  {
   "cell_type": "code",
   "execution_count": 86,
   "id": "a2c8a30c",
   "metadata": {},
   "outputs": [
    {
     "data": {
      "text/plain": [
       "[1, 84, 5, 54, 0]"
      ]
     },
     "execution_count": 86,
     "metadata": {},
     "output_type": "execute_result"
    }
   ],
   "source": [
    "list(filter(less_than_100,l))"
   ]
  },
  {
   "cell_type": "code",
   "execution_count": null,
   "id": "b712816b",
   "metadata": {},
   "outputs": [],
   "source": [
    "list_of_string = [\"sd\",\"dgsd\",\"sfwdfjew\",\"ssnwejnasn\",\"sdfhsnufjs\",\"df\",\"dsf\",\"sfdfdf\"]\n",
    "\n",
    "# Print a list of string containing string of length greater than 2\n",
    "# print a list of the lenghts of all the string in original list"
   ]
  },
  {
   "cell_type": "code",
   "execution_count": null,
   "id": "da51412a",
   "metadata": {},
   "outputs": [],
   "source": [
    "9:40 PM"
   ]
  },
  {
   "cell_type": "code",
   "execution_count": 87,
   "id": "fe1ecefb",
   "metadata": {},
   "outputs": [],
   "source": [
    "list_of_string = [\"sd\",\"dgsd\",\"sfwdfjew\",\"ssnwejnasn\",\"sdfhsnufjs\",\"df\",\"dsf\",\"sfdfdf\"]\n"
   ]
  },
  {
   "cell_type": "code",
   "execution_count": 88,
   "id": "7dc07cef",
   "metadata": {},
   "outputs": [],
   "source": [
    "def len_greater_than_two(num):\n",
    "    return len(num)>2"
   ]
  },
  {
   "cell_type": "code",
   "execution_count": 89,
   "id": "fe173e30",
   "metadata": {},
   "outputs": [
    {
     "data": {
      "text/plain": [
       "['dgsd', 'sfwdfjew', 'ssnwejnasn', 'sdfhsnufjs', 'dsf', 'sfdfdf']"
      ]
     },
     "execution_count": 89,
     "metadata": {},
     "output_type": "execute_result"
    }
   ],
   "source": [
    "list(filter(len_greater_than_two, list_of_string))"
   ]
  },
  {
   "cell_type": "code",
   "execution_count": 90,
   "id": "4cac340f",
   "metadata": {},
   "outputs": [
    {
     "data": {
      "text/plain": [
       "[2, 4, 8, 10, 10, 2, 3, 6]"
      ]
     },
     "execution_count": 90,
     "metadata": {},
     "output_type": "execute_result"
    }
   ],
   "source": [
    "list(map(len, list_of_string))"
   ]
  },
  {
   "cell_type": "code",
   "execution_count": 91,
   "id": "bcc24d81",
   "metadata": {},
   "outputs": [
    {
     "data": {
      "text/plain": [
       "8"
      ]
     },
     "execution_count": 91,
     "metadata": {},
     "output_type": "execute_result"
    }
   ],
   "source": [
    "len(list_of_string)"
   ]
  },
  {
   "cell_type": "code",
   "execution_count": 92,
   "id": "6ed5279f",
   "metadata": {},
   "outputs": [
    {
     "data": {
      "text/plain": [
       "<map at 0x14ffc79b820>"
      ]
     },
     "execution_count": 92,
     "metadata": {},
     "output_type": "execute_result"
    }
   ],
   "source": [
    "map(len, list_of_string)"
   ]
  },
  {
   "cell_type": "code",
   "execution_count": 93,
   "id": "ea46e85f",
   "metadata": {},
   "outputs": [
    {
     "data": {
      "text/plain": [
       "<filter at 0x14ffc785880>"
      ]
     },
     "execution_count": 93,
     "metadata": {},
     "output_type": "execute_result"
    }
   ],
   "source": [
    "filter(len_greater_than_two, list_of_string)"
   ]
  },
  {
   "cell_type": "code",
   "execution_count": null,
   "id": "25f0dcf2",
   "metadata": {},
   "outputs": [],
   "source": []
  }
 ],
 "metadata": {
  "kernelspec": {
   "display_name": "Python 3 (ipykernel)",
   "language": "python",
   "name": "python3"
  },
  "language_info": {
   "codemirror_mode": {
    "name": "ipython",
    "version": 3
   },
   "file_extension": ".py",
   "mimetype": "text/x-python",
   "name": "python",
   "nbconvert_exporter": "python",
   "pygments_lexer": "ipython3",
   "version": "3.9.7"
  }
 },
 "nbformat": 4,
 "nbformat_minor": 5
}
