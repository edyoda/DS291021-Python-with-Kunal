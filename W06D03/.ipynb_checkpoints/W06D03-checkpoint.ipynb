{
 "cells": [
  {
   "cell_type": "code",
   "execution_count": null,
   "id": "c73b485f",
   "metadata": {},
   "outputs": [],
   "source": [
    "class Student:\n",
    "    college_name = \"Edyoda\"\n",
    "    def __init__(self):\n",
    "        self.name = \"\"\n",
    "        self.roll = 0\n",
    "\n",
    "obj1 = Student()\n",
    "\n",
    "obj2 = Student()\n",
    "\n",
    "obj1.name = \"Karthik\"\n",
    "obj2.roll = 30\n",
    "obj2.name = \"Aditya\"\n",
    "obj1.college_name = \"Edyoda Digital University\"\n",
    "\n",
    "Student.college_name = \"Edyoda Republic School\"\n",
    "obj1.college_name = \"\""
   ]
  },
  {
   "cell_type": "code",
   "execution_count": 8,
   "id": "b8c1ff23",
   "metadata": {},
   "outputs": [],
   "source": [
    "class FamilyMembers:\n",
    "    familyname = \"Stark\"\n",
    "    values = \"good\"\n",
    "    kids = 0\n",
    "    def __init__(self):\n",
    "        self.name = \"\"\n",
    "        self.gender = \"F\"\n",
    "        self.relation_list = []\n",
    "    def set_name(self,name):\n",
    "        self.name = name\n",
    "    def set_gender(self,gender):\n",
    "        self.gender = gender\n",
    "        \n",
    "    @classmethod\n",
    "    def set_kids(cls,no_of_kids):\n",
    "        cls.kids = no_of_kids\n",
    "        \n",
    "    def set_relation_list(self,relation):\n",
    "        self.relation_list.append(relation)\n",
    "    \n",
    "    def get_name(self):\n",
    "        return self.name\n",
    "    def get_gender(self):\n",
    "        return self.gender\n",
    "    \n",
    "    def get_kids(self):\n",
    "        return self.kids\n",
    "    def get_relation(self):\n",
    "        for i in self.relation_list:\n",
    "            print(i)"
   ]
  },
  {
   "cell_type": "code",
   "execution_count": 9,
   "id": "38f22ae2",
   "metadata": {},
   "outputs": [],
   "source": [
    "a = FamilyMembers()"
   ]
  },
  {
   "cell_type": "code",
   "execution_count": 10,
   "id": "e398ba00",
   "metadata": {},
   "outputs": [
    {
     "name": "stdout",
     "output_type": "stream",
     "text": [
      "Enter the Name of Family member: Mother\n",
      "Enter the Gender: F\n",
      "Enter the members in numbers: 2\n",
      "Enter the relation2\n"
     ]
    }
   ],
   "source": [
    "a.set_name(input(\"Enter the Name of Family member: \"))\n",
    "a.set_gender(input(\"Enter the Gender: \"))\n",
    "a.set_kids(3)\n",
    "no_of_relations = int(input(\"Enter the members in numbers: \"))\n",
    "\n",
    "for i in range(no_of_relations-1):\n",
    "    a.set_relation_list(input(\"Enter the relation\"))"
   ]
  },
  {
   "cell_type": "code",
   "execution_count": 11,
   "id": "82b5db0c",
   "metadata": {},
   "outputs": [
    {
     "data": {
      "text/plain": [
       "{'name': 'Mother', 'gender': 'F', 'kids': 3, 'relation_list': ['2']}"
      ]
     },
     "execution_count": 11,
     "metadata": {},
     "output_type": "execute_result"
    }
   ],
   "source": [
    "a.__dict__"
   ]
  },
  {
   "cell_type": "code",
   "execution_count": 47,
   "id": "b518e034",
   "metadata": {},
   "outputs": [],
   "source": [
    "class Person:\n",
    "    Species = \"Homosapiens\"\n",
    "    def __init__(self,gender):\n",
    "        print(\"Family is blessed with baby \",gender)\n",
    "        self.gender = gender\n",
    "        self.friend = []\n",
    "        self.nameofperson = None\n",
    "    \n",
    "    def set_name(self,name):\n",
    "        self.nameofperson = name\n",
    "    \n",
    "    def make_friends(self, Friend_obj):\n",
    "        self.friend.append(Friend_obj)\n",
    "        \n",
    "        Friend_obj.friend.append(self)\n",
    "        print(self.nameofperson,'have created a new friend as', Friend_obj.nameofperson)\n",
    "        \n",
    "    def get_name(self):\n",
    "        if self.nameofperson!=None:\n",
    "            return self.nameofperson"
   ]
  },
  {
   "cell_type": "code",
   "execution_count": 48,
   "id": "85d19803",
   "metadata": {},
   "outputs": [
    {
     "name": "stdout",
     "output_type": "stream",
     "text": [
      "Family is blessed with baby  Boy\n"
     ]
    }
   ],
   "source": [
    "person1 = Person(\"Boy\")"
   ]
  },
  {
   "cell_type": "code",
   "execution_count": 49,
   "id": "d0af6ab5",
   "metadata": {},
   "outputs": [],
   "source": [
    "person1.set_name(\"Soham\")"
   ]
  },
  {
   "cell_type": "code",
   "execution_count": 50,
   "id": "573c9857",
   "metadata": {},
   "outputs": [
    {
     "data": {
      "text/plain": [
       "'Soham'"
      ]
     },
     "execution_count": 50,
     "metadata": {},
     "output_type": "execute_result"
    }
   ],
   "source": [
    "person1.get_name()"
   ]
  },
  {
   "cell_type": "code",
   "execution_count": 51,
   "id": "ecb12b7b",
   "metadata": {},
   "outputs": [
    {
     "name": "stdout",
     "output_type": "stream",
     "text": [
      "Family is blessed with baby  Boy\n"
     ]
    }
   ],
   "source": [
    "person2 = Person(\"Boy\")"
   ]
  },
  {
   "cell_type": "code",
   "execution_count": 52,
   "id": "7d3b76c1",
   "metadata": {},
   "outputs": [],
   "source": [
    "person2.set_name(\"Rajeshwar\")"
   ]
  },
  {
   "cell_type": "code",
   "execution_count": 53,
   "id": "61ba335a",
   "metadata": {},
   "outputs": [
    {
     "name": "stdout",
     "output_type": "stream",
     "text": [
      "Rajeshwar have created a new friend as Soham\n"
     ]
    }
   ],
   "source": [
    "person2.make_friends(person1)"
   ]
  },
  {
   "cell_type": "code",
   "execution_count": 54,
   "id": "0d7990e8",
   "metadata": {},
   "outputs": [
    {
     "data": {
      "text/plain": [
       "[<__main__.Person at 0x148bf453580>]"
      ]
     },
     "execution_count": 54,
     "metadata": {},
     "output_type": "execute_result"
    }
   ],
   "source": [
    "person2.friend"
   ]
  },
  {
   "cell_type": "code",
   "execution_count": 55,
   "id": "abf9d36d",
   "metadata": {},
   "outputs": [
    {
     "data": {
      "text/plain": [
       "<__main__.Person at 0x148bf453580>"
      ]
     },
     "execution_count": 55,
     "metadata": {},
     "output_type": "execute_result"
    }
   ],
   "source": [
    "person1"
   ]
  },
  {
   "cell_type": "code",
   "execution_count": 56,
   "id": "f4f880d7",
   "metadata": {},
   "outputs": [
    {
     "data": {
      "text/plain": [
       "[<__main__.Person at 0x148bed37430>]"
      ]
     },
     "execution_count": 56,
     "metadata": {},
     "output_type": "execute_result"
    }
   ],
   "source": [
    "person2.friend[0].friend"
   ]
  },
  {
   "cell_type": "code",
   "execution_count": null,
   "id": "f9bc2d81",
   "metadata": {},
   "outputs": [],
   "source": []
  },
  {
   "cell_type": "code",
   "execution_count": 57,
   "id": "751a7b57",
   "metadata": {},
   "outputs": [
    {
     "data": {
      "text/plain": [
       "'Rajeshwar'"
      ]
     },
     "execution_count": 57,
     "metadata": {},
     "output_type": "execute_result"
    }
   ],
   "source": [
    "person1.friend[0].nameofperson"
   ]
  },
  {
   "cell_type": "code",
   "execution_count": 58,
   "id": "03b5e66c",
   "metadata": {},
   "outputs": [
    {
     "data": {
      "text/plain": [
       "'Rajeshwar'"
      ]
     },
     "execution_count": 58,
     "metadata": {},
     "output_type": "execute_result"
    }
   ],
   "source": [
    "person2.nameofperson"
   ]
  },
  {
   "cell_type": "code",
   "execution_count": 59,
   "id": "af43565b",
   "metadata": {},
   "outputs": [
    {
     "name": "stdout",
     "output_type": "stream",
     "text": [
      "Family is blessed with baby  Girl\n"
     ]
    }
   ],
   "source": [
    "person3 = Person(\"Girl\") "
   ]
  },
  {
   "cell_type": "code",
   "execution_count": 60,
   "id": "33c2e269",
   "metadata": {},
   "outputs": [],
   "source": [
    "person3.set_name(\"Deepika\")"
   ]
  },
  {
   "cell_type": "code",
   "execution_count": 61,
   "id": "313da41d",
   "metadata": {},
   "outputs": [
    {
     "data": {
      "text/plain": [
       "'Deepika'"
      ]
     },
     "execution_count": 61,
     "metadata": {},
     "output_type": "execute_result"
    }
   ],
   "source": [
    "person3.get_name()"
   ]
  },
  {
   "cell_type": "code",
   "execution_count": 62,
   "id": "9177b00c",
   "metadata": {},
   "outputs": [
    {
     "name": "stdout",
     "output_type": "stream",
     "text": [
      "Deepika have created a new friend as Rajeshwar\n"
     ]
    }
   ],
   "source": [
    "person3.make_friends(person2)"
   ]
  },
  {
   "cell_type": "code",
   "execution_count": 65,
   "id": "a8a413b7",
   "metadata": {},
   "outputs": [
    {
     "data": {
      "text/plain": [
       "'Rajeshwar'"
      ]
     },
     "execution_count": 65,
     "metadata": {},
     "output_type": "execute_result"
    }
   ],
   "source": [
    "person1.friend[0].nameofperson"
   ]
  },
  {
   "cell_type": "code",
   "execution_count": 66,
   "id": "be8fca9c",
   "metadata": {},
   "outputs": [
    {
     "data": {
      "text/plain": [
       "[<__main__.Person at 0x148bf453580>, <__main__.Person at 0x148bed2ca60>]"
      ]
     },
     "execution_count": 66,
     "metadata": {},
     "output_type": "execute_result"
    }
   ],
   "source": [
    "person1.friend[0].friend"
   ]
  },
  {
   "cell_type": "code",
   "execution_count": 67,
   "id": "2b9cc7e8",
   "metadata": {},
   "outputs": [
    {
     "data": {
      "text/plain": [
       "'Deepika'"
      ]
     },
     "execution_count": 67,
     "metadata": {},
     "output_type": "execute_result"
    }
   ],
   "source": [
    "person1.friend[0].friend[1].nameofperson"
   ]
  },
  {
   "cell_type": "code",
   "execution_count": 68,
   "id": "53e60f0b",
   "metadata": {},
   "outputs": [
    {
     "data": {
      "text/plain": [
       "<__main__.Person at 0x148bed37430>"
      ]
     },
     "execution_count": 68,
     "metadata": {},
     "output_type": "execute_result"
    }
   ],
   "source": [
    "person1.friend[0]"
   ]
  },
  {
   "cell_type": "code",
   "execution_count": null,
   "id": "26ce505a",
   "metadata": {},
   "outputs": [],
   "source": [
    "class Car:\n",
    "    Models='Bmw'\n",
    "    @classmethod\n",
    "    def Change_model(cls,name):\n",
    "        cls.Models=name\n",
    "a=Car()\n"
   ]
  }
 ],
 "metadata": {
  "kernelspec": {
   "display_name": "Python 3 (ipykernel)",
   "language": "python",
   "name": "python3"
  },
  "language_info": {
   "codemirror_mode": {
    "name": "ipython",
    "version": 3
   },
   "file_extension": ".py",
   "mimetype": "text/x-python",
   "name": "python",
   "nbconvert_exporter": "python",
   "pygments_lexer": "ipython3",
   "version": "3.9.7"
  }
 },
 "nbformat": 4,
 "nbformat_minor": 5
}
