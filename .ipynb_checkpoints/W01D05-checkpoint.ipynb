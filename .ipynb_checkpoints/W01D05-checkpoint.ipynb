{
 "cells": [
  {
   "cell_type": "code",
   "execution_count": 1,
   "id": "afad4694",
   "metadata": {},
   "outputs": [],
   "source": [
    "l = [1,2,3,5,0]"
   ]
  },
  {
   "cell_type": "code",
   "execution_count": 2,
   "id": "2eb937e0",
   "metadata": {},
   "outputs": [
    {
     "data": {
      "text/plain": [
       "3"
      ]
     },
     "execution_count": 2,
     "metadata": {},
     "output_type": "execute_result"
    }
   ],
   "source": [
    "l[2]"
   ]
  },
  {
   "cell_type": "code",
   "execution_count": 3,
   "id": "72e8b8a7",
   "metadata": {},
   "outputs": [
    {
     "data": {
      "text/plain": [
       "0"
      ]
     },
     "execution_count": 3,
     "metadata": {},
     "output_type": "execute_result"
    }
   ],
   "source": [
    "l[4]"
   ]
  },
  {
   "cell_type": "code",
   "execution_count": 4,
   "id": "3370003d",
   "metadata": {},
   "outputs": [],
   "source": [
    "d = {\"Neha\":\"Data Scientist\",\"Ajay\":23}"
   ]
  },
  {
   "cell_type": "code",
   "execution_count": 5,
   "id": "ef4062b0",
   "metadata": {},
   "outputs": [
    {
     "ename": "KeyError",
     "evalue": "0",
     "output_type": "error",
     "traceback": [
      "\u001b[1;31m---------------------------------------------------------------------------\u001b[0m",
      "\u001b[1;31mKeyError\u001b[0m                                  Traceback (most recent call last)",
      "\u001b[1;32mC:\\Users\\KUNALC~1\\AppData\\Local\\Temp/ipykernel_7292/1089268471.py\u001b[0m in \u001b[0;36m<module>\u001b[1;34m\u001b[0m\n\u001b[1;32m----> 1\u001b[1;33m \u001b[0md\u001b[0m\u001b[1;33m[\u001b[0m\u001b[1;36m0\u001b[0m\u001b[1;33m]\u001b[0m\u001b[1;33m\u001b[0m\u001b[1;33m\u001b[0m\u001b[0m\n\u001b[0m",
      "\u001b[1;31mKeyError\u001b[0m: 0"
     ]
    }
   ],
   "source": [
    "d[0]"
   ]
  },
  {
   "cell_type": "code",
   "execution_count": 6,
   "id": "72bf711e",
   "metadata": {},
   "outputs": [],
   "source": [
    "s = {1,2,5,8,9,\"Neha\"}"
   ]
  },
  {
   "cell_type": "code",
   "execution_count": 8,
   "id": "39bf3ca1",
   "metadata": {},
   "outputs": [
    {
     "name": "stdout",
     "output_type": "stream",
     "text": [
      "{1, 2, 5, 8, 9, 'Neha'}\n"
     ]
    }
   ],
   "source": [
    "print(s)"
   ]
  },
  {
   "cell_type": "code",
   "execution_count": 9,
   "id": "213ad52b",
   "metadata": {},
   "outputs": [],
   "source": [
    "s = {8,5,1,6}"
   ]
  },
  {
   "cell_type": "code",
   "execution_count": null,
   "id": "5845699a",
   "metadata": {},
   "outputs": [],
   "source": [
    "Mutable Data type (changeable/Editable)\n",
    "    list\n",
    "    dict <-- keys of dict must be immutable and values can be mutable/immutable\n",
    "    set\n",
    "\n",
    "Immutable Data type\n",
    "    None\n",
    "    int\n",
    "    float\n",
    "    bool\n",
    "    complex\n",
    "    str\n",
    "    tuple\n",
    "    "
   ]
  },
  {
   "cell_type": "code",
   "execution_count": 11,
   "id": "47f2cf46",
   "metadata": {},
   "outputs": [
    {
     "name": "stdout",
     "output_type": "stream",
     "text": [
      "<class 'NoneType'>\n"
     ]
    }
   ],
   "source": [
    "print(type(None))"
   ]
  },
  {
   "cell_type": "code",
   "execution_count": null,
   "id": "2e5dce06",
   "metadata": {},
   "outputs": [],
   "source": [
    "0 1 2 3 4 5 6 7 8 9"
   ]
  },
  {
   "cell_type": "code",
   "execution_count": null,
   "id": "76ef0cd3",
   "metadata": {},
   "outputs": [],
   "source": [
    "Can I have a dictionary with its value as a dictionary?\n"
   ]
  },
  {
   "cell_type": "code",
   "execution_count": 12,
   "id": "ab8ef7e7",
   "metadata": {},
   "outputs": [],
   "source": [
    "d = {\"praveen\":{None: \"Preeti\"}}"
   ]
  },
  {
   "cell_type": "code",
   "execution_count": 13,
   "id": "03d6f9fc",
   "metadata": {},
   "outputs": [
    {
     "data": {
      "text/plain": [
       "{None: 'Preeti'}"
      ]
     },
     "execution_count": 13,
     "metadata": {},
     "output_type": "execute_result"
    }
   ],
   "source": [
    "d[\"praveen\"]"
   ]
  },
  {
   "cell_type": "code",
   "execution_count": 14,
   "id": "df4399c2",
   "metadata": {},
   "outputs": [
    {
     "data": {
      "text/plain": [
       "'Preeti'"
      ]
     },
     "execution_count": 14,
     "metadata": {},
     "output_type": "execute_result"
    }
   ],
   "source": [
    "d[\"praveen\"][None]"
   ]
  },
  {
   "cell_type": "markdown",
   "id": "829d1884",
   "metadata": {},
   "source": [
    "# Type Conversion"
   ]
  },
  {
   "cell_type": "code",
   "execution_count": null,
   "id": "059b2fea",
   "metadata": {},
   "outputs": [],
   "source": [
    "1.1 <-- float"
   ]
  },
  {
   "cell_type": "code",
   "execution_count": 15,
   "id": "f58d3b7b",
   "metadata": {},
   "outputs": [],
   "source": [
    "a = 1.1"
   ]
  },
  {
   "cell_type": "code",
   "execution_count": 16,
   "id": "1803be21",
   "metadata": {},
   "outputs": [
    {
     "data": {
      "text/plain": [
       "float"
      ]
     },
     "execution_count": 16,
     "metadata": {},
     "output_type": "execute_result"
    }
   ],
   "source": [
    "type(a)"
   ]
  },
  {
   "cell_type": "code",
   "execution_count": 17,
   "id": "57fe0bed",
   "metadata": {},
   "outputs": [
    {
     "data": {
      "text/plain": [
       "1"
      ]
     },
     "execution_count": 17,
     "metadata": {},
     "output_type": "execute_result"
    }
   ],
   "source": [
    "int(a)"
   ]
  },
  {
   "cell_type": "code",
   "execution_count": 20,
   "id": "b5dbff2f",
   "metadata": {},
   "outputs": [],
   "source": [
    "b = int(12.36)"
   ]
  },
  {
   "cell_type": "code",
   "execution_count": 21,
   "id": "e787ea0b",
   "metadata": {},
   "outputs": [
    {
     "data": {
      "text/plain": [
       "12"
      ]
     },
     "execution_count": 21,
     "metadata": {},
     "output_type": "execute_result"
    }
   ],
   "source": [
    "int(b)"
   ]
  },
  {
   "cell_type": "code",
   "execution_count": 23,
   "id": "fb523254",
   "metadata": {},
   "outputs": [
    {
     "data": {
      "text/plain": [
       "6.0"
      ]
     },
     "execution_count": 23,
     "metadata": {},
     "output_type": "execute_result"
    }
   ],
   "source": [
    "float(6)"
   ]
  },
  {
   "cell_type": "code",
   "execution_count": 24,
   "id": "f1978e29",
   "metadata": {},
   "outputs": [
    {
     "data": {
      "text/plain": [
       "0.0"
      ]
     },
     "execution_count": 24,
     "metadata": {},
     "output_type": "execute_result"
    }
   ],
   "source": [
    "float(0)"
   ]
  },
  {
   "cell_type": "code",
   "execution_count": 25,
   "id": "2a9b9735",
   "metadata": {},
   "outputs": [
    {
     "data": {
      "text/plain": [
       "23.0"
      ]
     },
     "execution_count": 25,
     "metadata": {},
     "output_type": "execute_result"
    }
   ],
   "source": [
    "float(23)"
   ]
  },
  {
   "cell_type": "code",
   "execution_count": 26,
   "id": "269f64da",
   "metadata": {},
   "outputs": [
    {
     "data": {
      "text/plain": [
       "'23'"
      ]
     },
     "execution_count": 26,
     "metadata": {},
     "output_type": "execute_result"
    }
   ],
   "source": [
    "str(23)"
   ]
  },
  {
   "cell_type": "code",
   "execution_count": 28,
   "id": "86e5e770",
   "metadata": {},
   "outputs": [],
   "source": [
    "s = str(3.3)"
   ]
  },
  {
   "cell_type": "code",
   "execution_count": 29,
   "id": "09b07958",
   "metadata": {},
   "outputs": [
    {
     "data": {
      "text/plain": [
       "-2.0"
      ]
     },
     "execution_count": 29,
     "metadata": {},
     "output_type": "execute_result"
    }
   ],
   "source": [
    "float(-2)"
   ]
  },
  {
   "cell_type": "code",
   "execution_count": 30,
   "id": "0eba652e",
   "metadata": {},
   "outputs": [],
   "source": [
    "s = str(3.3)"
   ]
  },
  {
   "cell_type": "code",
   "execution_count": 31,
   "id": "a0e4699f",
   "metadata": {},
   "outputs": [
    {
     "data": {
      "text/plain": [
       "str"
      ]
     },
     "execution_count": 31,
     "metadata": {},
     "output_type": "execute_result"
    }
   ],
   "source": [
    "type(s)"
   ]
  },
  {
   "cell_type": "code",
   "execution_count": 33,
   "id": "62e88dfa",
   "metadata": {},
   "outputs": [],
   "source": [
    "f = float(s)"
   ]
  },
  {
   "cell_type": "code",
   "execution_count": 34,
   "id": "73d17637",
   "metadata": {},
   "outputs": [
    {
     "data": {
      "text/plain": [
       "float"
      ]
     },
     "execution_count": 34,
     "metadata": {},
     "output_type": "execute_result"
    }
   ],
   "source": [
    "type(f)"
   ]
  },
  {
   "cell_type": "code",
   "execution_count": 35,
   "id": "48bb43a3",
   "metadata": {},
   "outputs": [],
   "source": [
    "s = \"a\""
   ]
  },
  {
   "cell_type": "code",
   "execution_count": 36,
   "id": "0eaf07c8",
   "metadata": {},
   "outputs": [
    {
     "ename": "ValueError",
     "evalue": "invalid literal for int() with base 10: 'a'",
     "output_type": "error",
     "traceback": [
      "\u001b[1;31m---------------------------------------------------------------------------\u001b[0m",
      "\u001b[1;31mValueError\u001b[0m                                Traceback (most recent call last)",
      "\u001b[1;32mC:\\Users\\KUNALC~1\\AppData\\Local\\Temp/ipykernel_7292/2179186071.py\u001b[0m in \u001b[0;36m<module>\u001b[1;34m\u001b[0m\n\u001b[1;32m----> 1\u001b[1;33m \u001b[0mint\u001b[0m\u001b[1;33m(\u001b[0m\u001b[0ms\u001b[0m\u001b[1;33m)\u001b[0m\u001b[1;33m\u001b[0m\u001b[1;33m\u001b[0m\u001b[0m\n\u001b[0m",
      "\u001b[1;31mValueError\u001b[0m: invalid literal for int() with base 10: 'a'"
     ]
    }
   ],
   "source": [
    "int(s)"
   ]
  },
  {
   "cell_type": "code",
   "execution_count": 41,
   "id": "bd3b7133",
   "metadata": {},
   "outputs": [],
   "source": [
    "i = str(10)"
   ]
  },
  {
   "cell_type": "code",
   "execution_count": 42,
   "id": "5e129371",
   "metadata": {},
   "outputs": [
    {
     "data": {
      "text/plain": [
       "str"
      ]
     },
     "execution_count": 42,
     "metadata": {},
     "output_type": "execute_result"
    }
   ],
   "source": [
    "type(i)"
   ]
  },
  {
   "cell_type": "code",
   "execution_count": 43,
   "id": "c2079a62",
   "metadata": {},
   "outputs": [
    {
     "name": "stdout",
     "output_type": "stream",
     "text": [
      "10\n"
     ]
    }
   ],
   "source": [
    "print(i)"
   ]
  },
  {
   "cell_type": "code",
   "execution_count": null,
   "id": "e15cd6f4",
   "metadata": {},
   "outputs": [],
   "source": [
    "int --> float <--> str\n",
    "float --> int <-->str"
   ]
  },
  {
   "cell_type": "code",
   "execution_count": 44,
   "id": "4e615bc6",
   "metadata": {},
   "outputs": [],
   "source": [
    "s = \"235\""
   ]
  },
  {
   "cell_type": "code",
   "execution_count": 45,
   "id": "9246dd73",
   "metadata": {},
   "outputs": [
    {
     "data": {
      "text/plain": [
       "235"
      ]
     },
     "execution_count": 45,
     "metadata": {},
     "output_type": "execute_result"
    }
   ],
   "source": [
    "int(s)"
   ]
  },
  {
   "cell_type": "code",
   "execution_count": 46,
   "id": "db5dc0c3",
   "metadata": {},
   "outputs": [
    {
     "data": {
      "text/plain": [
       "True"
      ]
     },
     "execution_count": 46,
     "metadata": {},
     "output_type": "execute_result"
    }
   ],
   "source": [
    "bool(1)"
   ]
  },
  {
   "cell_type": "code",
   "execution_count": 47,
   "id": "3d2d97f5",
   "metadata": {},
   "outputs": [
    {
     "data": {
      "text/plain": [
       "True"
      ]
     },
     "execution_count": 47,
     "metadata": {},
     "output_type": "execute_result"
    }
   ],
   "source": [
    "bool(1.2)"
   ]
  },
  {
   "cell_type": "code",
   "execution_count": 48,
   "id": "d52b7aa1",
   "metadata": {},
   "outputs": [
    {
     "data": {
      "text/plain": [
       "True"
      ]
     },
     "execution_count": 48,
     "metadata": {},
     "output_type": "execute_result"
    }
   ],
   "source": [
    "bool(\"Karthik\")"
   ]
  },
  {
   "cell_type": "code",
   "execution_count": 49,
   "id": "98873bf2",
   "metadata": {},
   "outputs": [
    {
     "data": {
      "text/plain": [
       "False"
      ]
     },
     "execution_count": 49,
     "metadata": {},
     "output_type": "execute_result"
    }
   ],
   "source": [
    "bool(0)"
   ]
  },
  {
   "cell_type": "code",
   "execution_count": 50,
   "id": "00946d23",
   "metadata": {},
   "outputs": [
    {
     "data": {
      "text/plain": [
       "False"
      ]
     },
     "execution_count": 50,
     "metadata": {},
     "output_type": "execute_result"
    }
   ],
   "source": [
    "bool(0.0)"
   ]
  },
  {
   "cell_type": "code",
   "execution_count": 51,
   "id": "6ba2578e",
   "metadata": {},
   "outputs": [
    {
     "data": {
      "text/plain": [
       "False"
      ]
     },
     "execution_count": 51,
     "metadata": {},
     "output_type": "execute_result"
    }
   ],
   "source": [
    "bool(\"\")"
   ]
  },
  {
   "cell_type": "code",
   "execution_count": 52,
   "id": "2c576041",
   "metadata": {},
   "outputs": [
    {
     "data": {
      "text/plain": [
       "True"
      ]
     },
     "execution_count": 52,
     "metadata": {},
     "output_type": "execute_result"
    }
   ],
   "source": [
    "bool(-1)"
   ]
  },
  {
   "cell_type": "code",
   "execution_count": null,
   "id": "6bde11da",
   "metadata": {},
   "outputs": [],
   "source": [
    "falsy values --> 0 0.0 \"\" \n",
    "truthy values --> -inf +inf"
   ]
  },
  {
   "cell_type": "code",
   "execution_count": 53,
   "id": "e581d1ef",
   "metadata": {},
   "outputs": [
    {
     "data": {
      "text/plain": [
       "3"
      ]
     },
     "execution_count": 53,
     "metadata": {},
     "output_type": "execute_result"
    }
   ],
   "source": [
    "typecasting doesnot means round"
   ]
  },
  {
   "cell_type": "code",
   "execution_count": 54,
   "id": "42183235",
   "metadata": {},
   "outputs": [
    {
     "data": {
      "text/plain": [
       "-2"
      ]
     },
     "execution_count": 54,
     "metadata": {},
     "output_type": "execute_result"
    }
   ],
   "source": [
    "int(-2.35)"
   ]
  },
  {
   "cell_type": "code",
   "execution_count": null,
   "id": "b6c59136",
   "metadata": {},
   "outputs": [],
   "source": [
    "Typecasting Collections"
   ]
  },
  {
   "cell_type": "code",
   "execution_count": null,
   "id": "a875ef60",
   "metadata": {},
   "outputs": [],
   "source": [
    "list\n",
    "tuple\n",
    "dict\n",
    "set\n",
    "str"
   ]
  },
  {
   "cell_type": "code",
   "execution_count": 75,
   "id": "f948a7af",
   "metadata": {},
   "outputs": [],
   "source": [
    "l = [1,2,3,4]"
   ]
  },
  {
   "cell_type": "code",
   "execution_count": 57,
   "id": "bd5760f4",
   "metadata": {},
   "outputs": [],
   "source": [
    "t = tuple(l)"
   ]
  },
  {
   "cell_type": "code",
   "execution_count": 58,
   "id": "640f5726",
   "metadata": {},
   "outputs": [
    {
     "data": {
      "text/plain": [
       "tuple"
      ]
     },
     "execution_count": 58,
     "metadata": {},
     "output_type": "execute_result"
    }
   ],
   "source": [
    "type(t)"
   ]
  },
  {
   "cell_type": "code",
   "execution_count": 59,
   "id": "ce0f59d0",
   "metadata": {},
   "outputs": [],
   "source": [
    "t =  (5,\"Karthik\",\"Praveen\")"
   ]
  },
  {
   "cell_type": "code",
   "execution_count": 61,
   "id": "0aa5afc8",
   "metadata": {},
   "outputs": [],
   "source": [
    "l = list(t)"
   ]
  },
  {
   "cell_type": "code",
   "execution_count": 62,
   "id": "5c12fbef",
   "metadata": {},
   "outputs": [
    {
     "name": "stdout",
     "output_type": "stream",
     "text": [
      "[5, 'Karthik', 'Praveen']\n"
     ]
    }
   ],
   "source": [
    "print(l)"
   ]
  },
  {
   "cell_type": "code",
   "execution_count": 63,
   "id": "c16d1d9a",
   "metadata": {},
   "outputs": [
    {
     "data": {
      "text/plain": [
       "list"
      ]
     },
     "execution_count": 63,
     "metadata": {},
     "output_type": "execute_result"
    }
   ],
   "source": [
    "type(l)"
   ]
  },
  {
   "cell_type": "code",
   "execution_count": 71,
   "id": "63e3face",
   "metadata": {},
   "outputs": [],
   "source": [
    "d = {7:\"Rajeshwar\",\"Ajay\":3}"
   ]
  },
  {
   "cell_type": "code",
   "execution_count": 72,
   "id": "0680f66d",
   "metadata": {},
   "outputs": [
    {
     "data": {
      "text/plain": [
       "[7, 'Ajay']"
      ]
     },
     "execution_count": 72,
     "metadata": {},
     "output_type": "execute_result"
    }
   ],
   "source": [
    "list(d) <-- looses the value "
   ]
  },
  {
   "cell_type": "code",
   "execution_count": 76,
   "id": "3c77c193",
   "metadata": {},
   "outputs": [
    {
     "data": {
      "text/plain": [
       "{1, 2, 3, 4}"
      ]
     },
     "execution_count": 76,
     "metadata": {},
     "output_type": "execute_result"
    }
   ],
   "source": [
    "set(l)"
   ]
  },
  {
   "cell_type": "code",
   "execution_count": 77,
   "id": "94a0f6b7",
   "metadata": {},
   "outputs": [
    {
     "data": {
      "text/plain": [
       "{5, 'Karthik', 'Praveen'}"
      ]
     },
     "execution_count": 77,
     "metadata": {},
     "output_type": "execute_result"
    }
   ],
   "source": [
    "set(t)"
   ]
  },
  {
   "cell_type": "code",
   "execution_count": 78,
   "id": "22f515be",
   "metadata": {},
   "outputs": [
    {
     "data": {
      "text/plain": [
       "{7, 'Ajay'}"
      ]
     },
     "execution_count": 78,
     "metadata": {},
     "output_type": "execute_result"
    }
   ],
   "source": [
    "set(d)"
   ]
  },
  {
   "cell_type": "code",
   "execution_count": 79,
   "id": "f70069a8",
   "metadata": {},
   "outputs": [
    {
     "ename": "TypeError",
     "evalue": "cannot convert dictionary update sequence element #0 to a sequence",
     "output_type": "error",
     "traceback": [
      "\u001b[1;31m---------------------------------------------------------------------------\u001b[0m",
      "\u001b[1;31mTypeError\u001b[0m                                 Traceback (most recent call last)",
      "\u001b[1;32mC:\\Users\\KUNALC~1\\AppData\\Local\\Temp/ipykernel_7292/2819914849.py\u001b[0m in \u001b[0;36m<module>\u001b[1;34m\u001b[0m\n\u001b[1;32m----> 1\u001b[1;33m \u001b[0mdict\u001b[0m\u001b[1;33m(\u001b[0m\u001b[0ml\u001b[0m\u001b[1;33m)\u001b[0m\u001b[1;33m\u001b[0m\u001b[1;33m\u001b[0m\u001b[0m\n\u001b[0m",
      "\u001b[1;31mTypeError\u001b[0m: cannot convert dictionary update sequence element #0 to a sequence"
     ]
    }
   ],
   "source": [
    "dict(l)"
   ]
  },
  {
   "cell_type": "code",
   "execution_count": null,
   "id": "30b923f2",
   "metadata": {},
   "outputs": [],
   "source": [
    "list <---> tuple\n",
    "list <---> set\n",
    "tuple <--> set\n",
    "dict --> set -- only keys of dict are converted\n",
    "dict --> list -- only key are converted\n",
    "dict --> tuple -- only key are converted"
   ]
  },
  {
   "cell_type": "code",
   "execution_count": null,
   "id": "b2e35409",
   "metadata": {},
   "outputs": [],
   "source": [
    "Arithmatic Operators\n",
    "\n",
    "in an operation we have operator and operand\n",
    "operators are those which makes operations successful\n",
    "operand are those on which the operation are carried by\n",
    "\n",
    "+ --> addition --> adds two value\n",
    "- --> sub\n",
    "* --> multiplication\n",
    "/ --> division (float division) --> it gives us the quotient ==>> (Dividend / Divisor)= Quotient\n",
    "% --> Modulus (Remainder) ===>> (Dividend % Divisor)=Remainder\n",
    "** --> exponential operator\n",
    "// --> floor division"
   ]
  },
  {
   "cell_type": "code",
   "execution_count": 80,
   "id": "5e6ac0f4",
   "metadata": {},
   "outputs": [
    {
     "data": {
      "text/plain": [
       "5"
      ]
     },
     "execution_count": 80,
     "metadata": {},
     "output_type": "execute_result"
    }
   ],
   "source": [
    "2 + 3"
   ]
  },
  {
   "cell_type": "code",
   "execution_count": 81,
   "id": "f8ebb22a",
   "metadata": {},
   "outputs": [
    {
     "data": {
      "text/plain": [
       "2"
      ]
     },
     "execution_count": 81,
     "metadata": {},
     "output_type": "execute_result"
    }
   ],
   "source": [
    "5 - 3"
   ]
  },
  {
   "cell_type": "code",
   "execution_count": 82,
   "id": "e00571f0",
   "metadata": {},
   "outputs": [
    {
     "data": {
      "text/plain": [
       "25"
      ]
     },
     "execution_count": 82,
     "metadata": {},
     "output_type": "execute_result"
    }
   ],
   "source": [
    "5 * 5"
   ]
  },
  {
   "cell_type": "code",
   "execution_count": 83,
   "id": "88feecf2",
   "metadata": {},
   "outputs": [
    {
     "data": {
      "text/plain": [
       "5.0"
      ]
     },
     "execution_count": 83,
     "metadata": {},
     "output_type": "execute_result"
    }
   ],
   "source": [
    "10 / 2"
   ]
  },
  {
   "cell_type": "code",
   "execution_count": 84,
   "id": "ac03748f",
   "metadata": {},
   "outputs": [
    {
     "data": {
      "text/plain": [
       "1.0"
      ]
     },
     "execution_count": 84,
     "metadata": {},
     "output_type": "execute_result"
    }
   ],
   "source": [
    "2 / 2"
   ]
  },
  {
   "cell_type": "code",
   "execution_count": 85,
   "id": "a4caac3a",
   "metadata": {},
   "outputs": [
    {
     "data": {
      "text/plain": [
       "0"
      ]
     },
     "execution_count": 85,
     "metadata": {},
     "output_type": "execute_result"
    }
   ],
   "source": [
    "10 % 2"
   ]
  },
  {
   "cell_type": "code",
   "execution_count": 86,
   "id": "db649410",
   "metadata": {},
   "outputs": [
    {
     "data": {
      "text/plain": [
       "16"
      ]
     },
     "execution_count": 86,
     "metadata": {},
     "output_type": "execute_result"
    }
   ],
   "source": [
    "4**2"
   ]
  },
  {
   "cell_type": "code",
   "execution_count": 87,
   "id": "8d4d797e",
   "metadata": {},
   "outputs": [
    {
     "data": {
      "text/plain": [
       "64"
      ]
     },
     "execution_count": 87,
     "metadata": {},
     "output_type": "execute_result"
    }
   ],
   "source": [
    "4**3 --> 4X4X4"
   ]
  },
  {
   "cell_type": "code",
   "execution_count": 88,
   "id": "18562f6a",
   "metadata": {},
   "outputs": [
    {
     "data": {
      "text/plain": [
       "6.4"
      ]
     },
     "execution_count": 88,
     "metadata": {},
     "output_type": "execute_result"
    }
   ],
   "source": [
    "32/5"
   ]
  },
  {
   "cell_type": "code",
   "execution_count": 89,
   "id": "3bb2201a",
   "metadata": {},
   "outputs": [
    {
     "data": {
      "text/plain": [
       "6"
      ]
     },
     "execution_count": 89,
     "metadata": {},
     "output_type": "execute_result"
    }
   ],
   "source": [
    "int(32/5)"
   ]
  },
  {
   "cell_type": "code",
   "execution_count": 90,
   "id": "6d603b12",
   "metadata": {},
   "outputs": [
    {
     "data": {
      "text/plain": [
       "6"
      ]
     },
     "execution_count": 90,
     "metadata": {},
     "output_type": "execute_result"
    }
   ],
   "source": [
    "32//5"
   ]
  },
  {
   "cell_type": "code",
   "execution_count": 93,
   "id": "68da3a2c",
   "metadata": {},
   "outputs": [
    {
     "data": {
      "text/plain": [
       "1.0"
      ]
     },
     "execution_count": 93,
     "metadata": {},
     "output_type": "execute_result"
    }
   ],
   "source": [
    "2.1 // 2.0"
   ]
  },
  {
   "cell_type": "markdown",
   "id": "7028ed3a",
   "metadata": {},
   "source": [
    "# Logical Operators"
   ]
  },
  {
   "cell_type": "code",
   "execution_count": null,
   "id": "8c5ea270",
   "metadata": {},
   "outputs": [],
   "source": [
    "Logical operators return boolean values\n",
    "and \n",
    "or\n",
    "not"
   ]
  },
  {
   "cell_type": "code",
   "execution_count": 94,
   "id": "e9dde369",
   "metadata": {},
   "outputs": [
    {
     "data": {
      "text/plain": [
       "True"
      ]
     },
     "execution_count": 94,
     "metadata": {},
     "output_type": "execute_result"
    }
   ],
   "source": [
    "True and True"
   ]
  },
  {
   "cell_type": "code",
   "execution_count": 95,
   "id": "10bb1a97",
   "metadata": {},
   "outputs": [
    {
     "data": {
      "text/plain": [
       "False"
      ]
     },
     "execution_count": 95,
     "metadata": {},
     "output_type": "execute_result"
    }
   ],
   "source": [
    "True and False"
   ]
  },
  {
   "cell_type": "code",
   "execution_count": 96,
   "id": "1347004b",
   "metadata": {},
   "outputs": [
    {
     "data": {
      "text/plain": [
       "False"
      ]
     },
     "execution_count": 96,
     "metadata": {},
     "output_type": "execute_result"
    }
   ],
   "source": [
    "False and True"
   ]
  },
  {
   "cell_type": "code",
   "execution_count": 97,
   "id": "55283509",
   "metadata": {},
   "outputs": [
    {
     "data": {
      "text/plain": [
       "False"
      ]
     },
     "execution_count": 97,
     "metadata": {},
     "output_type": "execute_result"
    }
   ],
   "source": [
    "False and False"
   ]
  },
  {
   "cell_type": "code",
   "execution_count": null,
   "id": "66d3bfd4",
   "metadata": {},
   "outputs": [],
   "source": [
    "And operator gives True Output  if both operands are True else it returns False"
   ]
  },
  {
   "cell_type": "markdown",
   "id": "bd626ef2",
   "metadata": {},
   "source": [
    "# Logical or Operator"
   ]
  },
  {
   "cell_type": "code",
   "execution_count": null,
   "id": "31604e85",
   "metadata": {},
   "outputs": [],
   "source": [
    "Logical or operator returns True if either of the operands is True"
   ]
  },
  {
   "cell_type": "code",
   "execution_count": 106,
   "id": "3801d7af",
   "metadata": {},
   "outputs": [
    {
     "data": {
      "text/plain": [
       "True"
      ]
     },
     "execution_count": 106,
     "metadata": {},
     "output_type": "execute_result"
    }
   ],
   "source": [
    "True or True"
   ]
  },
  {
   "cell_type": "code",
   "execution_count": 107,
   "id": "dbfcba42",
   "metadata": {},
   "outputs": [
    {
     "data": {
      "text/plain": [
       "True"
      ]
     },
     "execution_count": 107,
     "metadata": {},
     "output_type": "execute_result"
    }
   ],
   "source": [
    "True or False"
   ]
  },
  {
   "cell_type": "code",
   "execution_count": 108,
   "id": "45130dc2",
   "metadata": {},
   "outputs": [
    {
     "data": {
      "text/plain": [
       "True"
      ]
     },
     "execution_count": 108,
     "metadata": {},
     "output_type": "execute_result"
    }
   ],
   "source": [
    "False or True"
   ]
  },
  {
   "cell_type": "code",
   "execution_count": 109,
   "id": "e8883891",
   "metadata": {},
   "outputs": [
    {
     "data": {
      "text/plain": [
       "False"
      ]
     },
     "execution_count": 109,
     "metadata": {},
     "output_type": "execute_result"
    }
   ],
   "source": [
    "False or False"
   ]
  },
  {
   "cell_type": "code",
   "execution_count": null,
   "id": "35196281",
   "metadata": {},
   "outputs": [],
   "source": [
    "Logical not operator\n",
    "It works with single boolean value\n",
    "if the boolean value is True is will return False"
   ]
  },
  {
   "cell_type": "code",
   "execution_count": 110,
   "id": "ffd35732",
   "metadata": {},
   "outputs": [
    {
     "data": {
      "text/plain": [
       "False"
      ]
     },
     "execution_count": 110,
     "metadata": {},
     "output_type": "execute_result"
    }
   ],
   "source": [
    "not True"
   ]
  },
  {
   "cell_type": "code",
   "execution_count": 111,
   "id": "b1abd477",
   "metadata": {},
   "outputs": [
    {
     "data": {
      "text/plain": [
       "True"
      ]
     },
     "execution_count": 111,
     "metadata": {},
     "output_type": "execute_result"
    }
   ],
   "source": [
    "not False"
   ]
  },
  {
   "cell_type": "markdown",
   "id": "06795d48",
   "metadata": {},
   "source": [
    "# Identity Operator"
   ]
  },
  {
   "cell_type": "code",
   "execution_count": 112,
   "id": "f6ed051f",
   "metadata": {},
   "outputs": [],
   "source": [
    "a = 23"
   ]
  },
  {
   "cell_type": "code",
   "execution_count": 113,
   "id": "28b9fc40",
   "metadata": {},
   "outputs": [
    {
     "data": {
      "text/plain": [
       "int"
      ]
     },
     "execution_count": 113,
     "metadata": {},
     "output_type": "execute_result"
    }
   ],
   "source": [
    "type(a)"
   ]
  },
  {
   "cell_type": "code",
   "execution_count": 114,
   "id": "0f2c7490",
   "metadata": {},
   "outputs": [
    {
     "data": {
      "text/plain": [
       "True"
      ]
     },
     "execution_count": 114,
     "metadata": {},
     "output_type": "execute_result"
    }
   ],
   "source": [
    "type(a) is int"
   ]
  },
  {
   "cell_type": "code",
   "execution_count": 117,
   "id": "c1fc3556",
   "metadata": {},
   "outputs": [],
   "source": [
    "l = [1,2,5,6]"
   ]
  },
  {
   "cell_type": "code",
   "execution_count": 118,
   "id": "cd7f6110",
   "metadata": {},
   "outputs": [
    {
     "data": {
      "text/plain": [
       "False"
      ]
     },
     "execution_count": 118,
     "metadata": {},
     "output_type": "execute_result"
    }
   ],
   "source": [
    "type(l) is tuple"
   ]
  },
  {
   "cell_type": "code",
   "execution_count": 119,
   "id": "114d8f9a",
   "metadata": {},
   "outputs": [
    {
     "data": {
      "text/plain": [
       "True"
      ]
     },
     "execution_count": 119,
     "metadata": {},
     "output_type": "execute_result"
    }
   ],
   "source": [
    "type(l) is not tuple"
   ]
  },
  {
   "cell_type": "markdown",
   "id": "897d91c8",
   "metadata": {},
   "source": [
    "# membership Operator"
   ]
  },
  {
   "cell_type": "code",
   "execution_count": 120,
   "id": "fe14f61c",
   "metadata": {},
   "outputs": [],
   "source": [
    "l = ['Akshit',\"Rohan\",\"Nikhil\",\"Prashant\",\"Ajay\",\"Rajeshwar\"]"
   ]
  },
  {
   "cell_type": "code",
   "execution_count": null,
   "id": "7b19e67b",
   "metadata": {},
   "outputs": [],
   "source": [
    "membership operator gives boolean value"
   ]
  },
  {
   "cell_type": "code",
   "execution_count": 121,
   "id": "269155b0",
   "metadata": {},
   "outputs": [
    {
     "data": {
      "text/plain": [
       "True"
      ]
     },
     "execution_count": 121,
     "metadata": {},
     "output_type": "execute_result"
    }
   ],
   "source": [
    "'Akshit' in l"
   ]
  },
  {
   "cell_type": "code",
   "execution_count": 122,
   "id": "e5898505",
   "metadata": {},
   "outputs": [
    {
     "data": {
      "text/plain": [
       "False"
      ]
     },
     "execution_count": 122,
     "metadata": {},
     "output_type": "execute_result"
    }
   ],
   "source": [
    "\"hitler\" in l"
   ]
  },
  {
   "cell_type": "code",
   "execution_count": 123,
   "id": "472746f8",
   "metadata": {},
   "outputs": [
    {
     "data": {
      "text/plain": [
       "True"
      ]
     },
     "execution_count": 123,
     "metadata": {},
     "output_type": "execute_result"
    }
   ],
   "source": [
    "\"hitler\" not in l"
   ]
  },
  {
   "cell_type": "code",
   "execution_count": null,
   "id": "2816d7ea",
   "metadata": {},
   "outputs": [],
   "source": [
    "Esc + b --> it will help you to move to next cell without executing the current cell \n",
    "\n",
    "# Caution --> Don't Press Plus (+)"
   ]
  },
  {
   "cell_type": "code",
   "execution_count": null,
   "id": "1cd475ed",
   "metadata": {},
   "outputs": [],
   "source": [
    "Esc + a"
   ]
  },
  {
   "cell_type": "code",
   "execution_count": null,
   "id": "b5c2d2e7",
   "metadata": {},
   "outputs": [],
   "source": []
  },
  {
   "cell_type": "code",
   "execution_count": null,
   "id": "51e9762e",
   "metadata": {},
   "outputs": [],
   "source": []
  },
  {
   "cell_type": "code",
   "execution_count": null,
   "id": "296d9e0a",
   "metadata": {},
   "outputs": [],
   "source": []
  },
  {
   "cell_type": "code",
   "execution_count": null,
   "id": "20afceba",
   "metadata": {},
   "outputs": [],
   "source": []
  }
 ],
 "metadata": {
  "kernelspec": {
   "display_name": "Python 3 (ipykernel)",
   "language": "python",
   "name": "python3"
  },
  "language_info": {
   "codemirror_mode": {
    "name": "ipython",
    "version": 3
   },
   "file_extension": ".py",
   "mimetype": "text/x-python",
   "name": "python",
   "nbconvert_exporter": "python",
   "pygments_lexer": "ipython3",
   "version": "3.9.7"
  }
 },
 "nbformat": 4,
 "nbformat_minor": 5
}
