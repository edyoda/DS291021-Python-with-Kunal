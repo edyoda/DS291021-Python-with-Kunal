{
 "cells": [
  {
   "cell_type": "markdown",
   "id": "9411e906",
   "metadata": {},
   "source": [
    "# Heading 1\n",
    "## Heading 2\n",
    "### Heading 3\n",
    "#### Heading 4\n",
    "##### Heading 5"
   ]
  },
  {
   "cell_type": "markdown",
   "id": "7435a319",
   "metadata": {},
   "source": [
    "`Marker`"
   ]
  },
  {
   "cell_type": "markdown",
   "id": "daa60a0b",
   "metadata": {},
   "source": [
    "__Bold__"
   ]
  },
  {
   "cell_type": "markdown",
   "id": "883b628b",
   "metadata": {},
   "source": [
    "_Single UnderScore_"
   ]
  },
  {
   "cell_type": "markdown",
   "id": "b838c804",
   "metadata": {},
   "source": [
    "# Builtin Data Types"
   ]
  },
  {
   "cell_type": "code",
   "execution_count": null,
   "id": "21a10768",
   "metadata": {},
   "outputs": [],
   "source": [
    "Integer Data types"
   ]
  },
  {
   "cell_type": "code",
   "execution_count": null,
   "id": "742edd28",
   "metadata": {},
   "outputs": [],
   "source": [
    "1 2 3 4 5 0 -1 -2 -3 --> -inf to +inf"
   ]
  },
  {
   "cell_type": "code",
   "execution_count": null,
   "id": "c6315549",
   "metadata": {},
   "outputs": [],
   "source": [
    "4641320541632315112466685"
   ]
  },
  {
   "cell_type": "code",
   "execution_count": null,
   "id": "b60abd31",
   "metadata": {},
   "outputs": [],
   "source": [
    "Float Point Numbers:\n",
    "    fractions\n",
    "    1.2 1.1 2.0 0.2 -3.0 -5.20 5.26\n",
    "    In python it is accurate ip to 15 decimal places\n",
    "    12.12254985648795477896558774565"
   ]
  },
  {
   "cell_type": "code",
   "execution_count": null,
   "id": "bd9e84c4",
   "metadata": {},
   "outputs": [],
   "source": [
    "Complex Numbers\n",
    "\n",
    "x = a + jb"
   ]
  },
  {
   "cell_type": "code",
   "execution_count": null,
   "id": "18ff2bec",
   "metadata": {},
   "outputs": [],
   "source": [
    "2 + j5"
   ]
  },
  {
   "cell_type": "code",
   "execution_count": 6,
   "id": "87ac2140",
   "metadata": {},
   "outputs": [],
   "source": [
    "a = 25 #assignment"
   ]
  },
  {
   "cell_type": "code",
   "execution_count": 7,
   "id": "0fcce570",
   "metadata": {},
   "outputs": [
    {
     "data": {
      "text/plain": [
       "25"
      ]
     },
     "execution_count": 7,
     "metadata": {},
     "output_type": "execute_result"
    }
   ],
   "source": [
    "a"
   ]
  },
  {
   "cell_type": "code",
   "execution_count": 8,
   "id": "0928fc17",
   "metadata": {},
   "outputs": [
    {
     "name": "stdout",
     "output_type": "stream",
     "text": [
      "25\n"
     ]
    }
   ],
   "source": [
    "print(25)"
   ]
  },
  {
   "cell_type": "code",
   "execution_count": 9,
   "id": "86339e57",
   "metadata": {},
   "outputs": [
    {
     "name": "stdout",
     "output_type": "stream",
     "text": [
      "25\n"
     ]
    }
   ],
   "source": [
    "print(a)"
   ]
  },
  {
   "cell_type": "code",
   "execution_count": null,
   "id": "9cf209d9",
   "metadata": {},
   "outputs": [],
   "source": [
    "print( ) #Syntaxt"
   ]
  },
  {
   "cell_type": "code",
   "execution_count": 10,
   "id": "59472bab",
   "metadata": {},
   "outputs": [],
   "source": [
    "a = 23"
   ]
  },
  {
   "cell_type": "code",
   "execution_count": 11,
   "id": "c264e067",
   "metadata": {},
   "outputs": [
    {
     "name": "stdout",
     "output_type": "stream",
     "text": [
      "23\n"
     ]
    }
   ],
   "source": [
    "print(a)"
   ]
  },
  {
   "cell_type": "code",
   "execution_count": null,
   "id": "02eeea03",
   "metadata": {},
   "outputs": [],
   "source": [
    "25 = 26"
   ]
  },
  {
   "cell_type": "code",
   "execution_count": null,
   "id": "7a11300b",
   "metadata": {},
   "outputs": [],
   "source": [
    "Immutability -> Inability to change\n",
    "we can say that integers are immutable"
   ]
  },
  {
   "cell_type": "code",
   "execution_count": 12,
   "id": "6c1b6752",
   "metadata": {},
   "outputs": [
    {
     "data": {
      "text/plain": [
       "2484657941488"
      ]
     },
     "execution_count": 12,
     "metadata": {},
     "output_type": "execute_result"
    }
   ],
   "source": [
    "id(a)"
   ]
  },
  {
   "cell_type": "code",
   "execution_count": 13,
   "id": "24af1bca",
   "metadata": {},
   "outputs": [],
   "source": [
    "b = 23"
   ]
  },
  {
   "cell_type": "code",
   "execution_count": 14,
   "id": "23d45ec6",
   "metadata": {},
   "outputs": [
    {
     "data": {
      "text/plain": [
       "2484657941488"
      ]
     },
     "execution_count": 14,
     "metadata": {},
     "output_type": "execute_result"
    }
   ],
   "source": [
    "id(b)"
   ]
  },
  {
   "cell_type": "code",
   "execution_count": 15,
   "id": "ff71b12a",
   "metadata": {},
   "outputs": [
    {
     "data": {
      "text/plain": [
       "2484657941488"
      ]
     },
     "execution_count": 15,
     "metadata": {},
     "output_type": "execute_result"
    }
   ],
   "source": [
    "id(23)"
   ]
  },
  {
   "cell_type": "code",
   "execution_count": 16,
   "id": "873ce5e9",
   "metadata": {},
   "outputs": [],
   "source": [
    "a = 2.3"
   ]
  },
  {
   "cell_type": "code",
   "execution_count": 17,
   "id": "640b1723",
   "metadata": {},
   "outputs": [
    {
     "name": "stdout",
     "output_type": "stream",
     "text": [
      "2.3\n"
     ]
    }
   ],
   "source": [
    "print(a)"
   ]
  },
  {
   "cell_type": "code",
   "execution_count": 18,
   "id": "dd2623ba",
   "metadata": {},
   "outputs": [
    {
     "data": {
      "text/plain": [
       "2484735721520"
      ]
     },
     "execution_count": 18,
     "metadata": {},
     "output_type": "execute_result"
    }
   ],
   "source": [
    "id(a)"
   ]
  },
  {
   "cell_type": "code",
   "execution_count": 19,
   "id": "f304ddab",
   "metadata": {},
   "outputs": [
    {
     "name": "stdout",
     "output_type": "stream",
     "text": [
      "23\n",
      "2.3\n"
     ]
    }
   ],
   "source": [
    "print(b)\n",
    "print(a)"
   ]
  },
  {
   "cell_type": "code",
   "execution_count": 20,
   "id": "1a13c3d1",
   "metadata": {},
   "outputs": [
    {
     "data": {
      "text/plain": [
       "float"
      ]
     },
     "execution_count": 20,
     "metadata": {},
     "output_type": "execute_result"
    }
   ],
   "source": [
    "type(a)"
   ]
  },
  {
   "cell_type": "code",
   "execution_count": 23,
   "id": "046e29f4",
   "metadata": {},
   "outputs": [
    {
     "name": "stdout",
     "output_type": "stream",
     "text": [
      "<class 'float'>\n"
     ]
    }
   ],
   "source": [
    "print(type(a))"
   ]
  },
  {
   "cell_type": "code",
   "execution_count": 25,
   "id": "aafaac9e",
   "metadata": {},
   "outputs": [
    {
     "name": "stdout",
     "output_type": "stream",
     "text": [
      "<class 'int'>\n"
     ]
    }
   ],
   "source": [
    "print(type(b))"
   ]
  },
  {
   "cell_type": "code",
   "execution_count": null,
   "id": "69afb448",
   "metadata": {},
   "outputs": [],
   "source": [
    "String"
   ]
  },
  {
   "cell_type": "code",
   "execution_count": 26,
   "id": "f6f557bd",
   "metadata": {},
   "outputs": [
    {
     "data": {
      "text/plain": [
       "'Deepak'"
      ]
     },
     "execution_count": 26,
     "metadata": {},
     "output_type": "execute_result"
    }
   ],
   "source": [
    "'Deepak'"
   ]
  },
  {
   "cell_type": "code",
   "execution_count": null,
   "id": "c25aa115",
   "metadata": {},
   "outputs": [],
   "source": [
    "\"Sravan\" <--- String"
   ]
  },
  {
   "cell_type": "code",
   "execution_count": 27,
   "id": "d9eae5a2",
   "metadata": {},
   "outputs": [],
   "source": [
    "a = \"Deepak\""
   ]
  },
  {
   "cell_type": "code",
   "execution_count": 28,
   "id": "e21f2894",
   "metadata": {},
   "outputs": [],
   "source": [
    "b = \"23\""
   ]
  },
  {
   "cell_type": "code",
   "execution_count": 29,
   "id": "9f6a7f35",
   "metadata": {},
   "outputs": [
    {
     "name": "stdout",
     "output_type": "stream",
     "text": [
      "<class 'str'>\n"
     ]
    }
   ],
   "source": [
    "print(type(b))"
   ]
  },
  {
   "cell_type": "code",
   "execution_count": 30,
   "id": "d2f7b0a4",
   "metadata": {},
   "outputs": [
    {
     "name": "stdout",
     "output_type": "stream",
     "text": [
      "2484735596016\n"
     ]
    }
   ],
   "source": [
    "print(id(b))"
   ]
  },
  {
   "cell_type": "code",
   "execution_count": 31,
   "id": "48c9c29b",
   "metadata": {},
   "outputs": [],
   "source": [
    "d = \"Deepak\""
   ]
  },
  {
   "cell_type": "code",
   "execution_count": 32,
   "id": "3bf4b084",
   "metadata": {},
   "outputs": [
    {
     "name": "stdout",
     "output_type": "stream",
     "text": [
      "2484735607792\n"
     ]
    }
   ],
   "source": [
    "print(id(d))"
   ]
  },
  {
   "cell_type": "code",
   "execution_count": 33,
   "id": "edba4a4a",
   "metadata": {},
   "outputs": [],
   "source": [
    "a = \"Deepak\""
   ]
  },
  {
   "cell_type": "code",
   "execution_count": 34,
   "id": "bc810ff9",
   "metadata": {},
   "outputs": [
    {
     "name": "stdout",
     "output_type": "stream",
     "text": [
      "2484735607792\n"
     ]
    }
   ],
   "source": [
    "print(id(a))"
   ]
  },
  {
   "cell_type": "code",
   "execution_count": 35,
   "id": "f68d7ad5",
   "metadata": {},
   "outputs": [],
   "source": [
    "A = \"Deepak\""
   ]
  },
  {
   "cell_type": "code",
   "execution_count": null,
   "id": "78ad3e99",
   "metadata": {},
   "outputs": [],
   "source": [
    "b = \"nikhil\""
   ]
  },
  {
   "cell_type": "code",
   "execution_count": 37,
   "id": "1cb482d4",
   "metadata": {},
   "outputs": [],
   "source": [
    "Integer datatype\n",
    "Float datatype\n",
    "String Datatype \n",
    "\n",
    "Immutable data types"
   ]
  },
  {
   "cell_type": "markdown",
   "id": "060ca62f",
   "metadata": {},
   "source": [
    "# Collections"
   ]
  },
  {
   "cell_type": "code",
   "execution_count": null,
   "id": "0d650720",
   "metadata": {},
   "outputs": [],
   "source": [
    "list datatype\n",
    "tuple datatype\n",
    "dictionary datatype\n",
    "set datatype`"
   ]
  },
  {
   "cell_type": "markdown",
   "id": "8402e457",
   "metadata": {},
   "source": [
    "# List Datatype"
   ]
  },
  {
   "cell_type": "code",
   "execution_count": null,
   "id": "e7d91b2c",
   "metadata": {},
   "outputs": [],
   "source": [
    "1) Its an ordered sequence of items\n",
    "2) It is very flexible datatype"
   ]
  },
  {
   "cell_type": "code",
   "execution_count": 39,
   "id": "1598758e",
   "metadata": {},
   "outputs": [],
   "source": [
    "Octopus = [\"Deepak\",\"Karthik\",\"Aishwariya\",23,25,10,1.5,1.3,0.09]"
   ]
  },
  {
   "cell_type": "code",
   "execution_count": 40,
   "id": "2e7202e9",
   "metadata": {},
   "outputs": [
    {
     "name": "stdout",
     "output_type": "stream",
     "text": [
      "['Deepak', 'Karthik', 'Aishwariya', 23, 25, 10, 1.5, 1.3, 0.09]\n"
     ]
    }
   ],
   "source": [
    "print(Octopus)"
   ]
  },
  {
   "cell_type": "code",
   "execution_count": 41,
   "id": "0b5b0bc6",
   "metadata": {},
   "outputs": [],
   "source": [
    "Jovan = [1,2,3]"
   ]
  },
  {
   "cell_type": "code",
   "execution_count": 42,
   "id": "41651df7",
   "metadata": {},
   "outputs": [
    {
     "name": "stdout",
     "output_type": "stream",
     "text": [
      "2\n"
     ]
    }
   ],
   "source": [
    "print(Jovan[1])"
   ]
  },
  {
   "cell_type": "code",
   "execution_count": 43,
   "id": "296b90cc",
   "metadata": {},
   "outputs": [
    {
     "data": {
      "text/plain": [
       "'Aishwariya'"
      ]
     },
     "execution_count": 43,
     "metadata": {},
     "output_type": "execute_result"
    }
   ],
   "source": [
    "Octopus[2]"
   ]
  },
  {
   "cell_type": "code",
   "execution_count": 44,
   "id": "527403e8",
   "metadata": {},
   "outputs": [
    {
     "name": "stdout",
     "output_type": "stream",
     "text": [
      "Aishwariya\n"
     ]
    }
   ],
   "source": [
    "print(Octopus[2])"
   ]
  },
  {
   "cell_type": "code",
   "execution_count": 45,
   "id": "d8931a68",
   "metadata": {},
   "outputs": [
    {
     "name": "stdout",
     "output_type": "stream",
     "text": [
      "Soham has a great question\n"
     ]
    }
   ],
   "source": [
    "print('Soham has a great question')"
   ]
  },
  {
   "cell_type": "code",
   "execution_count": 46,
   "id": "55984db3",
   "metadata": {},
   "outputs": [
    {
     "data": {
      "text/plain": [
       "list"
      ]
     },
     "execution_count": 46,
     "metadata": {},
     "output_type": "execute_result"
    }
   ],
   "source": [
    "type(Octopus)"
   ]
  },
  {
   "cell_type": "code",
   "execution_count": 47,
   "id": "e5a33849",
   "metadata": {},
   "outputs": [
    {
     "data": {
      "text/plain": [
       "2484735650816"
      ]
     },
     "execution_count": 47,
     "metadata": {},
     "output_type": "execute_result"
    }
   ],
   "source": [
    "id(Octopus)"
   ]
  },
  {
   "cell_type": "code",
   "execution_count": 48,
   "id": "73ade7bb",
   "metadata": {},
   "outputs": [],
   "source": [
    "Friend_Octopus = [\"Deepak\",\"Karthik\",\"Aishwariya\",23,25,10,1.5,1.3,0.09]"
   ]
  },
  {
   "cell_type": "code",
   "execution_count": 49,
   "id": "d321a687",
   "metadata": {},
   "outputs": [
    {
     "data": {
      "text/plain": [
       "2484752217280"
      ]
     },
     "execution_count": 49,
     "metadata": {},
     "output_type": "execute_result"
    }
   ],
   "source": [
    "id(Friend_Octopus)"
   ]
  },
  {
   "cell_type": "code",
   "execution_count": null,
   "id": "861e0b41",
   "metadata": {},
   "outputs": [],
   "source": [
    "Id of the lists are changed because list is mutable"
   ]
  },
  {
   "cell_type": "code",
   "execution_count": null,
   "id": "2f2ab73b",
   "metadata": {},
   "outputs": [],
   "source": []
  },
  {
   "cell_type": "code",
   "execution_count": null,
   "id": "d39fb0b7",
   "metadata": {},
   "outputs": [],
   "source": [
    "what are data types?\n",
    "How many data types we have in python?\n",
    "builtin datatype\n",
    "int\n",
    "float\n",
    "string\n",
    "\n",
    "immutablity\n",
    "\n",
    "list -> mutable"
   ]
  },
  {
   "cell_type": "code",
   "execution_count": null,
   "id": "bb6eaa5b",
   "metadata": {},
   "outputs": [],
   "source": [
    "'Vanditha'"
   ]
  },
  {
   "cell_type": "code",
   "execution_count": null,
   "id": "4219fc02",
   "metadata": {},
   "outputs": [],
   "source": [
    "immutable --> non changable\n",
    "mutable --> changable"
   ]
  }
 ],
 "metadata": {
  "kernelspec": {
   "display_name": "Python 3 (ipykernel)",
   "language": "python",
   "name": "python3"
  },
  "language_info": {
   "codemirror_mode": {
    "name": "ipython",
    "version": 3
   },
   "file_extension": ".py",
   "mimetype": "text/x-python",
   "name": "python",
   "nbconvert_exporter": "python",
   "pygments_lexer": "ipython3",
   "version": "3.9.7"
  }
 },
 "nbformat": 4,
 "nbformat_minor": 5
}
