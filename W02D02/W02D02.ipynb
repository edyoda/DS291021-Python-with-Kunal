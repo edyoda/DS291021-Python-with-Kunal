{
 "cells": [
  {
   "cell_type": "code",
   "execution_count": null,
   "id": "6b247c12",
   "metadata": {},
   "outputs": [],
   "source": [
    "mutable data type (editable)\n",
    "    list\n",
    "    dict\n",
    "    set\n",
    "immutable data types (non editable)\n",
    "    int\n",
    "    float \n",
    "    str\n",
    "    tuple\n",
    "    bool\n",
    "    None\n",
    "    complex\n",
    "\n",
    "2 most important set key and dict key\n",
    "    keys are unique\n",
    "    immutable"
   ]
  },
  {
   "cell_type": "code",
   "execution_count": null,
   "id": "9904cfda",
   "metadata": {},
   "outputs": [],
   "source": [
    "conditional statement"
   ]
  },
  {
   "cell_type": "code",
   "execution_count": null,
   "id": "2934409f",
   "metadata": {},
   "outputs": [],
   "source": [
    "if else"
   ]
  },
  {
   "cell_type": "code",
   "execution_count": null,
   "id": "2ca9351b",
   "metadata": {},
   "outputs": [],
   "source": [
    "if expression:\n",
    "    statement\n",
    "else:\n",
    "    statement"
   ]
  },
  {
   "cell_type": "code",
   "execution_count": 1,
   "id": "f1cda05e",
   "metadata": {},
   "outputs": [],
   "source": [
    "x = \"Mango\""
   ]
  },
  {
   "cell_type": "code",
   "execution_count": 2,
   "id": "06ec1e44",
   "metadata": {},
   "outputs": [
    {
     "name": "stdout",
     "output_type": "stream",
     "text": [
      "Yay x is  Mango\n"
     ]
    }
   ],
   "source": [
    "if \"Mango\" == x:\n",
    "    print(\"Yay x is \",x)"
   ]
  },
  {
   "cell_type": "code",
   "execution_count": 4,
   "id": "f55771c9",
   "metadata": {},
   "outputs": [
    {
     "name": "stdout",
     "output_type": "stream",
     "text": [
      "Hajmola Digests all when you need\n"
     ]
    }
   ],
   "source": [
    "var = \"Hajmola\"\n",
    "\n",
    "if \"H\" in var:\n",
    "    print(\"Hajmola Digests all when you need\")"
   ]
  },
  {
   "cell_type": "code",
   "execution_count": 5,
   "id": "f8986a05",
   "metadata": {},
   "outputs": [
    {
     "name": "stdout",
     "output_type": "stream",
     "text": [
      "Hajmola Digests all when you need\n"
     ]
    }
   ],
   "source": [
    "print(\"Hajmola Digests all when you need\")"
   ]
  },
  {
   "cell_type": "code",
   "execution_count": 8,
   "id": "61db4bd6",
   "metadata": {},
   "outputs": [
    {
     "name": "stdout",
     "output_type": "stream",
     "text": [
      "Hajmola  Digests all when you need Hajmola\n"
     ]
    }
   ],
   "source": [
    "print(var,\" Digests all when you need\",var)"
   ]
  },
  {
   "cell_type": "code",
   "execution_count": 11,
   "id": "4e8641e0",
   "metadata": {},
   "outputs": [
    {
     "name": "stdout",
     "output_type": "stream",
     "text": [
      "Yay x is  Mango\n"
     ]
    }
   ],
   "source": [
    "x = \"Pomegranate\"\n",
    "if \"Mango\" == x:\n",
    "    print(\"Yay x is \",x)\n",
    "else:\n",
    "    print(\"We don't have mango\")"
   ]
  },
  {
   "cell_type": "code",
   "execution_count": 12,
   "id": "6b190020",
   "metadata": {},
   "outputs": [
    {
     "name": "stdout",
     "output_type": "stream",
     "text": [
      "Hajmola Digests all when you need\n"
     ]
    }
   ],
   "source": [
    "var = \"Hajmola\"\n",
    "\n",
    "if \"H\" in var:\n",
    "    print(\"Hajmola Digests all when you need\")"
   ]
  },
  {
   "cell_type": "code",
   "execution_count": null,
   "id": "6289169e",
   "metadata": {},
   "outputs": [],
   "source": [
    "#membership operator --> in\n"
   ]
  },
  {
   "cell_type": "code",
   "execution_count": 15,
   "id": "95956e00",
   "metadata": {},
   "outputs": [
    {
     "name": "stdout",
     "output_type": "stream",
     "text": [
      "sorry your value is not present in  Hajmola\n"
     ]
    }
   ],
   "source": [
    "var = \"Hajmola\"\n",
    "\n",
    "if \"A\" in var:\n",
    "    print(\"Hajmola Digests all when you need\")\n",
    "else:\n",
    "    print(\"sorry your value is not present in \",var)"
   ]
  },
  {
   "cell_type": "code",
   "execution_count": 14,
   "id": "71175f43",
   "metadata": {},
   "outputs": [
    {
     "name": "stdout",
     "output_type": "stream",
     "text": [
      "Hajmola Digests all when you need\n"
     ]
    }
   ],
   "source": [
    "var = \"Hajmola\"\n",
    "\n",
    "if \"a\" in var:\n",
    "    print(\"Hajmola Digests all when you need\")"
   ]
  },
  {
   "cell_type": "code",
   "execution_count": 19,
   "id": "c8252773",
   "metadata": {},
   "outputs": [
    {
     "name": "stdout",
     "output_type": "stream",
     "text": [
      "Member is not club\n"
     ]
    }
   ],
   "source": [
    "club = [\"prashant\" , \"nikita\" ,\"nidhi\", \"anand\", \"muskan\"]\n",
    "\n",
    "if \"Deepak\"  in club:\n",
    "    print(\"member is in the club\")\n",
    "else:\n",
    "    print(\"Member is not club\")\n"
   ]
  },
  {
   "cell_type": "code",
   "execution_count": 20,
   "id": "6cb202a9",
   "metadata": {},
   "outputs": [
    {
     "name": "stdout",
     "output_type": "stream",
     "text": [
      "prashant is in the club\n"
     ]
    }
   ],
   "source": [
    "club = [\"prashant\" , \"nikita\" ,\"nidhi\", \"anand\", \"muskan\"]\n",
    "if \"prashant\"  in club:\n",
    "    print(\"prashant is in the club\")\n",
    "else:\n",
    "    print(\"prashant is not club\")\n"
   ]
  },
  {
   "cell_type": "code",
   "execution_count": null,
   "id": "dc47e9de",
   "metadata": {},
   "outputs": [],
   "source": [
    "ASCII value"
   ]
  },
  {
   "cell_type": "code",
   "execution_count": 21,
   "id": "ee95f9a4",
   "metadata": {},
   "outputs": [
    {
     "data": {
      "text/plain": [
       "65"
      ]
     },
     "execution_count": 21,
     "metadata": {},
     "output_type": "execute_result"
    }
   ],
   "source": [
    "ord('A')"
   ]
  },
  {
   "cell_type": "code",
   "execution_count": 22,
   "id": "d09bccf1",
   "metadata": {},
   "outputs": [
    {
     "data": {
      "text/plain": [
       "90"
      ]
     },
     "execution_count": 22,
     "metadata": {},
     "output_type": "execute_result"
    }
   ],
   "source": [
    "ord('Z')"
   ]
  },
  {
   "cell_type": "code",
   "execution_count": 23,
   "id": "020853e6",
   "metadata": {},
   "outputs": [
    {
     "data": {
      "text/plain": [
       "35"
      ]
     },
     "execution_count": 23,
     "metadata": {},
     "output_type": "execute_result"
    }
   ],
   "source": [
    "ord('#')"
   ]
  },
  {
   "cell_type": "code",
   "execution_count": 24,
   "id": "2bbb4c23",
   "metadata": {},
   "outputs": [
    {
     "data": {
      "text/plain": [
       "97"
      ]
     },
     "execution_count": 24,
     "metadata": {},
     "output_type": "execute_result"
    }
   ],
   "source": [
    "ord('a')"
   ]
  },
  {
   "cell_type": "code",
   "execution_count": 31,
   "id": "4c3d5cdf",
   "metadata": {},
   "outputs": [],
   "source": [
    "club = [\"prashant\",\"nikita\", \"anand\", \"muskan\"]\n",
    "\n",
    "# prashant is friend of nidhi"
   ]
  },
  {
   "cell_type": "code",
   "execution_count": 32,
   "id": "d87050a7",
   "metadata": {},
   "outputs": [
    {
     "name": "stdout",
     "output_type": "stream",
     "text": [
      "Okay lets study with prasant only\n"
     ]
    }
   ],
   "source": [
    "if \"prashant\" in club:\n",
    "    \n",
    "    if \"nidhi\" in club:\n",
    "        print(\"prashant and Nidhi is in the club\")\n",
    "    else:\n",
    "        print(\"Okay lets study with prasant only\")\n",
    "        \n",
    "else:\n",
    "    print(\"I don't want to join the club\")"
   ]
  },
  {
   "cell_type": "code",
   "execution_count": 34,
   "id": "c0f04536",
   "metadata": {},
   "outputs": [],
   "source": [
    "x = \"Ansari\""
   ]
  },
  {
   "cell_type": "code",
   "execution_count": 35,
   "id": "acbd5bd5",
   "metadata": {},
   "outputs": [
    {
     "name": "stdout",
     "output_type": "stream",
     "text": [
      "Ansari\n"
     ]
    }
   ],
   "source": [
    "if type(x) is str:\n",
    "    print(x)\n",
    "else:\n",
    "    print(type(x))"
   ]
  },
  {
   "cell_type": "code",
   "execution_count": 36,
   "id": "a8b4ca35",
   "metadata": {},
   "outputs": [
    {
     "name": "stdout",
     "output_type": "stream",
     "text": [
      "<class 'int'>\n"
     ]
    }
   ],
   "source": [
    "x = 23\n",
    "if type(x) is str:\n",
    "    print(x)\n",
    "else:\n",
    "    print(type(x))"
   ]
  },
  {
   "cell_type": "markdown",
   "id": "6ad11446",
   "metadata": {},
   "source": [
    "## Loop"
   ]
  },
  {
   "cell_type": "code",
   "execution_count": 37,
   "id": "dff035dd",
   "metadata": {},
   "outputs": [],
   "source": [
    "transaction_list = [500,200,700,100,1000]"
   ]
  },
  {
   "cell_type": "code",
   "execution_count": 38,
   "id": "8a7c625c",
   "metadata": {},
   "outputs": [
    {
     "name": "stdout",
     "output_type": "stream",
     "text": [
      "You have debited Rs 500\n",
      "You have debited Rs 200\n",
      "You have debited Rs 700\n",
      "You have debited Rs 100\n",
      "You have debited Rs 1000\n"
     ]
    }
   ],
   "source": [
    "print(\"You have debited Rs\",transaction_list[0])\n",
    "print(\"You have debited Rs\",transaction_list[1])\n",
    "print(\"You have debited Rs\",transaction_list[2])\n",
    "print(\"You have debited Rs\",transaction_list[3])\n",
    "print(\"You have debited Rs\",transaction_list[4])"
   ]
  },
  {
   "cell_type": "code",
   "execution_count": 39,
   "id": "e9b4fd4b",
   "metadata": {},
   "outputs": [
    {
     "name": "stdout",
     "output_type": "stream",
     "text": [
      "You have debited Rs 500\n",
      "You have debited Rs 200\n",
      "You have debited Rs 700\n",
      "You have debited Rs 100\n",
      "You have debited Rs 1000\n"
     ]
    }
   ],
   "source": [
    "for amount in transaction_list:\n",
    "    print(\"You have debited Rs\",amount)"
   ]
  },
  {
   "cell_type": "code",
   "execution_count": 41,
   "id": "592ae591",
   "metadata": {},
   "outputs": [
    {
     "name": "stdout",
     "output_type": "stream",
     "text": [
      "You have debited Rs 500\n",
      "You have debited Rs 200\n",
      "You have debited Rs 700\n",
      "You have debited Rs 100\n",
      "You have debited Rs 1000\n"
     ]
    }
   ],
   "source": [
    "for i in transaction_list:\n",
    "    print(\"You have debited Rs\",i)"
   ]
  },
  {
   "cell_type": "code",
   "execution_count": 43,
   "id": "37d0ded7",
   "metadata": {},
   "outputs": [],
   "source": [
    "fruits = [\"Mango\",\"Banana\",\"Pears\",\"Pineapple\",\"Kiwi\",\"Strawberry\",\"Dragon Fruits\"]"
   ]
  },
  {
   "cell_type": "code",
   "execution_count": 46,
   "id": "8c14af98",
   "metadata": {},
   "outputs": [
    {
     "name": "stdout",
     "output_type": "stream",
     "text": [
      "I brought Mango\n",
      "I brought Banana\n",
      "I brought Pears\n",
      "I brought Pineapple\n",
      "I brought Kiwi\n",
      "I brought Strawberry\n",
      "I brought Dragon Fruits\n"
     ]
    }
   ],
   "source": [
    "for plastic_bag in fruits:\n",
    "        print(\"I brought\",plastic_bag)"
   ]
  },
  {
   "cell_type": "code",
   "execution_count": null,
   "id": "febb57fa",
   "metadata": {},
   "outputs": [],
   "source": [
    "for var in collection:\n",
    "    Statement"
   ]
  },
  {
   "cell_type": "code",
   "execution_count": 50,
   "id": "cb33d854",
   "metadata": {},
   "outputs": [
    {
     "name": "stdout",
     "output_type": "stream",
     "text": [
      "I brought Mango\n",
      "I brought Banana\n",
      "I brought Pears\n",
      "I brought Pineapple\n",
      "I brought Kiwi\n",
      "I brought Strawberry\n",
      "never mind\n"
     ]
    }
   ],
   "source": [
    "for plastic_bag in fruits:\n",
    "    \n",
    "    if \"Dragon Fruits\" in plastic_bag:\n",
    "        print(\"never mind\")\n",
    "    else:\n",
    "        print(\"I brought\",plastic_bag)"
   ]
  },
  {
   "cell_type": "code",
   "execution_count": 51,
   "id": "ba41faa4",
   "metadata": {},
   "outputs": [
    {
     "name": "stdout",
     "output_type": "stream",
     "text": [
      "I brought Mango\n",
      "I brought Banana\n",
      "I brought Pears\n",
      "I brought Pineapple\n",
      "I brought Kiwi\n",
      "I brought Strawberry\n",
      "never mind\n"
     ]
    }
   ],
   "source": [
    "for plastic_bag in fruits:\n",
    "    \n",
    "    if \"Dragon Fruits\" == plastic_bag:\n",
    "        print(\"never mind\")\n",
    "    else:\n",
    "        print(\"I brought\",plastic_bag)"
   ]
  },
  {
   "cell_type": "markdown",
   "id": "89869900",
   "metadata": {},
   "source": [
    "# Sindhuja's Code"
   ]
  },
  {
   "cell_type": "code",
   "execution_count": 53,
   "id": "20f21834",
   "metadata": {},
   "outputs": [
    {
     "name": "stdout",
     "output_type": "stream",
     "text": [
      "the values of set_value 0\n",
      "the values of set_value 1\n",
      "the values of set_value 3\n",
      "the values of set_value 4\n",
      "the values of set_value 7\n",
      "the values of set_value 8\n",
      "the values of set_value 9\n"
     ]
    }
   ],
   "source": [
    "set_value={1,3,4,7,8,9,0,0,0,0}\n",
    "\n",
    "for I in set_value:\n",
    "    print(\"the values of set_value\",I)"
   ]
  },
  {
   "cell_type": "markdown",
   "id": "3f25a01d",
   "metadata": {},
   "source": [
    "## Multiplication Table "
   ]
  },
  {
   "cell_type": "code",
   "execution_count": null,
   "id": "47954006",
   "metadata": {},
   "outputs": [],
   "source": [
    "# click esc\n",
    "# click m\n",
    "# hit shift + enter"
   ]
  },
  {
   "cell_type": "code",
   "execution_count": 55,
   "id": "f57751ef",
   "metadata": {},
   "outputs": [
    {
     "name": "stdout",
     "output_type": "stream",
     "text": [
      "8 X 1 = 8\n",
      "8 X 2 = 16\n",
      "8 X 3 = 24\n",
      "8 X 4 = 32\n",
      "8 X 5 = 40\n",
      "8 X 6 = 48\n",
      "8 X 7 = 56\n",
      "8 X 8 = 64\n",
      "8 X 9 = 72\n",
      "8 X 10 = 80\n"
     ]
    }
   ],
   "source": [
    "l = [1,2,3,4,5,6,7,8,9,10]\n",
    "num = 8\n",
    "for number in l:\n",
    "    print(num,\"X\",number,\"=\",num * number)"
   ]
  },
  {
   "cell_type": "markdown",
   "id": "18a27fe2",
   "metadata": {},
   "source": [
    "## Q1) Use a loop to print the numbers those are even in the given list [1, 2, 3, 4, 5, 6, 7, 8, 9, 10]"
   ]
  },
  {
   "cell_type": "code",
   "execution_count": null,
   "id": "954245e8",
   "metadata": {},
   "outputs": [],
   "source": [
    "21:23 ~ 6 mins"
   ]
  },
  {
   "cell_type": "code",
   "execution_count": 56,
   "id": "ecad24ad",
   "metadata": {},
   "outputs": [],
   "source": [
    "l = [1, 2, 3, 4, 5, 6, 7, 8, 9, 10]"
   ]
  },
  {
   "cell_type": "code",
   "execution_count": 58,
   "id": "3b56aa2f",
   "metadata": {},
   "outputs": [
    {
     "name": "stdout",
     "output_type": "stream",
     "text": [
      "1\n",
      "3\n",
      "5\n",
      "7\n",
      "9\n"
     ]
    }
   ],
   "source": [
    "for i in l:\n",
    "    if i % 2 != 0:\n",
    "        print(i)"
   ]
  },
  {
   "cell_type": "code",
   "execution_count": 59,
   "id": "d4e464ff",
   "metadata": {},
   "outputs": [
    {
     "name": "stdout",
     "output_type": "stream",
     "text": [
      "1\n",
      "3\n",
      "5\n",
      "7\n",
      "9\n"
     ]
    }
   ],
   "source": [
    "for i in l:\n",
    "    if i % 2 == 0:\n",
    "        pass\n",
    "    else:\n",
    "        print(i)"
   ]
  },
  {
   "cell_type": "code",
   "execution_count": 60,
   "id": "ce6c50a1",
   "metadata": {},
   "outputs": [
    {
     "name": "stdout",
     "output_type": "stream",
     "text": [
      "1\n",
      "2\n",
      "3\n",
      "4\n",
      "5\n",
      "6\n",
      "7\n",
      "8\n",
      "9\n",
      "10\n"
     ]
    }
   ],
   "source": [
    "for i in l:\n",
    "    print(i)"
   ]
  },
  {
   "cell_type": "code",
   "execution_count": 66,
   "id": "3c58bbc3",
   "metadata": {},
   "outputs": [
    {
     "name": "stdout",
     "output_type": "stream",
     "text": [
      "3  is Odd Number\n",
      "6  is Even Number\n",
      "9  is Odd Number\n",
      "15  is Odd Number\n",
      "18  is Even Number\n",
      "21  is Odd Number\n",
      "24  is Even Number\n",
      "27  is Odd Number\n",
      "30  is Even Number\n"
     ]
    }
   ],
   "source": [
    "for i in l:\n",
    "    if i % 2 != 0:\n",
    "        print(i,\" is Odd Number\")\n",
    "    else:\n",
    "        print(i,\" is Even Number\")"
   ]
  },
  {
   "cell_type": "code",
   "execution_count": null,
   "id": "ccb51683",
   "metadata": {},
   "outputs": [],
   "source": []
  },
  {
   "cell_type": "code",
   "execution_count": null,
   "id": "12e0223d",
   "metadata": {},
   "outputs": [],
   "source": []
  }
 ],
 "metadata": {
  "kernelspec": {
   "display_name": "Python 3 (ipykernel)",
   "language": "python",
   "name": "python3"
  },
  "language_info": {
   "codemirror_mode": {
    "name": "ipython",
    "version": 3
   },
   "file_extension": ".py",
   "mimetype": "text/x-python",
   "name": "python",
   "nbconvert_exporter": "python",
   "pygments_lexer": "ipython3",
   "version": "3.9.7"
  }
 },
 "nbformat": 4,
 "nbformat_minor": 5
}
