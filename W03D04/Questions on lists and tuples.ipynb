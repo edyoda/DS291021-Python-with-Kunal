{
 "cells": [
  {
   "cell_type": "markdown",
   "metadata": {},
   "source": [
    "## Q1)find out the largest and smallest word in the string \"The Surprising Benefits of Sarcasm\".\n",
    "\n",
    "### Intuition: How can we split the words such that we can count their length and compare with each other?\n",
    "\n",
    "### Pseudocode:\n",
    "    1.)Take maxx as -inf, and minn as +inf\n",
    "    2.)convert the string into a list using split() function\n",
    "    3.)loop/iterate through the list and find the maximum length word by using len() function.\n",
    "    Similarly the minimum"
   ]
  },
  {
   "cell_type": "markdown",
   "metadata": {},
   "source": [
    "## Q2.) Make a list with alphabets from m to z\n",
    "\n",
    "### Intuition: Range function can create numbers and chr() can convert them to alphabets\n",
    "\n",
    "### Pseudocode:\n",
    "    1.) Create an empty list\n",
    "    2.) make 2 variables for start and end alphabets. convert them to numbers\n",
    "    3.) loop from start to end and convert each one of them to alphabet\n",
    "    4.) save each one of them to list."
   ]
  },
  {
   "cell_type": "markdown",
   "metadata": {},
   "source": [
    "## Q3.) Find the maximum appearing alphabet in the string \"apple is apple\"\n",
    "### Intuition: Use the learn count function learnt in the previous lesson\n",
    "\n",
    "### Pseudocode:\n",
    "    every char \n",
    "    check if already present in the list or not \n",
    "         if not present :\n",
    "            calculate count \n",
    "            check max count condition "
   ]
  },
  {
   "cell_type": "markdown",
   "metadata": {},
   "source": [
    "## Q4.) Use range(1,21) make two list, one should contain even numbers and the other should contain odd numbers"
   ]
  },
  {
   "cell_type": "markdown",
   "metadata": {},
   "source": [
    "## Q.5) given two tuples , arrange their unique elements in sorted order in a list\n",
    "\n",
    "### Intuition: Tuples are immutable, create an empty list to store the unique elements and sort them.\n",
    "\n",
    "### Pseudocode:\n",
    "    1.)Create a new tuple by adding them.\n",
    "    2.)loop through them to append only value not already present\n",
    "    3.)finally use sorted method on the list."
   ]
  },
  {
   "cell_type": "markdown",
   "metadata": {},
   "source": [
    "### Q.6): Do the following\n",
    "    a)Create a tuple with single item 2.\n",
    "    b)Output of the following program:"
   ]
  },
  {
   "cell_type": "code",
   "execution_count": null,
   "metadata": {},
   "outputs": [],
   "source": []
  }
 ],
 "metadata": {
  "kernelspec": {
   "display_name": "Python 3",
   "language": "python",
   "name": "python3"
  },
  "language_info": {
   "codemirror_mode": {
    "name": "ipython",
    "version": 3
   },
   "file_extension": ".py",
   "mimetype": "text/x-python",
   "name": "python",
   "nbconvert_exporter": "python",
   "pygments_lexer": "ipython3",
   "version": "3.8.3"
  }
 },
 "nbformat": 4,
 "nbformat_minor": 4
}