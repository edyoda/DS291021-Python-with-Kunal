{
 "cells": [
  {
   "cell_type": "markdown",
   "metadata": {},
   "source": [
    "## Q1) How to use slicing to print only OOOO out of \"OAOAOAOA\"?\n",
    "\n",
    "### Intuition: Can we jump to only even index positions?\n",
    "\n",
    "### Pseudocode:No Need, just an builtin function"
   ]
  },
  {
   "cell_type": "markdown",
   "metadata": {},
   "source": [
    "## Q2)Check which of the following string contains all the 26 Alphabets\n",
    "##    a)\"the quick brown fox jumps over a lazy dog\"\n",
    "##    b)\"the quick red fox jumps over a lazy dog\"\n",
    "\n",
    "### Intuition:Can we use ASCII values to store in a list the alphabet number present in the string.\n",
    "\n",
    "### Pseudocode:\n",
    "    1)make a list with 0's of size 26\n",
    "    2)loop through the string and calculate ascii value.\n",
    "    2.1) subtract the lowest ascii value to get the alphabet position (Remember 0 indexed)\n",
    "    2.2) replace the 0 with 1 in the list for that alphabet\n",
    "    3) sum the values in the list, it should be 26.\n",
    "    "
   ]
  },
  {
   "cell_type": "markdown",
   "metadata": {},
   "source": [
    "## Q3)find the length of the string \"Edyoda\" without using len function.\n",
    "\n",
    "### Intuition:\n",
    "    You already studied Loops, and you know string is iterable.\n",
    "    \n",
    "### Pseudocode:\n",
    "    1)create a variable length = 0.\n",
    "    2)loop over the string and increase it's value."
   ]
  },
  {
   "cell_type": "markdown",
   "metadata": {},
   "source": [
    "## Q4) Check if the word 'china'  is present in the string\n",
    "##    a)\"Who is responsible for this great year 2020?\"        \n",
    "##     b)\"Is it you china?\"\n",
    "\n",
    "## Intuition:\n",
    "    You already studied some operators, use them, or maybe use some builtin string functions"
   ]
  },
  {
   "cell_type": "markdown",
   "metadata": {},
   "source": [
    "## Q5) find the first and the last occurence of the letter 'o' and character ',' in \"Hello, World\".Print both the index.\n",
    "\n",
    "## Intuition: Use built in function"
   ]
  }
 ],
 "metadata": {
  "kernelspec": {
   "display_name": "Python 3 (ipykernel)",
   "language": "python",
   "name": "python3"
  },
  "language_info": {
   "codemirror_mode": {
    "name": "ipython",
    "version": 3
   },
   "file_extension": ".py",
   "mimetype": "text/x-python",
   "name": "python",
   "nbconvert_exporter": "python",
   "pygments_lexer": "ipython3",
   "version": "3.9.7"
  }
 },
 "nbformat": 4,
 "nbformat_minor": 4
}
