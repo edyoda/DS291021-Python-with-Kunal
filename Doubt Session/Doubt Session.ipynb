{
 "cells": [
  {
   "cell_type": "code",
   "execution_count": null,
   "id": "bbc8e917",
   "metadata": {},
   "outputs": [],
   "source": [
    "quiz 1 qns 8\n",
    "\n",
    "okk sir pls discuss quiz \n",
    "\n",
    "will you please explain dict with program\n",
    "\n",
    "Ques 6 of quiz\n",
    "\n",
    "if print is printed inner and puter loop explain in detail\n",
    "\n"
   ]
  },
  {
   "cell_type": "code",
   "execution_count": null,
   "id": "424d01cc",
   "metadata": {},
   "outputs": [],
   "source": [
    "immutable data type\n",
    "\n",
    "tuple, str, int, complex, float, None, bool "
   ]
  },
  {
   "cell_type": "code",
   "execution_count": null,
   "id": "35c85bd9",
   "metadata": {},
   "outputs": [],
   "source": [
    "if we put tuple inside list even then we cannot edit the tuple\n",
    "\n",
    "if we palace list inside the tuple we can still be able to edit that list"
   ]
  },
  {
   "cell_type": "code",
   "execution_count": 1,
   "id": "ae5ab11a",
   "metadata": {},
   "outputs": [],
   "source": [
    "l = [1,2,3,4]\n"
   ]
  },
  {
   "cell_type": "code",
   "execution_count": 3,
   "id": "5b685eae",
   "metadata": {},
   "outputs": [
    {
     "name": "stdout",
     "output_type": "stream",
     "text": [
      "[1, 2, 3, 4]\n"
     ]
    }
   ],
   "source": [
    "print(l)"
   ]
  },
  {
   "cell_type": "code",
   "execution_count": 4,
   "id": "6dfd46d4",
   "metadata": {},
   "outputs": [
    {
     "data": {
      "text/plain": [
       "list"
      ]
     },
     "execution_count": 4,
     "metadata": {},
     "output_type": "execute_result"
    }
   ],
   "source": [
    "type(l)"
   ]
  },
  {
   "cell_type": "code",
   "execution_count": 5,
   "id": "58e5c28e",
   "metadata": {},
   "outputs": [],
   "source": [
    "l[2] = \"Karthik\""
   ]
  },
  {
   "cell_type": "code",
   "execution_count": 6,
   "id": "b0cf55e5",
   "metadata": {},
   "outputs": [
    {
     "name": "stdout",
     "output_type": "stream",
     "text": [
      "[1, 2, 'Karthik', 4]\n"
     ]
    }
   ],
   "source": [
    "print(l)"
   ]
  },
  {
   "cell_type": "code",
   "execution_count": 7,
   "id": "ef29572a",
   "metadata": {},
   "outputs": [],
   "source": [
    "t = (\"Jaggarnath\",\"Swarnali\",\"Ajay\",[1, 2, 3, 4])"
   ]
  },
  {
   "cell_type": "code",
   "execution_count": 8,
   "id": "fe28f465",
   "metadata": {},
   "outputs": [
    {
     "name": "stdout",
     "output_type": "stream",
     "text": [
      "('Jaggarnath', 'Swarnali', 'Ajay', [1, 2, 3, 4])\n"
     ]
    }
   ],
   "source": [
    "print(t)"
   ]
  },
  {
   "cell_type": "code",
   "execution_count": 10,
   "id": "91f6df85",
   "metadata": {},
   "outputs": [],
   "source": [
    "t[3][2] = \"Karthik\""
   ]
  },
  {
   "cell_type": "code",
   "execution_count": 11,
   "id": "e76f944a",
   "metadata": {},
   "outputs": [
    {
     "name": "stdout",
     "output_type": "stream",
     "text": [
      "('Jaggarnath', 'Swarnali', 'Ajay', [1, 2, 'Karthik', 4])\n"
     ]
    }
   ],
   "source": [
    "print(t)"
   ]
  },
  {
   "cell_type": "code",
   "execution_count": null,
   "id": "e50cf0e2",
   "metadata": {},
   "outputs": [],
   "source": [
    "IS IT POSSIBLE TO INDEX A DICT --> No\n",
    "                          SET  --> No"
   ]
  },
  {
   "cell_type": "code",
   "execution_count": 12,
   "id": "540969c9",
   "metadata": {},
   "outputs": [],
   "source": [
    "s = \"Kunal 152\""
   ]
  },
  {
   "cell_type": "code",
   "execution_count": 13,
   "id": "4b36a65a",
   "metadata": {},
   "outputs": [
    {
     "data": {
      "text/plain": [
       "'n'"
      ]
     },
     "execution_count": 13,
     "metadata": {},
     "output_type": "execute_result"
    }
   ],
   "source": [
    "s[2]"
   ]
  },
  {
   "cell_type": "code",
   "execution_count": 14,
   "id": "7ed871a3",
   "metadata": {},
   "outputs": [],
   "source": [
    "a = 3\n",
    "b = 3"
   ]
  },
  {
   "cell_type": "code",
   "execution_count": 15,
   "id": "f52f52da",
   "metadata": {},
   "outputs": [
    {
     "data": {
      "text/plain": [
       "True"
      ]
     },
     "execution_count": 15,
     "metadata": {},
     "output_type": "execute_result"
    }
   ],
   "source": [
    "id(a) == id(b)"
   ]
  },
  {
   "cell_type": "code",
   "execution_count": 16,
   "id": "5c409152",
   "metadata": {},
   "outputs": [],
   "source": [
    "a = \"Akshit\"\n",
    "b = \"Akshit\""
   ]
  },
  {
   "cell_type": "code",
   "execution_count": 17,
   "id": "f9caa1ec",
   "metadata": {},
   "outputs": [
    {
     "data": {
      "text/plain": [
       "True"
      ]
     },
     "execution_count": 17,
     "metadata": {},
     "output_type": "execute_result"
    }
   ],
   "source": [
    "id(a) == id(b)"
   ]
  },
  {
   "cell_type": "code",
   "execution_count": 18,
   "id": "3a6e07c6",
   "metadata": {},
   "outputs": [
    {
     "name": "stdout",
     "output_type": "stream",
     "text": [
      "False\n"
     ]
    }
   ],
   "source": [
    "a = (1,2,3)\n",
    "\n",
    "b = (1,2,3)\n",
    "\n",
    "print(id(a) == id(b))"
   ]
  },
  {
   "cell_type": "code",
   "execution_count": 22,
   "id": "1e27257b",
   "metadata": {},
   "outputs": [],
   "source": [
    "x = [2,5,(2,5)]"
   ]
  },
  {
   "cell_type": "code",
   "execution_count": 23,
   "id": "c3a443db",
   "metadata": {},
   "outputs": [
    {
     "data": {
      "text/plain": [
       "1764022118736"
      ]
     },
     "execution_count": 23,
     "metadata": {},
     "output_type": "execute_result"
    }
   ],
   "source": [
    "id(x[0])"
   ]
  },
  {
   "cell_type": "code",
   "execution_count": 24,
   "id": "a7820bf8",
   "metadata": {},
   "outputs": [
    {
     "data": {
      "text/plain": [
       "1764022118736"
      ]
     },
     "execution_count": 24,
     "metadata": {},
     "output_type": "execute_result"
    }
   ],
   "source": [
    "id(x[2][0])"
   ]
  },
  {
   "cell_type": "code",
   "execution_count": null,
   "id": "5603b458",
   "metadata": {},
   "outputs": [],
   "source": [
    "x = [(1,2,3),{1,1,1,2},\"This Question is Easy Please don't skip it\",3.14]\n",
    "\n",
    "[], (), {}, \"This Question is Easy Please don't skip it\", 3.14, 1,2, 3 "
   ]
  },
  {
   "cell_type": "code",
   "execution_count": 25,
   "id": "744a4859",
   "metadata": {},
   "outputs": [],
   "source": [
    "t = (\"Funny Rajeshwar\",\"Cool Ajay\")"
   ]
  },
  {
   "cell_type": "code",
   "execution_count": 26,
   "id": "dd41af1e",
   "metadata": {},
   "outputs": [],
   "source": [
    "l = list(t)"
   ]
  },
  {
   "cell_type": "code",
   "execution_count": 27,
   "id": "c73f2a87",
   "metadata": {},
   "outputs": [
    {
     "data": {
      "text/plain": [
       "['Funny Rajeshwar', 'Cool Ajay']"
      ]
     },
     "execution_count": 27,
     "metadata": {},
     "output_type": "execute_result"
    }
   ],
   "source": [
    "l"
   ]
  },
  {
   "cell_type": "code",
   "execution_count": 28,
   "id": "40f458e1",
   "metadata": {},
   "outputs": [],
   "source": [
    "a = 2\n",
    "b = 2"
   ]
  },
  {
   "cell_type": "code",
   "execution_count": 29,
   "id": "0caa508c",
   "metadata": {},
   "outputs": [
    {
     "data": {
      "text/plain": [
       "True"
      ]
     },
     "execution_count": 29,
     "metadata": {},
     "output_type": "execute_result"
    }
   ],
   "source": [
    "id(a) == id(b)"
   ]
  },
  {
   "cell_type": "code",
   "execution_count": null,
   "id": "22deceaa",
   "metadata": {},
   "outputs": [],
   "source": [
    "deep copy , shallow copy"
   ]
  },
  {
   "cell_type": "code",
   "execution_count": 33,
   "id": "caefaa2a",
   "metadata": {},
   "outputs": [
    {
     "name": "stdout",
     "output_type": "stream",
     "text": [
      "0 Outer for loop\n",
      "K Inner\n",
      "a Inner\n",
      "r Inner\n",
      "t Inner\n",
      "h Inner\n",
      "i Inner\n",
      "k Inner\n",
      "1 Outer for loop\n",
      "K Inner\n",
      "a Inner\n",
      "r Inner\n",
      "t Inner\n",
      "h Inner\n",
      "i Inner\n",
      "k Inner\n",
      "2 Outer for loop\n",
      "K Inner\n",
      "a Inner\n",
      "r Inner\n",
      "t Inner\n",
      "h Inner\n",
      "i Inner\n",
      "k Inner\n",
      "3 Outer for loop\n",
      "K Inner\n",
      "a Inner\n",
      "r Inner\n",
      "t Inner\n",
      "h Inner\n",
      "i Inner\n",
      "k Inner\n",
      "4 Outer for loop\n",
      "K Inner\n",
      "a Inner\n",
      "r Inner\n",
      "t Inner\n",
      "h Inner\n",
      "i Inner\n",
      "k Inner\n"
     ]
    }
   ],
   "source": [
    "for i in range(5):\n",
    "    print(i,\"Outer for loop\")\n",
    "    for j in \"Karthik\":\n",
    "        print(j,\"Inner\")"
   ]
  },
  {
   "cell_type": "code",
   "execution_count": 39,
   "id": "13a4848e",
   "metadata": {},
   "outputs": [],
   "source": [
    "l = [1,2,3]\n",
    "l2 = [1,2,3]"
   ]
  },
  {
   "cell_type": "code",
   "execution_count": 40,
   "id": "16b56213",
   "metadata": {},
   "outputs": [
    {
     "data": {
      "text/plain": [
       "1764099426752"
      ]
     },
     "execution_count": 40,
     "metadata": {},
     "output_type": "execute_result"
    }
   ],
   "source": [
    "id(l)"
   ]
  },
  {
   "cell_type": "code",
   "execution_count": 41,
   "id": "28a5837b",
   "metadata": {},
   "outputs": [],
   "source": [
    "l.append(\"5\")"
   ]
  },
  {
   "cell_type": "code",
   "execution_count": 42,
   "id": "e68de2f8",
   "metadata": {},
   "outputs": [
    {
     "data": {
      "text/plain": [
       "1764099426752"
      ]
     },
     "execution_count": 42,
     "metadata": {},
     "output_type": "execute_result"
    }
   ],
   "source": [
    "id(l) "
   ]
  },
  {
   "cell_type": "code",
   "execution_count": null,
   "id": "81812c46",
   "metadata": {},
   "outputs": [],
   "source": []
  }
 ],
 "metadata": {
  "kernelspec": {
   "display_name": "Python 3 (ipykernel)",
   "language": "python",
   "name": "python3"
  },
  "language_info": {
   "codemirror_mode": {
    "name": "ipython",
    "version": 3
   },
   "file_extension": ".py",
   "mimetype": "text/x-python",
   "name": "python",
   "nbconvert_exporter": "python",
   "pygments_lexer": "ipython3",
   "version": "3.9.7"
  }
 },
 "nbformat": 4,
 "nbformat_minor": 5
}
