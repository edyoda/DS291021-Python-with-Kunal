{
 "cells": [
  {
   "cell_type": "code",
   "execution_count": 1,
   "id": "fe5a9fcd",
   "metadata": {},
   "outputs": [],
   "source": [
    "import re"
   ]
  },
  {
   "cell_type": "code",
   "execution_count": 2,
   "id": "9b773053",
   "metadata": {},
   "outputs": [
    {
     "data": {
      "text/plain": [
       "<re.Match object; span=(18, 21), match='007'>"
      ]
     },
     "execution_count": 2,
     "metadata": {},
     "output_type": "execute_result"
    }
   ],
   "source": [
    "regx = \"007\"\n",
    "re.search(regx, \"blabla98bla45bla2@007kj\")"
   ]
  },
  {
   "cell_type": "code",
   "execution_count": 3,
   "id": "3d4b6e15",
   "metadata": {},
   "outputs": [
    {
     "data": {
      "text/plain": [
       "<re.Match object; span=(4, 7), match='la9'>"
      ]
     },
     "execution_count": 3,
     "metadata": {},
     "output_type": "execute_result"
    }
   ],
   "source": [
    "# two alphabets fowllowed by a number\n",
    "regx = \"[A-Za-z][A-Za-z][0-9]\"\n",
    "re.search(regx, \"blabla98bla45bla2@007kj\")"
   ]
  },
  {
   "cell_type": "code",
   "execution_count": 5,
   "id": "95915b33",
   "metadata": {},
   "outputs": [
    {
     "data": {
      "text/plain": [
       "<re.Match object; span=(9, 12), match='laj'>"
      ]
     },
     "execution_count": 5,
     "metadata": {},
     "output_type": "execute_result"
    }
   ],
   "source": [
    "# two alphabets fowllowed by a number\n",
    "regx = \"..[j]\"\n",
    "re.search(regx, \"blabla98blaj45bla2@007kj\")"
   ]
  },
  {
   "cell_type": "code",
   "execution_count": 6,
   "id": "666d14af",
   "metadata": {},
   "outputs": [
    {
     "data": {
      "text/plain": [
       "['laj', '7kj']"
      ]
     },
     "execution_count": 6,
     "metadata": {},
     "output_type": "execute_result"
    }
   ],
   "source": [
    "re.findall(regx, \"blabla98blaj45bla2@007kj\")"
   ]
  },
  {
   "cell_type": "code",
   "execution_count": 7,
   "id": "327c2e1d",
   "metadata": {},
   "outputs": [
    {
     "data": {
      "text/plain": [
       "['la9', 'la4', 'la2']"
      ]
     },
     "execution_count": 7,
     "metadata": {},
     "output_type": "execute_result"
    }
   ],
   "source": [
    "# two alphabets fowllowed by a number\n",
    "regx = \"[A-Za-z][A-Za-z][0-9]\"\n",
    "re.findall(regx, \"blabla98bla45bla2@007kj\")"
   ]
  },
  {
   "cell_type": "code",
   "execution_count": 9,
   "id": "89d7c6a1",
   "metadata": {},
   "outputs": [
    {
     "data": {
      "text/plain": [
       "['lA9', 'La4', 'la2']"
      ]
     },
     "execution_count": 9,
     "metadata": {},
     "output_type": "execute_result"
    }
   ],
   "source": [
    "# two alphabets fowllowed by a number\n",
    "match = \"[A-Za-z][A-Za-z][0-9]\"\n",
    "re.findall(match, \"blablA98bLa45bla2@007kj\")"
   ]
  },
  {
   "cell_type": "code",
   "execution_count": null,
   "id": "c4538af1",
   "metadata": {},
   "outputs": [],
   "source": []
  }
 ],
 "metadata": {
  "kernelspec": {
   "display_name": "Python 3 (ipykernel)",
   "language": "python",
   "name": "python3"
  },
  "language_info": {
   "codemirror_mode": {
    "name": "ipython",
    "version": 3
   },
   "file_extension": ".py",
   "mimetype": "text/x-python",
   "name": "python",
   "nbconvert_exporter": "python",
   "pygments_lexer": "ipython3",
   "version": "3.9.7"
  }
 },
 "nbformat": 4,
 "nbformat_minor": 5
}
