{
 "cells": [
  {
   "cell_type": "code",
   "execution_count": 1,
   "id": "25e1506e",
   "metadata": {},
   "outputs": [],
   "source": [
    "import re"
   ]
  },
  {
   "cell_type": "code",
   "execution_count": 2,
   "id": "28448b90",
   "metadata": {},
   "outputs": [
    {
     "data": {
      "text/plain": [
       "<re.Match object; span=(18, 21), match='007'>"
      ]
     },
     "execution_count": 2,
     "metadata": {},
     "output_type": "execute_result"
    }
   ],
   "source": [
    "regx = \"007\"\n",
    "re.search(regx, \"blabla98bla45bla2@007kj\")"
   ]
  },
  {
   "cell_type": "code",
   "execution_count": 3,
   "id": "88f936e1",
   "metadata": {},
   "outputs": [
    {
     "data": {
      "text/plain": [
       "<re.Match object; span=(4, 7), match='la9'>"
      ]
     },
     "execution_count": 3,
     "metadata": {},
     "output_type": "execute_result"
    }
   ],
   "source": [
    "# two alphabets fowllowed by a number\n",
    "regx = \"[A-Za-z][A-Za-z][0-9]\"\n",
    "re.search(regx, \"blabla98bla45bla2@007kj\")"
   ]
  },
  {
   "cell_type": "code",
   "execution_count": 5,
   "id": "7039d096",
   "metadata": {},
   "outputs": [
    {
     "data": {
      "text/plain": [
       "<re.Match object; span=(9, 12), match='laj'>"
      ]
     },
     "execution_count": 5,
     "metadata": {},
     "output_type": "execute_result"
    }
   ],
   "source": [
    "# two alphabets fowllowed by a number\n",
    "regx = \"..[j]\"\n",
    "re.search(regx, \"blabla98blaj45bla2@007kj\")"
   ]
  },
  {
   "cell_type": "code",
   "execution_count": 6,
   "id": "c6d64922",
   "metadata": {},
   "outputs": [
    {
     "data": {
      "text/plain": [
       "['laj', '7kj']"
      ]
     },
     "execution_count": 6,
     "metadata": {},
     "output_type": "execute_result"
    }
   ],
   "source": [
    "re.findall(regx, \"blabla98blaj45bla2@007kj\")"
   ]
  },
  {
   "cell_type": "code",
   "execution_count": 7,
   "id": "0eff5208",
   "metadata": {},
   "outputs": [
    {
     "data": {
      "text/plain": [
       "['la9', 'la4', 'la2']"
      ]
     },
     "execution_count": 7,
     "metadata": {},
     "output_type": "execute_result"
    }
   ],
   "source": [
    "# two alphabets fowllowed by a number\n",
    "regx = \"[A-Za-z][A-Za-z][0-9]\"\n",
    "re.findall(regx, \"blabla98bla45bla2@007kj\")"
   ]
  },
  {
   "cell_type": "code",
   "execution_count": 9,
   "id": "db85519d",
   "metadata": {},
   "outputs": [
    {
     "data": {
      "text/plain": [
       "['lA9', 'La4', 'la2']"
      ]
     },
     "execution_count": 9,
     "metadata": {},
     "output_type": "execute_result"
    }
   ],
   "source": [
    "# two alphabets fowllowed by a number\n",
    "match = \"[A-Za-z][A-Za-z][0-9]\"\n",
    "re.findall(match, \"blablA98bLa45bla2@007kj\")"
   ]
  },
  {
   "cell_type": "code",
   "execution_count": 10,
   "id": "7d2336f8",
   "metadata": {},
   "outputs": [
    {
     "data": {
      "text/plain": [
       "['@gmail.com', '@yahoo.com', '@yandx.com']"
      ]
     },
     "execution_count": 10,
     "metadata": {},
     "output_type": "execute_result"
    }
   ],
   "source": [
    "string = \"iwdnj@gmail.comnceijcnedsih@yahoo.commdjdibd@yandx.comdsn\"\n",
    "regx = \"@[a-z][a-z][a-z][a-z][a-z].com\"\n",
    "re.findall(regx,string)"
   ]
  },
  {
   "cell_type": "code",
   "execution_count": 11,
   "id": "fe95efac",
   "metadata": {},
   "outputs": [
    {
     "data": {
      "text/plain": [
       "['@gmail.com', '@yahoo.com', '@yandx.com']"
      ]
     },
     "execution_count": 11,
     "metadata": {},
     "output_type": "execute_result"
    }
   ],
   "source": [
    "string = \"iwdnj@gmail.comnceijcnedsih@yahoo.commdjdibd@yandx.comdsn\"\n",
    "regx = \"@[a-z]{5}.com\"\n",
    "re.findall(regx,string)"
   ]
  },
  {
   "cell_type": "code",
   "execution_count": null,
   "id": "cd74b13c",
   "metadata": {},
   "outputs": [],
   "source": [
    "+ --> greedy"
   ]
  },
  {
   "cell_type": "code",
   "execution_count": 15,
   "id": "48083e01",
   "metadata": {},
   "outputs": [
    {
     "data": {
      "text/plain": [
       "['@gmail.com', '@k.com', '@yahoo.com', '@yandex.com', '@rediffmail.com']"
      ]
     },
     "execution_count": 15,
     "metadata": {},
     "output_type": "execute_result"
    }
   ],
   "source": [
    "string = \"iwdnj@gmail.comnce@k.comijcn@.comedsih@yahoo.commdjdibd@yandex.comdskndvjd@rediffmail.comn\"\n",
    "regx = \"@[a-z]+.com\"\n",
    "re.findall(regx,string)"
   ]
  },
  {
   "cell_type": "code",
   "execution_count": 16,
   "id": "8c6e77a9",
   "metadata": {},
   "outputs": [
    {
     "data": {
      "text/plain": [
       "['@gmail.com',\n",
       " '@k.com',\n",
       " '@.com',\n",
       " '@yahoo.com',\n",
       " '@yandex.com',\n",
       " '@rediffmail.com']"
      ]
     },
     "execution_count": 16,
     "metadata": {},
     "output_type": "execute_result"
    }
   ],
   "source": [
    "string = \"iwdnj@gmail.comnce@k.comijcn@.comedsih@yahoo.commdjdibd@yandex.comdskndvjd@rediffmail.comn\"\n",
    "regx = \"@[a-z]*.com\"\n",
    "re.findall(regx,string)"
   ]
  },
  {
   "cell_type": "code",
   "execution_count": null,
   "id": "cd77a831",
   "metadata": {},
   "outputs": [],
   "source": [
    "Anchors:\n",
    "    ^ --> start of string\n",
    "    $ --> end of string"
   ]
  },
  {
   "cell_type": "code",
   "execution_count": 20,
   "id": "3bafe9ce",
   "metadata": {},
   "outputs": [],
   "source": [
    "string = \"h9dbfs94kjA9hj9\""
   ]
  },
  {
   "cell_type": "code",
   "execution_count": 21,
   "id": "4d9f4ca4",
   "metadata": {},
   "outputs": [],
   "source": [
    "regx = \"[A-Za-z][A-Za-z0-9]{4}\""
   ]
  },
  {
   "cell_type": "code",
   "execution_count": 22,
   "id": "189a5b44",
   "metadata": {},
   "outputs": [
    {
     "data": {
      "text/plain": [
       "['h9dbf', 's94kj', 'A9hj9']"
      ]
     },
     "execution_count": 22,
     "metadata": {},
     "output_type": "execute_result"
    }
   ],
   "source": [
    "re.findall(regx,string)"
   ]
  },
  {
   "cell_type": "code",
   "execution_count": 24,
   "id": "48632ff4",
   "metadata": {},
   "outputs": [
    {
     "data": {
      "text/plain": [
       "[]"
      ]
     },
     "execution_count": 24,
     "metadata": {},
     "output_type": "execute_result"
    }
   ],
   "source": [
    "string = \"A7h9dbfs94kjA9hj9\"\n",
    "regx = \"^[A-Za-z][A-Za-z0-9]{4}\"\n",
    "re.findall(regx,string)"
   ]
  },
  {
   "cell_type": "code",
   "execution_count": 32,
   "id": "88e390ba",
   "metadata": {},
   "outputs": [
    {
     "name": "stdout",
     "output_type": "stream",
     "text": [
      "Assb8\n",
      "Bssb9\n",
      "Bssc0\n"
     ]
    }
   ],
   "source": [
    "l = [\"Assb8\",\"9cssj\",\"7ghai\",\"Bssb9\",\"Bssc0\",\"95sjn\"]\n",
    "for i in l:\n",
    "    if re.search(regx,i):\n",
    "        print(i)"
   ]
  },
  {
   "cell_type": "code",
   "execution_count": null,
   "id": "6df3d52c",
   "metadata": {},
   "outputs": [],
   "source": [
    "$ --> end of string"
   ]
  },
  {
   "cell_type": "code",
   "execution_count": 33,
   "id": "1b0271fd",
   "metadata": {},
   "outputs": [
    {
     "name": "stdout",
     "output_type": "stream",
     "text": [
      "Assb8#\n",
      "Bssb9#\n"
     ]
    }
   ],
   "source": [
    "regx = \"^[A-Za-z][A-Za-z0-9]{4}#$\"\n",
    "l = [\"Assb8#\",\"9cssj\",\"7ghai\",\"Bssb9#\",\"Bssc0\",\"95sjn#\"]\n",
    "for i in l:\n",
    "    if re.search(regx,i):\n",
    "        print(i)"
   ]
  },
  {
   "cell_type": "code",
   "execution_count": 35,
   "id": "51aa2828",
   "metadata": {},
   "outputs": [
    {
     "name": "stdout",
     "output_type": "stream",
     "text": [
      "['Assb8#']\n",
      "[]\n",
      "[]\n",
      "['Bssb9#']\n",
      "[]\n",
      "[]\n"
     ]
    }
   ],
   "source": [
    "regx = \"^[A-Za-z][A-Za-z0-9]{4}#$\"\n",
    "l = [\"Assb8#\",\"9cssj\",\"7ghai\",\"Bssb9#\",\"Bssc0\",\"95sjn#\"]\n",
    "for i in l:\n",
    "    print(re.findall(regx,i))"
   ]
  },
  {
   "cell_type": "code",
   "execution_count": null,
   "id": "c7241028",
   "metadata": {},
   "outputs": [],
   "source": [
    "^ --> compliment"
   ]
  },
  {
   "cell_type": "code",
   "execution_count": 43,
   "id": "26022b05",
   "metadata": {},
   "outputs": [
    {
     "data": {
      "text/plain": [
       "['ns', 'dj', 'sk', 'sn', 'ns']"
      ]
     },
     "execution_count": 43,
     "metadata": {},
     "output_type": "execute_result"
    }
   ],
   "source": [
    "regx = \"[a-z]{2}\"\n",
    "re.findall(regx,\"ABc#$nsdjnN55AJsksn12KASDKnsn94\")"
   ]
  },
  {
   "cell_type": "code",
   "execution_count": null,
   "id": "d6f1058a",
   "metadata": {},
   "outputs": [],
   "source": []
  },
  {
   "cell_type": "code",
   "execution_count": null,
   "id": "3e2c7c07",
   "metadata": {},
   "outputs": [],
   "source": []
  },
  {
   "cell_type": "code",
   "execution_count": null,
   "id": "febc15d6",
   "metadata": {},
   "outputs": [],
   "source": []
  },
  {
   "cell_type": "code",
   "execution_count": 28,
   "id": "8a77db79",
   "metadata": {},
   "outputs": [
    {
     "name": "stdout",
     "output_type": "stream",
     "text": [
      "Help on Match object:\n",
      "\n",
      "class Match(builtins.object)\n",
      " |  The result of re.match() and re.search().\n",
      " |  Match objects always have a boolean value of True.\n",
      " |  \n",
      " |  Methods defined here:\n",
      " |  \n",
      " |  __copy__(self, /)\n",
      " |  \n",
      " |  __deepcopy__(self, memo, /)\n",
      " |  \n",
      " |  __getitem__(self, key, /)\n",
      " |      Return self[key].\n",
      " |  \n",
      " |  __repr__(self, /)\n",
      " |      Return repr(self).\n",
      " |  \n",
      " |  end(self, group=0, /)\n",
      " |      Return index of the end of the substring matched by group.\n",
      " |  \n",
      " |  expand(self, /, template)\n",
      " |      Return the string obtained by doing backslash substitution on the string template, as done by the sub() method.\n",
      " |  \n",
      " |  group(...)\n",
      " |      group([group1, ...]) -> str or tuple.\n",
      " |      Return subgroup(s) of the match by indices or names.\n",
      " |      For 0 returns the entire match.\n",
      " |  \n",
      " |  groupdict(self, /, default=None)\n",
      " |      Return a dictionary containing all the named subgroups of the match, keyed by the subgroup name.\n",
      " |      \n",
      " |      default\n",
      " |        Is used for groups that did not participate in the match.\n",
      " |  \n",
      " |  groups(self, /, default=None)\n",
      " |      Return a tuple containing all the subgroups of the match, from 1.\n",
      " |      \n",
      " |      default\n",
      " |        Is used for groups that did not participate in the match.\n",
      " |  \n",
      " |  span(self, group=0, /)\n",
      " |      For match object m, return the 2-tuple (m.start(group), m.end(group)).\n",
      " |  \n",
      " |  start(self, group=0, /)\n",
      " |      Return index of the start of the substring matched by group.\n",
      " |  \n",
      " |  ----------------------------------------------------------------------\n",
      " |  Class methods defined here:\n",
      " |  \n",
      " |  __class_getitem__(...) from builtins.type\n",
      " |      See PEP 585\n",
      " |  \n",
      " |  ----------------------------------------------------------------------\n",
      " |  Data descriptors defined here:\n",
      " |  \n",
      " |  endpos\n",
      " |      The index into the string beyond which the RE engine will not go.\n",
      " |  \n",
      " |  lastgroup\n",
      " |      The name of the last matched capturing group.\n",
      " |  \n",
      " |  lastindex\n",
      " |      The integer index of the last matched capturing group.\n",
      " |  \n",
      " |  pos\n",
      " |      The index into the string at which the RE engine started looking for a match.\n",
      " |  \n",
      " |  re\n",
      " |      The regular expression object.\n",
      " |  \n",
      " |  regs\n",
      " |  \n",
      " |  string\n",
      " |      The string passed to match() or search().\n",
      "\n"
     ]
    }
   ],
   "source": [
    "help(l)"
   ]
  },
  {
   "cell_type": "code",
   "execution_count": null,
   "id": "93b14f70",
   "metadata": {},
   "outputs": [],
   "source": []
  }
 ],
 "metadata": {
  "kernelspec": {
   "display_name": "Python 3 (ipykernel)",
   "language": "python",
   "name": "python3"
  },
  "language_info": {
   "codemirror_mode": {
    "name": "ipython",
    "version": 3
   },
   "file_extension": ".py",
   "mimetype": "text/x-python",
   "name": "python",
   "nbconvert_exporter": "python",
   "pygments_lexer": "ipython3",
   "version": "3.9.7"
  }
 },
 "nbformat": 4,
 "nbformat_minor": 5
}
