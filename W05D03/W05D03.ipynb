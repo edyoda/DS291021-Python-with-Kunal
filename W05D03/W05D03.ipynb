{
 "cells": [
  {
   "cell_type": "code",
   "execution_count": null,
   "id": "b04ba375",
   "metadata": {},
   "outputs": [],
   "source": [
    "Q) print all the alphabets with there corresponding ascii value inside the file using w mode\n",
    "in the following order\n",
    "A : 97\n",
    "B : 98\n",
    ".\n",
    ".\n",
    ".\n",
    "Z : 122"
   ]
  },
  {
   "cell_type": "code",
   "execution_count": 2,
   "id": "76bb907d",
   "metadata": {},
   "outputs": [],
   "source": [
    "with open(\"Sindhuja.txt\",\"w\") as reechpaul:\n",
    "    for i in range(ord(\"A\"),ord(\"Z\")+1):\n",
    "        reechpaul.write(chr(i)+\" : \"+str(i)+\"\\n\")"
   ]
  },
  {
   "cell_type": "code",
   "execution_count": 6,
   "id": "9071e654",
   "metadata": {},
   "outputs": [
    {
     "name": "stdout",
     "output_type": "stream",
     "text": [
      "257\n"
     ]
    }
   ],
   "source": [
    "with open (\"ascii.py\",\"w\") as python2:\n",
    "    dict1={}\n",
    "    for i in range(ord(\"a\"),ord(\"z\")+1):\n",
    "        dict1[chr(i)]=i\n",
    "    python2.write(str(dict1))\n"
   ]
  },
  {
   "cell_type": "code",
   "execution_count": 7,
   "id": "467e59f1",
   "metadata": {},
   "outputs": [
    {
     "ename": "UnsupportedOperation",
     "evalue": "not readable",
     "output_type": "error",
     "traceback": [
      "\u001b[1;31m---------------------------------------------------------------------------\u001b[0m",
      "\u001b[1;31mUnsupportedOperation\u001b[0m                      Traceback (most recent call last)",
      "\u001b[1;32mC:\\Users\\KUNALC~1\\AppData\\Local\\Temp/ipykernel_40852/3828894826.py\u001b[0m in \u001b[0;36m<module>\u001b[1;34m\u001b[0m\n\u001b[0;32m      5\u001b[0m     \u001b[0mpython2\u001b[0m\u001b[1;33m.\u001b[0m\u001b[0mwrite\u001b[0m\u001b[1;33m(\u001b[0m\u001b[0mstr\u001b[0m\u001b[1;33m(\u001b[0m\u001b[0mdict1\u001b[0m\u001b[1;33m)\u001b[0m\u001b[1;33m)\u001b[0m\u001b[1;33m\u001b[0m\u001b[1;33m\u001b[0m\u001b[0m\n\u001b[0;32m      6\u001b[0m \u001b[1;33m\u001b[0m\u001b[0m\n\u001b[1;32m----> 7\u001b[1;33m     \u001b[0mprint\u001b[0m\u001b[1;33m(\u001b[0m\u001b[0mpython2\u001b[0m\u001b[1;33m.\u001b[0m\u001b[0mread\u001b[0m\u001b[1;33m(\u001b[0m\u001b[1;33m)\u001b[0m\u001b[1;33m)\u001b[0m\u001b[1;33m\u001b[0m\u001b[1;33m\u001b[0m\u001b[0m\n\u001b[0m",
      "\u001b[1;31mUnsupportedOperation\u001b[0m: not readable"
     ]
    }
   ],
   "source": [
    "with open (\"ascii.py\",\"w\") as python2:\n",
    "    dict1={}\n",
    "    for i in range(ord(\"a\"),ord(\"z\")+1):\n",
    "        dict1[chr(i)]=i\n",
    "    python2.write(str(dict1))\n",
    "    \n",
    "    print(python2.read())\n",
    "\n"
   ]
  },
  {
   "cell_type": "markdown",
   "id": "2592fc37",
   "metadata": {},
   "source": [
    "# w+ mode"
   ]
  },
  {
   "cell_type": "markdown",
   "id": "78f09dd0",
   "metadata": {},
   "source": [
    "\"w+\"-> the w+ creates a new file or truncates an existing file, then opens it for reading and writing ; the file pointer position is at the begining of the file"
   ]
  },
  {
   "cell_type": "code",
   "execution_count": 11,
   "id": "0e4d7212",
   "metadata": {},
   "outputs": [
    {
     "name": "stdout",
     "output_type": "stream",
     "text": [
      "0\n",
      "5\n",
      "02468\n"
     ]
    }
   ],
   "source": [
    "with open(\"learning_names.txt\",\"w+\") as learn:\n",
    "    print(learn.tell())\n",
    "    for i in range(10):\n",
    "        if i%2 == 0:\n",
    "            learn.write(str(i))\n",
    "    print(learn.tell())\n",
    "    learn.seek(0)\n",
    "    print(learn.read())"
   ]
  },
  {
   "cell_type": "code",
   "execution_count": null,
   "id": "f2017b83",
   "metadata": {},
   "outputs": [],
   "source": []
  },
  {
   "cell_type": "code",
   "execution_count": 4,
   "id": "2651c97a",
   "metadata": {},
   "outputs": [
    {
     "ename": "AttributeError",
     "evalue": "'str' object has no attribute 'txt'",
     "output_type": "error",
     "traceback": [
      "\u001b[1;31m---------------------------------------------------------------------------\u001b[0m",
      "\u001b[1;31mAttributeError\u001b[0m                            Traceback (most recent call last)",
      "\u001b[1;32mC:\\Users\\KUNALC~1\\AppData\\Local\\Temp/ipykernel_40852/1850968786.py\u001b[0m in \u001b[0;36m<module>\u001b[1;34m\u001b[0m\n\u001b[1;32m----> 1\u001b[1;33m \u001b[1;32mwith\u001b[0m \u001b[0mopen\u001b[0m\u001b[1;33m(\u001b[0m\u001b[1;34m\"alphabet\"\u001b[0m\u001b[1;33m.\u001b[0m\u001b[0mtxt\u001b[0m\u001b[1;33m,\u001b[0m\u001b[1;34m\"w\"\u001b[0m\u001b[1;33m)\u001b[0m\u001b[1;32mas\u001b[0m \u001b[0malpha\u001b[0m\u001b[1;33m:\u001b[0m\u001b[1;33m\u001b[0m\u001b[1;33m\u001b[0m\u001b[0m\n\u001b[0m\u001b[0;32m      2\u001b[0m     \u001b[1;32mfor\u001b[0m \u001b[0mi\u001b[0m \u001b[1;32min\u001b[0m \u001b[0mrange\u001b[0m\u001b[1;33m(\u001b[0m\u001b[0mord\u001b[0m\u001b[1;33m(\u001b[0m\u001b[1;34m\"A\"\u001b[0m\u001b[1;33m)\u001b[0m\u001b[1;33m,\u001b[0m\u001b[0mord\u001b[0m\u001b[1;33m(\u001b[0m\u001b[1;34m\"Z\"\u001b[0m\u001b[1;33m)\u001b[0m\u001b[1;33m+\u001b[0m\u001b[1;36m1\u001b[0m\u001b[1;33m)\u001b[0m\u001b[1;33m:\u001b[0m\u001b[1;33m\u001b[0m\u001b[1;33m\u001b[0m\u001b[0m\n\u001b[0;32m      3\u001b[0m         \u001b[0malpha\u001b[0m\u001b[1;33m.\u001b[0m\u001b[0mwrite\u001b[0m\u001b[1;33m(\u001b[0m\u001b[0mchr\u001b[0m\u001b[1;33m(\u001b[0m\u001b[0mi\u001b[0m\u001b[1;33m)\u001b[0m\u001b[1;33m+\u001b[0m\u001b[1;34m\" : \"\u001b[0m\u001b[1;33m+\u001b[0m\u001b[0mstr\u001b[0m\u001b[1;33m(\u001b[0m\u001b[0mi\u001b[0m\u001b[1;33m)\u001b[0m\u001b[1;33m+\u001b[0m\u001b[1;34m\"\\n\"\u001b[0m\u001b[1;33m)\u001b[0m\u001b[1;33m\u001b[0m\u001b[1;33m\u001b[0m\u001b[0m\n",
      "\u001b[1;31mAttributeError\u001b[0m: 'str' object has no attribute 'txt'"
     ]
    }
   ],
   "source": [
    "with open(\"alphabet.txt\",\"w\") as alpha:\n",
    "    for i in range(ord(\"A\"),ord(\"Z\")+1):\n",
    "        alpha.write(chr(i)+\" : \"+str(i)+\"\\n\")\n"
   ]
  },
  {
   "cell_type": "code",
   "execution_count": null,
   "id": "d4aed3d1",
   "metadata": {},
   "outputs": [],
   "source": [
    "\"a\" --> opens the file in append mode\n",
    "        This created a new file or opens the existing file for writing;\n",
    "        the file pointer position is at the EOF"
   ]
  },
  {
   "cell_type": "code",
   "execution_count": 13,
   "id": "1b5cdb0a",
   "metadata": {},
   "outputs": [],
   "source": [
    "with open(\"Sindhuja.txt\",\"a\") as ap:\n",
    "    for i in range(ord(\"a\"),ord(\"z\")+1):\n",
    "        ap.write(chr(i)+\" --> \"+str(i)+\"\\n\")"
   ]
  },
  {
   "cell_type": "code",
   "execution_count": 15,
   "id": "6cafd50d",
   "metadata": {},
   "outputs": [],
   "source": [
    "f = open(\"h.txt\",\"w\")"
   ]
  },
  {
   "cell_type": "code",
   "execution_count": null,
   "id": "bf384143",
   "metadata": {},
   "outputs": [],
   "source": []
  },
  {
   "cell_type": "code",
   "execution_count": null,
   "id": "ed73bfec",
   "metadata": {},
   "outputs": [],
   "source": [
    "\"a+\"--> The a+ mode creates a new file or opens an existing file for reading and writing,\n",
    "    and the file pointer position at the end of the file"
   ]
  },
  {
   "cell_type": "code",
   "execution_count": 34,
   "id": "3d4cf6a0",
   "metadata": {},
   "outputs": [],
   "source": [
    "fp = open(\"Sindhuja.txt\",\"w+\")"
   ]
  },
  {
   "cell_type": "code",
   "execution_count": 37,
   "id": "7ade0c0f",
   "metadata": {},
   "outputs": [
    {
     "name": "stdout",
     "output_type": "stream",
     "text": [
      "0\n"
     ]
    }
   ],
   "source": [
    "print(fp.tell())"
   ]
  },
  {
   "cell_type": "code",
   "execution_count": 38,
   "id": "d3ad10d8",
   "metadata": {},
   "outputs": [
    {
     "data": {
      "text/plain": [
       "'A : 65\\nB : 66\\nC : 67\\nD : 68\\nE : 69\\nF : 70\\nG : 71\\nH : 72\\nI : 73\\nJ : 74\\nK : 75\\nL : 76\\nM : 77\\nN : 78\\nO : 79\\nP : 80\\nQ : 81\\nR : 82\\nS : 83\\nT : 84\\nU : 85\\nV : 86\\nW : 87\\nX : 88\\nY : 89\\nZ : 90\\na --> 97b --> 98c --> 99d --> 100e --> 101f --> 102g --> 103h --> 104i --> 105j --> 106k --> 107l --> 108m --> 109n --> 110o --> 111p --> 112q --> 113r --> 114s --> 115t --> 116u --> 117v --> 118w --> 119x --> 120y --> 121z --> 122a --> 97\\nb --> 98\\nc --> 99\\nd --> 100\\ne --> 101\\nf --> 102\\ng --> 103\\nh --> 104\\ni --> 105\\nj --> 106\\nk --> 107\\nl --> 108\\nm --> 109\\nn --> 110\\no --> 111\\np --> 112\\nq --> 113\\nr --> 114\\ns --> 115\\nt --> 116\\nu --> 117\\nv --> 118\\nw --> 119\\nx --> 120\\ny --> 121\\nz --> 122'"
      ]
     },
     "execution_count": 38,
     "metadata": {},
     "output_type": "execute_result"
    }
   ],
   "source": [
    "fp.read()"
   ]
  },
  {
   "cell_type": "code",
   "execution_count": 39,
   "id": "d8749557",
   "metadata": {},
   "outputs": [
    {
     "data": {
      "text/plain": [
       "0"
      ]
     },
     "execution_count": 39,
     "metadata": {},
     "output_type": "execute_result"
    }
   ],
   "source": [
    "fp.seek(0)"
   ]
  },
  {
   "cell_type": "code",
   "execution_count": 40,
   "id": "1dd1b694",
   "metadata": {},
   "outputs": [],
   "source": [
    "l = fp.readlines()"
   ]
  },
  {
   "cell_type": "code",
   "execution_count": 41,
   "id": "39a2f22e",
   "metadata": {},
   "outputs": [],
   "source": [
    "l[26] = l[26][-9:]"
   ]
  },
  {
   "cell_type": "code",
   "execution_count": 42,
   "id": "7d06bb00",
   "metadata": {},
   "outputs": [
    {
     "data": {
      "text/plain": [
       "0"
      ]
     },
     "execution_count": 42,
     "metadata": {},
     "output_type": "execute_result"
    }
   ],
   "source": [
    "fp.seek(0)"
   ]
  },
  {
   "cell_type": "code",
   "execution_count": 43,
   "id": "f4121784",
   "metadata": {},
   "outputs": [],
   "source": [
    "fp.writelines(l)"
   ]
  },
  {
   "cell_type": "code",
   "execution_count": 44,
   "id": "e48a399a",
   "metadata": {},
   "outputs": [],
   "source": [
    "fp.close()"
   ]
  },
  {
   "cell_type": "markdown",
   "id": "1c69ead8",
   "metadata": {},
   "source": [
    "# Regular Expression"
   ]
  },
  {
   "cell_type": "code",
   "execution_count": null,
   "id": "eba2e68f",
   "metadata": {},
   "outputs": [],
   "source": [
    "what is re?\n",
    "It is a string containing some rules to match or define particular patterns\n",
    "Everything around re is put inside a module in python named as re"
   ]
  },
  {
   "cell_type": "code",
   "execution_count": null,
   "id": "5347cd18",
   "metadata": {},
   "outputs": [],
   "source": [
    "Uses of regular expression:\n",
    "    --> Pattern Validation\n",
    "        --> checking valid email\n",
    "        --> checking valid passwords which contains special characters \n",
    "    --> Pattern Extraction\n",
    "        ex-> clould be used in data extraction\n",
    "    --> String Matching and finding\n",
    "            Google search,Phone numbers,confirm password"
   ]
  },
  {
   "cell_type": "markdown",
   "id": "ea0176b3",
   "metadata": {},
   "source": [
    "# Metacharacters"
   ]
  },
  {
   "cell_type": "code",
   "execution_count": null,
   "id": "3b09f88a",
   "metadata": {},
   "outputs": [],
   "source": [
    "1) . --> (dot) => matches with all the charaters(which is alphabets digits special symbols etc)\n",
    "                except the new line character\n",
    "\n",
    "[] --> Character class. A set of characters\n",
    "2) [A-Z] --> all capital letters\n",
    "3) [a-z] --> all small letters\n",
    "4) [0-9] --> all sigle digit ocurrences\n",
    "[A-Za-z] --> all the alphabets\n",
    "[@9Mt] --> either @ or 9 or M or t\n",
    "[0-9a-z] --> all lower alphabets and single digits"
   ]
  },
  {
   "cell_type": "markdown",
   "id": "2a80391f",
   "metadata": {},
   "source": [
    "# Quantifiers"
   ]
  },
  {
   "cell_type": "code",
   "execution_count": null,
   "id": "be4533a0",
   "metadata": {},
   "outputs": [],
   "source": [
    "5) + -> atleast 1 or more occurence\n",
    "    \n",
    "    [0-9]+ means that it is going to match single digit or more than one digit"
   ]
  },
  {
   "cell_type": "code",
   "execution_count": null,
   "id": "cd2d64a6",
   "metadata": {},
   "outputs": [],
   "source": [
    "6) * -> 0 or more occurences\n",
    "    [0-9]* mean that it is going to match nothing or more than 0 occurences of a digit"
   ]
  },
  {
   "cell_type": "code",
   "execution_count": null,
   "id": "26e29b37",
   "metadata": {},
   "outputs": [],
   "source": [
    "7) ? -> Optional (once or not at all)"
   ]
  },
  {
   "cell_type": "code",
   "execution_count": null,
   "id": "16dd08d0",
   "metadata": {},
   "outputs": [],
   "source": [
    "Anchors:\n",
    "    8) ^ ==> Start of string\n",
    "    9) $ ==> End of string"
   ]
  },
  {
   "cell_type": "code",
   "execution_count": null,
   "id": "ddd5900f",
   "metadata": {},
   "outputs": [],
   "source": [
    "10) {} --> counting stuff:\n",
    "    ex:\n",
    "        [a-z]{2} => 2 times exactly\n",
    "        [0-9]{3,5} => should occur either 3,4 or 5 times\n",
    "\n",
    "11) ^ => compliment(rversal)\n",
    "    ex:\n",
    "        [^0-9] -> everything except 0-9 will match"
   ]
  },
  {
   "cell_type": "code",
   "execution_count": 45,
   "id": "d3172ca3",
   "metadata": {},
   "outputs": [],
   "source": [
    "import re"
   ]
  },
  {
   "cell_type": "code",
   "execution_count": 46,
   "id": "d70bb94f",
   "metadata": {},
   "outputs": [],
   "source": [
    "# re.search(REGX, String_in_which_you_want_to_search_the_pattern)\n",
    "\n",
    "# re.serch matches the first pattern according tot he regx inside the string\n",
    "# and returns a match object"
   ]
  },
  {
   "cell_type": "code",
   "execution_count": 49,
   "id": "b68ebeb1",
   "metadata": {},
   "outputs": [
    {
     "data": {
      "text/plain": [
       "<re.Match object; span=(1, 2), match='$'>"
      ]
     },
     "execution_count": 49,
     "metadata": {},
     "output_type": "execute_result"
    }
   ],
   "source": [
    "regx = \".\"\n",
    "re.search(regx,\"\\n$Puneet\")"
   ]
  },
  {
   "cell_type": "code",
   "execution_count": 61,
   "id": "f6d296b3",
   "metadata": {},
   "outputs": [],
   "source": [
    "regx = \"puneet\"\n",
    "re.search(regx,\"4635415p2u1n@e%eRt%Ridcnjcjljno\")"
   ]
  },
  {
   "cell_type": "code",
   "execution_count": 51,
   "id": "df36ce5c",
   "metadata": {},
   "outputs": [],
   "source": [
    "s = \"idcnjcjljnopuneet\""
   ]
  },
  {
   "cell_type": "code",
   "execution_count": 52,
   "id": "749427df",
   "metadata": {},
   "outputs": [
    {
     "data": {
      "text/plain": [
       "'p'"
      ]
     },
     "execution_count": 52,
     "metadata": {},
     "output_type": "execute_result"
    }
   ],
   "source": [
    "s[11]"
   ]
  },
  {
   "cell_type": "code",
   "execution_count": 54,
   "id": "6d885ac9",
   "metadata": {},
   "outputs": [
    {
     "data": {
      "text/plain": [
       "'t'"
      ]
     },
     "execution_count": 54,
     "metadata": {},
     "output_type": "execute_result"
    }
   ],
   "source": [
    "s[16]"
   ]
  },
  {
   "cell_type": "code",
   "execution_count": 57,
   "id": "6989bc89",
   "metadata": {},
   "outputs": [
    {
     "data": {
      "text/plain": [
       "<re.Match object; span=(0, 5), match='46354'>"
      ]
     },
     "execution_count": 57,
     "metadata": {},
     "output_type": "execute_result"
    }
   ],
   "source": [
    "regx = \".....\"\n",
    "re.search(regx,\"463541521@%R%Ridcnjcjljnopuneet\")"
   ]
  },
  {
   "cell_type": "code",
   "execution_count": 58,
   "id": "b1eb947b",
   "metadata": {},
   "outputs": [
    {
     "data": {
      "text/plain": [
       "<re.Match object; span=(11, 12), match='R'>"
      ]
     },
     "execution_count": 58,
     "metadata": {},
     "output_type": "execute_result"
    }
   ],
   "source": [
    "regx = \"[A-Za-z]\"\n",
    "re.search(regx,\"463541521@%R%Ridcnjcjljnopuneet\")"
   ]
  },
  {
   "cell_type": "code",
   "execution_count": 59,
   "id": "bc88ee28",
   "metadata": {},
   "outputs": [
    {
     "data": {
      "text/plain": [
       "<re.Match object; span=(13, 15), match='Ri'>"
      ]
     },
     "execution_count": 59,
     "metadata": {},
     "output_type": "execute_result"
    }
   ],
   "source": [
    "regx = \"[A-Za-z][A-Za-z]\"\n",
    "re.search(regx,\"463541521@%R%Ridcnjcjljnopuneet\")"
   ]
  },
  {
   "cell_type": "code",
   "execution_count": 60,
   "id": "071e9dc9",
   "metadata": {},
   "outputs": [
    {
     "data": {
      "text/plain": [
       "<re.Match object; span=(9, 12), match='@%R'>"
      ]
     },
     "execution_count": 60,
     "metadata": {},
     "output_type": "execute_result"
    }
   ],
   "source": [
    "regx = \"..[A-Z]\"\n",
    "re.search(regx,\"463541521@%R%Ridcnjcjljnopuneet\")"
   ]
  },
  {
   "cell_type": "code",
   "execution_count": 62,
   "id": "3f126b22",
   "metadata": {},
   "outputs": [],
   "source": [
    "regx = \".[0-9][A-Z]\"\n",
    "re.search(regx,\"463541521@%R%Ridcnjcjljnopuneet\")"
   ]
  },
  {
   "cell_type": "code",
   "execution_count": null,
   "id": "d1cf805f",
   "metadata": {},
   "outputs": [],
   "source": []
  },
  {
   "cell_type": "code",
   "execution_count": 2,
   "id": "95fc51ce",
   "metadata": {},
   "outputs": [],
   "source": [
    "with open(\"alphabet.txt\",\"w\")as py:\n",
    "    dict1={}\n",
    "    for i in range(ord(\"a\"),ord(\"z\")+1):\n",
    "        dict1[chr(i)]=i\n",
    "    py.write(str(dict1))\n"
   ]
  },
  {
   "cell_type": "code",
   "execution_count": 6,
   "id": "f7cb60b4",
   "metadata": {},
   "outputs": [],
   "source": [
    "k=['1','2']\n",
    "z=list(map(int,k))\n"
   ]
  },
  {
   "cell_type": "code",
   "execution_count": 7,
   "id": "39d93675",
   "metadata": {},
   "outputs": [
    {
     "data": {
      "text/plain": [
       "['1', '2']"
      ]
     },
     "execution_count": 7,
     "metadata": {},
     "output_type": "execute_result"
    }
   ],
   "source": [
    "k"
   ]
  },
  {
   "cell_type": "code",
   "execution_count": null,
   "id": "053a95d3",
   "metadata": {},
   "outputs": [],
   "source": []
  }
 ],
 "metadata": {
  "kernelspec": {
   "display_name": "Python 3 (ipykernel)",
   "language": "python",
   "name": "python3"
  },
  "language_info": {
   "codemirror_mode": {
    "name": "ipython",
    "version": 3
   },
   "file_extension": ".py",
   "mimetype": "text/x-python",
   "name": "python",
   "nbconvert_exporter": "python",
   "pygments_lexer": "ipython3",
   "version": "3.9.7"
  }
 },
 "nbformat": 4,
 "nbformat_minor": 5
}
