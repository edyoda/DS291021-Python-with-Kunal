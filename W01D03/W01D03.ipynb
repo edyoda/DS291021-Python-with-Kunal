{
 "cells": [
  {
   "cell_type": "code",
   "execution_count": null,
   "id": "1bd4e687",
   "metadata": {},
   "outputs": [],
   "source": [
    "What are Data types?\n",
    "\n",
    "Data type is the classification of data items or to put the values into \n",
    "some sort of data catagory"
   ]
  },
  {
   "cell_type": "code",
   "execution_count": null,
   "id": "9cb4ae5e",
   "metadata": {},
   "outputs": [],
   "source": [
    "Python Numbers :\n",
    "    int, float\n",
    "Python List"
   ]
  },
  {
   "cell_type": "code",
   "execution_count": 1,
   "id": "9a0e086f",
   "metadata": {},
   "outputs": [],
   "source": [
    "a = 1.3   # float\n",
    "b = 20    # Int"
   ]
  },
  {
   "cell_type": "code",
   "execution_count": 2,
   "id": "ced11494",
   "metadata": {},
   "outputs": [],
   "source": [
    "c = \"Rajesh\" # str"
   ]
  },
  {
   "cell_type": "code",
   "execution_count": 3,
   "id": "f678f423",
   "metadata": {},
   "outputs": [
    {
     "data": {
      "text/plain": [
       "str"
      ]
     },
     "execution_count": 3,
     "metadata": {},
     "output_type": "execute_result"
    }
   ],
   "source": [
    "type(c)"
   ]
  },
  {
   "cell_type": "code",
   "execution_count": 4,
   "id": "b18f875b",
   "metadata": {},
   "outputs": [],
   "source": [
    "d = \"20\""
   ]
  },
  {
   "cell_type": "code",
   "execution_count": 5,
   "id": "1ba1fb8a",
   "metadata": {},
   "outputs": [
    {
     "data": {
      "text/plain": [
       "str"
      ]
     },
     "execution_count": 5,
     "metadata": {},
     "output_type": "execute_result"
    }
   ],
   "source": [
    "type(d)"
   ]
  },
  {
   "cell_type": "code",
   "execution_count": 7,
   "id": "da5243f5",
   "metadata": {},
   "outputs": [
    {
     "data": {
      "text/plain": [
       "int"
      ]
     },
     "execution_count": 7,
     "metadata": {},
     "output_type": "execute_result"
    }
   ],
   "source": [
    "type(b)"
   ]
  },
  {
   "cell_type": "code",
   "execution_count": null,
   "id": "7cd16272",
   "metadata": {},
   "outputs": [],
   "source": [
    "Shift + Enter --> this will run your cell and send you to next cell\n",
    "Ctrl + Enter --> this will simply run your cell\n"
   ]
  },
  {
   "cell_type": "code",
   "execution_count": 8,
   "id": "447cdf83",
   "metadata": {},
   "outputs": [
    {
     "name": "stdout",
     "output_type": "stream",
     "text": [
      "1.3\n"
     ]
    }
   ],
   "source": [
    "print(a)"
   ]
  },
  {
   "cell_type": "code",
   "execution_count": 9,
   "id": "5eabcbf3",
   "metadata": {},
   "outputs": [
    {
     "name": "stdout",
     "output_type": "stream",
     "text": [
      "20\n"
     ]
    }
   ],
   "source": [
    "print(d)"
   ]
  },
  {
   "cell_type": "code",
   "execution_count": 10,
   "id": "85632364",
   "metadata": {},
   "outputs": [
    {
     "name": "stdout",
     "output_type": "stream",
     "text": [
      "2120.0123456789124\n"
     ]
    }
   ],
   "source": [
    "print(2120.012345678912345)"
   ]
  },
  {
   "cell_type": "code",
   "execution_count": null,
   "id": "c2090d07",
   "metadata": {},
   "outputs": [],
   "source": []
  },
  {
   "cell_type": "code",
   "execution_count": 12,
   "id": "c33956a2",
   "metadata": {},
   "outputs": [],
   "source": [
    "l = [1,2,3,5,4,6]"
   ]
  },
  {
   "cell_type": "code",
   "execution_count": 13,
   "id": "93dbe6ab",
   "metadata": {},
   "outputs": [
    {
     "data": {
      "text/plain": [
       "list"
      ]
     },
     "execution_count": 13,
     "metadata": {},
     "output_type": "execute_result"
    }
   ],
   "source": [
    "type(l)"
   ]
  },
  {
   "cell_type": "code",
   "execution_count": 14,
   "id": "d55f9371",
   "metadata": {},
   "outputs": [],
   "source": [
    "l = [\"Puneet\",\"Karthik\",'jovan']"
   ]
  },
  {
   "cell_type": "code",
   "execution_count": 15,
   "id": "858de084",
   "metadata": {},
   "outputs": [
    {
     "data": {
      "text/plain": [
       "list"
      ]
     },
     "execution_count": 15,
     "metadata": {},
     "output_type": "execute_result"
    }
   ],
   "source": [
    "type(l)"
   ]
  },
  {
   "cell_type": "code",
   "execution_count": 16,
   "id": "c03bc8b1",
   "metadata": {},
   "outputs": [
    {
     "data": {
      "text/plain": [
       "'Karthik'"
      ]
     },
     "execution_count": 16,
     "metadata": {},
     "output_type": "execute_result"
    }
   ],
   "source": [
    "l[1]"
   ]
  },
  {
   "cell_type": "code",
   "execution_count": 17,
   "id": "5212c261",
   "metadata": {},
   "outputs": [
    {
     "data": {
      "text/plain": [
       "str"
      ]
     },
     "execution_count": 17,
     "metadata": {},
     "output_type": "execute_result"
    }
   ],
   "source": [
    "type(l[1])"
   ]
  },
  {
   "cell_type": "code",
   "execution_count": 18,
   "id": "88cc7679",
   "metadata": {},
   "outputs": [],
   "source": [
    "l = [1.1,10,\"Akshit\"]"
   ]
  },
  {
   "cell_type": "code",
   "execution_count": 19,
   "id": "88e9f0ab",
   "metadata": {},
   "outputs": [
    {
     "name": "stdout",
     "output_type": "stream",
     "text": [
      "[1.1, 10, 'Akshit']\n"
     ]
    }
   ],
   "source": [
    "print(l)"
   ]
  },
  {
   "cell_type": "code",
   "execution_count": 20,
   "id": "3146975b",
   "metadata": {},
   "outputs": [
    {
     "data": {
      "text/plain": [
       "'Akshit'"
      ]
     },
     "execution_count": 20,
     "metadata": {},
     "output_type": "execute_result"
    }
   ],
   "source": [
    "l[2]"
   ]
  },
  {
   "cell_type": "markdown",
   "id": "ebca9f85",
   "metadata": {},
   "source": [
    "# Tuple"
   ]
  },
  {
   "cell_type": "code",
   "execution_count": null,
   "id": "361944cc",
   "metadata": {},
   "outputs": [],
   "source": [
    "A Tuple is a sequence of Items that are in order\n",
    "It is not possible to modify the Tuple once Defined\n",
    "Tuple is immutable"
   ]
  },
  {
   "cell_type": "code",
   "execution_count": 21,
   "id": "56daf0a5",
   "metadata": {},
   "outputs": [],
   "source": [
    "t = (1,2,3,3.3,\"Rajeshwar\")"
   ]
  },
  {
   "cell_type": "code",
   "execution_count": null,
   "id": "1ca991bc",
   "metadata": {},
   "outputs": [],
   "source": []
  },
  {
   "cell_type": "code",
   "execution_count": 26,
   "id": "bf47babb",
   "metadata": {},
   "outputs": [
    {
     "data": {
      "text/plain": [
       "1"
      ]
     },
     "execution_count": 26,
     "metadata": {},
     "output_type": "execute_result"
    }
   ],
   "source": [
    "t[0]"
   ]
  },
  {
   "cell_type": "code",
   "execution_count": 27,
   "id": "772a7bb9",
   "metadata": {},
   "outputs": [
    {
     "data": {
      "text/plain": [
       "'Rajeshwar'"
      ]
     },
     "execution_count": 27,
     "metadata": {},
     "output_type": "execute_result"
    }
   ],
   "source": [
    "t[4]"
   ]
  },
  {
   "cell_type": "code",
   "execution_count": 28,
   "id": "c45f39e8",
   "metadata": {},
   "outputs": [
    {
     "ename": "IndexError",
     "evalue": "tuple index out of range",
     "output_type": "error",
     "traceback": [
      "\u001b[1;31m---------------------------------------------------------------------------\u001b[0m",
      "\u001b[1;31mIndexError\u001b[0m                                Traceback (most recent call last)",
      "\u001b[1;32mC:\\Users\\KUNALC~1\\AppData\\Local\\Temp/ipykernel_432/3463040720.py\u001b[0m in \u001b[0;36m<module>\u001b[1;34m\u001b[0m\n\u001b[1;32m----> 1\u001b[1;33m \u001b[0mt\u001b[0m\u001b[1;33m[\u001b[0m\u001b[1;36m5\u001b[0m\u001b[1;33m]\u001b[0m\u001b[1;33m\u001b[0m\u001b[1;33m\u001b[0m\u001b[0m\n\u001b[0m",
      "\u001b[1;31mIndexError\u001b[0m: tuple index out of range"
     ]
    }
   ],
   "source": [
    "t[5]"
   ]
  },
  {
   "cell_type": "code",
   "execution_count": 29,
   "id": "c7b82c5f",
   "metadata": {},
   "outputs": [],
   "source": [
    "l = [\"Puneet\",\"Karthik\",'jovan']"
   ]
  },
  {
   "cell_type": "code",
   "execution_count": 30,
   "id": "3f622590",
   "metadata": {},
   "outputs": [],
   "source": [
    "l[1] = 'Sravan'"
   ]
  },
  {
   "cell_type": "code",
   "execution_count": 31,
   "id": "3e574547",
   "metadata": {},
   "outputs": [
    {
     "data": {
      "text/plain": [
       "['Puneet', 'Sravan', 'jovan']"
      ]
     },
     "execution_count": 31,
     "metadata": {},
     "output_type": "execute_result"
    }
   ],
   "source": [
    "l"
   ]
  },
  {
   "cell_type": "code",
   "execution_count": 32,
   "id": "55131fde",
   "metadata": {},
   "outputs": [
    {
     "ename": "TypeError",
     "evalue": "'tuple' object does not support item assignment",
     "output_type": "error",
     "traceback": [
      "\u001b[1;31m---------------------------------------------------------------------------\u001b[0m",
      "\u001b[1;31mTypeError\u001b[0m                                 Traceback (most recent call last)",
      "\u001b[1;32mC:\\Users\\KUNALC~1\\AppData\\Local\\Temp/ipykernel_432/4034213564.py\u001b[0m in \u001b[0;36m<module>\u001b[1;34m\u001b[0m\n\u001b[0;32m      1\u001b[0m \u001b[0mt\u001b[0m \u001b[1;33m=\u001b[0m \u001b[1;33m(\u001b[0m\u001b[1;34m\"Ranveer\"\u001b[0m\u001b[1;33m,\u001b[0m\u001b[1;34m\"Ramya\"\u001b[0m\u001b[1;33m,\u001b[0m\u001b[1;34m\"Karthik\"\u001b[0m\u001b[1;33m)\u001b[0m\u001b[1;33m\u001b[0m\u001b[1;33m\u001b[0m\u001b[0m\n\u001b[0;32m      2\u001b[0m \u001b[1;33m\u001b[0m\u001b[0m\n\u001b[1;32m----> 3\u001b[1;33m \u001b[0mt\u001b[0m\u001b[1;33m[\u001b[0m\u001b[1;36m0\u001b[0m\u001b[1;33m]\u001b[0m \u001b[1;33m=\u001b[0m \u001b[1;34m\"Priti\"\u001b[0m\u001b[1;33m\u001b[0m\u001b[1;33m\u001b[0m\u001b[0m\n\u001b[0m",
      "\u001b[1;31mTypeError\u001b[0m: 'tuple' object does not support item assignment"
     ]
    }
   ],
   "source": [
    "t = (\"Ranveer\",\"Ramya\",\"Karthik\") \n",
    "\n",
    "t[0] = \"Priti\""
   ]
  },
  {
   "cell_type": "code",
   "execution_count": 36,
   "id": "0a334f9b",
   "metadata": {},
   "outputs": [],
   "source": [
    "t = ( [1,2,3],\"Hello\",(\"praveen\",1,2.3) )"
   ]
  },
  {
   "cell_type": "code",
   "execution_count": 37,
   "id": "dcd93563",
   "metadata": {},
   "outputs": [
    {
     "name": "stdout",
     "output_type": "stream",
     "text": [
      "([1, 2, 3], 'Hello', ('praveen', 1, 2.3))\n"
     ]
    }
   ],
   "source": [
    "print(t)"
   ]
  },
  {
   "cell_type": "code",
   "execution_count": 39,
   "id": "4cba6bbe",
   "metadata": {},
   "outputs": [
    {
     "name": "stdout",
     "output_type": "stream",
     "text": [
      "<class 'tuple'>\n"
     ]
    }
   ],
   "source": [
    "print(type(t))"
   ]
  },
  {
   "cell_type": "code",
   "execution_count": 40,
   "id": "55410d90",
   "metadata": {},
   "outputs": [],
   "source": [
    "l = [\"Yupp\",(1,2,3)]"
   ]
  },
  {
   "cell_type": "code",
   "execution_count": 41,
   "id": "4e303d69",
   "metadata": {},
   "outputs": [
    {
     "data": {
      "text/plain": [
       "(1, 2, 3)"
      ]
     },
     "execution_count": 41,
     "metadata": {},
     "output_type": "execute_result"
    }
   ],
   "source": [
    "l[1]"
   ]
  },
  {
   "cell_type": "code",
   "execution_count": 42,
   "id": "407796e8",
   "metadata": {},
   "outputs": [
    {
     "name": "stdout",
     "output_type": "stream",
     "text": [
      "<class 'tuple'>\n"
     ]
    }
   ],
   "source": [
    "print(type(l[1]))"
   ]
  },
  {
   "cell_type": "code",
   "execution_count": 43,
   "id": "75c2b9dc",
   "metadata": {},
   "outputs": [
    {
     "name": "stdout",
     "output_type": "stream",
     "text": [
      "Yupp\n"
     ]
    }
   ],
   "source": [
    "print(l[0])"
   ]
  },
  {
   "cell_type": "code",
   "execution_count": 44,
   "id": "d7d0477f",
   "metadata": {},
   "outputs": [],
   "source": [
    "t = [\"Neha\",\"Ansari\"]"
   ]
  },
  {
   "cell_type": "code",
   "execution_count": 45,
   "id": "cc2d82fe",
   "metadata": {},
   "outputs": [
    {
     "data": {
      "text/plain": [
       "'Neha'"
      ]
     },
     "execution_count": 45,
     "metadata": {},
     "output_type": "execute_result"
    }
   ],
   "source": [
    "t[0]"
   ]
  },
  {
   "cell_type": "code",
   "execution_count": 46,
   "id": "fcf3b65a",
   "metadata": {},
   "outputs": [
    {
     "data": {
      "text/plain": [
       "str"
      ]
     },
     "execution_count": 46,
     "metadata": {},
     "output_type": "execute_result"
    }
   ],
   "source": [
    "type(t[0])"
   ]
  },
  {
   "cell_type": "code",
   "execution_count": 47,
   "id": "f084810e",
   "metadata": {},
   "outputs": [],
   "source": [
    "l = [ \"Yupp\", (1,2,3)]"
   ]
  },
  {
   "cell_type": "code",
   "execution_count": 48,
   "id": "c290e2dd",
   "metadata": {},
   "outputs": [
    {
     "data": {
      "text/plain": [
       "(1, 2, 3)"
      ]
     },
     "execution_count": 48,
     "metadata": {},
     "output_type": "execute_result"
    }
   ],
   "source": [
    "l[1]"
   ]
  },
  {
   "cell_type": "code",
   "execution_count": 49,
   "id": "8001c02d",
   "metadata": {},
   "outputs": [
    {
     "data": {
      "text/plain": [
       "tuple"
      ]
     },
     "execution_count": 49,
     "metadata": {},
     "output_type": "execute_result"
    }
   ],
   "source": [
    "type(l[1])"
   ]
  },
  {
   "cell_type": "code",
   "execution_count": 50,
   "id": "a7a87577",
   "metadata": {},
   "outputs": [],
   "source": [
    "l = [\"Yupp\",(1,2,3)]"
   ]
  },
  {
   "cell_type": "code",
   "execution_count": 51,
   "id": "16bc1481",
   "metadata": {},
   "outputs": [
    {
     "data": {
      "text/plain": [
       "2"
      ]
     },
     "execution_count": 51,
     "metadata": {},
     "output_type": "execute_result"
    }
   ],
   "source": [
    "l[1][1]"
   ]
  },
  {
   "cell_type": "code",
   "execution_count": 52,
   "id": "29cfcd10",
   "metadata": {},
   "outputs": [],
   "source": [
    "l = [\"Yupp\",(1,2,3)]"
   ]
  },
  {
   "cell_type": "code",
   "execution_count": 53,
   "id": "a23308e0",
   "metadata": {},
   "outputs": [
    {
     "data": {
      "text/plain": [
       "2"
      ]
     },
     "execution_count": 53,
     "metadata": {},
     "output_type": "execute_result"
    }
   ],
   "source": [
    "l[1][1]"
   ]
  },
  {
   "cell_type": "markdown",
   "id": "c267c4ef",
   "metadata": {},
   "source": [
    "# Dictionary Data Type"
   ]
  },
  {
   "cell_type": "code",
   "execution_count": null,
   "id": "9cc267d3",
   "metadata": {},
   "outputs": [],
   "source": [
    "Dictionary is a type of python data type in which collections are unordered,\n",
    "and values are in pairs called key-value pair"
   ]
  },
  {
   "cell_type": "code",
   "execution_count": 57,
   "id": "11b0fb06",
   "metadata": {},
   "outputs": [],
   "source": [
    "d = {\"Key\" : 1, \"Rakesh\" : 'Deepak'}"
   ]
  },
  {
   "cell_type": "code",
   "execution_count": 55,
   "id": "4597fc6c",
   "metadata": {},
   "outputs": [
    {
     "name": "stdout",
     "output_type": "stream",
     "text": [
      "<class 'dict'>\n"
     ]
    }
   ],
   "source": [
    "print(type(d))"
   ]
  },
  {
   "cell_type": "code",
   "execution_count": 61,
   "id": "bc025130",
   "metadata": {},
   "outputs": [
    {
     "data": {
      "text/plain": [
       "1"
      ]
     },
     "execution_count": 61,
     "metadata": {},
     "output_type": "execute_result"
    }
   ],
   "source": [
    "d[\"Key\"]"
   ]
  },
  {
   "cell_type": "code",
   "execution_count": null,
   "id": "fb291ffa",
   "metadata": {},
   "outputs": [],
   "source": [
    "Key : Value\n",
    "    Dictionary is mutable\n",
    "    to access the value in dictionary you require a key\n",
    "    and the key should be immutable\n",
    "    keys are unique"
   ]
  },
  {
   "cell_type": "markdown",
   "id": "0c53b99a",
   "metadata": {},
   "source": [
    "# Set Datatype"
   ]
  },
  {
   "cell_type": "code",
   "execution_count": null,
   "id": "44cbf6b7",
   "metadata": {},
   "outputs": [],
   "source": [
    "Set is the collection of Unique items that are not ordered\n",
    "Brraces are used to define set and a comma is used to seperate values\n",
    "\n",
    "Set is the collection of keys"
   ]
  },
  {
   "cell_type": "code",
   "execution_count": 58,
   "id": "d0f92245",
   "metadata": {},
   "outputs": [],
   "source": [
    "s = {\"Rajeshwar\",\"Prashant\",\"Shabinash\"}"
   ]
  },
  {
   "cell_type": "code",
   "execution_count": null,
   "id": "8557db52",
   "metadata": {},
   "outputs": [],
   "source": [
    "s[0] <-- You cannot do this"
   ]
  },
  {
   "cell_type": "code",
   "execution_count": 59,
   "id": "c4dce047",
   "metadata": {},
   "outputs": [
    {
     "data": {
      "text/plain": [
       "set"
      ]
     },
     "execution_count": 59,
     "metadata": {},
     "output_type": "execute_result"
    }
   ],
   "source": [
    "type(s)"
   ]
  },
  {
   "cell_type": "markdown",
   "id": "b88c3c4e",
   "metadata": {},
   "source": [
    "# Boolean Datatype"
   ]
  },
  {
   "cell_type": "code",
   "execution_count": null,
   "id": "aadad2b0",
   "metadata": {},
   "outputs": [],
   "source": [
    "True False"
   ]
  },
  {
   "cell_type": "code",
   "execution_count": null,
   "id": "65f5d30c",
   "metadata": {},
   "outputs": [],
   "source": [
    "Boolean is immutable"
   ]
  },
  {
   "cell_type": "code",
   "execution_count": 62,
   "id": "15f618a9",
   "metadata": {},
   "outputs": [],
   "source": [
    "a = True"
   ]
  },
  {
   "cell_type": "code",
   "execution_count": 63,
   "id": "8ca33f33",
   "metadata": {},
   "outputs": [
    {
     "name": "stdout",
     "output_type": "stream",
     "text": [
      "True\n"
     ]
    }
   ],
   "source": [
    "print(a)"
   ]
  },
  {
   "cell_type": "code",
   "execution_count": 64,
   "id": "30216172",
   "metadata": {},
   "outputs": [
    {
     "name": "stdout",
     "output_type": "stream",
     "text": [
      "<class 'bool'>\n"
     ]
    }
   ],
   "source": [
    "print(type(a))"
   ]
  },
  {
   "cell_type": "code",
   "execution_count": 65,
   "id": "31966cdc",
   "metadata": {},
   "outputs": [
    {
     "data": {
      "text/plain": [
       "bool"
      ]
     },
     "execution_count": 65,
     "metadata": {},
     "output_type": "execute_result"
    }
   ],
   "source": [
    "type(False)"
   ]
  },
  {
   "cell_type": "code",
   "execution_count": 66,
   "id": "241c1a45",
   "metadata": {},
   "outputs": [],
   "source": [
    "l = [9,10,2,1]"
   ]
  },
  {
   "cell_type": "code",
   "execution_count": null,
   "id": "338d4654",
   "metadata": {},
   "outputs": [],
   "source": [
    "the order in which we access it is ascending\n"
   ]
  },
  {
   "cell_type": "code",
   "execution_count": 67,
   "id": "8709292c",
   "metadata": {
    "scrolled": true
   },
   "outputs": [
    {
     "data": {
      "text/plain": [
       "10"
      ]
     },
     "execution_count": 67,
     "metadata": {},
     "output_type": "execute_result"
    }
   ],
   "source": [
    "l[1]"
   ]
  },
  {
   "cell_type": "code",
   "execution_count": null,
   "id": "890f0842",
   "metadata": {},
   "outputs": [],
   "source": [
    "sir by making the condition we change the value to true or false\n"
   ]
  },
  {
   "cell_type": "code",
   "execution_count": 68,
   "id": "e0b63678",
   "metadata": {},
   "outputs": [],
   "source": [
    "a = True"
   ]
  },
  {
   "cell_type": "code",
   "execution_count": 69,
   "id": "955662e7",
   "metadata": {},
   "outputs": [],
   "source": [
    "a = False"
   ]
  },
  {
   "cell_type": "code",
   "execution_count": null,
   "id": "cf034e98",
   "metadata": {},
   "outputs": [],
   "source": []
  }
 ],
 "metadata": {
  "kernelspec": {
   "display_name": "Python 3 (ipykernel)",
   "language": "python",
   "name": "python3"
  },
  "language_info": {
   "codemirror_mode": {
    "name": "ipython",
    "version": 3
   },
   "file_extension": ".py",
   "mimetype": "text/x-python",
   "name": "python",
   "nbconvert_exporter": "python",
   "pygments_lexer": "ipython3",
   "version": "3.9.7"
  }
 },
 "nbformat": 4,
 "nbformat_minor": 5
}
