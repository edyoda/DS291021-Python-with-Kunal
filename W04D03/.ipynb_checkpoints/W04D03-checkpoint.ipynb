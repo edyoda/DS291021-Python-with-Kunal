{
 "cells": [
  {
   "cell_type": "code",
   "execution_count": 6,
   "id": "8d46d53d",
   "metadata": {},
   "outputs": [
    {
     "name": "stdout",
     "output_type": "stream",
     "text": [
      "{'g': 2, 'o': 3, 'l': 1, 'e': 1, '.': 1, 'c': 1, 'm': 1}\n"
     ]
    }
   ],
   "source": [
    "# Soham\n",
    "str1=\"google.com\"\n",
    "dict1={}\n",
    "for i in str1:\n",
    "    keys=dict1.keys()\n",
    "    if i in keys:\n",
    "        dict1[i]+=1\n",
    "    else:\n",
    "        dict1[i]=1\n",
    "print(dict1)"
   ]
  },
  {
   "cell_type": "code",
   "execution_count": 1,
   "id": "d00366f8",
   "metadata": {},
   "outputs": [],
   "source": [
    "d = {\"Name\":\"Rajeshwar\",\"Style\":\"Cool\"}"
   ]
  },
  {
   "cell_type": "code",
   "execution_count": 2,
   "id": "e5209a59",
   "metadata": {},
   "outputs": [
    {
     "data": {
      "text/plain": [
       "dict_keys(['Name', 'Style'])"
      ]
     },
     "execution_count": 2,
     "metadata": {},
     "output_type": "execute_result"
    }
   ],
   "source": [
    "d.keys() <-- returns an iterable (we can iterate over it)"
   ]
  },
  {
   "cell_type": "code",
   "execution_count": 3,
   "id": "70acd09f",
   "metadata": {},
   "outputs": [],
   "source": [
    "d[\"vandita\"] = \"Smart\""
   ]
  },
  {
   "cell_type": "code",
   "execution_count": 4,
   "id": "bc69c505",
   "metadata": {},
   "outputs": [
    {
     "data": {
      "text/plain": [
       "{'Name': 'Rajeshwar', 'Style': 'Cool', 'vandita': 'Smart'}"
      ]
     },
     "execution_count": 4,
     "metadata": {},
     "output_type": "execute_result"
    }
   ],
   "source": [
    "d"
   ]
  },
  {
   "cell_type": "code",
   "execution_count": 5,
   "id": "bcbc8930",
   "metadata": {},
   "outputs": [
    {
     "data": {
      "text/plain": [
       "dict_keys(['Name', 'Style', 'vandita'])"
      ]
     },
     "execution_count": 5,
     "metadata": {},
     "output_type": "execute_result"
    }
   ],
   "source": [
    "d.keys()"
   ]
  },
  {
   "cell_type": "markdown",
   "id": "53df6ccd",
   "metadata": {},
   "source": [
    "# Functions"
   ]
  },
  {
   "cell_type": "code",
   "execution_count": 10,
   "id": "9ae30c30",
   "metadata": {},
   "outputs": [
    {
     "name": "stdout",
     "output_type": "stream",
     "text": [
      "2000\n",
      "True\n"
     ]
    }
   ],
   "source": [
    "def is_leap(year):\n",
    "    leap = False\n",
    "    \n",
    "    if (year % 4) == 0:\n",
    "        if (year % 100) == 0:\n",
    "            if (year % 400) == 0:\n",
    "                leap = True\n",
    "            else:\n",
    "                leap = False\n",
    "        else:\n",
    "            leap = True\n",
    "    else:\n",
    "        leap = False\n",
    "    return leap\n",
    "\n",
    "year = int(input())\n",
    "print(is_leap(year))\n"
   ]
  },
  {
   "cell_type": "markdown",
   "id": "68a7d87c",
   "metadata": {},
   "source": [
    "# Namespace\n",
    "\n",
    "# Global Namespace\n",
    "# Local Namespace\n",
    "# Builtin Namespace"
   ]
  },
  {
   "cell_type": "code",
   "execution_count": 12,
   "id": "447deaae",
   "metadata": {},
   "outputs": [
    {
     "name": "stdout",
     "output_type": "stream",
     "text": [
      "2842461214832\n"
     ]
    }
   ],
   "source": [
    "a = \"Nikhil\"\n",
    "b = 10\n",
    "c = 2.5\n",
    "\n",
    "print(id(a))"
   ]
  },
  {
   "cell_type": "code",
   "execution_count": 13,
   "id": "d4e8c78c",
   "metadata": {},
   "outputs": [
    {
     "name": "stdout",
     "output_type": "stream",
     "text": [
      "2842380429904\n"
     ]
    }
   ],
   "source": [
    "print(id(b))"
   ]
  },
  {
   "cell_type": "code",
   "execution_count": 14,
   "id": "2ba5411c",
   "metadata": {},
   "outputs": [
    {
     "name": "stdout",
     "output_type": "stream",
     "text": [
      "2842460962608\n"
     ]
    }
   ],
   "source": [
    "print(id(c))"
   ]
  },
  {
   "cell_type": "code",
   "execution_count": 16,
   "id": "b0cc9c23",
   "metadata": {},
   "outputs": [
    {
     "name": "stdout",
     "output_type": "stream",
     "text": [
      "apple mango\n"
     ]
    }
   ],
   "source": [
    "a = \"mango\"\n",
    " \n",
    "def fruits():\n",
    "    a = \"apple\"\n",
    "    print(a,end=\" \")\n",
    "\n",
    "fruits()\n",
    "print(a)\n",
    "\n",
    "#1 apple mango \n",
    "#2 apple apple \n",
    "#3 mango apple \n",
    "#4 mango mango "
   ]
  },
  {
   "cell_type": "code",
   "execution_count": 17,
   "id": "e7595fe9",
   "metadata": {},
   "outputs": [
    {
     "name": "stdout",
     "output_type": "stream",
     "text": [
      "mango mango\n"
     ]
    }
   ],
   "source": [
    "a = \"mango\"\n",
    " \n",
    "def fruits():\n",
    "    print(a,end=\" \")\n",
    "\n",
    "fruits()\n",
    "print(a)\n",
    "\n",
    "#1 apple mango \n",
    "#2 apple apple \n",
    "#3 mango apple \n",
    "#4 mango mango "
   ]
  },
  {
   "cell_type": "code",
   "execution_count": null,
   "id": "254de4f7",
   "metadata": {},
   "outputs": [],
   "source": [
    "Local_namespace-> global_namespace"
   ]
  },
  {
   "cell_type": "code",
   "execution_count": 18,
   "id": "78d85197",
   "metadata": {},
   "outputs": [
    {
     "name": "stdout",
     "output_type": "stream",
     "text": [
      "3\n"
     ]
    }
   ],
   "source": [
    "def length_of_list():\n",
    "    l = [1,2,3]\n",
    "    print(len(l))\n",
    "length_of_list()"
   ]
  },
  {
   "cell_type": "code",
   "execution_count": 23,
   "id": "17e1540f",
   "metadata": {},
   "outputs": [
    {
     "name": "stdout",
     "output_type": "stream",
     "text": [
      "9\n",
      "None\n",
      "8\n",
      "None\n"
     ]
    }
   ],
   "source": [
    "def len(aditya):\n",
    "    count = 0\n",
    "    for i in aditya:\n",
    "        count+=1\n",
    "    return count + 5\n",
    "\n",
    "def length_of_list():\n",
    "    \n",
    "    def len(aditya):\n",
    "        count = 0\n",
    "        for i in aditya:\n",
    "            count+=1\n",
    "        return count + 6\n",
    "    \n",
    "    l = [1,2,3]\n",
    "    print(len(l))\n",
    "\n",
    "def second_length():\n",
    "    l = (1,2,3)\n",
    "    print(len(l))\n",
    "\n",
    "print(length_of_list())\n",
    "print(second_length())\n"
   ]
  },
  {
   "cell_type": "code",
   "execution_count": 24,
   "id": "829ffb38",
   "metadata": {},
   "outputs": [],
   "source": [
    "# Global Keyword"
   ]
  },
  {
   "cell_type": "code",
   "execution_count": 26,
   "id": "dcc34e22",
   "metadata": {},
   "outputs": [
    {
     "name": "stdout",
     "output_type": "stream",
     "text": [
      "apple apple\n"
     ]
    }
   ],
   "source": [
    "a = \"mango\"\n",
    " \n",
    "def fruits():\n",
    "    global a\n",
    "    a = \"apple\"\n",
    "    print(a,end=\" \")\n",
    "\n",
    "fruits()\n",
    "print(a)"
   ]
  },
  {
   "cell_type": "markdown",
   "id": "947c2cbd",
   "metadata": {},
   "source": [
    "# Named Argument"
   ]
  },
  {
   "cell_type": "code",
   "execution_count": 27,
   "id": "5bb8ddc9",
   "metadata": {},
   "outputs": [],
   "source": [
    "def stunent_func(name,roll,stand):\n",
    "    print(name,\" has roll no. \",roll,\" and studies in standard\",stand)"
   ]
  },
  {
   "cell_type": "code",
   "execution_count": 28,
   "id": "f29b184b",
   "metadata": {},
   "outputs": [
    {
     "name": "stdout",
     "output_type": "stream",
     "text": [
      "Arjun  has roll no.  23  and studies in standard 7\n"
     ]
    }
   ],
   "source": [
    "stunent_func(\"Arjun\",23,7)"
   ]
  },
  {
   "cell_type": "code",
   "execution_count": 29,
   "id": "865436fe",
   "metadata": {},
   "outputs": [
    {
     "name": "stdout",
     "output_type": "stream",
     "text": [
      "23  has roll no.  Arjun  and studies in standard 7\n"
     ]
    }
   ],
   "source": [
    "stunent_func(23,\"Arjun\",7)"
   ]
  },
  {
   "cell_type": "code",
   "execution_count": 30,
   "id": "64aba524",
   "metadata": {},
   "outputs": [
    {
     "name": "stdout",
     "output_type": "stream",
     "text": [
      "Karthik  has roll no.  26  and studies in standard 8\n"
     ]
    }
   ],
   "source": [
    "stunent_func(roll=26,name=\"Karthik\",stand=8)"
   ]
  },
  {
   "cell_type": "code",
   "execution_count": 31,
   "id": "25ed716d",
   "metadata": {
    "collapsed": true
   },
   "outputs": [
    {
     "name": "stdout",
     "output_type": "stream",
     "text": [
      "Help on built-in function print in module builtins:\n",
      "\n",
      "print(...)\n",
      "    print(value, ..., sep=' ', end='\\n', file=sys.stdout, flush=False)\n",
      "    \n",
      "    Prints the values to a stream, or to sys.stdout by default.\n",
      "    Optional keyword arguments:\n",
      "    file:  a file-like object (stream); defaults to the current sys.stdout.\n",
      "    sep:   string inserted between values, default a space.\n",
      "    end:   string appended after the last value, default a newline.\n",
      "    flush: whether to forcibly flush the stream.\n",
      "\n"
     ]
    }
   ],
   "source": [
    "help(print)"
   ]
  },
  {
   "cell_type": "markdown",
   "id": "506fb734",
   "metadata": {},
   "source": [
    "# Packing"
   ]
  },
  {
   "cell_type": "code",
   "execution_count": 36,
   "id": "6f7110ea",
   "metadata": {},
   "outputs": [
    {
     "name": "stdout",
     "output_type": "stream",
     "text": [
      "('Arjun', 23, 7, 'Akshit')\n"
     ]
    }
   ],
   "source": [
    "# Unnamed Packing\n",
    "def stunent_func(*value):\n",
    "    print(value)\n",
    "#     print(value[0],\" has roll no. \",value[1],\" and studies in standard\",value[2])\n",
    "\n",
    "stunent_func(\"Arjun\",23,7,\"Akshit\")"
   ]
  },
  {
   "cell_type": "markdown",
   "id": "1c64f86a",
   "metadata": {},
   "source": [
    "### Named Packing"
   ]
  },
  {
   "cell_type": "code",
   "execution_count": 41,
   "id": "c9a1ab3a",
   "metadata": {},
   "outputs": [
    {
     "name": "stdout",
     "output_type": "stream",
     "text": [
      "{'roll': 26, 'name': 'Karthik', 'stand': 8}\n",
      "roll\n",
      "name\n",
      "stand\n",
      "<class 'dict'>\n"
     ]
    }
   ],
   "source": [
    "def stunent_func(**value):\n",
    "    print(value)\n",
    "    for i in value:\n",
    "        print(i)\n",
    "    print(type(value))\n",
    "#     print(name,\" has roll no. \",roll,\" and studies in standard\",stand)\n",
    "\n",
    "stunent_func(roll=26,name=\"Karthik\",stand=8)"
   ]
  },
  {
   "cell_type": "code",
   "execution_count": null,
   "id": "f05ab685",
   "metadata": {},
   "outputs": [],
   "source": []
  }
 ],
 "metadata": {
  "kernelspec": {
   "display_name": "Python 3 (ipykernel)",
   "language": "python",
   "name": "python3"
  },
  "language_info": {
   "codemirror_mode": {
    "name": "ipython",
    "version": 3
   },
   "file_extension": ".py",
   "mimetype": "text/x-python",
   "name": "python",
   "nbconvert_exporter": "python",
   "pygments_lexer": "ipython3",
   "version": "3.9.7"
  }
 },
 "nbformat": 4,
 "nbformat_minor": 5
}
