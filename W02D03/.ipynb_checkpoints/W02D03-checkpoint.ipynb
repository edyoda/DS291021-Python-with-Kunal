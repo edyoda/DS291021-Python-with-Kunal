{
 "cells": [
  {
   "cell_type": "code",
   "execution_count": null,
   "id": "e0038bcc",
   "metadata": {},
   "outputs": [],
   "source": [
    "False Equivalent /falsy values\n",
    "0 0.0 \"\" {} None [] ()\n",
    "\n",
    "True Equivalent /truthy value\n",
    "1 -1 1.0 -1.0 {5} {None:None} \"l\" "
   ]
  },
  {
   "cell_type": "code",
   "execution_count": 3,
   "id": "09b46a2b",
   "metadata": {},
   "outputs": [
    {
     "name": "stdout",
     "output_type": "stream",
     "text": [
      "Covid+\n",
      "You are Covid negative\n",
      "Covid+\n",
      "Covid+\n"
     ]
    }
   ],
   "source": [
    "l = [\"Covid +\",\"Covid -\",\"Covid +\",\"Covid +\"]\n",
    "\n",
    "if l:\n",
    "    for i in l:\n",
    "        \n",
    "        if \"+\" in i:\n",
    "            print(i)\n",
    "        else:\n",
    "            print(\"You are Covid negative\")\n",
    "else:\n",
    "    print(\"No test is done\")\n"
   ]
  },
  {
   "cell_type": "code",
   "execution_count": 6,
   "id": "9133d18a",
   "metadata": {},
   "outputs": [
    {
     "name": "stdout",
     "output_type": "stream",
     "text": [
      "No test is done\n"
     ]
    }
   ],
   "source": [
    "l = [] #Empty\n",
    "\n",
    "if l:\n",
    "    for i in l:\n",
    "        if \"+\" in i:\n",
    "            print(i)\n",
    "        else:\n",
    "            print(\"You are Covid negative\")\n",
    "else:\n",
    "    print(\"No test is done\")\n"
   ]
  },
  {
   "cell_type": "code",
   "execution_count": 8,
   "id": "9c40eac3",
   "metadata": {},
   "outputs": [
    {
     "name": "stdout",
     "output_type": "stream",
     "text": [
      "Covid +\n",
      "You are Covid negative\n",
      "Covid +\n",
      "Covid +\n"
     ]
    }
   ],
   "source": [
    "l = [\"Covid +\",\"Covid -\",\"Covid +\",\"Covid +\"]\n",
    "for i in l:\n",
    "        if \"+\" in i:\n",
    "            print(i)\n",
    "        else:\n",
    "            print(\"You are Covid negative\")"
   ]
  },
  {
   "cell_type": "code",
   "execution_count": 10,
   "id": "b97ea1f8",
   "metadata": {},
   "outputs": [
    {
     "name": "stdout",
     "output_type": "stream",
     "text": [
      "Print False\n"
     ]
    }
   ],
   "source": [
    "i = False\n",
    "if i == False:\n",
    "    print(\"Print False\")\n",
    "else:\n",
    "    print(\"Print True\")"
   ]
  },
  {
   "cell_type": "code",
   "execution_count": 18,
   "id": "fd3f243a",
   "metadata": {},
   "outputs": [],
   "source": [
    "list_of_Sections = [\"A1\",\"A2\",\"A3\",\"B1\",\"B2\",\"B3\",\"C1\",\"C2\",\"D\",\"E\",\"F\"]"
   ]
  },
  {
   "cell_type": "code",
   "execution_count": 19,
   "id": "5846a344",
   "metadata": {},
   "outputs": [
    {
     "name": "stdout",
     "output_type": "stream",
     "text": [
      "Science Batch A1\n",
      "Science Batch A2\n",
      "Science Batch A3\n",
      "Bio Batch B1\n",
      "Bio Batch B2\n",
      "Bio Batch B3\n",
      "Commerce Batch C1\n",
      "Commerce Batch C2\n",
      "Others D\n",
      "Others E\n",
      "Others F\n"
     ]
    }
   ],
   "source": [
    "for Section in list_of_Sections:\n",
    "    if \"A\" in Section:\n",
    "        print(\"Science Batch\",Section)\n",
    "    elif \"B\" in Section:\n",
    "        print(\"Bio Batch\",Section)\n",
    "    elif \"C\" in Section:\n",
    "        print(\"Commerce Batch\",Section) \n",
    "    else:\n",
    "        print(\"Others\",Section)"
   ]
  },
  {
   "cell_type": "code",
   "execution_count": 16,
   "id": "95367fc2",
   "metadata": {},
   "outputs": [
    {
     "name": "stdout",
     "output_type": "stream",
     "text": [
      "Science Batch A1\n",
      "Science Batch A2\n",
      "Science Batch A3\n",
      "Bio Batch B1\n",
      "Bio Batch B2\n",
      "Bio Batch B3\n",
      "Commerce Batch C1\n",
      "Commerce Batch C2\n"
     ]
    }
   ],
   "source": [
    "for Section in list_of_Sections:\n",
    "    if \"A\" in Section:\n",
    "        print(\"Science Batch\",Section)\n",
    "    elif \"B\" in Section:\n",
    "        print(\"Bio Batch\",Section)\n",
    "    else:\n",
    "        print(\"Commerce Batch\",Section)\n",
    "        "
   ]
  },
  {
   "cell_type": "code",
   "execution_count": null,
   "id": "be70e96c",
   "metadata": {},
   "outputs": [],
   "source": [
    "Count how many people are available in A, B, C batch\n",
    "**Hint try having 3 variables count_A,count_B,count_C\n",
    "\n",
    "5 mins --> 20:25PM"
   ]
  },
  {
   "cell_type": "code",
   "execution_count": 22,
   "id": "0fc7ae2b",
   "metadata": {},
   "outputs": [
    {
     "name": "stdout",
     "output_type": "stream",
     "text": [
      "Science Batch A1\n",
      "Science Batch A2\n",
      "Science Batch A3\n",
      "Bio Batch B1\n",
      "Bio Batch B2\n",
      "Bio Batch B3\n",
      "Commerce Batch C1\n",
      "Commerce Batch C2\n",
      "Others D\n",
      "Others E\n",
      "Others F\n",
      "count for A 3\n",
      "count for B 3\n",
      "count for C 2\n"
     ]
    }
   ],
   "source": [
    "list_of_Sections = [\"A1\",\"A2\",\"A3\",\"B1\",\"B2\",\"B3\",\"C1\",\"C2\",\"D\",\"E\",\"F\"]\n",
    "\n",
    "count_A = 0\n",
    "count_B = 0\n",
    "count_C = 0\n",
    "\n",
    "for Section in list_of_Sections:\n",
    "    if \"A\" in Section:\n",
    "        print(\"Science Batch\",Section)\n",
    "        count_A += 1\n",
    "        \n",
    "    elif \"B\" in Section:\n",
    "        print(\"Bio Batch\",Section)\n",
    "        count_B += 1\n",
    "        \n",
    "    elif \"C\" in Section:\n",
    "        print(\"Commerce Batch\",Section)\n",
    "        count_C += 1\n",
    "        \n",
    "    else:\n",
    "        print(\"Others\",Section)\n",
    "\n",
    "print(\"count for A\",count_A)\n",
    "print(\"count for B\",count_B)\n",
    "print(\"count for C\",count_C)"
   ]
  },
  {
   "cell_type": "code",
   "execution_count": 23,
   "id": "b3eeab5e",
   "metadata": {},
   "outputs": [],
   "source": [
    "list_of_students = [\"B\",\"B\",\"G\",\"G\",\"G\",\"B\",\"G\",\"G\",\"B\",\"B\"]"
   ]
  },
  {
   "cell_type": "code",
   "execution_count": 24,
   "id": "3341d2cf",
   "metadata": {},
   "outputs": [],
   "source": [
    "# we want to calculate the number of students in the list"
   ]
  },
  {
   "cell_type": "code",
   "execution_count": 27,
   "id": "0026ab73",
   "metadata": {},
   "outputs": [
    {
     "name": "stdout",
     "output_type": "stream",
     "text": [
      "10\n"
     ]
    }
   ],
   "source": [
    "count_student = 0\n",
    "for student in list_of_students:\n",
    "    count_student += 1\n",
    "print(count_student)"
   ]
  },
  {
   "cell_type": "code",
   "execution_count": 29,
   "id": "d83465e4",
   "metadata": {},
   "outputs": [
    {
     "name": "stdout",
     "output_type": "stream",
     "text": [
      "S\n"
     ]
    }
   ],
   "source": [
    "understood = 'T'\n",
    "if understood: \n",
    "    print(\"S\")\n",
    "else:\n",
    "    print(\"No\")"
   ]
  },
  {
   "cell_type": "code",
   "execution_count": 32,
   "id": "699cf3a5",
   "metadata": {},
   "outputs": [
    {
     "name": "stdout",
     "output_type": "stream",
     "text": [
      "6\n",
      "3\n"
     ]
    }
   ],
   "source": [
    "list_of_students = [\"A\",\"G\",\"A\",\"G\",\"A\",\"G\"]\n",
    "count_student = 0\n",
    "count_A = 0\n",
    "for student in list_of_students:\n",
    "    \n",
    "    if student == \"A\":\n",
    "        count_A += 1\n",
    "        \n",
    "    count_student +=1\n",
    "    \n",
    "print(count_student)\n",
    "print(count_A)"
   ]
  },
  {
   "cell_type": "code",
   "execution_count": 35,
   "id": "0951a96b",
   "metadata": {},
   "outputs": [
    {
     "name": "stdout",
     "output_type": "stream",
     "text": [
      "0 ** 0.1 = 0.0\n",
      "0 ** 2 = 0\n",
      "0 ** 3 = 0\n",
      "0 ** 4 = 0\n",
      "0 ** 5 = 0\n"
     ]
    }
   ],
   "source": [
    "tuple_value=(0.1,2,3,4,5)\n",
    "n = 0\n",
    "for i in tuple_value:\n",
    "    print(n, \"**\", i, \"=\", n ** i)\n"
   ]
  },
  {
   "cell_type": "code",
   "execution_count": 39,
   "id": "b2e5745f",
   "metadata": {},
   "outputs": [
    {
     "name": "stdout",
     "output_type": "stream",
     "text": [
      "5\n",
      "3\n"
     ]
    }
   ],
   "source": [
    "students= [\"a\",\"g\",\"a\",\"g\",\"a\"]\n",
    "count_student = 0\n",
    "count_a=0\n",
    "for student in students:\n",
    "    if student == \"a\":\n",
    "        count_a += 1\n",
    "    count_student += 1\n",
    "print(count_student)\n",
    "print(count_a)"
   ]
  },
  {
   "cell_type": "markdown",
   "id": "fd40471f",
   "metadata": {},
   "source": [
    "# Correct Way to Declare a variable"
   ]
  },
  {
   "cell_type": "code",
   "execution_count": 40,
   "id": "bc92a89a",
   "metadata": {},
   "outputs": [
    {
     "ename": "SyntaxError",
     "evalue": "invalid syntax (Temp/ipykernel_14248/1029970122.py, line 1)",
     "output_type": "error",
     "traceback": [
      "\u001b[1;36m  File \u001b[1;32m\"C:\\Users\\KUNALC~1\\AppData\\Local\\Temp/ipykernel_14248/1029970122.py\"\u001b[1;36m, line \u001b[1;32m1\u001b[0m\n\u001b[1;33m    1count = 2\u001b[0m\n\u001b[1;37m     ^\u001b[0m\n\u001b[1;31mSyntaxError\u001b[0m\u001b[1;31m:\u001b[0m invalid syntax\n"
     ]
    }
   ],
   "source": [
    "1count = 2"
   ]
  },
  {
   "cell_type": "code",
   "execution_count": null,
   "id": "84d8422c",
   "metadata": {},
   "outputs": [],
   "source": [
    "alphabet, _"
   ]
  },
  {
   "cell_type": "code",
   "execution_count": 42,
   "id": "3ef1e74f",
   "metadata": {},
   "outputs": [],
   "source": [
    "_jai = \"Veeru\""
   ]
  },
  {
   "cell_type": "code",
   "execution_count": 43,
   "id": "335844d1",
   "metadata": {},
   "outputs": [
    {
     "data": {
      "text/plain": [
       "'Veeru'"
      ]
     },
     "execution_count": 43,
     "metadata": {},
     "output_type": "execute_result"
    }
   ],
   "source": [
    "_jai"
   ]
  },
  {
   "cell_type": "code",
   "execution_count": 44,
   "id": "bb0ea8d1",
   "metadata": {},
   "outputs": [],
   "source": [
    "no_of_students = 2"
   ]
  },
  {
   "cell_type": "code",
   "execution_count": 45,
   "id": "767d69f0",
   "metadata": {},
   "outputs": [
    {
     "data": {
      "text/plain": [
       "2"
      ]
     },
     "execution_count": 45,
     "metadata": {},
     "output_type": "execute_result"
    }
   ],
   "source": [
    "no_of_students"
   ]
  },
  {
   "cell_type": "markdown",
   "id": "9b3f0b14",
   "metadata": {},
   "source": [
    "# Len function"
   ]
  },
  {
   "cell_type": "code",
   "execution_count": 46,
   "id": "0d536551",
   "metadata": {},
   "outputs": [],
   "source": [
    "list_of_fruite = [\"apple\",\"mango\",\"banana\",\"Litchi\",\"Grapes\",\"Orange\",\"Pineapple\",\"Papaya\"]"
   ]
  },
  {
   "cell_type": "code",
   "execution_count": null,
   "id": "16468311",
   "metadata": {},
   "outputs": [],
   "source": [
    "Built in function in python len()"
   ]
  },
  {
   "cell_type": "code",
   "execution_count": 47,
   "id": "e15c993d",
   "metadata": {},
   "outputs": [
    {
     "name": "stdout",
     "output_type": "stream",
     "text": [
      "8\n"
     ]
    }
   ],
   "source": [
    "print(len(list_of_fruite))"
   ]
  },
  {
   "cell_type": "code",
   "execution_count": 48,
   "id": "9403c14f",
   "metadata": {},
   "outputs": [],
   "source": [
    "s = {\"apple\",\"mango\",\"banana\",\"Litchi\"}"
   ]
  },
  {
   "cell_type": "code",
   "execution_count": 49,
   "id": "0429caa9",
   "metadata": {},
   "outputs": [
    {
     "data": {
      "text/plain": [
       "4"
      ]
     },
     "execution_count": 49,
     "metadata": {},
     "output_type": "execute_result"
    }
   ],
   "source": [
    "len(s)"
   ]
  },
  {
   "cell_type": "code",
   "execution_count": 50,
   "id": "abb42a05",
   "metadata": {},
   "outputs": [],
   "source": [
    "t = (\"apple\",\"mango\",\"banana\",\"Litchi\")"
   ]
  },
  {
   "cell_type": "code",
   "execution_count": 51,
   "id": "208cf750",
   "metadata": {},
   "outputs": [
    {
     "data": {
      "text/plain": [
       "4"
      ]
     },
     "execution_count": 51,
     "metadata": {},
     "output_type": "execute_result"
    }
   ],
   "source": [
    "len(t)"
   ]
  },
  {
   "cell_type": "code",
   "execution_count": 52,
   "id": "3f1673c6",
   "metadata": {},
   "outputs": [],
   "source": [
    "name = \"Rajeshwar\""
   ]
  },
  {
   "cell_type": "code",
   "execution_count": 53,
   "id": "6b712504",
   "metadata": {},
   "outputs": [
    {
     "data": {
      "text/plain": [
       "9"
      ]
     },
     "execution_count": 53,
     "metadata": {},
     "output_type": "execute_result"
    }
   ],
   "source": [
    "len(name)"
   ]
  },
  {
   "cell_type": "code",
   "execution_count": 54,
   "id": "ec0a9037",
   "metadata": {},
   "outputs": [],
   "source": [
    "d = {\"apple\":1, \"mango\":2, 3:\"banana\", \"Litchi\":name}"
   ]
  },
  {
   "cell_type": "code",
   "execution_count": 55,
   "id": "8baf6aff",
   "metadata": {},
   "outputs": [
    {
     "data": {
      "text/plain": [
       "4"
      ]
     },
     "execution_count": 55,
     "metadata": {},
     "output_type": "execute_result"
    }
   ],
   "source": [
    "len(d)"
   ]
  },
  {
   "cell_type": "code",
   "execution_count": 57,
   "id": "6b18b720",
   "metadata": {},
   "outputs": [
    {
     "data": {
      "text/plain": [
       "9"
      ]
     },
     "execution_count": 57,
     "metadata": {},
     "output_type": "execute_result"
    }
   ],
   "source": [
    "len(d[\"Litchi\"])"
   ]
  },
  {
   "cell_type": "code",
   "execution_count": 58,
   "id": "d2a108db",
   "metadata": {},
   "outputs": [
    {
     "ename": "TypeError",
     "evalue": "object of type 'int' has no len()",
     "output_type": "error",
     "traceback": [
      "\u001b[1;31m---------------------------------------------------------------------------\u001b[0m",
      "\u001b[1;31mTypeError\u001b[0m                                 Traceback (most recent call last)",
      "\u001b[1;32mC:\\Users\\KUNALC~1\\AppData\\Local\\Temp/ipykernel_14248/3493957694.py\u001b[0m in \u001b[0;36m<module>\u001b[1;34m\u001b[0m\n\u001b[1;32m----> 1\u001b[1;33m \u001b[0mlen\u001b[0m\u001b[1;33m(\u001b[0m\u001b[1;36m23\u001b[0m\u001b[1;33m)\u001b[0m\u001b[1;33m\u001b[0m\u001b[1;33m\u001b[0m\u001b[0m\n\u001b[0m",
      "\u001b[1;31mTypeError\u001b[0m: object of type 'int' has no len()"
     ]
    }
   ],
   "source": [
    "len(23)"
   ]
  },
  {
   "cell_type": "code",
   "execution_count": 59,
   "id": "d5f2b82a",
   "metadata": {},
   "outputs": [
    {
     "data": {
      "text/plain": [
       "4"
      ]
     },
     "execution_count": 59,
     "metadata": {},
     "output_type": "execute_result"
    }
   ],
   "source": [
    "len(\"Yash\")"
   ]
  },
  {
   "cell_type": "code",
   "execution_count": null,
   "id": "f5c9516c",
   "metadata": {},
   "outputs": [],
   "source": [
    "Lenth function take only collections as input\n",
    "\n",
    "235 --> Not collection\n",
    "\"235\" --> collection of characters"
   ]
  },
  {
   "cell_type": "code",
   "execution_count": 60,
   "id": "d178faf4",
   "metadata": {},
   "outputs": [
    {
     "data": {
      "text/plain": [
       "2"
      ]
     },
     "execution_count": 60,
     "metadata": {},
     "output_type": "execute_result"
    }
   ],
   "source": [
    "len(\"23\")"
   ]
  },
  {
   "cell_type": "code",
   "execution_count": null,
   "id": "15271d31",
   "metadata": {},
   "outputs": [],
   "source": []
  },
  {
   "cell_type": "code",
   "execution_count": null,
   "id": "4af28860",
   "metadata": {},
   "outputs": [],
   "source": []
  },
  {
   "cell_type": "code",
   "execution_count": null,
   "id": "15c66495",
   "metadata": {},
   "outputs": [],
   "source": []
  },
  {
   "cell_type": "code",
   "execution_count": null,
   "id": "7c6f6cbb",
   "metadata": {},
   "outputs": [],
   "source": []
  },
  {
   "cell_type": "code",
   "execution_count": null,
   "id": "ee31743a",
   "metadata": {},
   "outputs": [],
   "source": []
  },
  {
   "cell_type": "code",
   "execution_count": null,
   "id": "b2986ba3",
   "metadata": {},
   "outputs": [],
   "source": []
  },
  {
   "cell_type": "code",
   "execution_count": null,
   "id": "934783fc",
   "metadata": {},
   "outputs": [],
   "source": []
  },
  {
   "cell_type": "code",
   "execution_count": null,
   "id": "faa10eb1",
   "metadata": {},
   "outputs": [],
   "source": []
  },
  {
   "cell_type": "code",
   "execution_count": null,
   "id": "e1a4cbba",
   "metadata": {},
   "outputs": [],
   "source": []
  },
  {
   "cell_type": "code",
   "execution_count": null,
   "id": "13456fbc",
   "metadata": {},
   "outputs": [],
   "source": []
  },
  {
   "cell_type": "code",
   "execution_count": null,
   "id": "f0a8602b",
   "metadata": {},
   "outputs": [],
   "source": []
  },
  {
   "cell_type": "code",
   "execution_count": null,
   "id": "a0b4960a",
   "metadata": {},
   "outputs": [],
   "source": []
  },
  {
   "cell_type": "code",
   "execution_count": null,
   "id": "073fba80",
   "metadata": {},
   "outputs": [],
   "source": [
    "# Write a Python code to read an integer in a file e.g 123\n",
    "# and convert it to words e.g One hundred and twenty three \n",
    "# and write the result back to the same file such that your file will have \n",
    "# \"123 One hundred and twenty three \" in it."
   ]
  }
 ],
 "metadata": {
  "kernelspec": {
   "display_name": "Python 3 (ipykernel)",
   "language": "python",
   "name": "python3"
  },
  "language_info": {
   "codemirror_mode": {
    "name": "ipython",
    "version": 3
   },
   "file_extension": ".py",
   "mimetype": "text/x-python",
   "name": "python",
   "nbconvert_exporter": "python",
   "pygments_lexer": "ipython3",
   "version": "3.9.7"
  }
 },
 "nbformat": 4,
 "nbformat_minor": 5
}
