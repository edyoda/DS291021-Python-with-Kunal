{
 "cells": [
  {
   "cell_type": "code",
   "execution_count": null,
   "id": "a96f0666",
   "metadata": {},
   "outputs": [],
   "source": [
    "immutable data types (not Editable)\n",
    "\n",
    "    int\n",
    "    float\n",
    "    str\n",
    "    tuple\n",
    "    None\n",
    "    bool\n",
    "    complex\n",
    "    \n",
    "Mutable data types\n",
    "\n",
    "    list\n",
    "    set\n",
    "    dict"
   ]
  },
  {
   "cell_type": "code",
   "execution_count": null,
   "id": "906e533f",
   "metadata": {},
   "outputs": [],
   "source": [
    "what are the data types which we can consider it to be the key for dict or set\n",
    "\n",
    "str\n",
    "int\n",
    "float\n",
    "tuple\n",
    "None\n",
    "bool\n",
    "complex\n",
    "\n",
    "All immuyable data types can be the key for dictionary and set"
   ]
  },
  {
   "cell_type": "code",
   "execution_count": null,
   "id": "631672c7",
   "metadata": {},
   "outputs": [],
   "source": [
    "undered data types\n",
    "1) indexing is not possible\n",
    "2) Slicing is not possible\n",
    "3) set and dict"
   ]
  },
  {
   "cell_type": "markdown",
   "id": "aa6ee86b",
   "metadata": {},
   "source": [
    "## Q1) Make a list of numbers from 1 to 10 and loop over them and print ('yes') if it is a even number and ('no') if it is odd."
   ]
  },
  {
   "cell_type": "code",
   "execution_count": null,
   "id": "6919538e",
   "metadata": {},
   "outputs": [],
   "source": [
    "3 mins 19:46"
   ]
  },
  {
   "cell_type": "code",
   "execution_count": 2,
   "id": "89cbeac7",
   "metadata": {},
   "outputs": [
    {
     "name": "stdout",
     "output_type": "stream",
     "text": [
      "1 No\n",
      "2 Yes\n",
      "3 No\n",
      "4 Yes\n",
      "5 No\n",
      "6 Yes\n",
      "7 No\n",
      "8 Yes\n",
      "9 No\n",
      "10 Yes\n"
     ]
    }
   ],
   "source": [
    "for i in range(1,11):\n",
    "    if i%2 == 0:\n",
    "        print(i,\"Yes\")\n",
    "    else:\n",
    "        print(i,\"No\")"
   ]
  },
  {
   "cell_type": "markdown",
   "id": "f0d927b6",
   "metadata": {},
   "source": [
    "## Q2) Print multiplication table of 5\n",
    "\n",
    "### Pseudocode:\n",
    "    1)loop from 1 to 10\n",
    "    2)for each item, print * of 5 with it."
   ]
  },
  {
   "cell_type": "code",
   "execution_count": null,
   "id": "0c3ff264",
   "metadata": {},
   "outputs": [],
   "source": [
    "2 mins 19:53"
   ]
  },
  {
   "cell_type": "code",
   "execution_count": 3,
   "id": "ea084ea1",
   "metadata": {},
   "outputs": [
    {
     "name": "stdout",
     "output_type": "stream",
     "text": [
      "5\n",
      "10\n",
      "15\n",
      "20\n",
      "25\n",
      "30\n",
      "35\n",
      "40\n",
      "45\n",
      "50\n"
     ]
    }
   ],
   "source": [
    "for num in range(1,11):\n",
    "    print(num * 5)"
   ]
  },
  {
   "cell_type": "markdown",
   "id": "1d764016",
   "metadata": {},
   "source": [
    "# Q3) Print multiplication table for all the elments present in list1 = [12,7,5,8,13]"
   ]
  },
  {
   "cell_type": "code",
   "execution_count": null,
   "id": "d286b121",
   "metadata": {},
   "outputs": [],
   "source": [
    "10 mins 20:00"
   ]
  },
  {
   "cell_type": "code",
   "execution_count": 7,
   "id": "3dec9cc9",
   "metadata": {},
   "outputs": [
    {
     "name": "stdout",
     "output_type": "stream",
     "text": [
      "the number picked up is  12\n",
      "12\n",
      "24\n",
      "36\n",
      "48\n",
      "60\n",
      "72\n",
      "84\n",
      "96\n",
      "108\n",
      "120\n",
      "******************\n",
      "the number picked up is  5\n",
      "5\n",
      "10\n",
      "15\n",
      "20\n",
      "25\n",
      "30\n",
      "35\n",
      "40\n",
      "45\n",
      "50\n",
      "******************\n",
      "the number picked up is  7\n",
      "7\n",
      "14\n",
      "21\n",
      "28\n",
      "35\n",
      "42\n",
      "49\n",
      "56\n",
      "63\n",
      "70\n",
      "******************\n",
      "the number picked up is  8\n",
      "8\n",
      "16\n",
      "24\n",
      "32\n",
      "40\n",
      "48\n",
      "56\n",
      "64\n",
      "72\n",
      "80\n",
      "******************\n",
      "the number picked up is  13\n",
      "13\n",
      "26\n",
      "39\n",
      "52\n",
      "65\n",
      "78\n",
      "91\n",
      "104\n",
      "117\n",
      "130\n",
      "******************\n"
     ]
    }
   ],
   "source": [
    "list_of_numbers=[12,5,7,8,13]\n",
    "for num in list_of_numbers:\n",
    "    print(\"the number picked up is \",num)\n",
    "    for i in range(1,11):\n",
    "        print(i * num)\n",
    "    print(\"******************\")\n"
   ]
  },
  {
   "cell_type": "code",
   "execution_count": 9,
   "id": "22880998",
   "metadata": {},
   "outputs": [
    {
     "name": "stdout",
     "output_type": "stream",
     "text": [
      "13 X 1 = 13\n",
      "13 X 2 = 26\n",
      "13 X 3 = 39\n",
      "13 X 4 = 52\n",
      "13 X 5 = 65\n",
      "13 X 6 = 78\n",
      "13 X 7 = 91\n",
      "13 X 8 = 104\n",
      "13 X 9 = 117\n",
      "13 X 10 = 130\n",
      "-------------------\n",
      "13 X 1 = 13\n",
      "13 X 2 = 26\n",
      "13 X 3 = 39\n",
      "13 X 4 = 52\n",
      "13 X 5 = 65\n",
      "13 X 6 = 78\n",
      "13 X 7 = 91\n",
      "13 X 8 = 104\n",
      "13 X 9 = 117\n",
      "13 X 10 = 130\n",
      "-------------------\n",
      "13 X 1 = 13\n",
      "13 X 2 = 26\n",
      "13 X 3 = 39\n",
      "13 X 4 = 52\n",
      "13 X 5 = 65\n",
      "13 X 6 = 78\n",
      "13 X 7 = 91\n",
      "13 X 8 = 104\n",
      "13 X 9 = 117\n",
      "13 X 10 = 130\n",
      "-------------------\n",
      "13 X 1 = 13\n",
      "13 X 2 = 26\n",
      "13 X 3 = 39\n",
      "13 X 4 = 52\n",
      "13 X 5 = 65\n",
      "13 X 6 = 78\n",
      "13 X 7 = 91\n",
      "13 X 8 = 104\n",
      "13 X 9 = 117\n",
      "13 X 10 = 130\n",
      "-------------------\n",
      "13 X 1 = 13\n",
      "13 X 2 = 26\n",
      "13 X 3 = 39\n",
      "13 X 4 = 52\n",
      "13 X 5 = 65\n",
      "13 X 6 = 78\n",
      "13 X 7 = 91\n",
      "13 X 8 = 104\n",
      "13 X 9 = 117\n",
      "13 X 10 = 130\n",
      "-------------------\n"
     ]
    }
   ],
   "source": [
    "g=[12,7,5,8,13]\n",
    "for i in g:\n",
    "    for i in range(1,11):\n",
    "        print(num ,\"X\" , i ,\"=\" , num*i)\n",
    "    print(\"-------------------\")"
   ]
  },
  {
   "cell_type": "markdown",
   "id": "777ca29e",
   "metadata": {},
   "source": [
    "## Q4 Find out the sum of the numbers without using any builtin function and compulary use a for loop\n",
    "numbersList = [23,25,-43,0,-56]"
   ]
  },
  {
   "cell_type": "code",
   "execution_count": null,
   "id": "583c8e93",
   "metadata": {},
   "outputs": [],
   "source": [
    "10 mins 20:29"
   ]
  },
  {
   "cell_type": "code",
   "execution_count": 12,
   "id": "fa736ca7",
   "metadata": {},
   "outputs": [],
   "source": [
    "numbersList = [23,25,-43,0,-56]\n",
    "summation = 0\n",
    "for num in numbersList:\n",
    "    summation = summation + num"
   ]
  },
  {
   "cell_type": "code",
   "execution_count": 13,
   "id": "457ae0aa",
   "metadata": {},
   "outputs": [
    {
     "name": "stdout",
     "output_type": "stream",
     "text": [
      "-51\n"
     ]
    }
   ],
   "source": [
    "print(summation)"
   ]
  },
  {
   "cell_type": "code",
   "execution_count": 15,
   "id": "93018268",
   "metadata": {},
   "outputs": [],
   "source": [
    "numbersList = [23,25,-43,0,-56]\n",
    "length_of_list = len(numbersList)"
   ]
  },
  {
   "cell_type": "code",
   "execution_count": 24,
   "id": "e8d71198",
   "metadata": {},
   "outputs": [],
   "source": [
    "summation = 0\n",
    "for i in range(length_of_list):\n",
    "    \n",
    "    summation = summation + numbersList[i]\n",
    "    "
   ]
  },
  {
   "cell_type": "code",
   "execution_count": 25,
   "id": "a10463cf",
   "metadata": {},
   "outputs": [
    {
     "name": "stdout",
     "output_type": "stream",
     "text": [
      "-51\n"
     ]
    }
   ],
   "source": [
    "print(summation)"
   ]
  },
  {
   "cell_type": "code",
   "execution_count": 21,
   "id": "f7a7b1ac",
   "metadata": {},
   "outputs": [
    {
     "data": {
      "text/plain": [
       "23"
      ]
     },
     "execution_count": 21,
     "metadata": {},
     "output_type": "execute_result"
    }
   ],
   "source": [
    "numbersList[0]"
   ]
  },
  {
   "cell_type": "code",
   "execution_count": 22,
   "id": "292f90fb",
   "metadata": {},
   "outputs": [
    {
     "data": {
      "text/plain": [
       "25"
      ]
     },
     "execution_count": 22,
     "metadata": {},
     "output_type": "execute_result"
    }
   ],
   "source": [
    "numbersList[1]"
   ]
  },
  {
   "cell_type": "code",
   "execution_count": 23,
   "id": "d7e0f5e3",
   "metadata": {},
   "outputs": [
    {
     "data": {
      "text/plain": [
       "-43"
      ]
     },
     "execution_count": 23,
     "metadata": {},
     "output_type": "execute_result"
    }
   ],
   "source": [
    "numbersList[2]"
   ]
  },
  {
   "cell_type": "code",
   "execution_count": 28,
   "id": "6bad011b",
   "metadata": {},
   "outputs": [],
   "source": [
    "list1=[23,25,-43,0,-56]\n",
    "sum1 = 0\n",
    "for i in list1:\n",
    "    sum1 = sum1 + i \n"
   ]
  },
  {
   "cell_type": "code",
   "execution_count": 29,
   "id": "a3137bbd",
   "metadata": {},
   "outputs": [
    {
     "name": "stdout",
     "output_type": "stream",
     "text": [
      "-51\n"
     ]
    }
   ],
   "source": [
    "print(sum)"
   ]
  },
  {
   "cell_type": "code",
   "execution_count": null,
   "id": "96440f9b",
   "metadata": {},
   "outputs": [],
   "source": [
    "while loop"
   ]
  },
  {
   "cell_type": "code",
   "execution_count": null,
   "id": "9c0079e3",
   "metadata": {},
   "outputs": [],
   "source": [
    "while expression:\n",
    "    statements\n",
    "\n",
    "this while loop runs untill the expression  becomes the false"
   ]
  },
  {
   "cell_type": "code",
   "execution_count": null,
   "id": "aee61223",
   "metadata": {},
   "outputs": [],
   "source": [
    "Q) Write a program to print first 10 natural nubers using while loop"
   ]
  },
  {
   "cell_type": "code",
   "execution_count": 31,
   "id": "53ff63aa",
   "metadata": {},
   "outputs": [
    {
     "name": "stdout",
     "output_type": "stream",
     "text": [
      "1\n",
      "2\n",
      "3\n",
      "4\n",
      "5\n",
      "6\n",
      "7\n",
      "8\n",
      "9\n",
      "10\n",
      "11\n"
     ]
    }
   ],
   "source": [
    "cond = 1\n",
    "while cond<=11:\n",
    "    print(cond)\n",
    "    cond += 1"
   ]
  },
  {
   "cell_type": "code",
   "execution_count": null,
   "id": "21ac6569",
   "metadata": {},
   "outputs": [],
   "source": [
    "break --> it breaks the immidiate loop"
   ]
  },
  {
   "cell_type": "code",
   "execution_count": 32,
   "id": "10f9b247",
   "metadata": {},
   "outputs": [
    {
     "name": "stdout",
     "output_type": "stream",
     "text": [
      "1\n",
      "2\n",
      "3\n"
     ]
    }
   ],
   "source": [
    "cond = 1\n",
    "while cond<=11:\n",
    "    print(cond)\n",
    "    if cond == 3:\n",
    "        break\n",
    "    cond += 1"
   ]
  },
  {
   "cell_type": "code",
   "execution_count": null,
   "id": "cb277155",
   "metadata": {},
   "outputs": [],
   "source": [
    "continue"
   ]
  },
  {
   "cell_type": "code",
   "execution_count": 38,
   "id": "c446554d",
   "metadata": {},
   "outputs": [
    {
     "name": "stdout",
     "output_type": "stream",
     "text": [
      "3\n"
     ]
    }
   ],
   "source": [
    "cond = 0\n",
    "while cond<=11:\n",
    "    cond += 1\n",
    "    if cond != 3:\n",
    "        continue\n",
    "    print(cond)"
   ]
  },
  {
   "cell_type": "code",
   "execution_count": null,
   "id": "17a27092",
   "metadata": {},
   "outputs": [],
   "source": []
  }
 ],
 "metadata": {
  "kernelspec": {
   "display_name": "Python 3 (ipykernel)",
   "language": "python",
   "name": "python3"
  },
  "language_info": {
   "codemirror_mode": {
    "name": "ipython",
    "version": 3
   },
   "file_extension": ".py",
   "mimetype": "text/x-python",
   "name": "python",
   "nbconvert_exporter": "python",
   "pygments_lexer": "ipython3",
   "version": "3.9.7"
  }
 },
 "nbformat": 4,
 "nbformat_minor": 5
}
