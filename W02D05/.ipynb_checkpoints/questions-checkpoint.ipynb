{
 "cells": [
  {
   "cell_type": "markdown",
   "metadata": {},
   "source": [
    "## Q1Make a list of numbers from 1 to 10 and loop over them and print ('yes') if it is a even number and ('no') if it is odd."
   ]
  },
  {
   "cell_type": "markdown",
   "metadata": {},
   "source": [
    "## Q2) Print multiplication table of 5\n",
    "\n",
    "### Pseudocode:\n",
    "    1)loop from 1 to 10\n",
    "    2)for each item, print * of 5 with it."
   ]
  },
  {
   "cell_type": "markdown",
   "metadata": {},
   "source": [
    "## Q3 Find out the sum of the numbers without using any builtin function and compulary use a for loop\n",
    "numbersList = [23,25,-43,0,-56]"
   ]
  },
  {
   "cell_type": "markdown",
   "metadata": {},
   "source": [
    "# Q4 Find out the highest number in the following lists without using any builtin function and compulary use a for loop\n",
    "\n",
    "Hint: use comparison operator and for loop.\n",
    "\n",
    "x = [23,25,-43,0,-56] ans would be 25\n",
    "x = [-5000,-5000000,-1] ans would be -1\n",
    "x = [] ans should be empty list"
   ]
  },
  {
   "cell_type": "markdown",
   "metadata": {},
   "source": [
    "# `Advanced`\n",
    "## `Q5: In the following list of Person Informations.`\n",
    " persons = [{'Name':'Kunal','Gender':'M','Profession':'teacher'},{'Name':\n",
    ",'Puneet','Gender':'M','Profession':'Python Developer'},\n",
    "{'Name':'Swarnali','Gender':'F','Profession':'Data Scientist'}]\n",
    "\n",
    "## if the profession is doctor check if the name starts with K print 'doctor K' else print 'doctor' \n",
    "\n",
    "## if the professtion is Python Developer, check if the gender is M, if yes print 'Developer bhaiyya' else print 'Developer didi' \n",
    "\n",
    "## if the profeesion is Data Scientist , check if the First char of name is S, if yes print 'Data Scientist Chaalo' or print 'Data Scientist' \n",
    "\n",
    "## if the profession is none of the above print('Wow what do you actually do??')\n"
   ]
  },
  {
   "cell_type": "code",
   "execution_count": null,
   "metadata": {},
   "outputs": [],
   "source": []
  }
 ],
 "metadata": {
  "kernelspec": {
   "display_name": "Python 3 (ipykernel)",
   "language": "python",
   "name": "python3"
  },
  "language_info": {
   "codemirror_mode": {
    "name": "ipython",
    "version": 3
   },
   "file_extension": ".py",
   "mimetype": "text/x-python",
   "name": "python",
   "nbconvert_exporter": "python",
   "pygments_lexer": "ipython3",
   "version": "3.9.7"
  }
 },
 "nbformat": 4,
 "nbformat_minor": 4
}
