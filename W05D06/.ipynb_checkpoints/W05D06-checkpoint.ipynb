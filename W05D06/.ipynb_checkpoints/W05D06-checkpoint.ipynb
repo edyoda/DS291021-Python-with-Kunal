{
 "cells": [
  {
   "cell_type": "markdown",
   "id": "456a9e22",
   "metadata": {},
   "source": [
    "# Lambda"
   ]
  },
  {
   "cell_type": "code",
   "execution_count": null,
   "id": "b669881c",
   "metadata": {},
   "outputs": [],
   "source": [
    "A lambda fucntion is a small anonymous function"
   ]
  },
  {
   "cell_type": "markdown",
   "id": "4e69de2b",
   "metadata": {},
   "source": [
    "### A lambda expression is a way of creating a little function inline, without all the suntax of def"
   ]
  },
  {
   "cell_type": "code",
   "execution_count": null,
   "id": "a70fd8e1",
   "metadata": {},
   "outputs": [],
   "source": [
    "lambda arguments: expression"
   ]
  },
  {
   "cell_type": "code",
   "execution_count": null,
   "id": "a002e989",
   "metadata": {},
   "outputs": [],
   "source": [
    "Write a lambda function to return the square of the number"
   ]
  },
  {
   "cell_type": "code",
   "execution_count": 2,
   "id": "7dababd6",
   "metadata": {},
   "outputs": [],
   "source": [
    "x = lambda x: x*x"
   ]
  },
  {
   "cell_type": "code",
   "execution_count": 3,
   "id": "57d949a7",
   "metadata": {},
   "outputs": [
    {
     "data": {
      "text/plain": [
       "25"
      ]
     },
     "execution_count": 3,
     "metadata": {},
     "output_type": "execute_result"
    }
   ],
   "source": [
    "x(5)"
   ]
  },
  {
   "cell_type": "code",
   "execution_count": 4,
   "id": "98a41377",
   "metadata": {},
   "outputs": [],
   "source": [
    "def square(x):\n",
    "    return x*x"
   ]
  },
  {
   "cell_type": "code",
   "execution_count": 28,
   "id": "8008e130",
   "metadata": {},
   "outputs": [
    {
     "data": {
      "text/plain": [
       "<function __main__.square(x)>"
      ]
     },
     "execution_count": 28,
     "metadata": {},
     "output_type": "execute_result"
    }
   ],
   "source": [
    "square"
   ]
  },
  {
   "cell_type": "code",
   "execution_count": 7,
   "id": "21d8152d",
   "metadata": {},
   "outputs": [
    {
     "data": {
      "text/plain": [
       "25"
      ]
     },
     "execution_count": 7,
     "metadata": {},
     "output_type": "execute_result"
    }
   ],
   "source": [
    "square(5)"
   ]
  },
  {
   "cell_type": "code",
   "execution_count": 8,
   "id": "5370f42d",
   "metadata": {},
   "outputs": [
    {
     "data": {
      "text/plain": [
       "25"
      ]
     },
     "execution_count": 8,
     "metadata": {},
     "output_type": "execute_result"
    }
   ],
   "source": [
    "(lambda x: x*x)(5)"
   ]
  },
  {
   "cell_type": "code",
   "execution_count": 9,
   "id": "92e754fd",
   "metadata": {},
   "outputs": [
    {
     "name": "stdout",
     "output_type": "stream",
     "text": [
      "25\n"
     ]
    }
   ],
   "source": [
    "print(25)"
   ]
  },
  {
   "cell_type": "code",
   "execution_count": null,
   "id": "5a37cb47",
   "metadata": {},
   "outputs": [],
   "source": [
    "Write a lambda function to return cube of a number"
   ]
  },
  {
   "cell_type": "code",
   "execution_count": 12,
   "id": "a67bd223",
   "metadata": {},
   "outputs": [
    {
     "data": {
      "text/plain": [
       "125"
      ]
     },
     "execution_count": 12,
     "metadata": {},
     "output_type": "execute_result"
    }
   ],
   "source": [
    "(lambda jovan : jovan**3)(5)"
   ]
  },
  {
   "cell_type": "code",
   "execution_count": 13,
   "id": "1e37188f",
   "metadata": {},
   "outputs": [
    {
     "data": {
      "text/plain": [
       "[1, 4, 25, 64, 81]"
      ]
     },
     "execution_count": 13,
     "metadata": {},
     "output_type": "execute_result"
    }
   ],
   "source": [
    "list_of_numbers = [1,2,5,8,9]\n",
    "\n",
    "list(map( lambda x:x*x , list_of_numbers))"
   ]
  },
  {
   "cell_type": "code",
   "execution_count": 14,
   "id": "abe3d869",
   "metadata": {},
   "outputs": [],
   "source": [
    "def square(x):\n",
    "    return x*x"
   ]
  },
  {
   "cell_type": "code",
   "execution_count": 15,
   "id": "d4fbf1f4",
   "metadata": {},
   "outputs": [
    {
     "data": {
      "text/plain": [
       "[1, 4, 25, 64, 81]"
      ]
     },
     "execution_count": 15,
     "metadata": {},
     "output_type": "execute_result"
    }
   ],
   "source": [
    "list (map (square , list_of_numbers ))"
   ]
  },
  {
   "cell_type": "code",
   "execution_count": 16,
   "id": "759701ae",
   "metadata": {},
   "outputs": [
    {
     "data": {
      "text/plain": [
       "[1, 4, 25, 64, 81]"
      ]
     },
     "execution_count": 16,
     "metadata": {},
     "output_type": "execute_result"
    }
   ],
   "source": [
    "list (map ( lambda vandita:vandita**2 , list_of_numbers ))"
   ]
  },
  {
   "cell_type": "code",
   "execution_count": 17,
   "id": "2833f76b",
   "metadata": {},
   "outputs": [],
   "source": [
    "list_of_string = [\"F\",\"F\",\"M\",\"M\",\"F\",\"M\",\"F\",\"M\",\"M\"]"
   ]
  },
  {
   "cell_type": "code",
   "execution_count": null,
   "id": "3fd1d488",
   "metadata": {},
   "outputs": [],
   "source": [
    "3 mins 20:17 PM\n",
    " write a list containig only female students from list_of_string iterable\n",
    "                ** use filter function\n",
    "                ** use lambda expression"
   ]
  },
  {
   "cell_type": "code",
   "execution_count": 19,
   "id": "65eddfdd",
   "metadata": {},
   "outputs": [],
   "source": [
    "list_of_string = [\"F\",\"F\",\"M\",\"M\",\"F\",\"M\",\"F\",\"M\",\"M\"]\n",
    "\n",
    "filtered_list = list(filter(lambda gender: gender==\"F\", list_of_string))"
   ]
  },
  {
   "cell_type": "code",
   "execution_count": 20,
   "id": "b9b4e175",
   "metadata": {},
   "outputs": [
    {
     "data": {
      "text/plain": [
       "['F', 'F', 'F', 'F']"
      ]
     },
     "execution_count": 20,
     "metadata": {},
     "output_type": "execute_result"
    }
   ],
   "source": [
    "filtered_list"
   ]
  },
  {
   "cell_type": "code",
   "execution_count": 25,
   "id": "04e3623a",
   "metadata": {},
   "outputs": [],
   "source": [
    "list_of_string = [\"F\",\"F\",\"M\",\"FM\",\"KMJHYF\",\"M\",\"F\",\"M\",\"M\"]\n",
    "filtered_list = list(filter(lambda gender: \"F\" in gender, list_of_string))"
   ]
  },
  {
   "cell_type": "code",
   "execution_count": 26,
   "id": "e028dbc1",
   "metadata": {},
   "outputs": [
    {
     "data": {
      "text/plain": [
       "['F', 'F', 'FM', 'KMJHYF', 'F']"
      ]
     },
     "execution_count": 26,
     "metadata": {},
     "output_type": "execute_result"
    }
   ],
   "source": [
    "filtered_list"
   ]
  },
  {
   "cell_type": "code",
   "execution_count": 29,
   "id": "e2c1b9e5",
   "metadata": {},
   "outputs": [
    {
     "data": {
      "text/plain": [
       "11"
      ]
     },
     "execution_count": 29,
     "metadata": {},
     "output_type": "execute_result"
    }
   ],
   "source": [
    "(lambda x,y: x+y)(5,6)"
   ]
  },
  {
   "cell_type": "markdown",
   "id": "1157913e",
   "metadata": {},
   "source": [
    "# list comprehension"
   ]
  },
  {
   "cell_type": "code",
   "execution_count": null,
   "id": "9d73ea5c",
   "metadata": {},
   "outputs": [],
   "source": [
    "Q) to print the list of the first 10 natural numbers?"
   ]
  },
  {
   "cell_type": "code",
   "execution_count": 30,
   "id": "9b7c04d5",
   "metadata": {},
   "outputs": [],
   "source": [
    "l = []\n",
    "for i in range(1,11):\n",
    "    l.append(i)"
   ]
  },
  {
   "cell_type": "code",
   "execution_count": 31,
   "id": "48f30a16",
   "metadata": {},
   "outputs": [
    {
     "data": {
      "text/plain": [
       "[1, 2, 3, 4, 5, 6, 7, 8, 9, 10]"
      ]
     },
     "execution_count": 31,
     "metadata": {},
     "output_type": "execute_result"
    }
   ],
   "source": [
    "l"
   ]
  },
  {
   "cell_type": "code",
   "execution_count": 32,
   "id": "f43bcfb1",
   "metadata": {},
   "outputs": [],
   "source": [
    "list_of_natural_numbers = [i for i in range(1,11)]"
   ]
  },
  {
   "cell_type": "code",
   "execution_count": 33,
   "id": "c2efb660",
   "metadata": {},
   "outputs": [
    {
     "data": {
      "text/plain": [
       "[1, 2, 3, 4, 5, 6, 7, 8, 9, 10]"
      ]
     },
     "execution_count": 33,
     "metadata": {},
     "output_type": "execute_result"
    }
   ],
   "source": [
    "list_of_natural_numbers"
   ]
  },
  {
   "cell_type": "code",
   "execution_count": 36,
   "id": "fdeef5a9",
   "metadata": {},
   "outputs": [],
   "source": [
    "l = [i for i in range(1,11,2)]"
   ]
  },
  {
   "cell_type": "code",
   "execution_count": 37,
   "id": "bfdf1838",
   "metadata": {},
   "outputs": [
    {
     "data": {
      "text/plain": [
       "[1, 3, 5, 7, 9]"
      ]
     },
     "execution_count": 37,
     "metadata": {},
     "output_type": "execute_result"
    }
   ],
   "source": [
    "l"
   ]
  },
  {
   "cell_type": "code",
   "execution_count": null,
   "id": "774216b6",
   "metadata": {},
   "outputs": [],
   "source": [
    "# newlist = [expression for item in iterable]"
   ]
  },
  {
   "cell_type": "code",
   "execution_count": null,
   "id": "e3677fab",
   "metadata": {},
   "outputs": [],
   "source": [
    "Q) write a program to print a list of even numbers from 1 to 10 in reverse order"
   ]
  },
  {
   "cell_type": "code",
   "execution_count": 42,
   "id": "2961bdf4",
   "metadata": {},
   "outputs": [],
   "source": [
    "rev = [i for i in range(10,-1,-2)]"
   ]
  },
  {
   "cell_type": "code",
   "execution_count": 43,
   "id": "cf135939",
   "metadata": {},
   "outputs": [
    {
     "data": {
      "text/plain": [
       "[10, 8, 6, 4, 2, 0]"
      ]
     },
     "execution_count": 43,
     "metadata": {},
     "output_type": "execute_result"
    }
   ],
   "source": [
    "rev"
   ]
  },
  {
   "cell_type": "code",
   "execution_count": null,
   "id": "59ff2130",
   "metadata": {},
   "outputs": [],
   "source": [
    "# newlist = [expression for item in iterable if condition == True]"
   ]
  },
  {
   "cell_type": "code",
   "execution_count": 44,
   "id": "d33b72ef",
   "metadata": {},
   "outputs": [],
   "source": [
    "reverse = [i for i in range(10,-1,-1) if i%2!=0]"
   ]
  },
  {
   "cell_type": "code",
   "execution_count": 45,
   "id": "05ec57ea",
   "metadata": {},
   "outputs": [
    {
     "data": {
      "text/plain": [
       "[9, 7, 5, 3, 1]"
      ]
     },
     "execution_count": 45,
     "metadata": {},
     "output_type": "execute_result"
    }
   ],
   "source": [
    "reverse"
   ]
  },
  {
   "cell_type": "code",
   "execution_count": 46,
   "id": "b279bd22",
   "metadata": {},
   "outputs": [],
   "source": [
    "l = []\n",
    "for i in range(10,-1,-1):\n",
    "    if i%2!=0:\n",
    "        l.append(i)"
   ]
  },
  {
   "cell_type": "code",
   "execution_count": 47,
   "id": "4e95047a",
   "metadata": {},
   "outputs": [
    {
     "data": {
      "text/plain": [
       "[9, 7, 5, 3, 1]"
      ]
     },
     "execution_count": 47,
     "metadata": {},
     "output_type": "execute_result"
    }
   ],
   "source": [
    "l"
   ]
  },
  {
   "cell_type": "code",
   "execution_count": 54,
   "id": "ebcce410",
   "metadata": {},
   "outputs": [],
   "source": [
    "reverse = {i for i in range(10,-1,-2) if i%2==0}"
   ]
  },
  {
   "cell_type": "code",
   "execution_count": 55,
   "id": "55b7642c",
   "metadata": {},
   "outputs": [
    {
     "data": {
      "text/plain": [
       "{0, 2, 4, 6, 8, 10}"
      ]
     },
     "execution_count": 55,
     "metadata": {},
     "output_type": "execute_result"
    }
   ],
   "source": [
    "reverse"
   ]
  },
  {
   "cell_type": "code",
   "execution_count": null,
   "id": "61b16ec4",
   "metadata": {},
   "outputs": [],
   "source": [
    "Q) write a program to print a list of even numbers from 1 to 10 and for odd numbers\n",
    "convert them to string."
   ]
  },
  {
   "cell_type": "code",
   "execution_count": null,
   "id": "0b940ece",
   "metadata": {},
   "outputs": [],
   "source": [
    "[\"1\",2,\"3\",4,\"5\",6,\"7\"]"
   ]
  },
  {
   "cell_type": "code",
   "execution_count": 58,
   "id": "396aee52",
   "metadata": {},
   "outputs": [],
   "source": [
    "l = []\n",
    "for i in range(11):\n",
    "    if i%2==0:\n",
    "        l.append(i)\n",
    "    else:\n",
    "        l.append(str(i))"
   ]
  },
  {
   "cell_type": "code",
   "execution_count": 59,
   "id": "466b6dba",
   "metadata": {},
   "outputs": [
    {
     "data": {
      "text/plain": [
       "[0, '1', 2, '3', 4, '5', 6, '7', 8, '9', 10]"
      ]
     },
     "execution_count": 59,
     "metadata": {},
     "output_type": "execute_result"
    }
   ],
   "source": [
    "l"
   ]
  },
  {
   "cell_type": "code",
   "execution_count": 60,
   "id": "9521bbf6",
   "metadata": {},
   "outputs": [
    {
     "data": {
      "text/plain": [
       "[0, '1', 2, '3', 4, '5', 6, '7', 8, '9', 10]"
      ]
     },
     "execution_count": 60,
     "metadata": {},
     "output_type": "execute_result"
    }
   ],
   "source": [
    "[i if i%2==0 else str(i) for i in range(11)]        "
   ]
  },
  {
   "cell_type": "code",
   "execution_count": null,
   "id": "386c1478",
   "metadata": {},
   "outputs": [],
   "source": [
    "#if you have only if statement\n",
    "\n",
    "[i for i in iterable if condition]\n",
    "\n",
    "#if you are having if and else statement\n",
    "\n",
    "[statement if condition else statement for item in iterable]"
   ]
  },
  {
   "cell_type": "code",
   "execution_count": 61,
   "id": "d83b58b4",
   "metadata": {},
   "outputs": [],
   "source": [
    "l = []\n",
    "for i in range(10):\n",
    "    for j in range(i):\n",
    "        l.append(j)"
   ]
  },
  {
   "cell_type": "code",
   "execution_count": 62,
   "id": "5a11adc8",
   "metadata": {},
   "outputs": [
    {
     "name": "stdout",
     "output_type": "stream",
     "text": [
      "[0, 0, 1, 0, 1, 2, 0, 1, 2, 3, 0, 1, 2, 3, 4, 0, 1, 2, 3, 4, 5, 0, 1, 2, 3, 4, 5, 6, 0, 1, 2, 3, 4, 5, 6, 7, 0, 1, 2, 3, 4, 5, 6, 7, 8]\n"
     ]
    }
   ],
   "source": [
    "print(l)"
   ]
  },
  {
   "cell_type": "code",
   "execution_count": 64,
   "id": "7df67719",
   "metadata": {},
   "outputs": [],
   "source": [
    "list_number = [j for i in range(10) for j in range(i)]"
   ]
  },
  {
   "cell_type": "code",
   "execution_count": 67,
   "id": "f2f01f94",
   "metadata": {},
   "outputs": [
    {
     "name": "stdout",
     "output_type": "stream",
     "text": [
      "[0, 0, 1, 0, 1, 2, 0, 1, 2, 3, 0, 1, 2, 3, 4, 0, 1, 2, 3, 4, 5, 0, 1, 2, 3, 4, 5, 6, 0, 1, 2, 3, 4, 5, 6, 7, 0, 1, 2, 3, 4, 5, 6, 7, 8]\n"
     ]
    }
   ],
   "source": [
    "print(list_number)"
   ]
  },
  {
   "cell_type": "code",
   "execution_count": 68,
   "id": "91a779ba",
   "metadata": {},
   "outputs": [],
   "source": [
    "list_of_fruits = [\"apple\",\"mango\",\"banana\",\"strawberry\",\"dragon fruit\",\"blackberry\",\"avacado\",\"blueberie\"]"
   ]
  },
  {
   "cell_type": "code",
   "execution_count": 69,
   "id": "22dfa803",
   "metadata": {},
   "outputs": [],
   "source": [
    "newlist = [i for i in list_of_fruits if i[0] == \"a\"]"
   ]
  },
  {
   "cell_type": "code",
   "execution_count": 70,
   "id": "e992ef58",
   "metadata": {},
   "outputs": [
    {
     "data": {
      "text/plain": [
       "['apple', 'avacado']"
      ]
     },
     "execution_count": 70,
     "metadata": {},
     "output_type": "execute_result"
    }
   ],
   "source": [
    "newlist"
   ]
  },
  {
   "cell_type": "markdown",
   "id": "b5417a09",
   "metadata": {},
   "source": [
    "we want to print the list containing the fruits whose names starts with a and the first letter of those fuits whose name doesn't sytart with a"
   ]
  },
  {
   "cell_type": "code",
   "execution_count": null,
   "id": "1100be46",
   "metadata": {},
   "outputs": [],
   "source": [
    "desired output --> [\"apple\",\"m\",\"b\",\"s\",\"d\",\"b\",\"avacado\",\"b\"]"
   ]
  },
  {
   "cell_type": "code",
   "execution_count": 71,
   "id": "43d3673d",
   "metadata": {},
   "outputs": [
    {
     "data": {
      "text/plain": [
       "['apple', 'm', 'b', 's', 'd', 'b', 'avacado', 'b']"
      ]
     },
     "execution_count": 71,
     "metadata": {},
     "output_type": "execute_result"
    }
   ],
   "source": [
    "[i if i[0]==\"a\" else i[0] for i in list_of_fruits]"
   ]
  },
  {
   "cell_type": "code",
   "execution_count": 74,
   "id": "a7763795",
   "metadata": {},
   "outputs": [
    {
     "data": {
      "text/plain": [
       "['apple', 'm', 'b', 's', 'd', 'b', 'avacado', 'b']"
      ]
     },
     "execution_count": 74,
     "metadata": {},
     "output_type": "execute_result"
    }
   ],
   "source": [
    "[i if i[0] == \"a\" else i[0] for i in list_of_fruits]\n"
   ]
  },
  {
   "cell_type": "code",
   "execution_count": null,
   "id": "fbb1813e",
   "metadata": {},
   "outputs": [],
   "source": [
    "syntax if condition else syntax"
   ]
  },
  {
   "cell_type": "code",
   "execution_count": null,
   "id": "ce9c16cd",
   "metadata": {},
   "outputs": [],
   "source": [
    "if condition:\n",
    "    syntax\n",
    "else:\n",
    "    syntax"
   ]
  },
  {
   "cell_type": "code",
   "execution_count": 91,
   "id": "401dca01",
   "metadata": {},
   "outputs": [],
   "source": [
    "list1 = [1,2,3,4,6]\n",
    "list2 = [-1,-2,-4,-7,8]"
   ]
  },
  {
   "cell_type": "code",
   "execution_count": 79,
   "id": "5bbbcebd",
   "metadata": {},
   "outputs": [
    {
     "data": {
      "text/plain": [
       "[0, 0, -1, -3, 14]"
      ]
     },
     "execution_count": 79,
     "metadata": {},
     "output_type": "execute_result"
    }
   ],
   "source": [
    "list(map(lambda x,y:x+y , list1, list2))"
   ]
  },
  {
   "cell_type": "code",
   "execution_count": null,
   "id": "7a9ce838",
   "metadata": {},
   "outputs": [],
   "source": [
    "[-1, -3, 14]"
   ]
  },
  {
   "cell_type": "code",
   "execution_count": null,
   "id": "cd9931f4",
   "metadata": {},
   "outputs": [],
   "source": [
    "4 mins 21:21 PM"
   ]
  },
  {
   "cell_type": "code",
   "execution_count": 82,
   "id": "47e1a2cd",
   "metadata": {},
   "outputs": [
    {
     "data": {
      "text/plain": [
       "[0, 0, -1, -3, 14]"
      ]
     },
     "execution_count": 82,
     "metadata": {},
     "output_type": "execute_result"
    }
   ],
   "source": [
    "list(map(lambda x,y:x+y,list1,list2))"
   ]
  },
  {
   "cell_type": "code",
   "execution_count": 85,
   "id": "fad4aadf",
   "metadata": {},
   "outputs": [],
   "source": [
    "list1 = [1,2,3,4,6]\n",
    "list2 = [-1,-2,-4,-7,-8]\n",
    "z = list(map(lambda x,y:x+y,list1,list2))"
   ]
  },
  {
   "cell_type": "code",
   "execution_count": 92,
   "id": "32c62397",
   "metadata": {},
   "outputs": [],
   "source": [
    "z = list(filter(lambda x:x!=0, list(map(lambda x,y:x+y,list1,list2))))"
   ]
  },
  {
   "cell_type": "code",
   "execution_count": 93,
   "id": "5d16906d",
   "metadata": {},
   "outputs": [
    {
     "name": "stdout",
     "output_type": "stream",
     "text": [
      "[-1, -3, 14]\n"
     ]
    }
   ],
   "source": [
    "print(z)"
   ]
  },
  {
   "cell_type": "code",
   "execution_count": 94,
   "id": "75710bb7",
   "metadata": {},
   "outputs": [
    {
     "name": "stdout",
     "output_type": "stream",
     "text": [
      "[-2, -3, -1, 0, 0]\n"
     ]
    }
   ],
   "source": [
    "l1=[1,2,3,4,6]\n",
    "l2=[-1,-2,-4,-7,-8]\n",
    "s=list(map(lambda x,y:x+y ,l1,l2))\n",
    "o=s[::-1]\n",
    "print(o)"
   ]
  },
  {
   "cell_type": "code",
   "execution_count": null,
   "id": "52c51fe5",
   "metadata": {},
   "outputs": [],
   "source": []
  }
 ],
 "metadata": {
  "kernelspec": {
   "display_name": "Python 3 (ipykernel)",
   "language": "python",
   "name": "python3"
  },
  "language_info": {
   "codemirror_mode": {
    "name": "ipython",
    "version": 3
   },
   "file_extension": ".py",
   "mimetype": "text/x-python",
   "name": "python",
   "nbconvert_exporter": "python",
   "pygments_lexer": "ipython3",
   "version": "3.9.7"
  }
 },
 "nbformat": 4,
 "nbformat_minor": 5
}
