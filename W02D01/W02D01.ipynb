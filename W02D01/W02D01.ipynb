{
 "cells": [
  {
   "cell_type": "code",
   "execution_count": null,
   "id": "8a5022a4",
   "metadata": {},
   "outputs": [],
   "source": [
    "what are immutable data types?\n",
    "    (unchangeable)\n",
    "    int\n",
    "    float\n",
    "    string\n",
    "    complex\n",
    "    tuple\n",
    "    bool\n",
    "    None\n",
    "\n",
    "what are mutable data types?\n",
    "    (editable)\n",
    "    list\n",
    "    dict\n",
    "    set\n",
    "    \n",
    "2 most imp thing about keys in dict and key set\n",
    "    immutable\n",
    "    unique"
   ]
  },
  {
   "cell_type": "markdown",
   "id": "7f69748e",
   "metadata": {},
   "source": [
    "# Assignment Operator"
   ]
  },
  {
   "cell_type": "code",
   "execution_count": null,
   "id": "ef7a08e4",
   "metadata": {},
   "outputs": [],
   "source": [
    "left = Right\n",
    "\n",
    "Variable = Value"
   ]
  },
  {
   "cell_type": "code",
   "execution_count": 1,
   "id": "01926271",
   "metadata": {},
   "outputs": [],
   "source": [
    "a = 2"
   ]
  },
  {
   "cell_type": "code",
   "execution_count": 2,
   "id": "22013f9d",
   "metadata": {},
   "outputs": [
    {
     "name": "stdout",
     "output_type": "stream",
     "text": [
      "2\n"
     ]
    }
   ],
   "source": [
    "print(a)"
   ]
  },
  {
   "cell_type": "code",
   "execution_count": 3,
   "id": "5b459aa2",
   "metadata": {},
   "outputs": [],
   "source": [
    "a = a + 1"
   ]
  },
  {
   "cell_type": "code",
   "execution_count": 4,
   "id": "55391fcf",
   "metadata": {},
   "outputs": [
    {
     "name": "stdout",
     "output_type": "stream",
     "text": [
      "3\n"
     ]
    }
   ],
   "source": [
    "print(a)"
   ]
  },
  {
   "cell_type": "code",
   "execution_count": 5,
   "id": "38122bbe",
   "metadata": {},
   "outputs": [],
   "source": [
    "a+=1"
   ]
  },
  {
   "cell_type": "code",
   "execution_count": 6,
   "id": "f5836127",
   "metadata": {},
   "outputs": [
    {
     "name": "stdout",
     "output_type": "stream",
     "text": [
      "4\n"
     ]
    }
   ],
   "source": [
    "print(a)"
   ]
  },
  {
   "cell_type": "code",
   "execution_count": null,
   "id": "547a25d7",
   "metadata": {},
   "outputs": [],
   "source": [
    "+= --> Adds and Assign. Add the right side operand with left side operand and then it assigns\n",
    "to the left operand"
   ]
  },
  {
   "cell_type": "code",
   "execution_count": null,
   "id": "ff44dcd7",
   "metadata": {},
   "outputs": [],
   "source": [
    "a += 1\n",
    "\n",
    "a + 1 --> value\n",
    "a = value"
   ]
  },
  {
   "cell_type": "code",
   "execution_count": null,
   "id": "cd42ef7c",
   "metadata": {},
   "outputs": [],
   "source": [
    "-= -->(sub and assign)\n",
    "*= --> (multiply an assign)\n",
    "/=\n",
    "%=\n",
    "//=\n",
    "**="
   ]
  },
  {
   "cell_type": "code",
   "execution_count": 7,
   "id": "9495a17b",
   "metadata": {},
   "outputs": [],
   "source": [
    "a = 5"
   ]
  },
  {
   "cell_type": "code",
   "execution_count": 8,
   "id": "7a4088ba",
   "metadata": {},
   "outputs": [],
   "source": [
    "a -= 5"
   ]
  },
  {
   "cell_type": "code",
   "execution_count": 9,
   "id": "e08fb829",
   "metadata": {},
   "outputs": [
    {
     "name": "stdout",
     "output_type": "stream",
     "text": [
      "0\n"
     ]
    }
   ],
   "source": [
    "print(a)"
   ]
  },
  {
   "cell_type": "code",
   "execution_count": 10,
   "id": "119fccfb",
   "metadata": {},
   "outputs": [],
   "source": [
    "b = 4\n",
    "b *= 2"
   ]
  },
  {
   "cell_type": "code",
   "execution_count": 11,
   "id": "a5ebf86f",
   "metadata": {},
   "outputs": [
    {
     "name": "stdout",
     "output_type": "stream",
     "text": [
      "8\n"
     ]
    }
   ],
   "source": [
    "print(b)"
   ]
  },
  {
   "cell_type": "code",
   "execution_count": 12,
   "id": "799945dd",
   "metadata": {},
   "outputs": [],
   "source": [
    "c = 10"
   ]
  },
  {
   "cell_type": "code",
   "execution_count": 13,
   "id": "965e5a8c",
   "metadata": {},
   "outputs": [],
   "source": [
    "c /= 2"
   ]
  },
  {
   "cell_type": "code",
   "execution_count": 14,
   "id": "4e9d910c",
   "metadata": {},
   "outputs": [
    {
     "name": "stdout",
     "output_type": "stream",
     "text": [
      "5.0\n"
     ]
    }
   ],
   "source": [
    "print(c)"
   ]
  },
  {
   "cell_type": "code",
   "execution_count": 15,
   "id": "62341fe4",
   "metadata": {},
   "outputs": [],
   "source": [
    "a = 15"
   ]
  },
  {
   "cell_type": "code",
   "execution_count": 16,
   "id": "45b807f1",
   "metadata": {},
   "outputs": [],
   "source": [
    "a %= 2"
   ]
  },
  {
   "cell_type": "code",
   "execution_count": 17,
   "id": "6c93e94e",
   "metadata": {},
   "outputs": [
    {
     "name": "stdout",
     "output_type": "stream",
     "text": [
      "1\n"
     ]
    }
   ],
   "source": [
    "print(a)"
   ]
  },
  {
   "cell_type": "code",
   "execution_count": 18,
   "id": "97ee06b0",
   "metadata": {},
   "outputs": [
    {
     "name": "stdout",
     "output_type": "stream",
     "text": [
      "32768\n"
     ]
    }
   ],
   "source": [
    "a=8\n",
    "a **=5\n",
    "print (a)\n",
    "ans= 32768"
   ]
  },
  {
   "cell_type": "markdown",
   "id": "99b1f1e5",
   "metadata": {},
   "source": [
    "# Comparision Operator"
   ]
  },
  {
   "cell_type": "code",
   "execution_count": null,
   "id": "1fa00645",
   "metadata": {},
   "outputs": [],
   "source": [
    "== --> Equals"
   ]
  },
  {
   "cell_type": "code",
   "execution_count": 19,
   "id": "383574e9",
   "metadata": {},
   "outputs": [],
   "source": [
    "a = 2"
   ]
  },
  {
   "cell_type": "code",
   "execution_count": 20,
   "id": "1b687a2d",
   "metadata": {},
   "outputs": [],
   "source": [
    "b = 3"
   ]
  },
  {
   "cell_type": "code",
   "execution_count": 21,
   "id": "8a6f183f",
   "metadata": {},
   "outputs": [
    {
     "data": {
      "text/plain": [
       "False"
      ]
     },
     "execution_count": 21,
     "metadata": {},
     "output_type": "execute_result"
    }
   ],
   "source": [
    "a == b"
   ]
  },
  {
   "cell_type": "code",
   "execution_count": null,
   "id": "f353fa65",
   "metadata": {},
   "outputs": [],
   "source": [
    "!= --> Not Equal"
   ]
  },
  {
   "cell_type": "code",
   "execution_count": 22,
   "id": "25170aab",
   "metadata": {},
   "outputs": [
    {
     "data": {
      "text/plain": [
       "True"
      ]
     },
     "execution_count": 22,
     "metadata": {},
     "output_type": "execute_result"
    }
   ],
   "source": [
    "a != b"
   ]
  },
  {
   "cell_type": "code",
   "execution_count": 23,
   "id": "3fa1ef93",
   "metadata": {},
   "outputs": [
    {
     "name": "stdout",
     "output_type": "stream",
     "text": [
      "False\n"
     ]
    }
   ],
   "source": [
    "a = 5\n",
    "b = 7\n",
    "c = a == b\n",
    "print(c)"
   ]
  },
  {
   "cell_type": "code",
   "execution_count": 24,
   "id": "1b52058e",
   "metadata": {},
   "outputs": [
    {
     "name": "stdout",
     "output_type": "stream",
     "text": [
      "False\n"
     ]
    }
   ],
   "source": [
    "print(a == b)"
   ]
  },
  {
   "cell_type": "code",
   "execution_count": null,
   "id": "73ef2126",
   "metadata": {},
   "outputs": [],
   "source": [
    "> --> #Greater than"
   ]
  },
  {
   "cell_type": "code",
   "execution_count": 28,
   "id": "2f1be8f3",
   "metadata": {},
   "outputs": [
    {
     "data": {
      "text/plain": [
       "False"
      ]
     },
     "execution_count": 28,
     "metadata": {},
     "output_type": "execute_result"
    }
   ],
   "source": [
    "a > b"
   ]
  },
  {
   "cell_type": "code",
   "execution_count": null,
   "id": "9d90c7cd",
   "metadata": {},
   "outputs": [],
   "source": [
    "< --> Less than"
   ]
  },
  {
   "cell_type": "code",
   "execution_count": 29,
   "id": "7db90a4a",
   "metadata": {},
   "outputs": [
    {
     "data": {
      "text/plain": [
       "True"
      ]
     },
     "execution_count": 29,
     "metadata": {},
     "output_type": "execute_result"
    }
   ],
   "source": [
    "a < b"
   ]
  },
  {
   "cell_type": "code",
   "execution_count": null,
   "id": "5852008c",
   "metadata": {},
   "outputs": [],
   "source": [
    ">= --> Greater than equals to"
   ]
  },
  {
   "cell_type": "code",
   "execution_count": 30,
   "id": "8e143f86",
   "metadata": {},
   "outputs": [
    {
     "data": {
      "text/plain": [
       "False"
      ]
     },
     "execution_count": 30,
     "metadata": {},
     "output_type": "execute_result"
    }
   ],
   "source": [
    "a >= b"
   ]
  },
  {
   "cell_type": "code",
   "execution_count": null,
   "id": "c471089e",
   "metadata": {},
   "outputs": [],
   "source": [
    "<= --> Less than equals to"
   ]
  },
  {
   "cell_type": "code",
   "execution_count": 31,
   "id": "350813f4",
   "metadata": {},
   "outputs": [
    {
     "data": {
      "text/plain": [
       "True"
      ]
     },
     "execution_count": 31,
     "metadata": {},
     "output_type": "execute_result"
    }
   ],
   "source": [
    "a <= b"
   ]
  },
  {
   "cell_type": "markdown",
   "id": "fd131128",
   "metadata": {},
   "source": [
    "# Conditional statements"
   ]
  },
  {
   "cell_type": "code",
   "execution_count": null,
   "id": "31e1e746",
   "metadata": {},
   "outputs": [],
   "source": [
    "Decision (Bloolean in nature)\n",
    "    |\n",
    "________\n",
    "|       |\n",
    "True   False\n"
   ]
  },
  {
   "cell_type": "code",
   "execution_count": 32,
   "id": "9df6e5eb",
   "metadata": {},
   "outputs": [
    {
     "name": "stdout",
     "output_type": "stream",
     "text": [
      "Go to school\n"
     ]
    }
   ],
   "source": [
    "school = \"Go\"\n",
    "if school == \"Go\":\n",
    "    print(\"Go to school\")\n",
    "else:\n",
    "    print(\"I have Stomach ache\")"
   ]
  },
  {
   "cell_type": "code",
   "execution_count": null,
   "id": "b8cdaf0e",
   "metadata": {},
   "outputs": [],
   "source": [
    "if expression: <-- colon\n",
    "    Statement\n",
    "else:\n",
    "    Statement"
   ]
  },
  {
   "cell_type": "code",
   "execution_count": 33,
   "id": "77126257",
   "metadata": {},
   "outputs": [],
   "source": [
    "a = 5\n",
    "# Even or odd"
   ]
  },
  {
   "cell_type": "code",
   "execution_count": 35,
   "id": "051e5755",
   "metadata": {},
   "outputs": [
    {
     "name": "stdout",
     "output_type": "stream",
     "text": [
      "Odd Number Spotted!!\n"
     ]
    }
   ],
   "source": [
    "if a%2 == 0:\n",
    "    print(\"Even Number Spotted!!\")\n",
    "else:\n",
    "    print(\"Odd Number Spotted!!\")"
   ]
  },
  {
   "cell_type": "code",
   "execution_count": null,
   "id": "3eced9e8",
   "metadata": {},
   "outputs": [],
   "source": [
    "a = \"Lets Study Python\"\n",
    "check if a contains \"Study\"\n",
    "\n",
    "Hint \n",
    "    in --> membership operator"
   ]
  },
  {
   "cell_type": "code",
   "execution_count": null,
   "id": "f96bd541",
   "metadata": {},
   "outputs": [],
   "source": [
    "3 mins 20:31"
   ]
  },
  {
   "cell_type": "code",
   "execution_count": 37,
   "id": "29cbd0c2",
   "metadata": {},
   "outputs": [
    {
     "name": "stdout",
     "output_type": "stream",
     "text": [
      "Available\n"
     ]
    }
   ],
   "source": [
    "a = \"Lets Study Python\"\n",
    "if \"Study\" in a:\n",
    "    print(\"Available\")\n",
    "else:\n",
    "    print(\"Not available\")"
   ]
  },
  {
   "cell_type": "code",
   "execution_count": 44,
   "id": "3c0c4776",
   "metadata": {},
   "outputs": [
    {
     "name": "stdout",
     "output_type": "stream",
     "text": [
      "a has python\n"
     ]
    }
   ],
   "source": [
    "a='this is python'\n",
    "if \"python\" in a:\n",
    "    print('a has python')\n",
    "else:\n",
    "    print('a not has python')"
   ]
  },
  {
   "cell_type": "markdown",
   "id": "722cfe1a",
   "metadata": {},
   "source": [
    "## if elif ladder"
   ]
  },
  {
   "cell_type": "code",
   "execution_count": 45,
   "id": "6ee228d5",
   "metadata": {},
   "outputs": [],
   "source": [
    "dest = \"Goa\""
   ]
  },
  {
   "cell_type": "code",
   "execution_count": 46,
   "id": "2c7d0e11",
   "metadata": {},
   "outputs": [
    {
     "name": "stdout",
     "output_type": "stream",
     "text": [
      "Yay Its Goa!!\n"
     ]
    }
   ],
   "source": [
    "if dest == \"Goa\":\n",
    "    print(\"Yay Its Goa!!\")\n",
    "elif dest == \"Laddakh\":\n",
    "    print(\"Laddakh\")\n",
    "elif dest == \"Manali\":\n",
    "    print(\"Manali\")\n",
    "else:\n",
    "    print(\"Go whatever place mentioned in ticket\")"
   ]
  },
  {
   "cell_type": "code",
   "execution_count": 47,
   "id": "2eeea906",
   "metadata": {},
   "outputs": [],
   "source": [
    "dest = \"Manali\""
   ]
  },
  {
   "cell_type": "code",
   "execution_count": 48,
   "id": "8b73002c",
   "metadata": {},
   "outputs": [
    {
     "name": "stdout",
     "output_type": "stream",
     "text": [
      "Manali\n"
     ]
    }
   ],
   "source": [
    "if dest == \"Goa\":\n",
    "    print(\"Yay Its Goa!!\")\n",
    "    \n",
    "elif dest == \"Laddakh\":\n",
    "    print(\"Laddakh\")\n",
    "    \n",
    "elif dest == \"Manali\":\n",
    "    print(\"Manali\")\n",
    "    \n",
    "else:\n",
    "    print(\"Go whatever place mentioned in ticket\")"
   ]
  },
  {
   "cell_type": "code",
   "execution_count": 49,
   "id": "f88b2fe7",
   "metadata": {},
   "outputs": [],
   "source": [
    "dest = \"Kerela\""
   ]
  },
  {
   "cell_type": "code",
   "execution_count": 50,
   "id": "bed6a787",
   "metadata": {},
   "outputs": [
    {
     "name": "stdout",
     "output_type": "stream",
     "text": [
      "Go whatever place mentioned in ticket\n"
     ]
    }
   ],
   "source": [
    "if dest == \"Goa\":\n",
    "    print(\"Yay Its Goa!!\")\n",
    "    \n",
    "elif dest == \"Laddakh\":\n",
    "    print(\"Laddakh\")\n",
    "    \n",
    "elif dest == \"Manali\":\n",
    "    print(\"Manali\")\n",
    "    \n",
    "else:\n",
    "    print(\"Go whatever place mentioned in ticket\")"
   ]
  },
  {
   "cell_type": "code",
   "execution_count": 51,
   "id": "21c5391f",
   "metadata": {},
   "outputs": [],
   "source": [
    "dest = \"Chennai\""
   ]
  },
  {
   "cell_type": "code",
   "execution_count": 54,
   "id": "2729778c",
   "metadata": {},
   "outputs": [
    {
     "name": "stdout",
     "output_type": "stream",
     "text": [
      "Go whatever place mentioned in ticket\n"
     ]
    }
   ],
   "source": [
    "if dest == \"Goa\":\n",
    "    print(\"Yay Its Goa!!\")\n",
    "    \n",
    "elif dest == \"Laddakh\":\n",
    "    print(\"Laddakh\")\n",
    "    \n",
    "elif dest == \"Manali\":\n",
    "    print(\"Manali\")\n",
    "    \n",
    "else:\n",
    "    print(\"Go whatever place mentioned in ticket\")\n",
    "\n",
    "# click esc\n",
    "# click l\n",
    "# hit enter"
   ]
  },
  {
   "cell_type": "markdown",
   "id": "8803a052",
   "metadata": {},
   "source": [
    "## Nested if else"
   ]
  },
  {
   "cell_type": "code",
   "execution_count": null,
   "id": "cda45e59",
   "metadata": {},
   "outputs": [],
   "source": [
    "if expression:\n",
    "    if expression 2:\n",
    "        Statement\n",
    "    else:\n",
    "        Statement 3\n",
    "else:\n",
    "    Statement 4            "
   ]
  },
  {
   "cell_type": "code",
   "execution_count": 56,
   "id": "4c36a553",
   "metadata": {},
   "outputs": [
    {
     "name": "stdout",
     "output_type": "stream",
     "text": [
      "yes\n"
     ]
    }
   ],
   "source": [
    "a= (2,3,4,5,6,7)\n",
    "if 7 in a:\n",
    "    if 1 not in a:\n",
    "        print('yes')\n",
    "    else:\n",
    "        print('no')\n",
    "else:\n",
    "    print('is not ')\n"
   ]
  },
  {
   "cell_type": "code",
   "execution_count": 59,
   "id": "d34c3f0e",
   "metadata": {},
   "outputs": [
    {
     "name": "stdout",
     "output_type": "stream",
     "text": [
      "We don't want to check\n"
     ]
    }
   ],
   "source": [
    "a= (1,2,3,4,5,6)\n",
    "\n",
    "if 7 in a:\n",
    "    if 1 not in a:\n",
    "        print('yes')\n",
    "    else:\n",
    "        print('no')\n",
    "else:\n",
    "    print(\"We don't want to check\")"
   ]
  },
  {
   "cell_type": "code",
   "execution_count": null,
   "id": "9a101a85",
   "metadata": {},
   "outputs": [],
   "source": []
  },
  {
   "cell_type": "code",
   "execution_count": null,
   "id": "70b0c97e",
   "metadata": {},
   "outputs": [],
   "source": []
  }
 ],
 "metadata": {
  "kernelspec": {
   "display_name": "Python 3 (ipykernel)",
   "language": "python",
   "name": "python3"
  },
  "language_info": {
   "codemirror_mode": {
    "name": "ipython",
    "version": 3
   },
   "file_extension": ".py",
   "mimetype": "text/x-python",
   "name": "python",
   "nbconvert_exporter": "python",
   "pygments_lexer": "ipython3",
   "version": "3.9.7"
  }
 },
 "nbformat": 4,
 "nbformat_minor": 5
}
