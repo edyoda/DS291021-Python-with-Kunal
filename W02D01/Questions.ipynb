{
 "cells": [
  {
   "cell_type": "markdown",
   "id": "5664b8e4",
   "metadata": {},
   "source": [
    "## Q1 Make a list of numbers from 1 to 5 and print their value using for loop\n",
    "\n",
    "## Q2) Print yes if x is divisible by 3 and 5 both\n",
    "\n",
    "#### Intuition: since 4 is divisible by 2 it outputs remainder = 0\n",
    "\n",
    "#### PseudoCode:\n",
    "- 1)Check if remainder obtained by 3 is 0\n",
    "- 2)Check if remainder obtained by 5 is 0\n",
    "- 3)If anyone of the above 2 are false, than print nope."
   ]
  },
  {
   "cell_type": "markdown",
   "id": "a517c1c8",
   "metadata": {},
   "source": [
    "## Q3) Make a list of numbers from 1 to 10 and loop over them and print ('yes') if it is a even number and ('no') if it is odd.`"
   ]
  },
  {
   "cell_type": "markdown",
   "id": "4934dcfc",
   "metadata": {},
   "source": [
    "## Q4) Print multiplication table of 5\n",
    "\n",
    "#### Pseudocode:\n",
    "- loop from 1 to 10\n",
    "- for each item, print * of 5 with it."
   ]
  },
  {
   "cell_type": "markdown",
   "id": "e59bed81",
   "metadata": {},
   "source": [
    "## Q5) Use a loop to display elements from a list that are present at even index positions [10, 20, 30, 40, 50, 60, 70, 80, 90, 100]"
   ]
  },
  {
   "cell_type": "code",
   "execution_count": null,
   "id": "4674cbb9",
   "metadata": {},
   "outputs": [],
   "source": []
  }
 ],
 "metadata": {
  "kernelspec": {
   "display_name": "Python 3 (ipykernel)",
   "language": "python",
   "name": "python3"
  },
  "language_info": {
   "codemirror_mode": {
    "name": "ipython",
    "version": 3
   },
   "file_extension": ".py",
   "mimetype": "text/x-python",
   "name": "python",
   "nbconvert_exporter": "python",
   "pygments_lexer": "ipython3",
   "version": "3.9.7"
  }
 },
 "nbformat": 4,
 "nbformat_minor": 5
}
