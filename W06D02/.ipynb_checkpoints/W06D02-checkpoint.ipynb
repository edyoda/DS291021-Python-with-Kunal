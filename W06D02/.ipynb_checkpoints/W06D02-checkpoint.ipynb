{
 "cells": [
  {
   "cell_type": "code",
   "execution_count": 1,
   "id": "2b85900a",
   "metadata": {},
   "outputs": [],
   "source": [
    "class Student:\n",
    "    def __init__(self):\n",
    "        self.name = \"\"\n",
    "        self.roll = 0\n",
    "        self.age = 0\n",
    "        self.gender = \"\"\n",
    "        self.section = \"A\""
   ]
  },
  {
   "cell_type": "code",
   "execution_count": 2,
   "id": "8fb76da6",
   "metadata": {},
   "outputs": [],
   "source": [
    "student1 = Student()"
   ]
  },
  {
   "cell_type": "code",
   "execution_count": 4,
   "id": "28c8d1df",
   "metadata": {},
   "outputs": [],
   "source": [
    "student1.name = \"Soham Vyas\""
   ]
  },
  {
   "cell_type": "code",
   "execution_count": 5,
   "id": "7d35c281",
   "metadata": {},
   "outputs": [
    {
     "data": {
      "text/plain": [
       "'Soham Vyas'"
      ]
     },
     "execution_count": 5,
     "metadata": {},
     "output_type": "execute_result"
    }
   ],
   "source": [
    "student1.name"
   ]
  },
  {
   "cell_type": "code",
   "execution_count": 6,
   "id": "88813973",
   "metadata": {},
   "outputs": [],
   "source": [
    "student1.roll = 56"
   ]
  },
  {
   "cell_type": "code",
   "execution_count": 8,
   "id": "6daa4f1e",
   "metadata": {},
   "outputs": [],
   "source": [
    "student1.age = 21"
   ]
  },
  {
   "cell_type": "code",
   "execution_count": 9,
   "id": "12508897",
   "metadata": {},
   "outputs": [],
   "source": [
    "student1.gender = \"M\""
   ]
  },
  {
   "cell_type": "code",
   "execution_count": 11,
   "id": "474b9453",
   "metadata": {},
   "outputs": [],
   "source": [
    "student1.section = \"B\""
   ]
  },
  {
   "cell_type": "code",
   "execution_count": 12,
   "id": "cd5d483d",
   "metadata": {},
   "outputs": [
    {
     "data": {
      "text/plain": [
       "{'name': 'Soham Vyas', 'roll': 56, 'age': 21, 'gender': 'M', 'section': 'B'}"
      ]
     },
     "execution_count": 12,
     "metadata": {},
     "output_type": "execute_result"
    }
   ],
   "source": [
    "student1.__dict__"
   ]
  },
  {
   "cell_type": "code",
   "execution_count": 13,
   "id": "cd964498",
   "metadata": {},
   "outputs": [],
   "source": [
    "class Bike:\n",
    "    def __init__(self,color,horsepower,Engine_CC,Milage):\n",
    "        if Milage>60:\n",
    "            self.Optimal = True\n",
    "            print(\"This Bike is Optimal\")\n",
    "        else:\n",
    "            self.Optimal = False\n",
    "            print(\"The Bike is not Optimal\")\n",
    "        self.color = color\n",
    "        self.HorsePower = horsepower\n",
    "        self.CC_of_Engine = Engine_CC\n",
    "        self.milage = Milage"
   ]
  },
  {
   "cell_type": "code",
   "execution_count": 14,
   "id": "676edbcb",
   "metadata": {},
   "outputs": [
    {
     "name": "stdout",
     "output_type": "stream",
     "text": [
      "The Bike is not Optimal\n"
     ]
    }
   ],
   "source": [
    "apache = Bike(\"White\",200,150,5)"
   ]
  },
  {
   "cell_type": "code",
   "execution_count": 15,
   "id": "3926073a",
   "metadata": {},
   "outputs": [],
   "source": [
    "apache.color = \"Black\""
   ]
  },
  {
   "cell_type": "code",
   "execution_count": 16,
   "id": "ce1b9ef0",
   "metadata": {},
   "outputs": [
    {
     "data": {
      "text/plain": [
       "'Black'"
      ]
     },
     "execution_count": 16,
     "metadata": {},
     "output_type": "execute_result"
    }
   ],
   "source": [
    "apache.color"
   ]
  },
  {
   "cell_type": "code",
   "execution_count": 17,
   "id": "e4ef538f",
   "metadata": {},
   "outputs": [
    {
     "data": {
      "text/plain": [
       "{'Optimal': False,\n",
       " 'color': 'Black',\n",
       " 'HorsePower': 200,\n",
       " 'CC_of_Engine': 150,\n",
       " 'milage': 5}"
      ]
     },
     "execution_count": 17,
     "metadata": {},
     "output_type": "execute_result"
    }
   ],
   "source": [
    "apache.__dict__"
   ]
  },
  {
   "cell_type": "code",
   "execution_count": 18,
   "id": "4816e19e",
   "metadata": {},
   "outputs": [
    {
     "name": "stdout",
     "output_type": "stream",
     "text": [
      "This Bike is Optimal\n"
     ]
    }
   ],
   "source": [
    "platina = Bike(\"Blue and silver\",20,125,70)"
   ]
  },
  {
   "cell_type": "code",
   "execution_count": 19,
   "id": "58d3f46e",
   "metadata": {},
   "outputs": [
    {
     "data": {
      "text/plain": [
       "True"
      ]
     },
     "execution_count": 19,
     "metadata": {},
     "output_type": "execute_result"
    }
   ],
   "source": [
    "platina.Optimal"
   ]
  },
  {
   "cell_type": "code",
   "execution_count": 20,
   "id": "0b2d0f83",
   "metadata": {},
   "outputs": [
    {
     "data": {
      "text/plain": [
       "{'Optimal': True,\n",
       " 'color': 'Blue and silver',\n",
       " 'HorsePower': 20,\n",
       " 'CC_of_Engine': 125,\n",
       " 'milage': 70}"
      ]
     },
     "execution_count": 20,
     "metadata": {},
     "output_type": "execute_result"
    }
   ],
   "source": [
    "platina.__dict__"
   ]
  },
  {
   "cell_type": "code",
   "execution_count": 34,
   "id": "5ef44910",
   "metadata": {},
   "outputs": [],
   "source": [
    "class Car:\n",
    "    def __init__(self):\n",
    "        self.maxspeed = 0\n",
    "        self.fuel = 0\n",
    "        self.speed = 0\n",
    "        \n",
    "    def refuel(self):\n",
    "        self.fuel = 30\n",
    "    \n",
    "    def set_speed(self,speed):\n",
    "        self.speed = speed\n",
    "    \n",
    "    def drive(self):\n",
    "        if self.fuel == 0:\n",
    "            print(\"No Fuel!! You cannot drive\")\n",
    "        else:\n",
    "            self.set_speed(10)\n",
    "            print(\"The car is at speed 10\")\n",
    "            \n",
    "    def accelerate(self):\n",
    "        self.set_speed(self.speed+10)"
   ]
  },
  {
   "cell_type": "code",
   "execution_count": 35,
   "id": "c517d9fc",
   "metadata": {},
   "outputs": [],
   "source": [
    "Suzuki_Breeza = Car()"
   ]
  },
  {
   "cell_type": "code",
   "execution_count": 36,
   "id": "9b4172d1",
   "metadata": {},
   "outputs": [
    {
     "data": {
      "text/plain": [
       "{'maxspeed': 0, 'fuel': 0, 'speed': 0}"
      ]
     },
     "execution_count": 36,
     "metadata": {},
     "output_type": "execute_result"
    }
   ],
   "source": [
    "Suzuki_Breeza.__dict__"
   ]
  },
  {
   "cell_type": "code",
   "execution_count": 37,
   "id": "10c14f13",
   "metadata": {},
   "outputs": [
    {
     "data": {
      "text/plain": [
       "0"
      ]
     },
     "execution_count": 37,
     "metadata": {},
     "output_type": "execute_result"
    }
   ],
   "source": [
    "Suzuki_Breeza.speed"
   ]
  },
  {
   "cell_type": "code",
   "execution_count": 38,
   "id": "937d5573",
   "metadata": {},
   "outputs": [
    {
     "name": "stdout",
     "output_type": "stream",
     "text": [
      "No Fuel!! You cannot drive\n"
     ]
    }
   ],
   "source": [
    "Suzuki_Breeza.drive()"
   ]
  },
  {
   "cell_type": "code",
   "execution_count": 32,
   "id": "fcd831e3",
   "metadata": {},
   "outputs": [],
   "source": [
    "Suzuki_Breeza.refuel()"
   ]
  },
  {
   "cell_type": "code",
   "execution_count": 33,
   "id": "886b095a",
   "metadata": {},
   "outputs": [
    {
     "name": "stdout",
     "output_type": "stream",
     "text": [
      "The car is at speed 10\n"
     ]
    }
   ],
   "source": [
    "Suzuki_Breeza.drive()"
   ]
  },
  {
   "cell_type": "code",
   "execution_count": null,
   "id": "99216382",
   "metadata": {},
   "outputs": [],
   "source": []
  },
  {
   "cell_type": "code",
   "execution_count": null,
   "id": "35968ee6",
   "metadata": {},
   "outputs": [],
   "source": []
  },
  {
   "cell_type": "code",
   "execution_count": null,
   "id": "eb157af3",
   "metadata": {},
   "outputs": [],
   "source": []
  },
  {
   "cell_type": "code",
   "execution_count": 25,
   "id": "b4114f26",
   "metadata": {},
   "outputs": [],
   "source": [
    "Suzuki_Breeza.set_speed(50)"
   ]
  },
  {
   "cell_type": "code",
   "execution_count": 26,
   "id": "d825c3c4",
   "metadata": {},
   "outputs": [
    {
     "data": {
      "text/plain": [
       "{'maxspeed': 0, 'fuel': 0, 'speed': 50}"
      ]
     },
     "execution_count": 26,
     "metadata": {},
     "output_type": "execute_result"
    }
   ],
   "source": [
    "Suzuki_Breeza.__dict__"
   ]
  },
  {
   "cell_type": "code",
   "execution_count": 39,
   "id": "ffa77f80",
   "metadata": {},
   "outputs": [],
   "source": [
    "class auto:\n",
    "    def __init__(self):\n",
    "        self.maxspeed=0\n",
    "        self.fuel=0\n",
    "\n",
    "    def refuel(self):\n",
    "        self.fuel=30\n",
    "\n",
    "    def milage(self,c):\n",
    "        self.fuel=c\n",
    "  \n",
    "    def van(self):\n",
    "        self.milage(100)\n",
    "\n",
    "fan= auto()\n"
   ]
  },
  {
   "cell_type": "code",
   "execution_count": 40,
   "id": "96971ae7",
   "metadata": {},
   "outputs": [
    {
     "data": {
      "text/plain": [
       "0"
      ]
     },
     "execution_count": 40,
     "metadata": {},
     "output_type": "execute_result"
    }
   ],
   "source": [
    "fan.fuel"
   ]
  },
  {
   "cell_type": "code",
   "execution_count": 41,
   "id": "9cadeca8",
   "metadata": {},
   "outputs": [],
   "source": [
    "fan.refuel()"
   ]
  },
  {
   "cell_type": "code",
   "execution_count": 42,
   "id": "41698244",
   "metadata": {},
   "outputs": [
    {
     "data": {
      "text/plain": [
       "{'maxspeed': 0, 'fuel': 30}"
      ]
     },
     "execution_count": 42,
     "metadata": {},
     "output_type": "execute_result"
    }
   ],
   "source": [
    "fan.__dict__"
   ]
  },
  {
   "cell_type": "code",
   "execution_count": 43,
   "id": "173e3738",
   "metadata": {},
   "outputs": [],
   "source": [
    "fan.milage(12)"
   ]
  },
  {
   "cell_type": "code",
   "execution_count": 44,
   "id": "91c5bcfe",
   "metadata": {},
   "outputs": [
    {
     "data": {
      "text/plain": [
       "{'maxspeed': 0, 'fuel': 12}"
      ]
     },
     "execution_count": 44,
     "metadata": {},
     "output_type": "execute_result"
    }
   ],
   "source": [
    "fan.__dict__"
   ]
  },
  {
   "cell_type": "code",
   "execution_count": 45,
   "id": "3f2c3a68",
   "metadata": {},
   "outputs": [],
   "source": [
    "fan.van()"
   ]
  },
  {
   "cell_type": "code",
   "execution_count": 46,
   "id": "6b82dff5",
   "metadata": {},
   "outputs": [
    {
     "data": {
      "text/plain": [
       "{'maxspeed': 0, 'fuel': 100}"
      ]
     },
     "execution_count": 46,
     "metadata": {},
     "output_type": "execute_result"
    }
   ],
   "source": [
    "fan.__dict__"
   ]
  },
  {
   "cell_type": "code",
   "execution_count": 47,
   "id": "2f92378d",
   "metadata": {},
   "outputs": [
    {
     "data": {
      "text/plain": [
       "<bound method auto.van of <__main__.auto object at 0x000001D2A60F8100>>"
      ]
     },
     "execution_count": 47,
     "metadata": {},
     "output_type": "execute_result"
    }
   ],
   "source": [
    "fan.van"
   ]
  },
  {
   "cell_type": "code",
   "execution_count": 48,
   "id": "a76509ec",
   "metadata": {},
   "outputs": [
    {
     "data": {
      "text/plain": [
       "{'maxspeed': 0, 'fuel': 100}"
      ]
     },
     "execution_count": 48,
     "metadata": {},
     "output_type": "execute_result"
    }
   ],
   "source": [
    "fan.__dict__"
   ]
  },
  {
   "cell_type": "code",
   "execution_count": null,
   "id": "b61ca7dc",
   "metadata": {},
   "outputs": [],
   "source": [
    "Q) when we accelerate the car fuel should also decrease,\n",
    "Implement this.\n",
    "Also implement break where the speed should decrease to zero"
   ]
  },
  {
   "cell_type": "code",
   "execution_count": null,
   "id": "ee234d31",
   "metadata": {},
   "outputs": [],
   "source": [
    "5 mins\n",
    "21:10"
   ]
  },
  {
   "cell_type": "code",
   "execution_count": 49,
   "id": "e2491386",
   "metadata": {},
   "outputs": [],
   "source": [
    "class Car:\n",
    "    def __init__(self):\n",
    "        self.maxspeed = 0\n",
    "        self.fuel = 0\n",
    "        self.speed = 0\n",
    "        \n",
    "    def refuel(self):\n",
    "        self.fuel = 30\n",
    "    \n",
    "    def set_speed(self,speed):\n",
    "        self.speed = speed\n",
    "    \n",
    "    def drive(self):\n",
    "        if self.fuel == 0:\n",
    "            print(\"No Fuel!! You cannot drive\")\n",
    "        else:\n",
    "            self.set_speed(10)\n",
    "            print(\"The car is at speed 10\")\n",
    "            \n",
    "    def accelerate(self):\n",
    "        self.set_speed(self.speed+10)\n",
    "        self.fuel -= 1\n",
    "    \n",
    "    def brake(self):\n",
    "        self.speed = 0"
   ]
  },
  {
   "cell_type": "code",
   "execution_count": 98,
   "id": "d5150bf7",
   "metadata": {},
   "outputs": [
    {
     "name": "stdout",
     "output_type": "stream",
     "text": [
      "('__module__', '__main__')\n",
      "\n",
      "('__init__', <function Car.__init__ at 0x000001D2A5FECDC0>)\n",
      "\n",
      "('refuel', <function Car.refuel at 0x000001D2A5FECAF0>)\n",
      "\n",
      "('set_speed', <function Car.set_speed at 0x000001D2A5FEC8B0>)\n",
      "\n",
      "('drive', <function Car.drive at 0x000001D2A5FECC10>)\n",
      "\n",
      "('accelerate', <function Car.accelerate at 0x000001D2A5FECCA0>)\n",
      "\n",
      "('brake', <function Car.brake at 0x000001D2A5FECA60>)\n",
      "\n",
      "('__dict__', <attribute '__dict__' of 'Car' objects>)\n",
      "\n",
      "('__weakref__', <attribute '__weakref__' of 'Car' objects>)\n",
      "\n",
      "('__doc__', None)\n",
      "\n"
     ]
    }
   ],
   "source": [
    "for i in Car.__dict__.items():\n",
    "    print(i)\n",
    "    print()"
   ]
  },
  {
   "cell_type": "code",
   "execution_count": 50,
   "id": "51f6aa76",
   "metadata": {},
   "outputs": [],
   "source": [
    "benz = Car()"
   ]
  },
  {
   "cell_type": "code",
   "execution_count": 51,
   "id": "d3f59628",
   "metadata": {},
   "outputs": [
    {
     "name": "stdout",
     "output_type": "stream",
     "text": [
      "No Fuel!! You cannot drive\n"
     ]
    }
   ],
   "source": [
    "benz.drive()"
   ]
  },
  {
   "cell_type": "code",
   "execution_count": 52,
   "id": "ddc0e8ee",
   "metadata": {},
   "outputs": [],
   "source": [
    "benz.refuel()"
   ]
  },
  {
   "cell_type": "code",
   "execution_count": 53,
   "id": "075d9245",
   "metadata": {},
   "outputs": [
    {
     "name": "stdout",
     "output_type": "stream",
     "text": [
      "The car is at speed 10\n"
     ]
    }
   ],
   "source": [
    "benz.drive()"
   ]
  },
  {
   "cell_type": "code",
   "execution_count": 54,
   "id": "7efb18bc",
   "metadata": {},
   "outputs": [],
   "source": [
    "benz.accelerate()"
   ]
  },
  {
   "cell_type": "code",
   "execution_count": 55,
   "id": "49ebdaf0",
   "metadata": {},
   "outputs": [
    {
     "data": {
      "text/plain": [
       "20"
      ]
     },
     "execution_count": 55,
     "metadata": {},
     "output_type": "execute_result"
    }
   ],
   "source": [
    "benz.speed"
   ]
  },
  {
   "cell_type": "code",
   "execution_count": 56,
   "id": "a3dba953",
   "metadata": {},
   "outputs": [
    {
     "data": {
      "text/plain": [
       "29"
      ]
     },
     "execution_count": 56,
     "metadata": {},
     "output_type": "execute_result"
    }
   ],
   "source": [
    "benz.fuel"
   ]
  },
  {
   "cell_type": "code",
   "execution_count": 57,
   "id": "cb5e189c",
   "metadata": {},
   "outputs": [],
   "source": [
    "benz.accelerate()"
   ]
  },
  {
   "cell_type": "code",
   "execution_count": 58,
   "id": "648cf0b7",
   "metadata": {},
   "outputs": [
    {
     "data": {
      "text/plain": [
       "30"
      ]
     },
     "execution_count": 58,
     "metadata": {},
     "output_type": "execute_result"
    }
   ],
   "source": [
    "benz.speed"
   ]
  },
  {
   "cell_type": "code",
   "execution_count": 59,
   "id": "36bd3df4",
   "metadata": {},
   "outputs": [
    {
     "data": {
      "text/plain": [
       "28"
      ]
     },
     "execution_count": 59,
     "metadata": {},
     "output_type": "execute_result"
    }
   ],
   "source": [
    "benz.fuel"
   ]
  },
  {
   "cell_type": "markdown",
   "id": "f386b431",
   "metadata": {},
   "source": [
    "## self Keyword"
   ]
  },
  {
   "cell_type": "markdown",
   "id": "a6742536",
   "metadata": {},
   "source": [
    "self keyword points to the current object\n",
    "                            by which we are accessing any object or method.\n",
    "                            \n",
    "Initially when we created object, self keyword points to that newly created object in the memory"
   ]
  },
  {
   "cell_type": "code",
   "execution_count": 61,
   "id": "7662ec2d",
   "metadata": {},
   "outputs": [],
   "source": [
    "class Student:\n",
    "    def __init__(self):\n",
    "        self.name = \"\"\n",
    "        self.roll = 0\n",
    "        self.age = 0\n",
    "        self.gender = \"\"\n",
    "        self.section = \"A\"\n",
    "        print(id(self))"
   ]
  },
  {
   "cell_type": "code",
   "execution_count": 62,
   "id": "450a5c6d",
   "metadata": {},
   "outputs": [
    {
     "name": "stdout",
     "output_type": "stream",
     "text": [
      "2004241049296\n"
     ]
    }
   ],
   "source": [
    "s = Student()"
   ]
  },
  {
   "cell_type": "code",
   "execution_count": 63,
   "id": "92b8c4c9",
   "metadata": {},
   "outputs": [
    {
     "data": {
      "text/plain": [
       "2004241049296"
      ]
     },
     "execution_count": 63,
     "metadata": {},
     "output_type": "execute_result"
    }
   ],
   "source": [
    "id(s)"
   ]
  },
  {
   "cell_type": "code",
   "execution_count": 99,
   "id": "536477ef",
   "metadata": {},
   "outputs": [],
   "source": [
    "class FamilyMembers:\n",
    "    familyname = \"Stark\"\n",
    "    values = \"good\"\n",
    "    def __init__(self):\n",
    "        self.name = \"\"\n",
    "        self.gender = \"F\"\n",
    "        self.kids = 0\n",
    "        self.position = []\n",
    "    def set_name(self,name):\n",
    "        self.name = name\n",
    "    def get_name(self):\n",
    "        return self.name"
   ]
  },
  {
   "cell_type": "code",
   "execution_count": 100,
   "id": "270dec54",
   "metadata": {},
   "outputs": [],
   "source": [
    "mother = FamilyMembers()"
   ]
  },
  {
   "cell_type": "code",
   "execution_count": 101,
   "id": "1887f0b9",
   "metadata": {},
   "outputs": [],
   "source": [
    "mother.set_name(\"Deepika\")"
   ]
  },
  {
   "cell_type": "code",
   "execution_count": 102,
   "id": "5a2dde77",
   "metadata": {},
   "outputs": [],
   "source": [
    "mother.kids = 3"
   ]
  },
  {
   "cell_type": "code",
   "execution_count": 103,
   "id": "f1df0776",
   "metadata": {},
   "outputs": [],
   "source": [
    "mother.position.append(\"mother\")"
   ]
  },
  {
   "cell_type": "code",
   "execution_count": 104,
   "id": "d7c36a49",
   "metadata": {},
   "outputs": [],
   "source": [
    "mother.position.append(\"wife\")"
   ]
  },
  {
   "cell_type": "code",
   "execution_count": 111,
   "id": "f3324fd2",
   "metadata": {},
   "outputs": [
    {
     "data": {
      "text/plain": [
       "{'name': 'Deepika', 'gender': 'F', 'kids': 3, 'position': ['mother', 'wife']}"
      ]
     },
     "execution_count": 111,
     "metadata": {},
     "output_type": "execute_result"
    }
   ],
   "source": [
    "mother.__dict__"
   ]
  },
  {
   "cell_type": "code",
   "execution_count": 105,
   "id": "d2ef9d95",
   "metadata": {},
   "outputs": [],
   "source": [
    "father = FamilyMembers()"
   ]
  },
  {
   "cell_type": "code",
   "execution_count": 106,
   "id": "dfa0407c",
   "metadata": {},
   "outputs": [],
   "source": [
    "father.set_name(\"Ranveer\")"
   ]
  },
  {
   "cell_type": "code",
   "execution_count": 107,
   "id": "998d6d26",
   "metadata": {},
   "outputs": [],
   "source": [
    "father.gender = \"M\""
   ]
  },
  {
   "cell_type": "code",
   "execution_count": 108,
   "id": "4d45d274",
   "metadata": {},
   "outputs": [],
   "source": [
    "father.kids = 3"
   ]
  },
  {
   "cell_type": "code",
   "execution_count": 109,
   "id": "b0382b08",
   "metadata": {},
   "outputs": [],
   "source": [
    "father.position.extend([\"father\",\"Husband\"])"
   ]
  },
  {
   "cell_type": "code",
   "execution_count": 110,
   "id": "4914b69b",
   "metadata": {},
   "outputs": [
    {
     "data": {
      "text/plain": [
       "{'name': 'Ranveer',\n",
       " 'gender': 'M',\n",
       " 'kids': 3,\n",
       " 'position': ['father', 'Husband']}"
      ]
     },
     "execution_count": 110,
     "metadata": {},
     "output_type": "execute_result"
    }
   ],
   "source": [
    "father.__dict__"
   ]
  },
  {
   "cell_type": "code",
   "execution_count": 87,
   "id": "eaa2d475",
   "metadata": {},
   "outputs": [
    {
     "data": {
      "text/plain": [
       "'Stark'"
      ]
     },
     "execution_count": 87,
     "metadata": {},
     "output_type": "execute_result"
    }
   ],
   "source": [
    "FamilyMembers.familyname"
   ]
  },
  {
   "cell_type": "code",
   "execution_count": 88,
   "id": "599f5c37",
   "metadata": {},
   "outputs": [
    {
     "data": {
      "text/plain": [
       "'good'"
      ]
     },
     "execution_count": 88,
     "metadata": {},
     "output_type": "execute_result"
    }
   ],
   "source": [
    "FamilyMembers.values"
   ]
  },
  {
   "cell_type": "code",
   "execution_count": 89,
   "id": "1e643867",
   "metadata": {},
   "outputs": [
    {
     "data": {
      "text/plain": [
       "'good'"
      ]
     },
     "execution_count": 89,
     "metadata": {},
     "output_type": "execute_result"
    }
   ],
   "source": [
    "father.values"
   ]
  },
  {
   "cell_type": "code",
   "execution_count": 91,
   "id": "94b892e9",
   "metadata": {},
   "outputs": [
    {
     "data": {
      "text/plain": [
       "'good'"
      ]
     },
     "execution_count": 91,
     "metadata": {},
     "output_type": "execute_result"
    }
   ],
   "source": [
    "mother.values"
   ]
  },
  {
   "cell_type": "code",
   "execution_count": 92,
   "id": "e42f66be",
   "metadata": {},
   "outputs": [
    {
     "data": {
      "text/plain": [
       "{'name': 'Katrina', 'gender': 'F', 'kids': 3, 'position': ['mother', 'wife']}"
      ]
     },
     "execution_count": 92,
     "metadata": {},
     "output_type": "execute_result"
    }
   ],
   "source": [
    "mother.__dict__"
   ]
  },
  {
   "cell_type": "code",
   "execution_count": 93,
   "id": "87916f2b",
   "metadata": {},
   "outputs": [
    {
     "data": {
      "text/plain": [
       "{'name': 'Vicky', 'gender': 'M', 'kids': 3, 'position': ['father', 'Husband']}"
      ]
     },
     "execution_count": 93,
     "metadata": {},
     "output_type": "execute_result"
    }
   ],
   "source": [
    "father.__dict__"
   ]
  },
  {
   "cell_type": "code",
   "execution_count": 94,
   "id": "fd98f5dd",
   "metadata": {},
   "outputs": [
    {
     "data": {
      "text/plain": [
       "mappingproxy({'__module__': '__main__',\n",
       "              'familyname': 'Stark',\n",
       "              'values': 'good',\n",
       "              '__init__': <function __main__.FamilyMembers.__init__(self)>,\n",
       "              '__dict__': <attribute '__dict__' of 'FamilyMembers' objects>,\n",
       "              '__weakref__': <attribute '__weakref__' of 'FamilyMembers' objects>,\n",
       "              '__doc__': None})"
      ]
     },
     "execution_count": 94,
     "metadata": {},
     "output_type": "execute_result"
    }
   ],
   "source": [
    "FamilyMembers.__dict__"
   ]
  },
  {
   "cell_type": "code",
   "execution_count": 112,
   "id": "b39dc8ff",
   "metadata": {},
   "outputs": [
    {
     "data": {
      "text/plain": [
       "'Deepika'"
      ]
     },
     "execution_count": 112,
     "metadata": {},
     "output_type": "execute_result"
    }
   ],
   "source": [
    "mother.get_name()"
   ]
  },
  {
   "cell_type": "code",
   "execution_count": 113,
   "id": "9507e8e7",
   "metadata": {},
   "outputs": [
    {
     "data": {
      "text/plain": [
       "'Ranveer'"
      ]
     },
     "execution_count": 113,
     "metadata": {},
     "output_type": "execute_result"
    }
   ],
   "source": [
    "father.get_name()"
   ]
  },
  {
   "cell_type": "code",
   "execution_count": null,
   "id": "4bad097a",
   "metadata": {},
   "outputs": [],
   "source": []
  },
  {
   "cell_type": "code",
   "execution_count": null,
   "id": "c64a8d14",
   "metadata": {},
   "outputs": [],
   "source": [
    "H/W\n",
    "class FamilyMembers:\n",
    "    familyname = \"Stark\"\n",
    "    values = \"good\"\n",
    "    def __init__(self):\n",
    "        self.name = \"\"\n",
    "        self.gender = \"F\"\n",
    "        self.kids = 0\n",
    "        self.position = []\n",
    "    def set_name(self,name):\n",
    "        self.name = name\n",
    "    def get_name(self):\n",
    "        return self.name\n",
    "\n",
    "make setters and getters for gender kids and position object attribute\n"
   ]
  }
 ],
 "metadata": {
  "kernelspec": {
   "display_name": "Python 3 (ipykernel)",
   "language": "python",
   "name": "python3"
  },
  "language_info": {
   "codemirror_mode": {
    "name": "ipython",
    "version": 3
   },
   "file_extension": ".py",
   "mimetype": "text/x-python",
   "name": "python",
   "nbconvert_exporter": "python",
   "pygments_lexer": "ipython3",
   "version": "3.9.7"
  }
 },
 "nbformat": 4,
 "nbformat_minor": 5
}
