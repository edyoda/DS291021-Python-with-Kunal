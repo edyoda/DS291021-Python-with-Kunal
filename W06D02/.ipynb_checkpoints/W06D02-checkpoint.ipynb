{
 "cells": [
  {
   "cell_type": "code",
   "execution_count": 1,
   "id": "49f01fee",
   "metadata": {},
   "outputs": [],
   "source": [
    "class Student:\n",
    "    def __init__(self):\n",
    "        self.name = \"\"\n",
    "        self.roll = 0\n",
    "        self.age = 0\n",
    "        self.gender = \"\"\n",
    "        self.section = \"A\""
   ]
  },
  {
   "cell_type": "code",
   "execution_count": 2,
   "id": "7e41a8a4",
   "metadata": {},
   "outputs": [],
   "source": [
    "student1 = Student()"
   ]
  },
  {
   "cell_type": "code",
   "execution_count": 4,
   "id": "fac3831b",
   "metadata": {},
   "outputs": [],
   "source": [
    "student1.name = \"Soham Vyas\""
   ]
  },
  {
   "cell_type": "code",
   "execution_count": 5,
   "id": "1fdd399a",
   "metadata": {},
   "outputs": [
    {
     "data": {
      "text/plain": [
       "'Soham Vyas'"
      ]
     },
     "execution_count": 5,
     "metadata": {},
     "output_type": "execute_result"
    }
   ],
   "source": [
    "student1.name"
   ]
  },
  {
   "cell_type": "code",
   "execution_count": 6,
   "id": "dd11eb0d",
   "metadata": {},
   "outputs": [],
   "source": [
    "student1.roll = 56"
   ]
  },
  {
   "cell_type": "code",
   "execution_count": 8,
   "id": "257afeb7",
   "metadata": {},
   "outputs": [],
   "source": [
    "student1.age = 21"
   ]
  },
  {
   "cell_type": "code",
   "execution_count": 9,
   "id": "48e6492b",
   "metadata": {},
   "outputs": [],
   "source": [
    "student1.gender = \"M\""
   ]
  },
  {
   "cell_type": "code",
   "execution_count": 11,
   "id": "6f50b7bc",
   "metadata": {},
   "outputs": [],
   "source": [
    "student1.section = \"B\""
   ]
  },
  {
   "cell_type": "code",
   "execution_count": 12,
   "id": "c55ab2eb",
   "metadata": {},
   "outputs": [
    {
     "data": {
      "text/plain": [
       "{'name': 'Soham Vyas', 'roll': 56, 'age': 21, 'gender': 'M', 'section': 'B'}"
      ]
     },
     "execution_count": 12,
     "metadata": {},
     "output_type": "execute_result"
    }
   ],
   "source": [
    "student1.__dict__"
   ]
  },
  {
   "cell_type": "code",
   "execution_count": 13,
   "id": "c2be826d",
   "metadata": {},
   "outputs": [],
   "source": [
    "class Bike:\n",
    "    def __init__(self,color,horsepower,Engine_CC,Milage):\n",
    "        if Milage>60:\n",
    "            self.Optimal = True\n",
    "            print(\"This Bike is Optimal\")\n",
    "        else:\n",
    "            self.Optimal = False\n",
    "            print(\"The Bike is not Optimal\")\n",
    "        self.color = color\n",
    "        self.HorsePower = horsepower\n",
    "        self.CC_of_Engine = Engine_CC\n",
    "        self.milage = Milage"
   ]
  },
  {
   "cell_type": "code",
   "execution_count": 14,
   "id": "a7b47eb3",
   "metadata": {},
   "outputs": [
    {
     "name": "stdout",
     "output_type": "stream",
     "text": [
      "The Bike is not Optimal\n"
     ]
    }
   ],
   "source": [
    "apache = Bike(\"White\",200,150,5)"
   ]
  },
  {
   "cell_type": "code",
   "execution_count": 15,
   "id": "e720f10c",
   "metadata": {},
   "outputs": [],
   "source": [
    "apache.color = \"Black\""
   ]
  },
  {
   "cell_type": "code",
   "execution_count": 16,
   "id": "9b40944e",
   "metadata": {},
   "outputs": [
    {
     "data": {
      "text/plain": [
       "'Black'"
      ]
     },
     "execution_count": 16,
     "metadata": {},
     "output_type": "execute_result"
    }
   ],
   "source": [
    "apache.color"
   ]
  },
  {
   "cell_type": "code",
   "execution_count": 17,
   "id": "f6e56121",
   "metadata": {},
   "outputs": [
    {
     "data": {
      "text/plain": [
       "{'Optimal': False,\n",
       " 'color': 'Black',\n",
       " 'HorsePower': 200,\n",
       " 'CC_of_Engine': 150,\n",
       " 'milage': 5}"
      ]
     },
     "execution_count": 17,
     "metadata": {},
     "output_type": "execute_result"
    }
   ],
   "source": [
    "apache.__dict__"
   ]
  },
  {
   "cell_type": "code",
   "execution_count": 18,
   "id": "ac1ddd3f",
   "metadata": {},
   "outputs": [
    {
     "name": "stdout",
     "output_type": "stream",
     "text": [
      "This Bike is Optimal\n"
     ]
    }
   ],
   "source": [
    "platina = Bike(\"Blue and silver\",20,125,70)"
   ]
  },
  {
   "cell_type": "code",
   "execution_count": 19,
   "id": "29e52cf7",
   "metadata": {},
   "outputs": [
    {
     "data": {
      "text/plain": [
       "True"
      ]
     },
     "execution_count": 19,
     "metadata": {},
     "output_type": "execute_result"
    }
   ],
   "source": [
    "platina.Optimal"
   ]
  },
  {
   "cell_type": "code",
   "execution_count": 20,
   "id": "759ddf2a",
   "metadata": {},
   "outputs": [
    {
     "data": {
      "text/plain": [
       "{'Optimal': True,\n",
       " 'color': 'Blue and silver',\n",
       " 'HorsePower': 20,\n",
       " 'CC_of_Engine': 125,\n",
       " 'milage': 70}"
      ]
     },
     "execution_count": 20,
     "metadata": {},
     "output_type": "execute_result"
    }
   ],
   "source": [
    "platina.__dict__"
   ]
  },
  {
   "cell_type": "code",
   "execution_count": 34,
   "id": "3ef31c37",
   "metadata": {},
   "outputs": [],
   "source": [
    "class Car:\n",
    "    def __init__(self):\n",
    "        self.maxspeed = 0\n",
    "        self.fuel = 0\n",
    "        self.speed = 0\n",
    "        \n",
    "    def refuel(self):\n",
    "        self.fuel = 30\n",
    "    \n",
    "    def set_speed(self,speed):\n",
    "        self.speed = speed\n",
    "    \n",
    "    def drive(self):\n",
    "        if self.fuel == 0:\n",
    "            print(\"No Fuel!! You cannot drive\")\n",
    "        else:\n",
    "            self.set_speed(10)\n",
    "            print(\"The car is at speed 10\")\n",
    "            \n",
    "    def accelerate(self):\n",
    "        self.set_speed(self.speed+10)"
   ]
  },
  {
   "cell_type": "code",
   "execution_count": 35,
   "id": "16130203",
   "metadata": {},
   "outputs": [],
   "source": [
    "Suzuki_Breeza = Car()"
   ]
  },
  {
   "cell_type": "code",
   "execution_count": 36,
   "id": "c9e18385",
   "metadata": {},
   "outputs": [
    {
     "data": {
      "text/plain": [
       "{'maxspeed': 0, 'fuel': 0, 'speed': 0}"
      ]
     },
     "execution_count": 36,
     "metadata": {},
     "output_type": "execute_result"
    }
   ],
   "source": [
    "Suzuki_Breeza.__dict__"
   ]
  },
  {
   "cell_type": "code",
   "execution_count": 37,
   "id": "dc86b737",
   "metadata": {},
   "outputs": [
    {
     "data": {
      "text/plain": [
       "0"
      ]
     },
     "execution_count": 37,
     "metadata": {},
     "output_type": "execute_result"
    }
   ],
   "source": [
    "Suzuki_Breeza.speed"
   ]
  },
  {
   "cell_type": "code",
   "execution_count": 38,
   "id": "c026dff1",
   "metadata": {},
   "outputs": [
    {
     "name": "stdout",
     "output_type": "stream",
     "text": [
      "No Fuel!! You cannot drive\n"
     ]
    }
   ],
   "source": [
    "Suzuki_Breeza.drive()"
   ]
  },
  {
   "cell_type": "code",
   "execution_count": 32,
   "id": "9645b29c",
   "metadata": {},
   "outputs": [],
   "source": [
    "Suzuki_Breeza.refuel()"
   ]
  },
  {
   "cell_type": "code",
   "execution_count": 33,
   "id": "aa1ac695",
   "metadata": {},
   "outputs": [
    {
     "name": "stdout",
     "output_type": "stream",
     "text": [
      "The car is at speed 10\n"
     ]
    }
   ],
   "source": [
    "Suzuki_Breeza.drive()"
   ]
  },
  {
   "cell_type": "code",
   "execution_count": null,
   "id": "ec37aea8",
   "metadata": {},
   "outputs": [],
   "source": []
  },
  {
   "cell_type": "code",
   "execution_count": null,
   "id": "fd47397a",
   "metadata": {},
   "outputs": [],
   "source": []
  },
  {
   "cell_type": "code",
   "execution_count": null,
   "id": "210c9ebf",
   "metadata": {},
   "outputs": [],
   "source": []
  },
  {
   "cell_type": "code",
   "execution_count": 25,
   "id": "1dba95cc",
   "metadata": {},
   "outputs": [],
   "source": [
    "Suzuki_Breeza.set_speed(50)"
   ]
  },
  {
   "cell_type": "code",
   "execution_count": 26,
   "id": "f774b121",
   "metadata": {},
   "outputs": [
    {
     "data": {
      "text/plain": [
       "{'maxspeed': 0, 'fuel': 0, 'speed': 50}"
      ]
     },
     "execution_count": 26,
     "metadata": {},
     "output_type": "execute_result"
    }
   ],
   "source": [
    "Suzuki_Breeza.__dict__"
   ]
  },
  {
   "cell_type": "code",
   "execution_count": 39,
   "id": "680041fc",
   "metadata": {},
   "outputs": [],
   "source": [
    "class auto:\n",
    "    def __init__(self):\n",
    "        self.maxspeed=0\n",
    "        self.fuel=0\n",
    "\n",
    "    def refuel(self):\n",
    "        self.fuel=30\n",
    "\n",
    "    def milage(self,c):\n",
    "        self.fuel=c\n",
    "  \n",
    "    def van(self):\n",
    "        self.milage(100)\n",
    "\n",
    "fan= auto()\n"
   ]
  },
  {
   "cell_type": "code",
   "execution_count": 40,
   "id": "1663fdf7",
   "metadata": {},
   "outputs": [
    {
     "data": {
      "text/plain": [
       "0"
      ]
     },
     "execution_count": 40,
     "metadata": {},
     "output_type": "execute_result"
    }
   ],
   "source": [
    "fan.fuel"
   ]
  },
  {
   "cell_type": "code",
   "execution_count": 41,
   "id": "a1310ce9",
   "metadata": {},
   "outputs": [],
   "source": [
    "fan.refuel()"
   ]
  },
  {
   "cell_type": "code",
   "execution_count": 42,
   "id": "00b0470c",
   "metadata": {},
   "outputs": [
    {
     "data": {
      "text/plain": [
       "{'maxspeed': 0, 'fuel': 30}"
      ]
     },
     "execution_count": 42,
     "metadata": {},
     "output_type": "execute_result"
    }
   ],
   "source": [
    "fan.__dict__"
   ]
  },
  {
   "cell_type": "code",
   "execution_count": 43,
   "id": "dd36147d",
   "metadata": {},
   "outputs": [],
   "source": [
    "fan.milage(12)"
   ]
  },
  {
   "cell_type": "code",
   "execution_count": 44,
   "id": "518e239d",
   "metadata": {},
   "outputs": [
    {
     "data": {
      "text/plain": [
       "{'maxspeed': 0, 'fuel': 12}"
      ]
     },
     "execution_count": 44,
     "metadata": {},
     "output_type": "execute_result"
    }
   ],
   "source": [
    "fan.__dict__"
   ]
  },
  {
   "cell_type": "code",
   "execution_count": 45,
   "id": "f12c5bab",
   "metadata": {},
   "outputs": [],
   "source": [
    "fan.van()"
   ]
  },
  {
   "cell_type": "code",
   "execution_count": 46,
   "id": "6d5b2bf9",
   "metadata": {},
   "outputs": [
    {
     "data": {
      "text/plain": [
       "{'maxspeed': 0, 'fuel': 100}"
      ]
     },
     "execution_count": 46,
     "metadata": {},
     "output_type": "execute_result"
    }
   ],
   "source": [
    "fan.__dict__"
   ]
  },
  {
   "cell_type": "code",
   "execution_count": 47,
   "id": "69d63f70",
   "metadata": {},
   "outputs": [
    {
     "data": {
      "text/plain": [
       "<bound method auto.van of <__main__.auto object at 0x000001D2A60F8100>>"
      ]
     },
     "execution_count": 47,
     "metadata": {},
     "output_type": "execute_result"
    }
   ],
   "source": [
    "fan.van"
   ]
  },
  {
   "cell_type": "code",
   "execution_count": 48,
   "id": "140034da",
   "metadata": {},
   "outputs": [
    {
     "data": {
      "text/plain": [
       "{'maxspeed': 0, 'fuel': 100}"
      ]
     },
     "execution_count": 48,
     "metadata": {},
     "output_type": "execute_result"
    }
   ],
   "source": [
    "fan.__dict__"
   ]
  },
  {
   "cell_type": "code",
   "execution_count": null,
   "id": "09786a79",
   "metadata": {},
   "outputs": [],
   "source": [
    "Q) when we accelerate the car fuel should also decrease,\n",
    "Implement this.\n",
    "Also implement break where the speed should decrease to zero"
   ]
  },
  {
   "cell_type": "code",
   "execution_count": null,
   "id": "fc2a2f09",
   "metadata": {},
   "outputs": [],
   "source": [
    "5 mins\n",
    "21:10"
   ]
  },
  {
   "cell_type": "code",
   "execution_count": 49,
   "id": "8177706e",
   "metadata": {},
   "outputs": [],
   "source": [
    "class Car:\n",
    "    def __init__(self):\n",
    "        self.maxspeed = 0\n",
    "        self.fuel = 0\n",
    "        self.speed = 0\n",
    "        \n",
    "    def refuel(self):\n",
    "        self.fuel = 30\n",
    "    \n",
    "    def set_speed(self,speed):\n",
    "        self.speed = speed\n",
    "    \n",
    "    def drive(self):\n",
    "        if self.fuel == 0:\n",
    "            print(\"No Fuel!! You cannot drive\")\n",
    "        else:\n",
    "            self.set_speed(10)\n",
    "            print(\"The car is at speed 10\")\n",
    "            \n",
    "    def accelerate(self):\n",
    "        self.set_speed(self.speed+10)\n",
    "        self.fuel -= 1\n",
    "    \n",
    "    def brake(self):\n",
    "        self.speed = 0"
   ]
  },
  {
   "cell_type": "code",
   "execution_count": 98,
   "id": "bd5952d1",
   "metadata": {},
   "outputs": [
    {
     "name": "stdout",
     "output_type": "stream",
     "text": [
      "('__module__', '__main__')\n",
      "\n",
      "('__init__', <function Car.__init__ at 0x000001D2A5FECDC0>)\n",
      "\n",
      "('refuel', <function Car.refuel at 0x000001D2A5FECAF0>)\n",
      "\n",
      "('set_speed', <function Car.set_speed at 0x000001D2A5FEC8B0>)\n",
      "\n",
      "('drive', <function Car.drive at 0x000001D2A5FECC10>)\n",
      "\n",
      "('accelerate', <function Car.accelerate at 0x000001D2A5FECCA0>)\n",
      "\n",
      "('brake', <function Car.brake at 0x000001D2A5FECA60>)\n",
      "\n",
      "('__dict__', <attribute '__dict__' of 'Car' objects>)\n",
      "\n",
      "('__weakref__', <attribute '__weakref__' of 'Car' objects>)\n",
      "\n",
      "('__doc__', None)\n",
      "\n"
     ]
    }
   ],
   "source": [
    "for i in Car.__dict__.items():\n",
    "    print(i)\n",
    "    print()"
   ]
  },
  {
   "cell_type": "code",
   "execution_count": 50,
   "id": "8198e7df",
   "metadata": {},
   "outputs": [],
   "source": [
    "benz = Car()"
   ]
  },
  {
   "cell_type": "code",
   "execution_count": 51,
   "id": "dd6f30ca",
   "metadata": {},
   "outputs": [
    {
     "name": "stdout",
     "output_type": "stream",
     "text": [
      "No Fuel!! You cannot drive\n"
     ]
    }
   ],
   "source": [
    "benz.drive()"
   ]
  },
  {
   "cell_type": "code",
   "execution_count": 52,
   "id": "0e550b66",
   "metadata": {},
   "outputs": [],
   "source": [
    "benz.refuel()"
   ]
  },
  {
   "cell_type": "code",
   "execution_count": 53,
   "id": "17901939",
   "metadata": {},
   "outputs": [
    {
     "name": "stdout",
     "output_type": "stream",
     "text": [
      "The car is at speed 10\n"
     ]
    }
   ],
   "source": [
    "benz.drive()"
   ]
  },
  {
   "cell_type": "code",
   "execution_count": 54,
   "id": "426b8356",
   "metadata": {},
   "outputs": [],
   "source": [
    "benz.accelerate()"
   ]
  },
  {
   "cell_type": "code",
   "execution_count": 55,
   "id": "95b3a1bd",
   "metadata": {},
   "outputs": [
    {
     "data": {
      "text/plain": [
       "20"
      ]
     },
     "execution_count": 55,
     "metadata": {},
     "output_type": "execute_result"
    }
   ],
   "source": [
    "benz.speed"
   ]
  },
  {
   "cell_type": "code",
   "execution_count": 56,
   "id": "6c0b4390",
   "metadata": {},
   "outputs": [
    {
     "data": {
      "text/plain": [
       "29"
      ]
     },
     "execution_count": 56,
     "metadata": {},
     "output_type": "execute_result"
    }
   ],
   "source": [
    "benz.fuel"
   ]
  },
  {
   "cell_type": "code",
   "execution_count": 57,
   "id": "51998693",
   "metadata": {},
   "outputs": [],
   "source": [
    "benz.accelerate()"
   ]
  },
  {
   "cell_type": "code",
   "execution_count": 58,
   "id": "25cc1c73",
   "metadata": {},
   "outputs": [
    {
     "data": {
      "text/plain": [
       "30"
      ]
     },
     "execution_count": 58,
     "metadata": {},
     "output_type": "execute_result"
    }
   ],
   "source": [
    "benz.speed"
   ]
  },
  {
   "cell_type": "code",
   "execution_count": 59,
   "id": "70bf0a54",
   "metadata": {},
   "outputs": [
    {
     "data": {
      "text/plain": [
       "28"
      ]
     },
     "execution_count": 59,
     "metadata": {},
     "output_type": "execute_result"
    }
   ],
   "source": [
    "benz.fuel"
   ]
  },
  {
   "cell_type": "markdown",
   "id": "47c22055",
   "metadata": {},
   "source": [
    "## self Keyword"
   ]
  },
  {
   "cell_type": "markdown",
   "id": "9dfaac64",
   "metadata": {},
   "source": [
    "self keyword points to the current object\n",
    "                            by which we are accessing any object or method.\n",
    "                            \n",
    "Initially when we created object, self keyword points to that newly created object in the memory"
   ]
  },
  {
   "cell_type": "code",
   "execution_count": 61,
   "id": "3af8267f",
   "metadata": {},
   "outputs": [],
   "source": [
    "class Student:\n",
    "    def __init__(self):\n",
    "        self.name = \"\"\n",
    "        self.roll = 0\n",
    "        self.age = 0\n",
    "        self.gender = \"\"\n",
    "        self.section = \"A\"\n",
    "        print(id(self))"
   ]
  },
  {
   "cell_type": "code",
   "execution_count": 62,
   "id": "0c8065c9",
   "metadata": {},
   "outputs": [
    {
     "name": "stdout",
     "output_type": "stream",
     "text": [
      "2004241049296\n"
     ]
    }
   ],
   "source": [
    "s = Student()"
   ]
  },
  {
   "cell_type": "code",
   "execution_count": 63,
   "id": "7d199f4d",
   "metadata": {},
   "outputs": [
    {
     "data": {
      "text/plain": [
       "2004241049296"
      ]
     },
     "execution_count": 63,
     "metadata": {},
     "output_type": "execute_result"
    }
   ],
   "source": [
    "id(s)"
   ]
  },
  {
   "cell_type": "code",
   "execution_count": 99,
   "id": "d48d3803",
   "metadata": {},
   "outputs": [],
   "source": [
    "class FamilyMembers:\n",
    "    familyname = \"Stark\"\n",
    "    values = \"good\"\n",
    "    def __init__(self):\n",
    "        self.name = \"\"\n",
    "        self.gender = \"F\"\n",
    "        self.kids = 0\n",
    "        self.position = []\n",
    "    def set_name(self,name):\n",
    "        self.name = name\n",
    "    def get_name(self):\n",
    "        return self.name"
   ]
  },
  {
   "cell_type": "code",
   "execution_count": 100,
   "id": "9f203277",
   "metadata": {},
   "outputs": [],
   "source": [
    "mother = FamilyMembers()"
   ]
  },
  {
   "cell_type": "code",
   "execution_count": 101,
   "id": "f2374e1d",
   "metadata": {},
   "outputs": [],
   "source": [
    "mother.set_name(\"Deepika\")"
   ]
  },
  {
   "cell_type": "code",
   "execution_count": 102,
   "id": "ed4e8bbb",
   "metadata": {},
   "outputs": [],
   "source": [
    "mother.kids = 3"
   ]
  },
  {
   "cell_type": "code",
   "execution_count": 103,
   "id": "4b1a0dfa",
   "metadata": {},
   "outputs": [],
   "source": [
    "mother.position.append(\"mother\")"
   ]
  },
  {
   "cell_type": "code",
   "execution_count": 104,
   "id": "eb9f795d",
   "metadata": {},
   "outputs": [],
   "source": [
    "mother.position.append(\"wife\")"
   ]
  },
  {
   "cell_type": "code",
   "execution_count": 111,
   "id": "4ef6e0fd",
   "metadata": {},
   "outputs": [
    {
     "data": {
      "text/plain": [
       "{'name': 'Deepika', 'gender': 'F', 'kids': 3, 'position': ['mother', 'wife']}"
      ]
     },
     "execution_count": 111,
     "metadata": {},
     "output_type": "execute_result"
    }
   ],
   "source": [
    "mother.__dict__"
   ]
  },
  {
   "cell_type": "code",
   "execution_count": 105,
   "id": "63d4f9eb",
   "metadata": {},
   "outputs": [],
   "source": [
    "father = FamilyMembers()"
   ]
  },
  {
   "cell_type": "code",
   "execution_count": 106,
   "id": "9bcf0622",
   "metadata": {},
   "outputs": [],
   "source": [
    "father.set_name(\"Ranveer\")"
   ]
  },
  {
   "cell_type": "code",
   "execution_count": 107,
   "id": "429843be",
   "metadata": {},
   "outputs": [],
   "source": [
    "father.gender = \"M\""
   ]
  },
  {
   "cell_type": "code",
   "execution_count": 108,
   "id": "dfe309fc",
   "metadata": {},
   "outputs": [],
   "source": [
    "father.kids = 3"
   ]
  },
  {
   "cell_type": "code",
   "execution_count": 109,
   "id": "7de9f555",
   "metadata": {},
   "outputs": [],
   "source": [
    "father.position.extend([\"father\",\"Husband\"])"
   ]
  },
  {
   "cell_type": "code",
   "execution_count": 110,
   "id": "f7113dd0",
   "metadata": {},
   "outputs": [
    {
     "data": {
      "text/plain": [
       "{'name': 'Ranveer',\n",
       " 'gender': 'M',\n",
       " 'kids': 3,\n",
       " 'position': ['father', 'Husband']}"
      ]
     },
     "execution_count": 110,
     "metadata": {},
     "output_type": "execute_result"
    }
   ],
   "source": [
    "father.__dict__"
   ]
  },
  {
   "cell_type": "code",
   "execution_count": 87,
   "id": "5e1a2d8b",
   "metadata": {},
   "outputs": [
    {
     "data": {
      "text/plain": [
       "'Stark'"
      ]
     },
     "execution_count": 87,
     "metadata": {},
     "output_type": "execute_result"
    }
   ],
   "source": [
    "FamilyMembers.familyname"
   ]
  },
  {
   "cell_type": "code",
   "execution_count": 88,
   "id": "fd0992e1",
   "metadata": {},
   "outputs": [
    {
     "data": {
      "text/plain": [
       "'good'"
      ]
     },
     "execution_count": 88,
     "metadata": {},
     "output_type": "execute_result"
    }
   ],
   "source": [
    "FamilyMembers.values"
   ]
  },
  {
   "cell_type": "code",
   "execution_count": 89,
   "id": "110dd8ce",
   "metadata": {},
   "outputs": [
    {
     "data": {
      "text/plain": [
       "'good'"
      ]
     },
     "execution_count": 89,
     "metadata": {},
     "output_type": "execute_result"
    }
   ],
   "source": [
    "father.values"
   ]
  },
  {
   "cell_type": "code",
   "execution_count": 91,
   "id": "ecaa8faa",
   "metadata": {},
   "outputs": [
    {
     "data": {
      "text/plain": [
       "'good'"
      ]
     },
     "execution_count": 91,
     "metadata": {},
     "output_type": "execute_result"
    }
   ],
   "source": [
    "mother.values"
   ]
  },
  {
   "cell_type": "code",
   "execution_count": 92,
   "id": "f080b574",
   "metadata": {},
   "outputs": [
    {
     "data": {
      "text/plain": [
       "{'name': 'Katrina', 'gender': 'F', 'kids': 3, 'position': ['mother', 'wife']}"
      ]
     },
     "execution_count": 92,
     "metadata": {},
     "output_type": "execute_result"
    }
   ],
   "source": [
    "mother.__dict__"
   ]
  },
  {
   "cell_type": "code",
   "execution_count": 93,
   "id": "9687cbe8",
   "metadata": {},
   "outputs": [
    {
     "data": {
      "text/plain": [
       "{'name': 'Vicky', 'gender': 'M', 'kids': 3, 'position': ['father', 'Husband']}"
      ]
     },
     "execution_count": 93,
     "metadata": {},
     "output_type": "execute_result"
    }
   ],
   "source": [
    "father.__dict__"
   ]
  },
  {
   "cell_type": "code",
   "execution_count": 94,
   "id": "ca89bc41",
   "metadata": {},
   "outputs": [
    {
     "data": {
      "text/plain": [
       "mappingproxy({'__module__': '__main__',\n",
       "              'familyname': 'Stark',\n",
       "              'values': 'good',\n",
       "              '__init__': <function __main__.FamilyMembers.__init__(self)>,\n",
       "              '__dict__': <attribute '__dict__' of 'FamilyMembers' objects>,\n",
       "              '__weakref__': <attribute '__weakref__' of 'FamilyMembers' objects>,\n",
       "              '__doc__': None})"
      ]
     },
     "execution_count": 94,
     "metadata": {},
     "output_type": "execute_result"
    }
   ],
   "source": [
    "FamilyMembers.__dict__"
   ]
  },
  {
   "cell_type": "code",
   "execution_count": 112,
   "id": "2ed3a8b3",
   "metadata": {},
   "outputs": [
    {
     "data": {
      "text/plain": [
       "'Deepika'"
      ]
     },
     "execution_count": 112,
     "metadata": {},
     "output_type": "execute_result"
    }
   ],
   "source": [
    "mother.get_name()"
   ]
  },
  {
   "cell_type": "code",
   "execution_count": 113,
   "id": "af74fdea",
   "metadata": {},
   "outputs": [
    {
     "data": {
      "text/plain": [
       "'Ranveer'"
      ]
     },
     "execution_count": 113,
     "metadata": {},
     "output_type": "execute_result"
    }
   ],
   "source": [
    "father.get_name()"
   ]
  },
  {
   "cell_type": "code",
   "execution_count": null,
   "id": "11936e24",
   "metadata": {},
   "outputs": [],
   "source": [
    "H/W\n",
    "class FamilyMembers:\n",
    "    familyname = \"Stark\"\n",
    "    values = \"good\"\n",
    "    def __init__(self):\n",
    "        self.name = \"\"\n",
    "        self.gender = \"F\"\n",
    "        self.kids = 0\n",
    "        self.position = []\n",
    "    def set_name(self,name):\n",
    "        self.name = name\n",
    "    def get_name(self):\n",
    "        return self.name\n",
    "\n",
    "make setters and getters for gender kids and position object attribute\n"
   ]
  }
 ],
 "metadata": {
  "kernelspec": {
   "display_name": "Python 3 (ipykernel)",
   "language": "python",
   "name": "python3"
  },
  "language_info": {
   "codemirror_mode": {
    "name": "ipython",
    "version": 3
   },
   "file_extension": ".py",
   "mimetype": "text/x-python",
   "name": "python",
   "nbconvert_exporter": "python",
   "pygments_lexer": "ipython3",
   "version": "3.9.7"
  }
 },
 "nbformat": 4,
 "nbformat_minor": 5
}
